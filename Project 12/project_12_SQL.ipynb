{
 "cells": [
  {
   "cell_type": "markdown",
   "metadata": {},
   "source": [
    "<div style=\"border:solid black 2px; padding: 20px\">\n",
    "<b>Кирилл, привет!</b>\n",
    "\n",
    "Меня зовут Полина Бережная, и я буду делать ревью твоего проекта. Давай будем общаться на «ты». Но если тебе комфортнее на «вы», обязательно сообщи мне об этом. \n",
    "\n",
    "Мне было очень приятно проверять твой проект, так как чувствуется твое старание и желание сделать задание на достойном уровне. Однако есть некоторые аспекты, которые требуют твоего внимания и доработки. \n",
    "    \n",
    "В тетрадке ты можешь встретить 3 вида моих комментариев:\n",
    "- <div class=\"alert alert-danger\">\n",
    "  \n",
    "    **❌ Комментарий ревьюера**\n",
    "    \n",
    "    Такой нюанс требует обязательной доработки, иначе проект не будет принят.\n",
    "  </div>\n",
    "    \n",
    "    \n",
    "- <div class=\"alert alert-warning\">\n",
    "  \n",
    "    **⚠️ Комментарий ревьюера**\n",
    "    \n",
    "    Так выделены не обязательные к доработке моменты. Mожешь учесть их при редактировании проекта и выполнении будущих заданий. На твое усмотрение. \n",
    "  </div>\n",
    "    \n",
    "    \n",
    "- <div class=\"alert alert-success\">\n",
    "  \n",
    "    **✔️ Комментарий ревьюера**\n",
    "    \n",
    "    Так отмечены удачные решения и подходы, на которые стоит опираться в будущих проектах.\n",
    "  </div>\n",
    "    \n",
    "\n",
    "    \n",
    "\n",
    "Предлагаю работать над проектом в форме диалога: если ты **что-то меняешь** в работе по моим рекомендациям — **пиши об этом** и помечай комментарий каким-то заметным цветом. Пожалуйста, **не перемещай, не изменяй и не удаляй мои комментарии**. Такой формат работы поможет выполнить повторную проверку твоего проекта оперативнее.\n",
    "    \n",
    "Не переживай, если что-то не получилось сделать идеально с первого раза. Основная цель нашей команды - не указать на ошибки, а поделиться своим опытом и помочь тебе отточить аналитические навыки и навыки владения аналитическими инструментами 🙂\n",
    "    \n",
    "Жду твой проект на повторное ревью, ты уже почти на финише!\n",
    "\n",
    "</div>"
   ]
  },
  {
   "cell_type": "markdown",
   "metadata": {},
   "source": [
    "<div class=\"alert alert-info\">\n",
    "\n",
    "**Комментарий студента**\n",
    "    \n",
    "Привет. Поторопился с отрпавкой, хотелось быстрее закончить, но в итоге в одной задаче не проверил себя:) будем исправляться"
   ]
  },
  {
   "cell_type": "markdown",
   "metadata": {},
   "source": [
    "<div style=\"border:solid green 2px; padding: 20px\">\n",
    "<b>Привет еще раз!</b>\n",
    "    \n",
    "Ты отлично поработал, я бы сказала на все 200%! Проект принят, ты большой молодец! Желаю тоже тебе успехов во всех будущих начинаниях и хорошего настроения! "
   ]
  },
  {
   "cell_type": "markdown",
   "metadata": {},
   "source": [
    "# SQL Проект\n",
    "\n",
    "## Описание проекта\n",
    "\n",
    "Коронавирус застал мир врасплох, изменив привычный порядок вещей. В свободное время жители городов больше не выходят на улицу, не посещают кафе и торговые центры. Зато стало больше времени для книг. Это заметили стартаперы — и бросились создавать приложения для тех, кто любит читать.\n",
    "\n",
    "Ваша компания решила быть на волне и купила крупный сервис для чтения книг по подписке. Ваша первая задача как аналитика — проанализировать базу данных.\n",
    "\n",
    "В ней — информация о книгах, издательствах, авторах, а также пользовательские обзоры книг. Эти данные помогут сформулировать ценностное предложение для нового продукта.\n",
    "\n",
    "### Описание данных\n",
    "\n",
    "**Таблица `books`**\n",
    "\n",
    "Содержит данные о книгах:\n",
    "\n",
    "- `book_id` — идентификатор книги;\n",
    "- `author_id` — идентификатор автора;\n",
    "- `title` — название книги;\n",
    "- `num_pages` — количество страниц;\n",
    "- `publication_date` — дата публикации книги;\n",
    "- `publisher_id` — идентификатор издателя.\n",
    "\n",
    "**Таблица `authors`**\n",
    "\n",
    "Содержит данные об авторах:\n",
    "\n",
    "- `author_id` — идентификатор автора;\n",
    "- `author` — имя автора.\n",
    "\n",
    "**Таблица `publishers`**\n",
    "\n",
    "Содержит данные об издательствах:\n",
    "\n",
    "- `publisher_id` — идентификатор издательства;\n",
    "- `publisher` — название издательства;\n",
    "\n",
    "**Таблица `ratings`**\n",
    "\n",
    "Содержит данные о пользовательских оценках книг:\n",
    "\n",
    "- `rating_id` — идентификатор оценки;\n",
    "- `book_id` — идентификатор книги;\n",
    "- `username` — имя пользователя, оставившего оценку;\n",
    "- `rating` — оценка книги.\n",
    "\n",
    "**Таблица `reviews`**\n",
    "\n",
    "Содержит данные о пользовательских обзорах на книги:\n",
    "\n",
    "- `review_id` — идентификатор обзора;\n",
    "- `book_id` — идентификатор книги;\n",
    "- `username` — имя пользователя, написавшего обзор;\n",
    "- `text` — текст обзора.\n",
    "\n",
    "### Задания\n",
    "\n",
    "- Посчитайте, сколько книг вышло после 1 января 2000 года;\n",
    "- Для каждой книги посчитайте количество обзоров и среднюю оценку;\n",
    "- Определите издательство, которое выпустило наибольшее число книг толще 50 страниц — так вы исключите из анализа брошюры;\n",
    "- Определите автора с самой высокой средней оценкой книг — учитывайте только книги с 50 и более оценками;\n",
    "- Посчитайте среднее количество обзоров от пользователей, которые поставили больше 50 оценок."
   ]
  },
  {
   "cell_type": "markdown",
   "metadata": {},
   "source": [
    "## Загрузка библиотек"
   ]
  },
  {
   "cell_type": "code",
   "execution_count": 2,
   "metadata": {},
   "outputs": [],
   "source": [
    "# импортируем библиотеки\n",
    "import pandas as pd\n",
    "from sqlalchemy import create_engine\n",
    "\n",
    "# устанавливаем параметры\n",
    "db_config = {'user': 'praktikum_student', # имя пользователя\n",
    "             'pwd': 'Sdf4$2;d-d30pp', # пароль\n",
    "             'host': 'rc1b-wcoijxj3yxfsf3fs.mdb.yandexcloud.net',\n",
    "             'port': 6432, # порт подключения\n",
    "             'db': 'data-analyst-final-project-db'} # название базы данных\n",
    "connection_string = 'postgresql://{}:{}@{}:{}/{}'.format(db_config['user'],\n",
    " db_config['pwd'],\n",
    " db_config['host'],\n",
    " db_config['port'],\n",
    " db_config['db'])\n",
    "# сохраняем коннектор\n",
    "engine = create_engine(connection_string, connect_args={'sslmode':'require'}) "
   ]
  },
  {
   "cell_type": "markdown",
   "metadata": {},
   "source": [
    "## Исследование таблиц"
   ]
  },
  {
   "cell_type": "markdown",
   "metadata": {},
   "source": [
    "### Книги"
   ]
  },
  {
   "cell_type": "code",
   "execution_count": 2,
   "metadata": {
    "scrolled": true
   },
   "outputs": [
    {
     "data": {
      "text/html": [
       "<div>\n",
       "<style scoped>\n",
       "    .dataframe tbody tr th:only-of-type {\n",
       "        vertical-align: middle;\n",
       "    }\n",
       "\n",
       "    .dataframe tbody tr th {\n",
       "        vertical-align: top;\n",
       "    }\n",
       "\n",
       "    .dataframe thead th {\n",
       "        text-align: right;\n",
       "    }\n",
       "</style>\n",
       "<table border=\"1\" class=\"dataframe\">\n",
       "  <thead>\n",
       "    <tr style=\"text-align: right;\">\n",
       "      <th></th>\n",
       "      <th>book_id</th>\n",
       "      <th>author_id</th>\n",
       "      <th>title</th>\n",
       "      <th>num_pages</th>\n",
       "      <th>publication_date</th>\n",
       "      <th>publisher_id</th>\n",
       "    </tr>\n",
       "  </thead>\n",
       "  <tbody>\n",
       "    <tr>\n",
       "      <td>0</td>\n",
       "      <td>1</td>\n",
       "      <td>546</td>\n",
       "      <td>'Salem's Lot</td>\n",
       "      <td>594</td>\n",
       "      <td>2005-11-01</td>\n",
       "      <td>93</td>\n",
       "    </tr>\n",
       "    <tr>\n",
       "      <td>1</td>\n",
       "      <td>2</td>\n",
       "      <td>465</td>\n",
       "      <td>1 000 Places to See Before You Die</td>\n",
       "      <td>992</td>\n",
       "      <td>2003-05-22</td>\n",
       "      <td>336</td>\n",
       "    </tr>\n",
       "    <tr>\n",
       "      <td>2</td>\n",
       "      <td>3</td>\n",
       "      <td>407</td>\n",
       "      <td>13 Little Blue Envelopes (Little Blue Envelope...</td>\n",
       "      <td>322</td>\n",
       "      <td>2010-12-21</td>\n",
       "      <td>135</td>\n",
       "    </tr>\n",
       "    <tr>\n",
       "      <td>3</td>\n",
       "      <td>4</td>\n",
       "      <td>82</td>\n",
       "      <td>1491: New Revelations of the Americas Before C...</td>\n",
       "      <td>541</td>\n",
       "      <td>2006-10-10</td>\n",
       "      <td>309</td>\n",
       "    </tr>\n",
       "    <tr>\n",
       "      <td>4</td>\n",
       "      <td>5</td>\n",
       "      <td>125</td>\n",
       "      <td>1776</td>\n",
       "      <td>386</td>\n",
       "      <td>2006-07-04</td>\n",
       "      <td>268</td>\n",
       "    </tr>\n",
       "  </tbody>\n",
       "</table>\n",
       "</div>"
      ],
      "text/plain": [
       "   book_id  author_id                                              title  \\\n",
       "0        1        546                                       'Salem's Lot   \n",
       "1        2        465                 1 000 Places to See Before You Die   \n",
       "2        3        407  13 Little Blue Envelopes (Little Blue Envelope...   \n",
       "3        4         82  1491: New Revelations of the Americas Before C...   \n",
       "4        5        125                                               1776   \n",
       "\n",
       "   num_pages publication_date  publisher_id  \n",
       "0        594       2005-11-01            93  \n",
       "1        992       2003-05-22           336  \n",
       "2        322       2010-12-21           135  \n",
       "3        541       2006-10-10           309  \n",
       "4        386       2006-07-04           268  "
      ]
     },
     "execution_count": 2,
     "metadata": {},
     "output_type": "execute_result"
    }
   ],
   "source": [
    "query = '''\n",
    "SELECT *\n",
    "FROM books\n",
    "LIMIT 5\n",
    "'''\n",
    "pd.io.sql.read_sql(query, con = engine)"
   ]
  },
  {
   "cell_type": "markdown",
   "metadata": {},
   "source": [
    "### Авторы"
   ]
  },
  {
   "cell_type": "code",
   "execution_count": 3,
   "metadata": {},
   "outputs": [
    {
     "data": {
      "text/html": [
       "<div>\n",
       "<style scoped>\n",
       "    .dataframe tbody tr th:only-of-type {\n",
       "        vertical-align: middle;\n",
       "    }\n",
       "\n",
       "    .dataframe tbody tr th {\n",
       "        vertical-align: top;\n",
       "    }\n",
       "\n",
       "    .dataframe thead th {\n",
       "        text-align: right;\n",
       "    }\n",
       "</style>\n",
       "<table border=\"1\" class=\"dataframe\">\n",
       "  <thead>\n",
       "    <tr style=\"text-align: right;\">\n",
       "      <th></th>\n",
       "      <th>author_id</th>\n",
       "      <th>author</th>\n",
       "    </tr>\n",
       "  </thead>\n",
       "  <tbody>\n",
       "    <tr>\n",
       "      <td>0</td>\n",
       "      <td>1</td>\n",
       "      <td>A.S. Byatt</td>\n",
       "    </tr>\n",
       "    <tr>\n",
       "      <td>1</td>\n",
       "      <td>2</td>\n",
       "      <td>Aesop/Laura Harris/Laura Gibbs</td>\n",
       "    </tr>\n",
       "    <tr>\n",
       "      <td>2</td>\n",
       "      <td>3</td>\n",
       "      <td>Agatha Christie</td>\n",
       "    </tr>\n",
       "    <tr>\n",
       "      <td>3</td>\n",
       "      <td>4</td>\n",
       "      <td>Alan Brennert</td>\n",
       "    </tr>\n",
       "    <tr>\n",
       "      <td>4</td>\n",
       "      <td>5</td>\n",
       "      <td>Alan Moore/David   Lloyd</td>\n",
       "    </tr>\n",
       "  </tbody>\n",
       "</table>\n",
       "</div>"
      ],
      "text/plain": [
       "   author_id                          author\n",
       "0          1                      A.S. Byatt\n",
       "1          2  Aesop/Laura Harris/Laura Gibbs\n",
       "2          3                 Agatha Christie\n",
       "3          4                   Alan Brennert\n",
       "4          5        Alan Moore/David   Lloyd"
      ]
     },
     "execution_count": 3,
     "metadata": {},
     "output_type": "execute_result"
    }
   ],
   "source": [
    "query = '''\n",
    "SELECT *\n",
    "FROM authors\n",
    "LIMIT 5\n",
    "'''\n",
    "pd.io.sql.read_sql(query, con = engine)"
   ]
  },
  {
   "cell_type": "markdown",
   "metadata": {},
   "source": [
    "### Издательства"
   ]
  },
  {
   "cell_type": "code",
   "execution_count": 4,
   "metadata": {},
   "outputs": [
    {
     "data": {
      "text/html": [
       "<div>\n",
       "<style scoped>\n",
       "    .dataframe tbody tr th:only-of-type {\n",
       "        vertical-align: middle;\n",
       "    }\n",
       "\n",
       "    .dataframe tbody tr th {\n",
       "        vertical-align: top;\n",
       "    }\n",
       "\n",
       "    .dataframe thead th {\n",
       "        text-align: right;\n",
       "    }\n",
       "</style>\n",
       "<table border=\"1\" class=\"dataframe\">\n",
       "  <thead>\n",
       "    <tr style=\"text-align: right;\">\n",
       "      <th></th>\n",
       "      <th>publisher_id</th>\n",
       "      <th>publisher</th>\n",
       "    </tr>\n",
       "  </thead>\n",
       "  <tbody>\n",
       "    <tr>\n",
       "      <td>0</td>\n",
       "      <td>1</td>\n",
       "      <td>Ace</td>\n",
       "    </tr>\n",
       "    <tr>\n",
       "      <td>1</td>\n",
       "      <td>2</td>\n",
       "      <td>Ace Book</td>\n",
       "    </tr>\n",
       "    <tr>\n",
       "      <td>2</td>\n",
       "      <td>3</td>\n",
       "      <td>Ace Books</td>\n",
       "    </tr>\n",
       "    <tr>\n",
       "      <td>3</td>\n",
       "      <td>4</td>\n",
       "      <td>Ace Hardcover</td>\n",
       "    </tr>\n",
       "    <tr>\n",
       "      <td>4</td>\n",
       "      <td>5</td>\n",
       "      <td>Addison Wesley Publishing Company</td>\n",
       "    </tr>\n",
       "  </tbody>\n",
       "</table>\n",
       "</div>"
      ],
      "text/plain": [
       "   publisher_id                          publisher\n",
       "0             1                                Ace\n",
       "1             2                           Ace Book\n",
       "2             3                          Ace Books\n",
       "3             4                      Ace Hardcover\n",
       "4             5  Addison Wesley Publishing Company"
      ]
     },
     "execution_count": 4,
     "metadata": {},
     "output_type": "execute_result"
    }
   ],
   "source": [
    "query = '''\n",
    "SELECT *\n",
    "FROM publishers\n",
    "LIMIT 5\n",
    "'''\n",
    "pd.io.sql.read_sql(query, con = engine)"
   ]
  },
  {
   "cell_type": "markdown",
   "metadata": {},
   "source": [
    "### Рейтинг"
   ]
  },
  {
   "cell_type": "code",
   "execution_count": 5,
   "metadata": {},
   "outputs": [
    {
     "data": {
      "text/html": [
       "<div>\n",
       "<style scoped>\n",
       "    .dataframe tbody tr th:only-of-type {\n",
       "        vertical-align: middle;\n",
       "    }\n",
       "\n",
       "    .dataframe tbody tr th {\n",
       "        vertical-align: top;\n",
       "    }\n",
       "\n",
       "    .dataframe thead th {\n",
       "        text-align: right;\n",
       "    }\n",
       "</style>\n",
       "<table border=\"1\" class=\"dataframe\">\n",
       "  <thead>\n",
       "    <tr style=\"text-align: right;\">\n",
       "      <th></th>\n",
       "      <th>rating_id</th>\n",
       "      <th>book_id</th>\n",
       "      <th>username</th>\n",
       "      <th>rating</th>\n",
       "    </tr>\n",
       "  </thead>\n",
       "  <tbody>\n",
       "    <tr>\n",
       "      <td>0</td>\n",
       "      <td>1</td>\n",
       "      <td>1</td>\n",
       "      <td>ryanfranco</td>\n",
       "      <td>4</td>\n",
       "    </tr>\n",
       "    <tr>\n",
       "      <td>1</td>\n",
       "      <td>2</td>\n",
       "      <td>1</td>\n",
       "      <td>grantpatricia</td>\n",
       "      <td>2</td>\n",
       "    </tr>\n",
       "    <tr>\n",
       "      <td>2</td>\n",
       "      <td>3</td>\n",
       "      <td>1</td>\n",
       "      <td>brandtandrea</td>\n",
       "      <td>5</td>\n",
       "    </tr>\n",
       "    <tr>\n",
       "      <td>3</td>\n",
       "      <td>4</td>\n",
       "      <td>2</td>\n",
       "      <td>lorichen</td>\n",
       "      <td>3</td>\n",
       "    </tr>\n",
       "    <tr>\n",
       "      <td>4</td>\n",
       "      <td>5</td>\n",
       "      <td>2</td>\n",
       "      <td>mariokeller</td>\n",
       "      <td>2</td>\n",
       "    </tr>\n",
       "    <tr>\n",
       "      <td>...</td>\n",
       "      <td>...</td>\n",
       "      <td>...</td>\n",
       "      <td>...</td>\n",
       "      <td>...</td>\n",
       "    </tr>\n",
       "    <tr>\n",
       "      <td>6451</td>\n",
       "      <td>6452</td>\n",
       "      <td>1000</td>\n",
       "      <td>carolrodriguez</td>\n",
       "      <td>4</td>\n",
       "    </tr>\n",
       "    <tr>\n",
       "      <td>6452</td>\n",
       "      <td>6453</td>\n",
       "      <td>1000</td>\n",
       "      <td>wendy18</td>\n",
       "      <td>4</td>\n",
       "    </tr>\n",
       "    <tr>\n",
       "      <td>6453</td>\n",
       "      <td>6454</td>\n",
       "      <td>1000</td>\n",
       "      <td>jarvispaul</td>\n",
       "      <td>5</td>\n",
       "    </tr>\n",
       "    <tr>\n",
       "      <td>6454</td>\n",
       "      <td>6455</td>\n",
       "      <td>1000</td>\n",
       "      <td>zross</td>\n",
       "      <td>2</td>\n",
       "    </tr>\n",
       "    <tr>\n",
       "      <td>6455</td>\n",
       "      <td>6456</td>\n",
       "      <td>1000</td>\n",
       "      <td>fharris</td>\n",
       "      <td>5</td>\n",
       "    </tr>\n",
       "  </tbody>\n",
       "</table>\n",
       "<p>6456 rows × 4 columns</p>\n",
       "</div>"
      ],
      "text/plain": [
       "      rating_id  book_id        username  rating\n",
       "0             1        1      ryanfranco       4\n",
       "1             2        1   grantpatricia       2\n",
       "2             3        1    brandtandrea       5\n",
       "3             4        2        lorichen       3\n",
       "4             5        2     mariokeller       2\n",
       "...         ...      ...             ...     ...\n",
       "6451       6452     1000  carolrodriguez       4\n",
       "6452       6453     1000         wendy18       4\n",
       "6453       6454     1000      jarvispaul       5\n",
       "6454       6455     1000           zross       2\n",
       "6455       6456     1000         fharris       5\n",
       "\n",
       "[6456 rows x 4 columns]"
      ]
     },
     "execution_count": 5,
     "metadata": {},
     "output_type": "execute_result"
    }
   ],
   "source": [
    "query = '''\n",
    "SELECT *\n",
    "FROM ratings\n",
    "\n",
    "'''\n",
    "pd.io.sql.read_sql(query, con = engine)"
   ]
  },
  {
   "cell_type": "markdown",
   "metadata": {},
   "source": [
    "### Обзоры"
   ]
  },
  {
   "cell_type": "code",
   "execution_count": 6,
   "metadata": {},
   "outputs": [
    {
     "data": {
      "text/html": [
       "<div>\n",
       "<style scoped>\n",
       "    .dataframe tbody tr th:only-of-type {\n",
       "        vertical-align: middle;\n",
       "    }\n",
       "\n",
       "    .dataframe tbody tr th {\n",
       "        vertical-align: top;\n",
       "    }\n",
       "\n",
       "    .dataframe thead th {\n",
       "        text-align: right;\n",
       "    }\n",
       "</style>\n",
       "<table border=\"1\" class=\"dataframe\">\n",
       "  <thead>\n",
       "    <tr style=\"text-align: right;\">\n",
       "      <th></th>\n",
       "      <th>review_id</th>\n",
       "      <th>book_id</th>\n",
       "      <th>username</th>\n",
       "      <th>text</th>\n",
       "    </tr>\n",
       "  </thead>\n",
       "  <tbody>\n",
       "    <tr>\n",
       "      <td>0</td>\n",
       "      <td>1</td>\n",
       "      <td>1</td>\n",
       "      <td>brandtandrea</td>\n",
       "      <td>Mention society tell send professor analysis. ...</td>\n",
       "    </tr>\n",
       "    <tr>\n",
       "      <td>1</td>\n",
       "      <td>2</td>\n",
       "      <td>1</td>\n",
       "      <td>ryanfranco</td>\n",
       "      <td>Foot glass pretty audience hit themselves. Amo...</td>\n",
       "    </tr>\n",
       "    <tr>\n",
       "      <td>2</td>\n",
       "      <td>3</td>\n",
       "      <td>2</td>\n",
       "      <td>lorichen</td>\n",
       "      <td>Listen treat keep worry. Miss husband tax but ...</td>\n",
       "    </tr>\n",
       "    <tr>\n",
       "      <td>3</td>\n",
       "      <td>4</td>\n",
       "      <td>3</td>\n",
       "      <td>johnsonamanda</td>\n",
       "      <td>Finally month interesting blue could nature cu...</td>\n",
       "    </tr>\n",
       "    <tr>\n",
       "      <td>4</td>\n",
       "      <td>5</td>\n",
       "      <td>3</td>\n",
       "      <td>scotttamara</td>\n",
       "      <td>Nation purpose heavy give wait song will. List...</td>\n",
       "    </tr>\n",
       "    <tr>\n",
       "      <td>...</td>\n",
       "      <td>...</td>\n",
       "      <td>...</td>\n",
       "      <td>...</td>\n",
       "      <td>...</td>\n",
       "    </tr>\n",
       "    <tr>\n",
       "      <td>2788</td>\n",
       "      <td>2789</td>\n",
       "      <td>999</td>\n",
       "      <td>martinadam</td>\n",
       "      <td>Later hospital turn easy community. Fact same ...</td>\n",
       "    </tr>\n",
       "    <tr>\n",
       "      <td>2789</td>\n",
       "      <td>2790</td>\n",
       "      <td>1000</td>\n",
       "      <td>wknight</td>\n",
       "      <td>Change lose answer close pressure. Spend so now.</td>\n",
       "    </tr>\n",
       "    <tr>\n",
       "      <td>2790</td>\n",
       "      <td>2791</td>\n",
       "      <td>1000</td>\n",
       "      <td>carolrodriguez</td>\n",
       "      <td>Authority go who television entire hair guy po...</td>\n",
       "    </tr>\n",
       "    <tr>\n",
       "      <td>2791</td>\n",
       "      <td>2792</td>\n",
       "      <td>1000</td>\n",
       "      <td>wendy18</td>\n",
       "      <td>Or western offer wonder ask. More hear phone f...</td>\n",
       "    </tr>\n",
       "    <tr>\n",
       "      <td>2792</td>\n",
       "      <td>2793</td>\n",
       "      <td>1000</td>\n",
       "      <td>jarvispaul</td>\n",
       "      <td>Republican staff bit eat material measure plan...</td>\n",
       "    </tr>\n",
       "  </tbody>\n",
       "</table>\n",
       "<p>2793 rows × 4 columns</p>\n",
       "</div>"
      ],
      "text/plain": [
       "      review_id  book_id        username  \\\n",
       "0             1        1    brandtandrea   \n",
       "1             2        1      ryanfranco   \n",
       "2             3        2        lorichen   \n",
       "3             4        3   johnsonamanda   \n",
       "4             5        3     scotttamara   \n",
       "...         ...      ...             ...   \n",
       "2788       2789      999      martinadam   \n",
       "2789       2790     1000         wknight   \n",
       "2790       2791     1000  carolrodriguez   \n",
       "2791       2792     1000         wendy18   \n",
       "2792       2793     1000      jarvispaul   \n",
       "\n",
       "                                                   text  \n",
       "0     Mention society tell send professor analysis. ...  \n",
       "1     Foot glass pretty audience hit themselves. Amo...  \n",
       "2     Listen treat keep worry. Miss husband tax but ...  \n",
       "3     Finally month interesting blue could nature cu...  \n",
       "4     Nation purpose heavy give wait song will. List...  \n",
       "...                                                 ...  \n",
       "2788  Later hospital turn easy community. Fact same ...  \n",
       "2789   Change lose answer close pressure. Spend so now.  \n",
       "2790  Authority go who television entire hair guy po...  \n",
       "2791  Or western offer wonder ask. More hear phone f...  \n",
       "2792  Republican staff bit eat material measure plan...  \n",
       "\n",
       "[2793 rows x 4 columns]"
      ]
     },
     "execution_count": 6,
     "metadata": {},
     "output_type": "execute_result"
    }
   ],
   "source": [
    "query = '''\n",
    "SELECT *\n",
    "FROM reviews\n",
    "\n",
    "'''\n",
    "pd.io.sql.read_sql(query, con = engine)"
   ]
  },
  {
   "cell_type": "code",
   "execution_count": null,
   "metadata": {},
   "outputs": [],
   "source": [
    "query = '''\n",
    "SELECT *\n",
    "FROM reviews, ratings\n",
    "\n",
    "'''\n",
    "pd.io.sql.read_sql(query, con = engine)"
   ]
  },
  {
   "cell_type": "markdown",
   "metadata": {},
   "source": [
    "<div class=\"alert alert-success\">\n",
    "\n",
    "**Комментарий ревьюера**\n",
    "     \n",
    "Здорово, что данные были изучены перед анализом 👍🏻"
   ]
  },
  {
   "cell_type": "markdown",
   "metadata": {},
   "source": [
    "## Задания"
   ]
  },
  {
   "cell_type": "markdown",
   "metadata": {},
   "source": [
    "### Задание 1.\n",
    "\n",
    "Посчитайте, сколько книг вышло после 1 января 2000 года"
   ]
  },
  {
   "cell_type": "code",
   "execution_count": 7,
   "metadata": {},
   "outputs": [
    {
     "data": {
      "text/html": [
       "<div>\n",
       "<style scoped>\n",
       "    .dataframe tbody tr th:only-of-type {\n",
       "        vertical-align: middle;\n",
       "    }\n",
       "\n",
       "    .dataframe tbody tr th {\n",
       "        vertical-align: top;\n",
       "    }\n",
       "\n",
       "    .dataframe thead th {\n",
       "        text-align: right;\n",
       "    }\n",
       "</style>\n",
       "<table border=\"1\" class=\"dataframe\">\n",
       "  <thead>\n",
       "    <tr style=\"text-align: right;\">\n",
       "      <th></th>\n",
       "      <th>Количество книг после 1 января 2000 г</th>\n",
       "    </tr>\n",
       "  </thead>\n",
       "  <tbody>\n",
       "    <tr>\n",
       "      <td>0</td>\n",
       "      <td>819</td>\n",
       "    </tr>\n",
       "  </tbody>\n",
       "</table>\n",
       "</div>"
      ],
      "text/plain": [
       "   Количество книг после 1 января 2000 г\n",
       "0                                    819"
      ]
     },
     "execution_count": 7,
     "metadata": {},
     "output_type": "execute_result"
    }
   ],
   "source": [
    "query = '''\n",
    "SELECT count(book_id) AS \"Количество книг после 1 января 2000 года\"\n",
    "FROM books\n",
    "Where publication_date > '2000-01-01'\n",
    "'''\n",
    "pd.io.sql.read_sql(query, con = engine)"
   ]
  },
  {
   "cell_type": "markdown",
   "metadata": {},
   "source": [
    "### Вывод\n",
    "\n",
    "Количество книг, выпущенных после 1 января 2000 года - 819"
   ]
  },
  {
   "cell_type": "markdown",
   "metadata": {},
   "source": [
    "<div class=\"alert alert-success\">\n",
    "\n",
    "**Комментарий ревьюера**\n",
    "    \n",
    "Запрос написан верно 👍🏻\n",
    "    \n",
    "P.S. Вообще авторы имели в виду период с 01.01.2000 включительно, но это не очевидно из формулировки задания. "
   ]
  },
  {
   "cell_type": "markdown",
   "metadata": {},
   "source": [
    "### Задание 2.\n",
    "\n",
    "Для каждой книги посчитайте количество обзоров и среднюю оценку"
   ]
  },
  {
   "cell_type": "code",
   "execution_count": 8,
   "metadata": {
    "scrolled": false
   },
   "outputs": [
    {
     "data": {
      "text/html": [
       "<div>\n",
       "<style scoped>\n",
       "    .dataframe tbody tr th:only-of-type {\n",
       "        vertical-align: middle;\n",
       "    }\n",
       "\n",
       "    .dataframe tbody tr th {\n",
       "        vertical-align: top;\n",
       "    }\n",
       "\n",
       "    .dataframe thead th {\n",
       "        text-align: right;\n",
       "    }\n",
       "</style>\n",
       "<table border=\"1\" class=\"dataframe\">\n",
       "  <thead>\n",
       "    <tr style=\"text-align: right;\">\n",
       "      <th></th>\n",
       "      <th>Книга</th>\n",
       "      <th>Количество обзоров</th>\n",
       "      <th>Средняя оценка</th>\n",
       "    </tr>\n",
       "  </thead>\n",
       "  <tbody>\n",
       "    <tr>\n",
       "      <td>0</td>\n",
       "      <td>1</td>\n",
       "      <td>6</td>\n",
       "      <td>3.666667</td>\n",
       "    </tr>\n",
       "    <tr>\n",
       "      <td>1</td>\n",
       "      <td>2</td>\n",
       "      <td>2</td>\n",
       "      <td>2.500000</td>\n",
       "    </tr>\n",
       "    <tr>\n",
       "      <td>2</td>\n",
       "      <td>3</td>\n",
       "      <td>9</td>\n",
       "      <td>4.666667</td>\n",
       "    </tr>\n",
       "    <tr>\n",
       "      <td>3</td>\n",
       "      <td>4</td>\n",
       "      <td>4</td>\n",
       "      <td>4.500000</td>\n",
       "    </tr>\n",
       "    <tr>\n",
       "      <td>4</td>\n",
       "      <td>5</td>\n",
       "      <td>24</td>\n",
       "      <td>4.000000</td>\n",
       "    </tr>\n",
       "  </tbody>\n",
       "</table>\n",
       "</div>"
      ],
      "text/plain": [
       "   Книга  Количество обзоров  Средняя оценка\n",
       "0      1                   6        3.666667\n",
       "1      2                   2        2.500000\n",
       "2      3                   9        4.666667\n",
       "3      4                   4        4.500000\n",
       "4      5                  24        4.000000"
      ]
     },
     "execution_count": 8,
     "metadata": {},
     "output_type": "execute_result"
    }
   ],
   "source": [
    "query = '''\n",
    "\n",
    "SELECT books.book_id AS \"Книга\",\n",
    "       count (review_id) AS \"Количество обзоров\",\n",
    "       AVG(rating) AS \"Средняя оценка\"\n",
    "\n",
    "FROM books\n",
    "LEFT JOIN reviews ON books.book_id = reviews.book_id \n",
    "LEFT JOIN ratings ON books.book_id = ratings.book_id\n",
    "GROUP BY books.book_id\n",
    "ORDER BY \"Книга\" ASC\n",
    "LIMIT 5\n",
    "'''\n",
    "pd.io.sql.read_sql(query, con = engine)"
   ]
  },
  {
   "cell_type": "markdown",
   "metadata": {},
   "source": [
    "<div class=\"alert alert-danger\">\n",
    "\n",
    "**Комментарий ревьюера**\n",
    "    \n",
    "В таблице reviews у нас всего 2793 обзоров, а если сложить значения столбца с количеством обзоров, получим цифру, превышающую 25000. Где-то закралась ошибка :)\n",
    "    "
   ]
  },
  {
   "cell_type": "markdown",
   "metadata": {},
   "source": [
    "<div class=\"alert alert-info\">\n",
    "\n",
    "**Комментарий студента**\n",
    "    \n",
    "Ошибка получилась после итоговой группировки книг при объединении трех таблиц и подсчете. \n",
    "    \n",
    "Не придумал ничего лучше, чтобы побороть ошибку - это использовать подзапросы, объединяя уже сгруппированные таблицы. (Сумма обзоров сходится)"
   ]
  },
  {
   "cell_type": "markdown",
   "metadata": {},
   "source": [
    "<div class=\"alert alert-success\">\n",
    "\n",
    "**Комментарий ревьюера v2**\n",
    "    \n",
    "Супер 👍🏻"
   ]
  },
  {
   "cell_type": "code",
   "execution_count": 13,
   "metadata": {},
   "outputs": [
    {
     "data": {
      "text/html": [
       "<div>\n",
       "<style scoped>\n",
       "    .dataframe tbody tr th:only-of-type {\n",
       "        vertical-align: middle;\n",
       "    }\n",
       "\n",
       "    .dataframe tbody tr th {\n",
       "        vertical-align: top;\n",
       "    }\n",
       "\n",
       "    .dataframe thead th {\n",
       "        text-align: right;\n",
       "    }\n",
       "</style>\n",
       "<table border=\"1\" class=\"dataframe\">\n",
       "  <thead>\n",
       "    <tr style=\"text-align: right;\">\n",
       "      <th></th>\n",
       "      <th>Книга</th>\n",
       "      <th>Количество обзоров</th>\n",
       "      <th>Средний рейтинг</th>\n",
       "    </tr>\n",
       "  </thead>\n",
       "  <tbody>\n",
       "    <tr>\n",
       "      <td>0</td>\n",
       "      <td>1</td>\n",
       "      <td>2</td>\n",
       "      <td>3.666667</td>\n",
       "    </tr>\n",
       "    <tr>\n",
       "      <td>1</td>\n",
       "      <td>2</td>\n",
       "      <td>1</td>\n",
       "      <td>2.500000</td>\n",
       "    </tr>\n",
       "    <tr>\n",
       "      <td>2</td>\n",
       "      <td>3</td>\n",
       "      <td>3</td>\n",
       "      <td>4.666667</td>\n",
       "    </tr>\n",
       "    <tr>\n",
       "      <td>3</td>\n",
       "      <td>4</td>\n",
       "      <td>2</td>\n",
       "      <td>4.500000</td>\n",
       "    </tr>\n",
       "    <tr>\n",
       "      <td>4</td>\n",
       "      <td>5</td>\n",
       "      <td>4</td>\n",
       "      <td>4.000000</td>\n",
       "    </tr>\n",
       "  </tbody>\n",
       "</table>\n",
       "</div>"
      ],
      "text/plain": [
       "   Книга  Количество обзоров  Средний рейтинг\n",
       "0      1                   2         3.666667\n",
       "1      2                   1         2.500000\n",
       "2      3                   3         4.666667\n",
       "3      4                   2         4.500000\n",
       "4      5                   4         4.000000"
      ]
     },
     "execution_count": 13,
     "metadata": {},
     "output_type": "execute_result"
    }
   ],
   "source": [
    "query = '''\n",
    "\n",
    "SELECT  books.book_id AS \"Книга\",\n",
    "        \"Количество обзоров\",\n",
    "        \"Средний рейтинг\"\n",
    "FROM books\n",
    "LEFT JOIN ( SELECT book_id,\n",
    "            AVG(rating) AS \"Средний рейтинг\"\n",
    "            FROM ratings\n",
    "            GROUP BY book_id) AS SUB_4 ON books.book_id = SUB_4.book_id\n",
    "LEFT JOIN ( SELECT book_id,\n",
    "            COUNT(review_id) AS \"Количество обзоров\"\n",
    "            FROM reviews\n",
    "            GROUP BY book_id) AS SUBQ_5  ON books.book_id = SUBQ_5.book_id \n",
    "\n",
    "ORDER BY \"Книга\"\n",
    "LIMIT 5\n",
    "'''\n",
    "pd.io.sql.read_sql(query, con = engine)"
   ]
  },
  {
   "cell_type": "markdown",
   "metadata": {},
   "source": [
    "### Вывод\n",
    "\n",
    "Сформированным запросом мы получили датасет, где для каждой книги посчитана средняя оценка и количество обзоров."
   ]
  },
  {
   "cell_type": "markdown",
   "metadata": {},
   "source": [
    "### Задание 3.\n",
    "\n",
    "Определите издательство, которое выпустило наибольшее число книг толще 50 страниц"
   ]
  },
  {
   "cell_type": "code",
   "execution_count": 10,
   "metadata": {},
   "outputs": [
    {
     "data": {
      "text/html": [
       "<div>\n",
       "<style scoped>\n",
       "    .dataframe tbody tr th:only-of-type {\n",
       "        vertical-align: middle;\n",
       "    }\n",
       "\n",
       "    .dataframe tbody tr th {\n",
       "        vertical-align: top;\n",
       "    }\n",
       "\n",
       "    .dataframe thead th {\n",
       "        text-align: right;\n",
       "    }\n",
       "</style>\n",
       "<table border=\"1\" class=\"dataframe\">\n",
       "  <thead>\n",
       "    <tr style=\"text-align: right;\">\n",
       "      <th></th>\n",
       "      <th>Количество книг</th>\n",
       "      <th>Издательство</th>\n",
       "    </tr>\n",
       "  </thead>\n",
       "  <tbody>\n",
       "    <tr>\n",
       "      <td>0</td>\n",
       "      <td>42</td>\n",
       "      <td>Penguin Books</td>\n",
       "    </tr>\n",
       "  </tbody>\n",
       "</table>\n",
       "</div>"
      ],
      "text/plain": [
       "   Количество книг   Издательство\n",
       "0               42  Penguin Books"
      ]
     },
     "execution_count": 10,
     "metadata": {},
     "output_type": "execute_result"
    }
   ],
   "source": [
    "query = '''\n",
    "SELECT COUNT (books.book_id) AS \"Количество книг\",\n",
    "       publisher AS Издательство\n",
    "FROM books\n",
    "LEFT JOIN publishers ON books.publisher_id = publishers.publisher_id\n",
    "WHERE books.num_pages > 50\n",
    "GROUP BY publishers.publisher_id\n",
    "ORDER BY \"Количество книг\" DESC\n",
    "LIMIT 1\n",
    "'''\n",
    "pd.io.sql.read_sql(query, con = engine)"
   ]
  },
  {
   "cell_type": "markdown",
   "metadata": {},
   "source": [
    "### Вывод\n",
    "\n",
    "Издательство __Penguin Books__ выпустило самое большое количество книг толщиной больше 50 страниц"
   ]
  },
  {
   "cell_type": "markdown",
   "metadata": {},
   "source": [
    "<div class=\"alert alert-success\">\n",
    "\n",
    "**Комментарий ревьюера**\n",
    "\n",
    "Абсолютно верно 👍🏻"
   ]
  },
  {
   "cell_type": "markdown",
   "metadata": {},
   "source": [
    "### Задание 4.\n",
    "\n",
    "Определите автора с самой высокой средней оценкой книг — учитывайте только книги с 50 и более оценками"
   ]
  },
  {
   "cell_type": "code",
   "execution_count": 11,
   "metadata": {},
   "outputs": [
    {
     "data": {
      "text/html": [
       "<div>\n",
       "<style scoped>\n",
       "    .dataframe tbody tr th:only-of-type {\n",
       "        vertical-align: middle;\n",
       "    }\n",
       "\n",
       "    .dataframe tbody tr th {\n",
       "        vertical-align: top;\n",
       "    }\n",
       "\n",
       "    .dataframe thead th {\n",
       "        text-align: right;\n",
       "    }\n",
       "</style>\n",
       "<table border=\"1\" class=\"dataframe\">\n",
       "  <thead>\n",
       "    <tr style=\"text-align: right;\">\n",
       "      <th></th>\n",
       "      <th>Автор</th>\n",
       "      <th>Средний рейтинг</th>\n",
       "    </tr>\n",
       "  </thead>\n",
       "  <tbody>\n",
       "    <tr>\n",
       "      <td>0</td>\n",
       "      <td>J.K. Rowling/Mary GrandPré</td>\n",
       "      <td>4.283844</td>\n",
       "    </tr>\n",
       "  </tbody>\n",
       "</table>\n",
       "</div>"
      ],
      "text/plain": [
       "                        Автор  Средний рейтинг\n",
       "0  J.K. Rowling/Mary GrandPré         4.283844"
      ]
     },
     "execution_count": 11,
     "metadata": {},
     "output_type": "execute_result"
    }
   ],
   "source": [
    "query = '''\n",
    "SELECT  authors.author AS \"Автор\",\n",
    "        AVG(\"Средний рейтинг\") AS \"Средний рейтинг\"     \n",
    "FROM  authors\n",
    "RIGHT JOIN (SELECT  books.author_id,\n",
    "                    COUNT(rating_id) AS \"Количество оценок\",\n",
    "                    AVG(rating) AS \"Средний рейтинг\"\n",
    "            FROM books\n",
    "            LEFT JOIN ratings ON books.book_id = ratings.book_id \n",
    "            GROUP BY books.book_id\n",
    "            HAVING COUNT(rating_id) > 50) AS SUBQ_1 ON authors.author_id = SUBQ_1.author_id\n",
    "GROUP BY authors.author_id\n",
    "ORDER BY \"Средний рейтинг\" DESC\n",
    "LIMIT 1\n",
    "'''\n",
    "pd.io.sql.read_sql(query, con = engine)"
   ]
  },
  {
   "cell_type": "markdown",
   "metadata": {},
   "source": [
    "### Вывод\n",
    "\n",
    "При формировании запроса в подзаgросе SUBQ_1 оставили только те книги, у которых было 50 и более оценок. Всего таких книг оказалось 18.\n",
    "После объединения таблиц и группировки данных был найдет автор с самой высокой средней оценкой - __J.K. Rowling/Mary GrandPré__\n"
   ]
  },
  {
   "cell_type": "markdown",
   "metadata": {},
   "source": [
    "<div class=\"alert alert-success\">\n",
    "\n",
    "**Комментарий ревьюера**\n",
    "\n",
    "Да, автор с самой высокой средней оценкой — J.K. Rowling/Mary GrandPré 👍🏻"
   ]
  },
  {
   "cell_type": "markdown",
   "metadata": {},
   "source": [
    "### Задание 5.\n",
    "\n",
    "Посчитайте среднее количество обзоров от пользователей, которые поставили больше 50 оценок."
   ]
  },
  {
   "cell_type": "code",
   "execution_count": 12,
   "metadata": {},
   "outputs": [
    {
     "data": {
      "text/html": [
       "<div>\n",
       "<style scoped>\n",
       "    .dataframe tbody tr th:only-of-type {\n",
       "        vertical-align: middle;\n",
       "    }\n",
       "\n",
       "    .dataframe tbody tr th {\n",
       "        vertical-align: top;\n",
       "    }\n",
       "\n",
       "    .dataframe thead th {\n",
       "        text-align: right;\n",
       "    }\n",
       "</style>\n",
       "<table border=\"1\" class=\"dataframe\">\n",
       "  <thead>\n",
       "    <tr style=\"text-align: right;\">\n",
       "      <th></th>\n",
       "      <th>Cреднее количество обзоров</th>\n",
       "    </tr>\n",
       "  </thead>\n",
       "  <tbody>\n",
       "    <tr>\n",
       "      <td>0</td>\n",
       "      <td>24.333333</td>\n",
       "    </tr>\n",
       "  </tbody>\n",
       "</table>\n",
       "</div>"
      ],
      "text/plain": [
       "   Cреднее количество обзоров\n",
       "0                   24.333333"
      ]
     },
     "execution_count": 12,
     "metadata": {},
     "output_type": "execute_result"
    }
   ],
   "source": [
    "query = '''\n",
    "SELECT AVG (SUBQ_3.count) AS \"Cреднее количество обзоров\"\n",
    "FROM\n",
    "    (SELECT  reviews.username,\n",
    "            COUNT(review_id)\n",
    "    FROM reviews\n",
    "    INNER JOIN (SELECT  username,\n",
    "                        COUNT (rating_id)\n",
    "                FROM ratings\n",
    "                GROUP BY username\n",
    "                HAVING COUNT (rating_id) > 50) AS SUBQ_2 ON SUBQ_2.username = reviews.username\n",
    "    GROUP BY reviews.username) AS SUBQ_3\n",
    "\n",
    "'''\n",
    "pd.io.sql.read_sql(query, con = engine)"
   ]
  },
  {
   "cell_type": "markdown",
   "metadata": {},
   "source": [
    "### Вывод\n",
    "\n",
    "При формировании запроса в подзапросе SUBQ_2 нашли пользователей, которые поставили более 50 оценок. Таких пользователей оказалось 6 человек. \n",
    "После объединения таблиц и группировки посчитали количество обзоров, который сделал каждый, а затем нашли среднее значение.\n",
    "Среднее количество обзоров от пользователей, которые поставили больше 50 оценок - более 24 обзоров."
   ]
  },
  {
   "cell_type": "markdown",
   "metadata": {},
   "source": [
    "<div class=\"alert alert-success\">\n",
    "\n",
    "**Комментарий ревьюера**\n",
    "\n",
    "Получен корректный ответ, молодец 👍🏻"
   ]
  },
  {
   "cell_type": "code",
   "execution_count": null,
   "metadata": {},
   "outputs": [],
   "source": []
  }
 ],
 "metadata": {
  "ExecuteTimeLog": [
   {
    "duration": 647,
    "start_time": "2022-03-08T07:48:38.466Z"
   },
   {
    "duration": 247,
    "start_time": "2022-03-08T07:48:39.115Z"
   },
   {
    "duration": 68,
    "start_time": "2022-03-08T07:48:39.364Z"
   },
   {
    "duration": 68,
    "start_time": "2022-03-08T07:48:39.434Z"
   },
   {
    "duration": 67,
    "start_time": "2022-03-08T07:48:39.504Z"
   },
   {
    "duration": 69,
    "start_time": "2022-03-08T07:48:39.572Z"
   },
   {
    "duration": 66,
    "start_time": "2022-03-08T07:48:39.642Z"
   },
   {
    "duration": 75,
    "start_time": "2022-03-08T07:48:39.710Z"
   },
   {
    "duration": 67,
    "start_time": "2022-03-08T07:48:39.787Z"
   },
   {
    "duration": 71,
    "start_time": "2022-03-08T07:48:39.855Z"
   },
   {
    "duration": 69,
    "start_time": "2022-03-08T07:48:39.928Z"
   },
   {
    "duration": 650,
    "start_time": "2022-03-08T07:50:16.156Z"
   },
   {
    "duration": 259,
    "start_time": "2022-03-08T07:50:16.808Z"
   },
   {
    "duration": 72,
    "start_time": "2022-03-08T07:50:17.069Z"
   },
   {
    "duration": 70,
    "start_time": "2022-03-08T07:50:17.143Z"
   },
   {
    "duration": 71,
    "start_time": "2022-03-08T07:50:17.214Z"
   },
   {
    "duration": 71,
    "start_time": "2022-03-08T07:50:17.287Z"
   },
   {
    "duration": 70,
    "start_time": "2022-03-08T07:50:17.360Z"
   },
   {
    "duration": 79,
    "start_time": "2022-03-08T07:50:17.432Z"
   },
   {
    "duration": 71,
    "start_time": "2022-03-08T07:50:17.513Z"
   },
   {
    "duration": 74,
    "start_time": "2022-03-08T07:50:17.586Z"
   },
   {
    "duration": 71,
    "start_time": "2022-03-08T07:50:17.662Z"
   },
   {
    "duration": 597,
    "start_time": "2022-03-09T06:42:28.357Z"
   },
   {
    "duration": 36,
    "start_time": "2022-03-09T06:42:28.956Z"
   },
   {
    "duration": 9,
    "start_time": "2022-03-09T06:42:28.994Z"
   },
   {
    "duration": 9,
    "start_time": "2022-03-09T06:42:29.004Z"
   },
   {
    "duration": 10,
    "start_time": "2022-03-09T06:42:29.014Z"
   },
   {
    "duration": 10,
    "start_time": "2022-03-09T06:42:29.025Z"
   },
   {
    "duration": 11,
    "start_time": "2022-03-09T06:42:29.036Z"
   },
   {
    "duration": 23,
    "start_time": "2022-03-09T06:42:29.048Z"
   },
   {
    "duration": 9,
    "start_time": "2022-03-09T06:42:29.073Z"
   },
   {
    "duration": 15,
    "start_time": "2022-03-09T06:42:29.084Z"
   },
   {
    "duration": 11,
    "start_time": "2022-03-09T06:42:29.101Z"
   },
   {
    "duration": 20,
    "start_time": "2022-03-09T06:43:08.858Z"
   },
   {
    "duration": 20,
    "start_time": "2022-03-09T06:43:18.908Z"
   },
   {
    "duration": 20,
    "start_time": "2022-03-09T06:43:36.811Z"
   },
   {
    "duration": 12,
    "start_time": "2022-03-09T06:43:50.488Z"
   },
   {
    "duration": 300,
    "start_time": "2022-03-09T06:53:54.570Z"
   },
   {
    "duration": 934,
    "start_time": "2022-03-09T06:54:01.970Z"
   },
   {
    "duration": 298,
    "start_time": "2022-03-09T06:54:02.907Z"
   },
   {
    "duration": 79,
    "start_time": "2022-03-09T06:54:03.208Z"
   },
   {
    "duration": 81,
    "start_time": "2022-03-09T06:54:03.289Z"
   },
   {
    "duration": 80,
    "start_time": "2022-03-09T06:54:03.372Z"
   },
   {
    "duration": 81,
    "start_time": "2022-03-09T06:54:03.454Z"
   },
   {
    "duration": 76,
    "start_time": "2022-03-09T06:54:03.537Z"
   },
   {
    "duration": 115,
    "start_time": "2022-03-09T06:54:03.616Z"
   },
   {
    "duration": 79,
    "start_time": "2022-03-09T06:54:03.734Z"
   },
   {
    "duration": 82,
    "start_time": "2022-03-09T06:54:03.815Z"
   },
   {
    "duration": 81,
    "start_time": "2022-03-09T06:54:03.899Z"
   },
   {
    "duration": 137,
    "start_time": "2022-03-09T06:54:24.367Z"
   },
   {
    "duration": 422,
    "start_time": "2022-03-09T06:56:14.211Z"
   },
   {
    "duration": 113,
    "start_time": "2022-03-09T07:43:49.716Z"
   },
   {
    "duration": 100,
    "start_time": "2022-03-09T07:44:36.569Z"
   },
   {
    "duration": 135,
    "start_time": "2022-03-09T07:47:03.345Z"
   },
   {
    "duration": 335,
    "start_time": "2022-03-09T07:47:20.180Z"
   },
   {
    "duration": 329,
    "start_time": "2022-03-09T07:47:40.220Z"
   },
   {
    "duration": 94,
    "start_time": "2022-03-09T07:48:34.941Z"
   },
   {
    "duration": 337,
    "start_time": "2022-03-09T07:51:51.332Z"
   },
   {
    "duration": 143,
    "start_time": "2022-03-09T07:53:03.632Z"
   },
   {
    "duration": 353,
    "start_time": "2022-03-09T08:00:30.495Z"
   },
   {
    "duration": 322,
    "start_time": "2022-03-09T08:01:02.548Z"
   },
   {
    "duration": 137,
    "start_time": "2022-03-09T08:01:11.840Z"
   },
   {
    "duration": 133,
    "start_time": "2022-03-09T08:02:05.437Z"
   },
   {
    "duration": 326,
    "start_time": "2022-03-09T08:02:27.774Z"
   },
   {
    "duration": 95,
    "start_time": "2022-03-09T08:02:58.672Z"
   },
   {
    "duration": 84,
    "start_time": "2022-03-09T08:04:35.223Z"
   },
   {
    "duration": 81,
    "start_time": "2022-03-09T08:04:59.120Z"
   },
   {
    "duration": 84,
    "start_time": "2022-03-09T08:05:06.374Z"
   },
   {
    "duration": 82,
    "start_time": "2022-03-09T08:06:05.343Z"
   },
   {
    "duration": 89,
    "start_time": "2022-03-09T08:06:18.041Z"
   },
   {
    "duration": 335,
    "start_time": "2022-03-09T08:08:18.338Z"
   },
   {
    "duration": 327,
    "start_time": "2022-03-09T08:08:41.324Z"
   },
   {
    "duration": 83,
    "start_time": "2022-03-09T08:09:02.090Z"
   },
   {
    "duration": 100,
    "start_time": "2022-03-09T08:09:12.857Z"
   },
   {
    "duration": 100,
    "start_time": "2022-03-09T08:12:09.983Z"
   },
   {
    "duration": 111,
    "start_time": "2022-03-09T08:12:45.829Z"
   },
   {
    "duration": 83,
    "start_time": "2022-03-09T08:13:38.458Z"
   },
   {
    "duration": 105,
    "start_time": "2022-03-09T08:14:03.198Z"
   },
   {
    "duration": 95,
    "start_time": "2022-03-09T08:14:14.244Z"
   },
   {
    "duration": 111,
    "start_time": "2022-03-09T08:14:21.996Z"
   },
   {
    "duration": 102,
    "start_time": "2022-03-09T08:19:32.953Z"
   },
   {
    "duration": 79,
    "start_time": "2022-03-09T08:19:39.603Z"
   },
   {
    "duration": 105,
    "start_time": "2022-03-09T08:25:03.142Z"
   },
   {
    "duration": 101,
    "start_time": "2022-03-09T08:25:23.601Z"
   },
   {
    "duration": 102,
    "start_time": "2022-03-09T08:27:11.719Z"
   },
   {
    "duration": 102,
    "start_time": "2022-03-09T08:39:38.426Z"
   },
   {
    "duration": 101,
    "start_time": "2022-03-09T08:40:03.920Z"
   },
   {
    "duration": 101,
    "start_time": "2022-03-09T08:40:35.607Z"
   },
   {
    "duration": 357,
    "start_time": "2022-03-09T08:41:34.267Z"
   },
   {
    "duration": 334,
    "start_time": "2022-03-09T08:41:52.255Z"
   },
   {
    "duration": 339,
    "start_time": "2022-03-09T08:42:44.373Z"
   },
   {
    "duration": 394,
    "start_time": "2022-03-09T08:42:54.669Z"
   },
   {
    "duration": 101,
    "start_time": "2022-03-09T08:43:05.507Z"
   },
   {
    "duration": 104,
    "start_time": "2022-03-09T08:43:42.711Z"
   },
   {
    "duration": 100,
    "start_time": "2022-03-09T08:44:00.080Z"
   },
   {
    "duration": 100,
    "start_time": "2022-03-09T08:44:12.622Z"
   },
   {
    "duration": 101,
    "start_time": "2022-03-09T08:44:28.262Z"
   },
   {
    "duration": 99,
    "start_time": "2022-03-09T08:44:52.895Z"
   },
   {
    "duration": 339,
    "start_time": "2022-03-09T08:46:04.960Z"
   },
   {
    "duration": 430,
    "start_time": "2022-03-09T08:46:40.226Z"
   },
   {
    "duration": 3808,
    "start_time": "2022-03-09T08:55:06.639Z"
   },
   {
    "duration": 101,
    "start_time": "2022-03-09T08:55:31.762Z"
   },
   {
    "duration": 382,
    "start_time": "2022-03-09T08:56:19.654Z"
   },
   {
    "duration": 84,
    "start_time": "2022-03-09T08:56:24.732Z"
   },
   {
    "duration": 88,
    "start_time": "2022-03-09T08:56:36.523Z"
   },
   {
    "duration": 84,
    "start_time": "2022-03-09T08:57:27.440Z"
   },
   {
    "duration": 101,
    "start_time": "2022-03-09T08:57:34.091Z"
   },
   {
    "duration": 82,
    "start_time": "2022-03-09T08:57:40.050Z"
   },
   {
    "duration": 745,
    "start_time": "2022-03-10T06:31:10.946Z"
   },
   {
    "duration": 41,
    "start_time": "2022-03-10T06:31:11.693Z"
   },
   {
    "duration": 11,
    "start_time": "2022-03-10T06:31:11.736Z"
   },
   {
    "duration": 11,
    "start_time": "2022-03-10T06:31:11.748Z"
   },
   {
    "duration": 31,
    "start_time": "2022-03-10T06:31:11.760Z"
   },
   {
    "duration": 21,
    "start_time": "2022-03-10T06:31:11.793Z"
   },
   {
    "duration": 9,
    "start_time": "2022-03-10T06:31:11.816Z"
   },
   {
    "duration": 19,
    "start_time": "2022-03-10T06:31:11.828Z"
   },
   {
    "duration": 29,
    "start_time": "2022-03-10T06:31:11.849Z"
   },
   {
    "duration": 11,
    "start_time": "2022-03-10T06:31:11.880Z"
   },
   {
    "duration": 14,
    "start_time": "2022-03-10T06:31:11.893Z"
   },
   {
    "duration": 13,
    "start_time": "2022-03-10T06:31:11.908Z"
   },
   {
    "duration": 17,
    "start_time": "2022-03-10T06:31:19.268Z"
   },
   {
    "duration": 53,
    "start_time": "2023-09-03T22:39:40.029Z"
   },
   {
    "duration": 17676,
    "start_time": "2023-09-03T22:39:48.730Z"
   },
   {
    "duration": 56,
    "start_time": "2023-09-03T22:41:02.345Z"
   },
   {
    "duration": 19350,
    "start_time": "2023-09-03T22:41:11.623Z"
   }
  ],
  "kernelspec": {
   "display_name": "Python 3 (ipykernel)",
   "language": "python",
   "name": "python3"
  },
  "language_info": {
   "codemirror_mode": {
    "name": "ipython",
    "version": 3
   },
   "file_extension": ".py",
   "mimetype": "text/x-python",
   "name": "python",
   "nbconvert_exporter": "python",
   "pygments_lexer": "ipython3",
   "version": "3.9.5"
  },
  "toc": {
   "base_numbering": 1,
   "nav_menu": {},
   "number_sections": false,
   "sideBar": true,
   "skip_h1_title": true,
   "title_cell": "Table of Contents",
   "title_sidebar": "Contents",
   "toc_cell": false,
   "toc_position": {
    "height": "calc(100% - 180px)",
    "left": "10px",
    "top": "150px",
    "width": "366.391px"
   },
   "toc_section_display": true,
   "toc_window_display": false
  }
 },
 "nbformat": 4,
 "nbformat_minor": 2
}
