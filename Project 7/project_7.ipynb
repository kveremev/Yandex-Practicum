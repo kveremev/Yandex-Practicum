{
 "cells": [
  {
   "cell_type": "markdown",
   "metadata": {},
   "source": [
    "# Принятие решений в бизнесе на основе данных"
   ]
  },
  {
   "cell_type": "markdown",
   "metadata": {},
   "source": [
    "# Описание проекта\n",
    "\n",
    "Вы — аналитик крупного интернет-магазина. Вместе с отделом маркетинга вы подготовили список гипотез для увеличения выручки.\n",
    "\n",
    "\n",
    "Необходимо приоритизировать гипотезы, запустить A/B-тест и проанализировать результаты."
   ]
  },
  {
   "cell_type": "markdown",
   "metadata": {},
   "source": [
    "### Описание данных\n",
    "#### Данные для первой части\n",
    "\n",
    "Файл `/datasets/hypothesis.csv`\n",
    "- *Hypothesis* — краткое описание гипотезы;\n",
    "- *Reach* — охват пользователей по 10-балльной шкале;\n",
    "- *Impact* — влияние на пользователей по 10-балльной шкале;\n",
    "- *Confidence* — уверенность в гипотезе по 10-балльной шкале;\n",
    "- *Efforts* — затраты ресурсов на проверку гипотезы по 10-балльной шкале. Чем больше значение Efforts, тем дороже проверка гипотезы.\n",
    "\n",
    "#### Данные для второй части\n",
    "\n",
    "Файл `/datasets/orders.csv`\n",
    "- *transactionId* — идентификатор заказа;\n",
    "- *visitorId* — идентификатор пользователя, совершившего заказ;\n",
    "- *date* — дата, когда был совершён заказ;\n",
    "- *revenue* — выручка заказа;\n",
    "- *group* — группа A/B-теста, в которую попал заказ.\n",
    "\n",
    "Файл `/datasets/visitors.csv`\n",
    "- *date* — дата;\n",
    "- *group* — группа A/B-теста;\n",
    "- *visitors* — количество пользователей в указанную дату в указанной группе A/B-теста"
   ]
  },
  {
   "cell_type": "markdown",
   "metadata": {},
   "source": [
    "### Загрузка и подготовка данных"
   ]
  },
  {
   "cell_type": "code",
   "execution_count": 1,
   "metadata": {},
   "outputs": [
    {
     "name": "stdout",
     "output_type": "stream",
     "text": [
      "\u001b[1mДатасет: Гипотезы\u001b[0m\n"
     ]
    },
    {
     "data": {
      "text/html": [
       "<div>\n",
       "<style scoped>\n",
       "    .dataframe tbody tr th:only-of-type {\n",
       "        vertical-align: middle;\n",
       "    }\n",
       "\n",
       "    .dataframe tbody tr th {\n",
       "        vertical-align: top;\n",
       "    }\n",
       "\n",
       "    .dataframe thead th {\n",
       "        text-align: right;\n",
       "    }\n",
       "</style>\n",
       "<table border=\"1\" class=\"dataframe\">\n",
       "  <thead>\n",
       "    <tr style=\"text-align: right;\">\n",
       "      <th></th>\n",
       "      <th>Hypothesis</th>\n",
       "      <th>Reach</th>\n",
       "      <th>Impact</th>\n",
       "      <th>Confidence</th>\n",
       "      <th>Efforts</th>\n",
       "    </tr>\n",
       "  </thead>\n",
       "  <tbody>\n",
       "    <tr>\n",
       "      <td>0</td>\n",
       "      <td>Добавить два новых канала привлечения трафика, что позволит привлекать на 30% больше пользователей</td>\n",
       "      <td>3</td>\n",
       "      <td>10</td>\n",
       "      <td>8</td>\n",
       "      <td>6</td>\n",
       "    </tr>\n",
       "    <tr>\n",
       "      <td>1</td>\n",
       "      <td>Запустить собственную службу доставки, что сократит срок доставки заказов</td>\n",
       "      <td>2</td>\n",
       "      <td>5</td>\n",
       "      <td>4</td>\n",
       "      <td>10</td>\n",
       "    </tr>\n",
       "    <tr>\n",
       "      <td>2</td>\n",
       "      <td>Добавить блоки рекомендаций товаров на сайт интернет магазина, чтобы повысить конверсию и средний чек заказа</td>\n",
       "      <td>8</td>\n",
       "      <td>3</td>\n",
       "      <td>7</td>\n",
       "      <td>3</td>\n",
       "    </tr>\n",
       "    <tr>\n",
       "      <td>3</td>\n",
       "      <td>Изменить структура категорий, что увеличит конверсию, т.к. пользователи быстрее найдут нужный товар</td>\n",
       "      <td>8</td>\n",
       "      <td>3</td>\n",
       "      <td>3</td>\n",
       "      <td>8</td>\n",
       "    </tr>\n",
       "    <tr>\n",
       "      <td>4</td>\n",
       "      <td>Изменить цвет фона главной страницы, чтобы увеличить вовлеченность пользователей</td>\n",
       "      <td>3</td>\n",
       "      <td>1</td>\n",
       "      <td>1</td>\n",
       "      <td>1</td>\n",
       "    </tr>\n",
       "  </tbody>\n",
       "</table>\n",
       "</div>"
      ],
      "text/plain": [
       "                                                                                                     Hypothesis  \\\n",
       "0            Добавить два новых канала привлечения трафика, что позволит привлекать на 30% больше пользователей   \n",
       "1                                     Запустить собственную службу доставки, что сократит срок доставки заказов   \n",
       "2  Добавить блоки рекомендаций товаров на сайт интернет магазина, чтобы повысить конверсию и средний чек заказа   \n",
       "3           Изменить структура категорий, что увеличит конверсию, т.к. пользователи быстрее найдут нужный товар   \n",
       "4                              Изменить цвет фона главной страницы, чтобы увеличить вовлеченность пользователей   \n",
       "\n",
       "   Reach  Impact  Confidence  Efforts  \n",
       "0      3      10           8        6  \n",
       "1      2       5           4       10  \n",
       "2      8       3           7        3  \n",
       "3      8       3           3        8  \n",
       "4      3       1           1        1  "
      ]
     },
     "metadata": {},
     "output_type": "display_data"
    },
    {
     "name": "stdout",
     "output_type": "stream",
     "text": [
      "\n",
      "<class 'pandas.core.frame.DataFrame'>\n",
      "RangeIndex: 9 entries, 0 to 8\n",
      "Data columns (total 5 columns):\n",
      "Hypothesis    9 non-null object\n",
      "Reach         9 non-null int64\n",
      "Impact        9 non-null int64\n",
      "Confidence    9 non-null int64\n",
      "Efforts       9 non-null int64\n",
      "dtypes: int64(4), object(1)\n",
      "memory usage: 488.0+ bytes\n",
      "None\n",
      "\n",
      "\u001b[1mДатасет: Заказы\u001b[0m\n"
     ]
    },
    {
     "data": {
      "text/html": [
       "<div>\n",
       "<style scoped>\n",
       "    .dataframe tbody tr th:only-of-type {\n",
       "        vertical-align: middle;\n",
       "    }\n",
       "\n",
       "    .dataframe tbody tr th {\n",
       "        vertical-align: top;\n",
       "    }\n",
       "\n",
       "    .dataframe thead th {\n",
       "        text-align: right;\n",
       "    }\n",
       "</style>\n",
       "<table border=\"1\" class=\"dataframe\">\n",
       "  <thead>\n",
       "    <tr style=\"text-align: right;\">\n",
       "      <th></th>\n",
       "      <th>transactionId</th>\n",
       "      <th>visitorId</th>\n",
       "      <th>date</th>\n",
       "      <th>revenue</th>\n",
       "      <th>group</th>\n",
       "    </tr>\n",
       "  </thead>\n",
       "  <tbody>\n",
       "    <tr>\n",
       "      <td>0</td>\n",
       "      <td>3667963787</td>\n",
       "      <td>3312258926</td>\n",
       "      <td>2019-08-15</td>\n",
       "      <td>1650</td>\n",
       "      <td>B</td>\n",
       "    </tr>\n",
       "    <tr>\n",
       "      <td>1</td>\n",
       "      <td>2804400009</td>\n",
       "      <td>3642806036</td>\n",
       "      <td>2019-08-15</td>\n",
       "      <td>730</td>\n",
       "      <td>B</td>\n",
       "    </tr>\n",
       "    <tr>\n",
       "      <td>2</td>\n",
       "      <td>2961555356</td>\n",
       "      <td>4069496402</td>\n",
       "      <td>2019-08-15</td>\n",
       "      <td>400</td>\n",
       "      <td>A</td>\n",
       "    </tr>\n",
       "    <tr>\n",
       "      <td>3</td>\n",
       "      <td>3797467345</td>\n",
       "      <td>1196621759</td>\n",
       "      <td>2019-08-15</td>\n",
       "      <td>9759</td>\n",
       "      <td>B</td>\n",
       "    </tr>\n",
       "    <tr>\n",
       "      <td>4</td>\n",
       "      <td>2282983706</td>\n",
       "      <td>2322279887</td>\n",
       "      <td>2019-08-15</td>\n",
       "      <td>2308</td>\n",
       "      <td>B</td>\n",
       "    </tr>\n",
       "  </tbody>\n",
       "</table>\n",
       "</div>"
      ],
      "text/plain": [
       "   transactionId   visitorId        date  revenue group\n",
       "0     3667963787  3312258926  2019-08-15     1650     B\n",
       "1     2804400009  3642806036  2019-08-15      730     B\n",
       "2     2961555356  4069496402  2019-08-15      400     A\n",
       "3     3797467345  1196621759  2019-08-15     9759     B\n",
       "4     2282983706  2322279887  2019-08-15     2308     B"
      ]
     },
     "metadata": {},
     "output_type": "display_data"
    },
    {
     "name": "stdout",
     "output_type": "stream",
     "text": [
      "\n",
      "<class 'pandas.core.frame.DataFrame'>\n",
      "RangeIndex: 1197 entries, 0 to 1196\n",
      "Data columns (total 5 columns):\n",
      "transactionId    1197 non-null int64\n",
      "visitorId        1197 non-null int64\n",
      "date             1197 non-null object\n",
      "revenue          1197 non-null int64\n",
      "group            1197 non-null object\n",
      "dtypes: int64(3), object(2)\n",
      "memory usage: 46.9+ KB\n",
      "None\n",
      "\n",
      "\u001b[1mДатасет: Количество пользователей в группе на дату\u001b[0m\n"
     ]
    },
    {
     "data": {
      "text/html": [
       "<div>\n",
       "<style scoped>\n",
       "    .dataframe tbody tr th:only-of-type {\n",
       "        vertical-align: middle;\n",
       "    }\n",
       "\n",
       "    .dataframe tbody tr th {\n",
       "        vertical-align: top;\n",
       "    }\n",
       "\n",
       "    .dataframe thead th {\n",
       "        text-align: right;\n",
       "    }\n",
       "</style>\n",
       "<table border=\"1\" class=\"dataframe\">\n",
       "  <thead>\n",
       "    <tr style=\"text-align: right;\">\n",
       "      <th></th>\n",
       "      <th>date</th>\n",
       "      <th>group</th>\n",
       "      <th>visitors</th>\n",
       "    </tr>\n",
       "  </thead>\n",
       "  <tbody>\n",
       "    <tr>\n",
       "      <td>0</td>\n",
       "      <td>2019-08-01</td>\n",
       "      <td>A</td>\n",
       "      <td>719</td>\n",
       "    </tr>\n",
       "    <tr>\n",
       "      <td>1</td>\n",
       "      <td>2019-08-02</td>\n",
       "      <td>A</td>\n",
       "      <td>619</td>\n",
       "    </tr>\n",
       "    <tr>\n",
       "      <td>2</td>\n",
       "      <td>2019-08-03</td>\n",
       "      <td>A</td>\n",
       "      <td>507</td>\n",
       "    </tr>\n",
       "    <tr>\n",
       "      <td>3</td>\n",
       "      <td>2019-08-04</td>\n",
       "      <td>A</td>\n",
       "      <td>717</td>\n",
       "    </tr>\n",
       "    <tr>\n",
       "      <td>4</td>\n",
       "      <td>2019-08-05</td>\n",
       "      <td>A</td>\n",
       "      <td>756</td>\n",
       "    </tr>\n",
       "  </tbody>\n",
       "</table>\n",
       "</div>"
      ],
      "text/plain": [
       "         date group  visitors\n",
       "0  2019-08-01     A       719\n",
       "1  2019-08-02     A       619\n",
       "2  2019-08-03     A       507\n",
       "3  2019-08-04     A       717\n",
       "4  2019-08-05     A       756"
      ]
     },
     "metadata": {},
     "output_type": "display_data"
    },
    {
     "name": "stdout",
     "output_type": "stream",
     "text": [
      "\n",
      "<class 'pandas.core.frame.DataFrame'>\n",
      "RangeIndex: 62 entries, 0 to 61\n",
      "Data columns (total 3 columns):\n",
      "date        62 non-null object\n",
      "group       62 non-null object\n",
      "visitors    62 non-null int64\n",
      "dtypes: int64(1), object(2)\n",
      "memory usage: 1.6+ KB\n",
      "None\n",
      "\n"
     ]
    }
   ],
   "source": [
    "# Импорт библиотеки\n",
    "import pandas as pd\n",
    "import numpy as np\n",
    "import datetime as dt\n",
    "import matplotlib.pyplot as plt\n",
    "import warnings\n",
    "warnings.filterwarnings('ignore')\n",
    "import scipy.stats as stats\n",
    "\n",
    "pd.set_option('display.max_columns', None)\n",
    "pd.options.display.max_colwidth = 150  \n",
    "\n",
    "\n",
    "hypothesis = pd.read_csv('/datasets/hypothesis.csv')\n",
    "orders = pd.read_csv('/datasets/orders.csv')\n",
    "visitors = pd.read_csv('/datasets/visitors.csv')\n",
    "\n",
    "# Даем названия датасетам\n",
    "\n",
    "hypothesis.name, orders.name, visitors.name = 'Гипотезы', 'Заказы', 'Количество пользователей в группе на дату'\n",
    "\n",
    "#Выводим общую информацию\n",
    "list = [hypothesis, orders, visitors]\n",
    "for df in list:\n",
    "    print ('\\033[1m' + 'Датасет:', df.name + '\\033[0m')\n",
    "    display(df.head())\n",
    "    print()\n",
    "    print(df.info())\n",
    "    print()"
   ]
  },
  {
   "cell_type": "markdown",
   "metadata": {},
   "source": [
    "Столбцы с датой хорошо бы преобразовать в *datetime*:"
   ]
  },
  {
   "cell_type": "code",
   "execution_count": 2,
   "metadata": {},
   "outputs": [
    {
     "name": "stdout",
     "output_type": "stream",
     "text": [
      "<class 'pandas.core.frame.DataFrame'>\n",
      "RangeIndex: 1197 entries, 0 to 1196\n",
      "Data columns (total 5 columns):\n",
      "transactionId    1197 non-null int64\n",
      "visitorId        1197 non-null int64\n",
      "date             1197 non-null datetime64[ns]\n",
      "revenue          1197 non-null int64\n",
      "group            1197 non-null object\n",
      "dtypes: datetime64[ns](1), int64(3), object(1)\n",
      "memory usage: 46.9+ KB\n",
      "\n",
      "<class 'pandas.core.frame.DataFrame'>\n",
      "RangeIndex: 62 entries, 0 to 61\n",
      "Data columns (total 3 columns):\n",
      "date        62 non-null datetime64[ns]\n",
      "group       62 non-null object\n",
      "visitors    62 non-null int64\n",
      "dtypes: datetime64[ns](1), int64(1), object(1)\n",
      "memory usage: 1.6+ KB\n"
     ]
    }
   ],
   "source": [
    "#переводим даты в datetime\n",
    "orders['date'] = pd.to_datetime(orders['date'])\n",
    "#Проверяем\n",
    "orders.info()\n",
    "print()\n",
    "visitors['date'] = pd.to_datetime(visitors['date'])\n",
    "visitors.info()"
   ]
  },
  {
   "cell_type": "markdown",
   "metadata": {},
   "source": [
    "Проверим датасеты на дубликаты:"
   ]
  },
  {
   "cell_type": "code",
   "execution_count": 3,
   "metadata": {},
   "outputs": [
    {
     "name": "stdout",
     "output_type": "stream",
     "text": [
      "\u001b[1mКоличество дубликатов в датасете: Гипотезы\u001b[0m\n",
      "0\n",
      "\n",
      "\u001b[1mКоличество дубликатов в датасете: Заказы\u001b[0m\n",
      "0\n",
      "\n",
      "\u001b[1mКоличество дубликатов в датасете: Количество пользователей в группе на дату\u001b[0m\n",
      "0\n",
      "\n"
     ]
    }
   ],
   "source": [
    "#Проверка на дубликаты:\n",
    "for df in list:\n",
    "    print ('\\033[1m' + 'Количество дубликатов в датасете:', df.name + '\\033[0m')\n",
    "    print(df.duplicated().sum())\n",
    "    print()"
   ]
  },
  {
   "cell_type": "markdown",
   "metadata": {},
   "source": [
    "#### Вывод\n",
    "Пропусков в данных нет, дубликатов нет, даты переведены в datetime. Данные гототы к дальнейшему анализу."
   ]
  },
  {
   "cell_type": "markdown",
   "metadata": {},
   "source": [
    "<div class=\"alert alert-block alert-warning\">\n",
    "    \n",
    "\n",
    "__Комментарий от ревьюера №1 (нужно доделать)__\n",
    "\n",
    "А есть ли пользователи, которые попали в две группы теста одновременно?\n",
    "\n",
    "</div>"
   ]
  },
  {
   "cell_type": "markdown",
   "metadata": {},
   "source": [
    "<div style=\"border-radius: 15px; border: solid blue 2px; padding: 20px\">\n",
    "<b>Комментарий от студента №1</b><br>\n",
    "Да, такие пользователи нашлись\n",
    "</div>"
   ]
  },
  {
   "cell_type": "markdown",
   "metadata": {},
   "source": [
    "<div class=\"alert alert-block alert-success\">\n",
    "    \n",
    "\n",
    "__Комментарий от ревьюера №2 (OK)__\n",
    "\n",
    "👍\n",
    "</div>"
   ]
  },
  {
   "cell_type": "code",
   "execution_count": 4,
   "metadata": {},
   "outputs": [
    {
     "data": {
      "text/plain": [
       "array([   8300375,  199603092,  232979603,  237748145,  276558944,\n",
       "        351125977,  393266494,  457167155,  471551937,  477780734,\n",
       "        818047933,  963407295, 1230306981, 1294878855, 1316129916,\n",
       "       1333886533, 1404934699, 1602967004, 1614305549, 1648269707,\n",
       "       1668030113, 1738359350, 1801183820, 1959144690, 2038680547,\n",
       "       2044997962, 2378935119, 2458001652, 2579882178, 2587333274,\n",
       "       2600415354, 2654030115, 2686716486, 2712142231, 2716752286,\n",
       "       2780786433, 2927087541, 2949041841, 2954449915, 3062433592,\n",
       "       3202540741, 3234906277, 3656415546, 3717692402, 3766097110,\n",
       "       3803269165, 3891541246, 3941795274, 3951559397, 3957174400,\n",
       "       3963646447, 3972127743, 3984495233, 4069496402, 4120364173,\n",
       "       4186807279, 4256040402, 4266935830])"
      ]
     },
     "execution_count": 4,
     "metadata": {},
     "output_type": "execute_result"
    }
   ],
   "source": [
    "#проверка наличия общих пользователей в группах\n",
    "bad_users = np.intersect1d(orders.query('group == \"A\"')['visitorId'].unique(), orders.query('group == \"B\"')['visitorId'].unique())\n",
    "bad_users"
   ]
  },
  {
   "cell_type": "markdown",
   "metadata": {},
   "source": [
    "Обновляем таблицу заказов без учета таких пользователей:"
   ]
  },
  {
   "cell_type": "code",
   "execution_count": 5,
   "metadata": {},
   "outputs": [
    {
     "name": "stdout",
     "output_type": "stream",
     "text": [
      "<class 'pandas.core.frame.DataFrame'>\n",
      "Int64Index: 1016 entries, 0 to 1196\n",
      "Data columns (total 5 columns):\n",
      "transactionId    1016 non-null int64\n",
      "visitorId        1016 non-null int64\n",
      "date             1016 non-null datetime64[ns]\n",
      "revenue          1016 non-null int64\n",
      "group            1016 non-null object\n",
      "dtypes: datetime64[ns](1), int64(3), object(1)\n",
      "memory usage: 47.6+ KB\n"
     ]
    }
   ],
   "source": [
    "orders = orders[~orders['visitorId'].isin(bad_users)]\n",
    "orders.info()"
   ]
  },
  {
   "cell_type": "markdown",
   "metadata": {},
   "source": [
    "### Часть 1. Приоритизация гипотез"
   ]
  },
  {
   "cell_type": "code",
   "execution_count": 6,
   "metadata": {},
   "outputs": [
    {
     "data": {
      "text/html": [
       "<div>\n",
       "<style scoped>\n",
       "    .dataframe tbody tr th:only-of-type {\n",
       "        vertical-align: middle;\n",
       "    }\n",
       "\n",
       "    .dataframe tbody tr th {\n",
       "        vertical-align: top;\n",
       "    }\n",
       "\n",
       "    .dataframe thead th {\n",
       "        text-align: right;\n",
       "    }\n",
       "</style>\n",
       "<table border=\"1\" class=\"dataframe\">\n",
       "  <thead>\n",
       "    <tr style=\"text-align: right;\">\n",
       "      <th></th>\n",
       "      <th>Hypothesis</th>\n",
       "      <th>Reach</th>\n",
       "      <th>Impact</th>\n",
       "      <th>Confidence</th>\n",
       "      <th>Efforts</th>\n",
       "    </tr>\n",
       "  </thead>\n",
       "  <tbody>\n",
       "    <tr>\n",
       "      <td>0</td>\n",
       "      <td>Добавить два новых канала привлечения трафика, что позволит привлекать на 30% больше пользователей</td>\n",
       "      <td>3</td>\n",
       "      <td>10</td>\n",
       "      <td>8</td>\n",
       "      <td>6</td>\n",
       "    </tr>\n",
       "    <tr>\n",
       "      <td>1</td>\n",
       "      <td>Запустить собственную службу доставки, что сократит срок доставки заказов</td>\n",
       "      <td>2</td>\n",
       "      <td>5</td>\n",
       "      <td>4</td>\n",
       "      <td>10</td>\n",
       "    </tr>\n",
       "    <tr>\n",
       "      <td>2</td>\n",
       "      <td>Добавить блоки рекомендаций товаров на сайт интернет магазина, чтобы повысить конверсию и средний чек заказа</td>\n",
       "      <td>8</td>\n",
       "      <td>3</td>\n",
       "      <td>7</td>\n",
       "      <td>3</td>\n",
       "    </tr>\n",
       "    <tr>\n",
       "      <td>3</td>\n",
       "      <td>Изменить структура категорий, что увеличит конверсию, т.к. пользователи быстрее найдут нужный товар</td>\n",
       "      <td>8</td>\n",
       "      <td>3</td>\n",
       "      <td>3</td>\n",
       "      <td>8</td>\n",
       "    </tr>\n",
       "    <tr>\n",
       "      <td>4</td>\n",
       "      <td>Изменить цвет фона главной страницы, чтобы увеличить вовлеченность пользователей</td>\n",
       "      <td>3</td>\n",
       "      <td>1</td>\n",
       "      <td>1</td>\n",
       "      <td>1</td>\n",
       "    </tr>\n",
       "    <tr>\n",
       "      <td>5</td>\n",
       "      <td>Добавить страницу отзывов клиентов о магазине, что позволит увеличить количество заказов</td>\n",
       "      <td>3</td>\n",
       "      <td>2</td>\n",
       "      <td>2</td>\n",
       "      <td>3</td>\n",
       "    </tr>\n",
       "    <tr>\n",
       "      <td>6</td>\n",
       "      <td>Показать на главной странице баннеры с актуальными акциями и распродажами, чтобы увеличить конверсию</td>\n",
       "      <td>5</td>\n",
       "      <td>3</td>\n",
       "      <td>8</td>\n",
       "      <td>3</td>\n",
       "    </tr>\n",
       "    <tr>\n",
       "      <td>7</td>\n",
       "      <td>Добавить форму подписки на все основные страницы, чтобы собрать базу клиентов для email-рассылок</td>\n",
       "      <td>10</td>\n",
       "      <td>7</td>\n",
       "      <td>8</td>\n",
       "      <td>5</td>\n",
       "    </tr>\n",
       "    <tr>\n",
       "      <td>8</td>\n",
       "      <td>Запустить акцию, дающую скидку на товар в день рождения</td>\n",
       "      <td>1</td>\n",
       "      <td>9</td>\n",
       "      <td>9</td>\n",
       "      <td>5</td>\n",
       "    </tr>\n",
       "  </tbody>\n",
       "</table>\n",
       "</div>"
      ],
      "text/plain": [
       "                                                                                                     Hypothesis  \\\n",
       "0            Добавить два новых канала привлечения трафика, что позволит привлекать на 30% больше пользователей   \n",
       "1                                     Запустить собственную службу доставки, что сократит срок доставки заказов   \n",
       "2  Добавить блоки рекомендаций товаров на сайт интернет магазина, чтобы повысить конверсию и средний чек заказа   \n",
       "3           Изменить структура категорий, что увеличит конверсию, т.к. пользователи быстрее найдут нужный товар   \n",
       "4                              Изменить цвет фона главной страницы, чтобы увеличить вовлеченность пользователей   \n",
       "5                      Добавить страницу отзывов клиентов о магазине, что позволит увеличить количество заказов   \n",
       "6          Показать на главной странице баннеры с актуальными акциями и распродажами, чтобы увеличить конверсию   \n",
       "7              Добавить форму подписки на все основные страницы, чтобы собрать базу клиентов для email-рассылок   \n",
       "8                                                       Запустить акцию, дающую скидку на товар в день рождения   \n",
       "\n",
       "   Reach  Impact  Confidence  Efforts  \n",
       "0      3      10           8        6  \n",
       "1      2       5           4       10  \n",
       "2      8       3           7        3  \n",
       "3      8       3           3        8  \n",
       "4      3       1           1        1  \n",
       "5      3       2           2        3  \n",
       "6      5       3           8        3  \n",
       "7     10       7           8        5  \n",
       "8      1       9           9        5  "
      ]
     },
     "execution_count": 6,
     "metadata": {},
     "output_type": "execute_result"
    }
   ],
   "source": [
    "hypothesis"
   ]
  },
  {
   "cell_type": "markdown",
   "metadata": {},
   "source": [
    "<div class=\"alert alert-block alert-warning\">\n",
    "    \n",
    "\n",
    "__Комментарий от ревьюера №1 (можно лучше)__\n",
    "\n",
    "Чтобы вывести полное название гипотез, можно использовать такой код:  \n",
    "<code>pd.set_option('display.max_columns', None)  \n",
    "pd.options.display.max_colwidth = 150  </code>\n",
    "</div>"
   ]
  },
  {
   "cell_type": "markdown",
   "metadata": {},
   "source": [
    "<div style=\"border-radius: 15px; border: solid blue 2px; padding: 20px\">\n",
    "<b>Комментарий от студента №1</b><br>\n",
    "Спасибо, вынес этот код в начало к импорту библиотек\n",
    "</div>"
   ]
  },
  {
   "cell_type": "markdown",
   "metadata": {},
   "source": [
    "<div class=\"alert alert-block alert-success\">\n",
    "    \n",
    "\n",
    "__Комментарий от ревьюера №2 (OK)__\n",
    "\n",
    "👍\n",
    "</div>"
   ]
  },
  {
   "cell_type": "markdown",
   "metadata": {},
   "source": [
    "#### Фреймворк ICE\n",
    "\n",
    "__ICE SCORE = (Impact x Confidence) / Efforts__\n",
    "\n",
    "Добавим столбец ['ICE']"
   ]
  },
  {
   "cell_type": "code",
   "execution_count": 7,
   "metadata": {},
   "outputs": [
    {
     "data": {
      "text/html": [
       "<div>\n",
       "<style scoped>\n",
       "    .dataframe tbody tr th:only-of-type {\n",
       "        vertical-align: middle;\n",
       "    }\n",
       "\n",
       "    .dataframe tbody tr th {\n",
       "        vertical-align: top;\n",
       "    }\n",
       "\n",
       "    .dataframe thead th {\n",
       "        text-align: right;\n",
       "    }\n",
       "</style>\n",
       "<table border=\"1\" class=\"dataframe\">\n",
       "  <thead>\n",
       "    <tr style=\"text-align: right;\">\n",
       "      <th></th>\n",
       "      <th>Hypothesis</th>\n",
       "      <th>ICE</th>\n",
       "    </tr>\n",
       "  </thead>\n",
       "  <tbody>\n",
       "    <tr>\n",
       "      <td>8</td>\n",
       "      <td>Запустить акцию, дающую скидку на товар в день рождения</td>\n",
       "      <td>16.0</td>\n",
       "    </tr>\n",
       "    <tr>\n",
       "      <td>0</td>\n",
       "      <td>Добавить два новых канала привлечения трафика, что позволит привлекать на 30% больше пользователей</td>\n",
       "      <td>13.0</td>\n",
       "    </tr>\n",
       "    <tr>\n",
       "      <td>7</td>\n",
       "      <td>Добавить форму подписки на все основные страницы, чтобы собрать базу клиентов для email-рассылок</td>\n",
       "      <td>11.0</td>\n",
       "    </tr>\n",
       "    <tr>\n",
       "      <td>6</td>\n",
       "      <td>Показать на главной странице баннеры с актуальными акциями и распродажами, чтобы увеличить конверсию</td>\n",
       "      <td>8.0</td>\n",
       "    </tr>\n",
       "    <tr>\n",
       "      <td>2</td>\n",
       "      <td>Добавить блоки рекомендаций товаров на сайт интернет магазина, чтобы повысить конверсию и средний чек заказа</td>\n",
       "      <td>7.0</td>\n",
       "    </tr>\n",
       "    <tr>\n",
       "      <td>1</td>\n",
       "      <td>Запустить собственную службу доставки, что сократит срок доставки заказов</td>\n",
       "      <td>2.0</td>\n",
       "    </tr>\n",
       "    <tr>\n",
       "      <td>5</td>\n",
       "      <td>Добавить страницу отзывов клиентов о магазине, что позволит увеличить количество заказов</td>\n",
       "      <td>1.0</td>\n",
       "    </tr>\n",
       "    <tr>\n",
       "      <td>3</td>\n",
       "      <td>Изменить структура категорий, что увеличит конверсию, т.к. пользователи быстрее найдут нужный товар</td>\n",
       "      <td>1.0</td>\n",
       "    </tr>\n",
       "    <tr>\n",
       "      <td>4</td>\n",
       "      <td>Изменить цвет фона главной страницы, чтобы увеличить вовлеченность пользователей</td>\n",
       "      <td>1.0</td>\n",
       "    </tr>\n",
       "  </tbody>\n",
       "</table>\n",
       "</div>"
      ],
      "text/plain": [
       "                                                                                                     Hypothesis  \\\n",
       "8                                                       Запустить акцию, дающую скидку на товар в день рождения   \n",
       "0            Добавить два новых канала привлечения трафика, что позволит привлекать на 30% больше пользователей   \n",
       "7              Добавить форму подписки на все основные страницы, чтобы собрать базу клиентов для email-рассылок   \n",
       "6          Показать на главной странице баннеры с актуальными акциями и распродажами, чтобы увеличить конверсию   \n",
       "2  Добавить блоки рекомендаций товаров на сайт интернет магазина, чтобы повысить конверсию и средний чек заказа   \n",
       "1                                     Запустить собственную службу доставки, что сократит срок доставки заказов   \n",
       "5                      Добавить страницу отзывов клиентов о магазине, что позволит увеличить количество заказов   \n",
       "3           Изменить структура категорий, что увеличит конверсию, т.к. пользователи быстрее найдут нужный товар   \n",
       "4                              Изменить цвет фона главной страницы, чтобы увеличить вовлеченность пользователей   \n",
       "\n",
       "    ICE  \n",
       "8  16.0  \n",
       "0  13.0  \n",
       "7  11.0  \n",
       "6   8.0  \n",
       "2   7.0  \n",
       "1   2.0  \n",
       "5   1.0  \n",
       "3   1.0  \n",
       "4   1.0  "
      ]
     },
     "execution_count": 7,
     "metadata": {},
     "output_type": "execute_result"
    }
   ],
   "source": [
    "hypothesis['ICE'] = (hypothesis['Impact']*hypothesis['Confidence']) / hypothesis['Efforts']\n",
    "hypothesis[['Hypothesis','ICE']].sort_values(by = 'ICE', ascending = False).round(0)"
   ]
  },
  {
   "cell_type": "markdown",
   "metadata": {},
   "source": [
    "<div class=\"alert alert-block alert-warning\">\n",
    "    \n",
    "\n",
    "__Комментарий от ревьюера №1 (можно лучше)__\n",
    "\n",
    "В столбце ICE можно было бы округлить данные для красоты.\n",
    "</div>"
   ]
  },
  {
   "cell_type": "markdown",
   "metadata": {},
   "source": [
    "<div style=\"border-radius: 15px; border: solid blue 2px; padding: 20px\">\n",
    "<b>Комментарий от студента №1</b><br>\n",
    "Добавил округление\n",
    "</div>"
   ]
  },
  {
   "cell_type": "markdown",
   "metadata": {},
   "source": [
    "<div class=\"alert alert-block alert-success\">\n",
    "    \n",
    "\n",
    "__Комментарий от ревьюера №2 (OK)__\n",
    "\n",
    "👍\n",
    "</div>"
   ]
  },
  {
   "cell_type": "markdown",
   "metadata": {},
   "source": [
    "По фреймворку ICE приоритет гипотез:\n",
    "1. Запустить акцию, дающую скидку на товар в день рождения\n",
    "2. Добавить два новых канала привлечения трафика, что позволит привлекать на 30% больше пользователей\n",
    "3. Добавить форму подписки на все основные страницы, чтобы собрать базу клиентов для email-рассылок\n",
    "4. Показать на главной странице баннеры с актуальными акциями и распродажами, чтобы увеличить конверсию\t\n",
    "5. Добавить блоки рекомендаций товаров на сайт интернет магазина, чтобы повысить конверсию и средний чек заказа"
   ]
  },
  {
   "cell_type": "markdown",
   "metadata": {},
   "source": [
    "#### Фреймворк RICE\n",
    "\n",
    "__RICE SCORE = (Reach x Impact x Confidence) / Efforts__\n",
    "\n",
    "Добавим столбец ['RICE']"
   ]
  },
  {
   "cell_type": "code",
   "execution_count": 8,
   "metadata": {},
   "outputs": [
    {
     "data": {
      "text/html": [
       "<div>\n",
       "<style scoped>\n",
       "    .dataframe tbody tr th:only-of-type {\n",
       "        vertical-align: middle;\n",
       "    }\n",
       "\n",
       "    .dataframe tbody tr th {\n",
       "        vertical-align: top;\n",
       "    }\n",
       "\n",
       "    .dataframe thead th {\n",
       "        text-align: right;\n",
       "    }\n",
       "</style>\n",
       "<table border=\"1\" class=\"dataframe\">\n",
       "  <thead>\n",
       "    <tr style=\"text-align: right;\">\n",
       "      <th></th>\n",
       "      <th>Hypothesis</th>\n",
       "      <th>RICE</th>\n",
       "    </tr>\n",
       "  </thead>\n",
       "  <tbody>\n",
       "    <tr>\n",
       "      <td>7</td>\n",
       "      <td>Добавить форму подписки на все основные страницы, чтобы собрать базу клиентов для email-рассылок</td>\n",
       "      <td>112.0</td>\n",
       "    </tr>\n",
       "    <tr>\n",
       "      <td>2</td>\n",
       "      <td>Добавить блоки рекомендаций товаров на сайт интернет магазина, чтобы повысить конверсию и средний чек заказа</td>\n",
       "      <td>56.0</td>\n",
       "    </tr>\n",
       "    <tr>\n",
       "      <td>0</td>\n",
       "      <td>Добавить два новых канала привлечения трафика, что позволит привлекать на 30% больше пользователей</td>\n",
       "      <td>40.0</td>\n",
       "    </tr>\n",
       "    <tr>\n",
       "      <td>6</td>\n",
       "      <td>Показать на главной странице баннеры с актуальными акциями и распродажами, чтобы увеличить конверсию</td>\n",
       "      <td>40.0</td>\n",
       "    </tr>\n",
       "    <tr>\n",
       "      <td>8</td>\n",
       "      <td>Запустить акцию, дающую скидку на товар в день рождения</td>\n",
       "      <td>16.2</td>\n",
       "    </tr>\n",
       "    <tr>\n",
       "      <td>3</td>\n",
       "      <td>Изменить структура категорий, что увеличит конверсию, т.к. пользователи быстрее найдут нужный товар</td>\n",
       "      <td>9.0</td>\n",
       "    </tr>\n",
       "    <tr>\n",
       "      <td>1</td>\n",
       "      <td>Запустить собственную службу доставки, что сократит срок доставки заказов</td>\n",
       "      <td>4.0</td>\n",
       "    </tr>\n",
       "    <tr>\n",
       "      <td>5</td>\n",
       "      <td>Добавить страницу отзывов клиентов о магазине, что позволит увеличить количество заказов</td>\n",
       "      <td>4.0</td>\n",
       "    </tr>\n",
       "    <tr>\n",
       "      <td>4</td>\n",
       "      <td>Изменить цвет фона главной страницы, чтобы увеличить вовлеченность пользователей</td>\n",
       "      <td>3.0</td>\n",
       "    </tr>\n",
       "  </tbody>\n",
       "</table>\n",
       "</div>"
      ],
      "text/plain": [
       "                                                                                                     Hypothesis  \\\n",
       "7              Добавить форму подписки на все основные страницы, чтобы собрать базу клиентов для email-рассылок   \n",
       "2  Добавить блоки рекомендаций товаров на сайт интернет магазина, чтобы повысить конверсию и средний чек заказа   \n",
       "0            Добавить два новых канала привлечения трафика, что позволит привлекать на 30% больше пользователей   \n",
       "6          Показать на главной странице баннеры с актуальными акциями и распродажами, чтобы увеличить конверсию   \n",
       "8                                                       Запустить акцию, дающую скидку на товар в день рождения   \n",
       "3           Изменить структура категорий, что увеличит конверсию, т.к. пользователи быстрее найдут нужный товар   \n",
       "1                                     Запустить собственную службу доставки, что сократит срок доставки заказов   \n",
       "5                      Добавить страницу отзывов клиентов о магазине, что позволит увеличить количество заказов   \n",
       "4                              Изменить цвет фона главной страницы, чтобы увеличить вовлеченность пользователей   \n",
       "\n",
       "    RICE  \n",
       "7  112.0  \n",
       "2   56.0  \n",
       "0   40.0  \n",
       "6   40.0  \n",
       "8   16.2  \n",
       "3    9.0  \n",
       "1    4.0  \n",
       "5    4.0  \n",
       "4    3.0  "
      ]
     },
     "execution_count": 8,
     "metadata": {},
     "output_type": "execute_result"
    }
   ],
   "source": [
    "hypothesis['RICE'] = (hypothesis['Reach']*hypothesis['Impact']*hypothesis['Confidence']) / hypothesis['Efforts']\n",
    "hypothesis[['Hypothesis','RICE']].sort_values(by = 'RICE', ascending = False)"
   ]
  },
  {
   "cell_type": "markdown",
   "metadata": {},
   "source": [
    "По фреймворку RICE приоритет гипотез:\n",
    "1. Добавить форму подписки на все основные страницы, чтобы собрать базу клиентов для email-рассылок\n",
    "2. Добавить блоки рекомендаций товаров на сайт интернет магазина, чтобы повысить конверсию и средний чек заказа\n",
    "3. Добавить два новых канала привлечения трафика, что позволит привлекать на 30% больше пользователей\n",
    "4. Показать на главной странице баннеры с актуальными акциями и распродажами, чтобы увеличить конверсию\t\n",
    "5. Запустить акцию, дающую скидку на товар в день рождения"
   ]
  },
  {
   "cell_type": "markdown",
   "metadata": {},
   "source": [
    "#### Вывод\n",
    "__Сравнение__"
   ]
  },
  {
   "cell_type": "code",
   "execution_count": 9,
   "metadata": {},
   "outputs": [
    {
     "data": {
      "text/html": [
       "<div>\n",
       "<style scoped>\n",
       "    .dataframe tbody tr th:only-of-type {\n",
       "        vertical-align: middle;\n",
       "    }\n",
       "\n",
       "    .dataframe tbody tr th {\n",
       "        vertical-align: top;\n",
       "    }\n",
       "\n",
       "    .dataframe thead th {\n",
       "        text-align: right;\n",
       "    }\n",
       "</style>\n",
       "<table border=\"1\" class=\"dataframe\">\n",
       "  <thead>\n",
       "    <tr style=\"text-align: right;\">\n",
       "      <th></th>\n",
       "      <th>Hypothesis</th>\n",
       "      <th>RICE</th>\n",
       "      <th>ICE</th>\n",
       "    </tr>\n",
       "  </thead>\n",
       "  <tbody>\n",
       "    <tr>\n",
       "      <td>7</td>\n",
       "      <td>Добавить форму подписки на все основные страницы, чтобы собрать базу клиентов для email-рассылок</td>\n",
       "      <td>112.0</td>\n",
       "      <td>11.200000</td>\n",
       "    </tr>\n",
       "    <tr>\n",
       "      <td>2</td>\n",
       "      <td>Добавить блоки рекомендаций товаров на сайт интернет магазина, чтобы повысить конверсию и средний чек заказа</td>\n",
       "      <td>56.0</td>\n",
       "      <td>7.000000</td>\n",
       "    </tr>\n",
       "    <tr>\n",
       "      <td>0</td>\n",
       "      <td>Добавить два новых канала привлечения трафика, что позволит привлекать на 30% больше пользователей</td>\n",
       "      <td>40.0</td>\n",
       "      <td>13.333333</td>\n",
       "    </tr>\n",
       "    <tr>\n",
       "      <td>6</td>\n",
       "      <td>Показать на главной странице баннеры с актуальными акциями и распродажами, чтобы увеличить конверсию</td>\n",
       "      <td>40.0</td>\n",
       "      <td>8.000000</td>\n",
       "    </tr>\n",
       "    <tr>\n",
       "      <td>8</td>\n",
       "      <td>Запустить акцию, дающую скидку на товар в день рождения</td>\n",
       "      <td>16.2</td>\n",
       "      <td>16.200000</td>\n",
       "    </tr>\n",
       "    <tr>\n",
       "      <td>3</td>\n",
       "      <td>Изменить структура категорий, что увеличит конверсию, т.к. пользователи быстрее найдут нужный товар</td>\n",
       "      <td>9.0</td>\n",
       "      <td>1.125000</td>\n",
       "    </tr>\n",
       "    <tr>\n",
       "      <td>1</td>\n",
       "      <td>Запустить собственную службу доставки, что сократит срок доставки заказов</td>\n",
       "      <td>4.0</td>\n",
       "      <td>2.000000</td>\n",
       "    </tr>\n",
       "    <tr>\n",
       "      <td>5</td>\n",
       "      <td>Добавить страницу отзывов клиентов о магазине, что позволит увеличить количество заказов</td>\n",
       "      <td>4.0</td>\n",
       "      <td>1.333333</td>\n",
       "    </tr>\n",
       "    <tr>\n",
       "      <td>4</td>\n",
       "      <td>Изменить цвет фона главной страницы, чтобы увеличить вовлеченность пользователей</td>\n",
       "      <td>3.0</td>\n",
       "      <td>1.000000</td>\n",
       "    </tr>\n",
       "  </tbody>\n",
       "</table>\n",
       "</div>"
      ],
      "text/plain": [
       "                                                                                                     Hypothesis  \\\n",
       "7              Добавить форму подписки на все основные страницы, чтобы собрать базу клиентов для email-рассылок   \n",
       "2  Добавить блоки рекомендаций товаров на сайт интернет магазина, чтобы повысить конверсию и средний чек заказа   \n",
       "0            Добавить два новых канала привлечения трафика, что позволит привлекать на 30% больше пользователей   \n",
       "6          Показать на главной странице баннеры с актуальными акциями и распродажами, чтобы увеличить конверсию   \n",
       "8                                                       Запустить акцию, дающую скидку на товар в день рождения   \n",
       "3           Изменить структура категорий, что увеличит конверсию, т.к. пользователи быстрее найдут нужный товар   \n",
       "1                                     Запустить собственную службу доставки, что сократит срок доставки заказов   \n",
       "5                      Добавить страницу отзывов клиентов о магазине, что позволит увеличить количество заказов   \n",
       "4                              Изменить цвет фона главной страницы, чтобы увеличить вовлеченность пользователей   \n",
       "\n",
       "    RICE        ICE  \n",
       "7  112.0  11.200000  \n",
       "2   56.0   7.000000  \n",
       "0   40.0  13.333333  \n",
       "6   40.0   8.000000  \n",
       "8   16.2  16.200000  \n",
       "3    9.0   1.125000  \n",
       "1    4.0   2.000000  \n",
       "5    4.0   1.333333  \n",
       "4    3.0   1.000000  "
      ]
     },
     "execution_count": 9,
     "metadata": {},
     "output_type": "execute_result"
    }
   ],
   "source": [
    "hypothesis[['Hypothesis','RICE','ICE']].sort_values(by = 'RICE', ascending = False)"
   ]
  },
  {
   "cell_type": "markdown",
   "metadata": {},
   "source": [
    "<div class=\"alert alert-block alert-warning\">\n",
    "    \n",
    "\n",
    "__Комментарий от ревьюера №1 (можно лучше)__\n",
    "\n",
    "Результаты можно было бы проранжировать и выделить цветом — https://pandas.pydata.org/pandas-docs/stable/user_guide/style.html\n",
    "\n",
    "</div>"
   ]
  },
  {
   "cell_type": "markdown",
   "metadata": {},
   "source": [
    "Оба фреймворка выделили 5 перспективных гипотез, но в разных порядках:\n",
    "1. Добавить форму подписки на все основные страницы, чтобы собрать базу клиентов для email-рассылок\n",
    "2. Добавить блоки рекомендаций товаров на сайт интернет магазина, чтобы повысить конверсию и средний чек заказа\n",
    "3. Добавить два новых канала привлечения трафика, что позволит привлекать на 30% больше пользователей\n",
    "4. Показать на главной странице баннеры с актуальными акциями и распродажами, чтобы увеличить конверсию\t\n",
    "5. Запустить акцию, дающую скидку на товар в день рождения\n",
    "\n",
    "Так вышло, потому что второй фреймворк использует параметр Reach (охват пользователей). Так гипотеза \"Добавить форму подписки на все основные страницы, чтобы собрать базу клиентов для email-рассылок\" оказалось первой, потому что имеет самый большой охват пользователей."
   ]
  },
  {
   "cell_type": "markdown",
   "metadata": {},
   "source": [
    "<div class=\"alert alert-block alert-warning\">\n",
    "    \n",
    "\n",
    "__Комментарий от ревьюера №1 (нужно переделать)__\n",
    "\n",
    "В целом раздел сделан хорошо, только несколько странно, что ты коллегам/руководству пишешь номера гипотез, почему не полные названия? Так им не придется искать где гипотезы записаны. Они у них вообще могут быть без номеров и в другой сортировке. У тебя же номера гипотез получены просто после импорта в pandas.\n",
    "\n",
    "</div>"
   ]
  },
  {
   "cell_type": "markdown",
   "metadata": {},
   "source": [
    "<div style=\"border-radius: 15px; border: solid blue 2px; padding: 20px\">\n",
    "<b>Комментарий от студента №1</b><br>\n",
    "Поправил. Отказался от использования индекса\n",
    "</div>"
   ]
  },
  {
   "cell_type": "markdown",
   "metadata": {},
   "source": [
    "<div class=\"alert alert-block alert-success\">\n",
    "    \n",
    "\n",
    "__Комментарий от ревьюера №2 (OK)__\n",
    "\n",
    "👍\n",
    "</div>"
   ]
  },
  {
   "cell_type": "markdown",
   "metadata": {},
   "source": [
    "### Часть 2. Анализ A/B-теста"
   ]
  },
  {
   "cell_type": "markdown",
   "metadata": {},
   "source": [
    "#### 1. График кумулятивной выручки по группам"
   ]
  },
  {
   "cell_type": "code",
   "execution_count": 10,
   "metadata": {},
   "outputs": [
    {
     "data": {
      "text/html": [
       "<div>\n",
       "<style scoped>\n",
       "    .dataframe tbody tr th:only-of-type {\n",
       "        vertical-align: middle;\n",
       "    }\n",
       "\n",
       "    .dataframe tbody tr th {\n",
       "        vertical-align: top;\n",
       "    }\n",
       "\n",
       "    .dataframe thead th {\n",
       "        text-align: right;\n",
       "    }\n",
       "</style>\n",
       "<table border=\"1\" class=\"dataframe\">\n",
       "  <thead>\n",
       "    <tr style=\"text-align: right;\">\n",
       "      <th></th>\n",
       "      <th>date</th>\n",
       "      <th>group</th>\n",
       "    </tr>\n",
       "  </thead>\n",
       "  <tbody>\n",
       "    <tr>\n",
       "      <td>0</td>\n",
       "      <td>2019-08-15</td>\n",
       "      <td>B</td>\n",
       "    </tr>\n",
       "    <tr>\n",
       "      <td>7</td>\n",
       "      <td>2019-08-15</td>\n",
       "      <td>A</td>\n",
       "    </tr>\n",
       "    <tr>\n",
       "      <td>45</td>\n",
       "      <td>2019-08-16</td>\n",
       "      <td>A</td>\n",
       "    </tr>\n",
       "    <tr>\n",
       "      <td>47</td>\n",
       "      <td>2019-08-16</td>\n",
       "      <td>B</td>\n",
       "    </tr>\n",
       "    <tr>\n",
       "      <td>55</td>\n",
       "      <td>2019-08-01</td>\n",
       "      <td>A</td>\n",
       "    </tr>\n",
       "  </tbody>\n",
       "</table>\n",
       "</div>"
      ],
      "text/plain": [
       "         date group\n",
       "0  2019-08-15     B\n",
       "7  2019-08-15     A\n",
       "45 2019-08-16     A\n",
       "47 2019-08-16     B\n",
       "55 2019-08-01     A"
      ]
     },
     "execution_count": 10,
     "metadata": {},
     "output_type": "execute_result"
    }
   ],
   "source": [
    "# создаем массив уникальных пар значений дат и групп теста\n",
    "datesGroups = orders[['date','group']].drop_duplicates()\n",
    "datesGroups.head()"
   ]
  },
  {
   "cell_type": "code",
   "execution_count": 11,
   "metadata": {},
   "outputs": [
    {
     "data": {
      "text/html": [
       "<div>\n",
       "<style scoped>\n",
       "    .dataframe tbody tr th:only-of-type {\n",
       "        vertical-align: middle;\n",
       "    }\n",
       "\n",
       "    .dataframe tbody tr th {\n",
       "        vertical-align: top;\n",
       "    }\n",
       "\n",
       "    .dataframe thead th {\n",
       "        text-align: right;\n",
       "    }\n",
       "</style>\n",
       "<table border=\"1\" class=\"dataframe\">\n",
       "  <thead>\n",
       "    <tr style=\"text-align: right;\">\n",
       "      <th></th>\n",
       "      <th>date</th>\n",
       "      <th>group</th>\n",
       "      <th>transactionId</th>\n",
       "      <th>visitorId</th>\n",
       "      <th>revenue</th>\n",
       "    </tr>\n",
       "  </thead>\n",
       "  <tbody>\n",
       "    <tr>\n",
       "      <td>55</td>\n",
       "      <td>2019-08-01</td>\n",
       "      <td>A</td>\n",
       "      <td>23</td>\n",
       "      <td>19</td>\n",
       "      <td>142779</td>\n",
       "    </tr>\n",
       "    <tr>\n",
       "      <td>66</td>\n",
       "      <td>2019-08-01</td>\n",
       "      <td>B</td>\n",
       "      <td>17</td>\n",
       "      <td>17</td>\n",
       "      <td>59758</td>\n",
       "    </tr>\n",
       "    <tr>\n",
       "      <td>175</td>\n",
       "      <td>2019-08-02</td>\n",
       "      <td>A</td>\n",
       "      <td>42</td>\n",
       "      <td>36</td>\n",
       "      <td>234381</td>\n",
       "    </tr>\n",
       "    <tr>\n",
       "      <td>173</td>\n",
       "      <td>2019-08-02</td>\n",
       "      <td>B</td>\n",
       "      <td>40</td>\n",
       "      <td>39</td>\n",
       "      <td>221801</td>\n",
       "    </tr>\n",
       "    <tr>\n",
       "      <td>291</td>\n",
       "      <td>2019-08-03</td>\n",
       "      <td>A</td>\n",
       "      <td>66</td>\n",
       "      <td>60</td>\n",
       "      <td>346854</td>\n",
       "    </tr>\n",
       "  </tbody>\n",
       "</table>\n",
       "</div>"
      ],
      "text/plain": [
       "          date group  transactionId  visitorId  revenue\n",
       "55  2019-08-01     A             23         19   142779\n",
       "66  2019-08-01     B             17         17    59758\n",
       "175 2019-08-02     A             42         36   234381\n",
       "173 2019-08-02     B             40         39   221801\n",
       "291 2019-08-03     A             66         60   346854"
      ]
     },
     "execution_count": 11,
     "metadata": {},
     "output_type": "execute_result"
    }
   ],
   "source": [
    "# получаем агрегированные кумулятивные по дням данные о заказах \n",
    "ordersAggregated = datesGroups.apply(\n",
    "    lambda x: orders[np.logical_and(orders['date'] <= x['date'], orders['group'] == x['group'])]\\\n",
    "    .agg({'date' : 'max', 'group' : 'max', 'transactionId' : pd.Series.nunique, 'visitorId' : pd.Series.nunique, 'revenue' : 'sum'}), axis=1\n",
    ").sort_values(by=['date','group'])\n",
    "ordersAggregated.head()"
   ]
  },
  {
   "cell_type": "code",
   "execution_count": 12,
   "metadata": {},
   "outputs": [
    {
     "data": {
      "text/html": [
       "<div>\n",
       "<style scoped>\n",
       "    .dataframe tbody tr th:only-of-type {\n",
       "        vertical-align: middle;\n",
       "    }\n",
       "\n",
       "    .dataframe tbody tr th {\n",
       "        vertical-align: top;\n",
       "    }\n",
       "\n",
       "    .dataframe thead th {\n",
       "        text-align: right;\n",
       "    }\n",
       "</style>\n",
       "<table border=\"1\" class=\"dataframe\">\n",
       "  <thead>\n",
       "    <tr style=\"text-align: right;\">\n",
       "      <th></th>\n",
       "      <th>date</th>\n",
       "      <th>group</th>\n",
       "      <th>visitors</th>\n",
       "    </tr>\n",
       "  </thead>\n",
       "  <tbody>\n",
       "    <tr>\n",
       "      <td>55</td>\n",
       "      <td>2019-08-01</td>\n",
       "      <td>A</td>\n",
       "      <td>719</td>\n",
       "    </tr>\n",
       "    <tr>\n",
       "      <td>66</td>\n",
       "      <td>2019-08-01</td>\n",
       "      <td>B</td>\n",
       "      <td>713</td>\n",
       "    </tr>\n",
       "    <tr>\n",
       "      <td>175</td>\n",
       "      <td>2019-08-02</td>\n",
       "      <td>A</td>\n",
       "      <td>1338</td>\n",
       "    </tr>\n",
       "    <tr>\n",
       "      <td>173</td>\n",
       "      <td>2019-08-02</td>\n",
       "      <td>B</td>\n",
       "      <td>1294</td>\n",
       "    </tr>\n",
       "    <tr>\n",
       "      <td>291</td>\n",
       "      <td>2019-08-03</td>\n",
       "      <td>A</td>\n",
       "      <td>1845</td>\n",
       "    </tr>\n",
       "  </tbody>\n",
       "</table>\n",
       "</div>"
      ],
      "text/plain": [
       "          date group  visitors\n",
       "55  2019-08-01     A       719\n",
       "66  2019-08-01     B       713\n",
       "175 2019-08-02     A      1338\n",
       "173 2019-08-02     B      1294\n",
       "291 2019-08-03     A      1845"
      ]
     },
     "execution_count": 12,
     "metadata": {},
     "output_type": "execute_result"
    }
   ],
   "source": [
    "# получаем агрегированные кумулятивные по дням данные о посетителях интернет-магазина \n",
    "visitorsAggregated = datesGroups.apply(\n",
    "    lambda x: visitors[np.logical_and(visitors['date'] <= x['date'], visitors['group'] == x['group'])]\\\n",
    "    .agg({'date' : 'max', 'group' : 'max', 'visitors' : 'sum'}), axis=1\n",
    ").sort_values(by=['date','group'])\n",
    "visitorsAggregated.head()"
   ]
  },
  {
   "cell_type": "code",
   "execution_count": 13,
   "metadata": {},
   "outputs": [
    {
     "data": {
      "text/html": [
       "<div>\n",
       "<style scoped>\n",
       "    .dataframe tbody tr th:only-of-type {\n",
       "        vertical-align: middle;\n",
       "    }\n",
       "\n",
       "    .dataframe tbody tr th {\n",
       "        vertical-align: top;\n",
       "    }\n",
       "\n",
       "    .dataframe thead th {\n",
       "        text-align: right;\n",
       "    }\n",
       "</style>\n",
       "<table border=\"1\" class=\"dataframe\">\n",
       "  <thead>\n",
       "    <tr style=\"text-align: right;\">\n",
       "      <th></th>\n",
       "      <th>date</th>\n",
       "      <th>group</th>\n",
       "      <th>orders</th>\n",
       "      <th>buyers</th>\n",
       "      <th>revenue</th>\n",
       "      <th>visitors</th>\n",
       "    </tr>\n",
       "  </thead>\n",
       "  <tbody>\n",
       "    <tr>\n",
       "      <td>0</td>\n",
       "      <td>2019-08-01</td>\n",
       "      <td>A</td>\n",
       "      <td>23</td>\n",
       "      <td>19</td>\n",
       "      <td>142779</td>\n",
       "      <td>719</td>\n",
       "    </tr>\n",
       "    <tr>\n",
       "      <td>1</td>\n",
       "      <td>2019-08-01</td>\n",
       "      <td>B</td>\n",
       "      <td>17</td>\n",
       "      <td>17</td>\n",
       "      <td>59758</td>\n",
       "      <td>713</td>\n",
       "    </tr>\n",
       "    <tr>\n",
       "      <td>2</td>\n",
       "      <td>2019-08-02</td>\n",
       "      <td>A</td>\n",
       "      <td>42</td>\n",
       "      <td>36</td>\n",
       "      <td>234381</td>\n",
       "      <td>1338</td>\n",
       "    </tr>\n",
       "    <tr>\n",
       "      <td>3</td>\n",
       "      <td>2019-08-02</td>\n",
       "      <td>B</td>\n",
       "      <td>40</td>\n",
       "      <td>39</td>\n",
       "      <td>221801</td>\n",
       "      <td>1294</td>\n",
       "    </tr>\n",
       "    <tr>\n",
       "      <td>4</td>\n",
       "      <td>2019-08-03</td>\n",
       "      <td>A</td>\n",
       "      <td>66</td>\n",
       "      <td>60</td>\n",
       "      <td>346854</td>\n",
       "      <td>1845</td>\n",
       "    </tr>\n",
       "  </tbody>\n",
       "</table>\n",
       "</div>"
      ],
      "text/plain": [
       "        date group  orders  buyers  revenue  visitors\n",
       "0 2019-08-01     A      23      19   142779       719\n",
       "1 2019-08-01     B      17      17    59758       713\n",
       "2 2019-08-02     A      42      36   234381      1338\n",
       "3 2019-08-02     B      40      39   221801      1294\n",
       "4 2019-08-03     A      66      60   346854      1845"
      ]
     },
     "execution_count": 13,
     "metadata": {},
     "output_type": "execute_result"
    }
   ],
   "source": [
    "cumulativeData = ordersAggregated.merge(visitorsAggregated, left_on=['date', 'group'], right_on=['date', 'group'])\n",
    "cumulativeData.columns = ['date', 'group', 'orders', 'buyers', 'revenue', 'visitors']\n",
    "\n",
    "cumulativeData.head(5)"
   ]
  },
  {
   "cell_type": "code",
   "execution_count": 14,
   "metadata": {},
   "outputs": [
    {
     "data": {
      "image/png": "[encoded data removed]",
      "text/plain": [
       "<Figure size 864x648 with 1 Axes>"
      ]
     },
     "metadata": {
      "needs_background": "light"
     },
     "output_type": "display_data"
    }
   ],
   "source": [
    "# датафрейм с кумулятивным количеством заказов и кумулятивной выручкой по дням в группе А\n",
    "cumulativeRevenueA = cumulativeData[cumulativeData['group']=='A'][['date','revenue', 'orders']]\n",
    "\n",
    "# датафрейм с кумулятивным количеством заказов и кумулятивной выручкой по дням в группе B\n",
    "cumulativeRevenueB = cumulativeData[cumulativeData['group']=='B'][['date','revenue', 'orders']]\n",
    "\n",
    "plt.figure(figsize=(12, 9))\n",
    "\n",
    "# Строим график выручки группы А\n",
    "plt.plot(cumulativeRevenueA['date'], cumulativeRevenueA['revenue'], label='группа A')\n",
    "\n",
    "# Строим график выручки группы B\n",
    "plt.plot(cumulativeRevenueB['date'], cumulativeRevenueB['revenue'], label='группа B')\n",
    "\n",
    "plt.title('График кумулятивной выручки по группам')\n",
    "plt.xlabel('Дата')\n",
    "plt.ylabel('Выручка') \n",
    "plt.annotate('скачок', xy=('2019-08-17', 2800000), xytext=('2019-08-10', 3500000),\n",
    "            arrowprops=dict(facecolor='g'))\n",
    "plt.legend();"
   ]
  },
  {
   "cell_type": "markdown",
   "metadata": {},
   "source": [
    "<div class=\"alert alert-block alert-warning\">\n",
    "    \n",
    "\n",
    "__Комментарий от ревьюера №1 (нужно доделать)__\n",
    "\n",
    "Проверь, пожалуйста, на всех графиках в проекте наличие заголовков и подписей осей. Не забудь давать заголовкам и подписям осознанные и понятные значения с указанием размерности (шт., млн. и т.д.). Желательно, чтобы заголовок и название осей были на одном языке.\n",
    "\n",
    "</div>"
   ]
  },
  {
   "cell_type": "markdown",
   "metadata": {},
   "source": [
    "<div style=\"border-radius: 15px; border: solid blue 2px; padding: 20px\">\n",
    "<b>Комментарий от студента №1</b><br>\n",
    "Поправил.\n",
    "</div>"
   ]
  },
  {
   "cell_type": "markdown",
   "metadata": {},
   "source": [
    "<div class=\"alert alert-block alert-success\">\n",
    "    \n",
    "\n",
    "__Комментарий от ревьюера №2 (OK)__\n",
    "\n",
    "👍\n",
    "</div>"
   ]
  },
  {
   "cell_type": "markdown",
   "metadata": {},
   "source": [
    "На всем периоде проведения теста, значения Сегмента В лежат выше значений А. 18-08-2019 произошел резкий скачек выручки, возможно это аномально большая сумма заказа отразилась"
   ]
  },
  {
   "cell_type": "markdown",
   "metadata": {},
   "source": [
    "<div class=\"alert alert-block alert-warning\">\n",
    "    \n",
    "\n",
    "__Комментарий от ревьюера №1 (можно лучше)__\n",
    "\n",
    "На график можно было добавить аннотации для наглядности через такой код:  \n",
    "<code>plt.annotate('скачок', xy=('2019-08-17', 2800000), xytext=('2019-08-10', 3500000),\n",
    "            arrowprops=dict(facecolor='g'))\n",
    "plt.annotate('отрыв', xy=('2019-08-05', 800000), xytext=('2019-08-05', 2000000),\n",
    "            arrowprops=dict(facecolor='g')) </code>\n",
    "</div>"
   ]
  },
  {
   "cell_type": "markdown",
   "metadata": {},
   "source": [
    "<div class=\"alert alert-block alert-success\">\n",
    "    \n",
    "\n",
    "__Комментарий от ревьюера №2 (OK)__\n",
    "\n",
    "👍\n",
    "</div>"
   ]
  },
  {
   "cell_type": "markdown",
   "metadata": {},
   "source": [
    "#### 2. График кумулятивного среднего чека по группам"
   ]
  },
  {
   "cell_type": "code",
   "execution_count": 15,
   "metadata": {},
   "outputs": [
    {
     "data": {
      "image/png": "[encoded data removed]",
      "text/plain": [
       "<Figure size 864x648 with 1 Axes>"
      ]
     },
     "metadata": {
      "needs_background": "light"
     },
     "output_type": "display_data"
    }
   ],
   "source": [
    "cumulativeRevenueA = cumulativeData[cumulativeData['group'] == 'A'][\n",
    "    ['date', 'revenue', 'orders']]\n",
    "cumulativeRevenueB = cumulativeData[cumulativeData['group'] == 'B'][\n",
    "    ['date', 'revenue', 'orders']]\n",
    "\n",
    "plt.figure(figsize=(12, 9))\n",
    "plt.plot(cumulativeRevenueA['date'], cumulativeRevenueA['revenue']/cumulativeRevenueA['orders'], label='группа A')\n",
    "plt.plot(cumulativeRevenueB['date'], cumulativeRevenueB['revenue']/cumulativeRevenueB['orders'], label='группа B')\n",
    "\n",
    "\n",
    "plt.title('График кумулятивного среднего чека по группам')\n",
    "plt.xlabel('Дата')\n",
    "plt.ylabel('Средний чек заказа') \n",
    "plt.annotate('скачок', xy=('2019-08-18', 6900), xytext=('2019-08-13', 8000),\n",
    "            arrowprops=dict(facecolor='g'))\n",
    "\n",
    "plt.legend();"
   ]
  },
  {
   "cell_type": "markdown",
   "metadata": {},
   "source": [
    "Графики кумулятывных чеков для обоих сегментов колеблются. Так же виден большой скачек 18 августа, за счет котого средний чек группы В оказался выше."
   ]
  },
  {
   "cell_type": "markdown",
   "metadata": {},
   "source": [
    "#### 3. График относительного изменения кумулятивного среднего чека группы B к группе A"
   ]
  },
  {
   "cell_type": "code",
   "execution_count": 16,
   "metadata": {},
   "outputs": [
    {
     "data": {
      "image/png": "[encoded data removed]",
      "text/plain": [
       "<Figure size 864x648 with 1 Axes>"
      ]
     },
     "metadata": {
      "needs_background": "light"
     },
     "output_type": "display_data"
    }
   ],
   "source": [
    "# собираем данные в одном датафрейме\n",
    "mergedCumulativeRevenue = cumulativeRevenueA.merge(cumulativeRevenueB, left_on='date', right_on='date', how='left', suffixes=['A', 'B'])\n",
    "\n",
    "plt.figure(figsize=(12, 9))\n",
    "# cтроим отношение средних чеков\n",
    "plt.plot(mergedCumulativeRevenue['date'], (mergedCumulativeRevenue['revenueB']/mergedCumulativeRevenue['ordersB'])/(mergedCumulativeRevenue['revenueA']/mergedCumulativeRevenue['ordersA'])-1)\n",
    "\n",
    "# добавляем ось X\n",
    "\n",
    "plt.title('График относительного изменения кумулятивного среднего чека группы B к группе A')\n",
    "plt.xlabel('Дата')\n",
    "plt.ylabel('Относительное изменение среденго чека группы В к группе А') \n",
    "plt.axhline(y=0, color='black', linestyle='--');"
   ]
  },
  {
   "cell_type": "markdown",
   "metadata": {},
   "source": [
    "График относительного изменения кумулятивного среднего чека так же ведет себя скачкообразно. Есть периоды дат, где средний чек группы А больше."
   ]
  },
  {
   "cell_type": "markdown",
   "metadata": {},
   "source": [
    "#### 4. График кумулятивной конверсии по группам"
   ]
  },
  {
   "cell_type": "code",
   "execution_count": 17,
   "metadata": {},
   "outputs": [
    {
     "data": {
      "image/png": "[encoded data removed]",
      "text/plain": [
       "<Figure size 864x648 with 1 Axes>"
      ]
     },
     "metadata": {
      "needs_background": "light"
     },
     "output_type": "display_data"
    }
   ],
   "source": [
    "# считаем кумулятивную конверсию\n",
    "cumulativeData['conversion'] = cumulativeData['orders']/cumulativeData['visitors']\n",
    "\n",
    "# отделяем данные по группе A\n",
    "cumulativeDataA = cumulativeData[cumulativeData['group']=='A']\n",
    "\n",
    "# отделяем данные по группе B\n",
    "cumulativeDataB = cumulativeData[cumulativeData['group']=='B']\n",
    "\n",
    "plt.figure(figsize=(12, 9))\n",
    "\n",
    "# строим графики\n",
    "plt.plot(cumulativeDataA['date'], cumulativeDataA['conversion'], label='группа A')\n",
    "plt.plot(cumulativeDataB['date'], cumulativeDataB['conversion'], label='группа B')\n",
    "\n",
    "plt.title('График кумулятивной конверсии по группам')\n",
    "plt.xlabel('Дата')\n",
    "plt.ylabel('Коверсия') \n",
    "\n",
    "plt.legend();"
   ]
  },
  {
   "cell_type": "markdown",
   "metadata": {},
   "source": [
    "В начале теста конверсия группы A была больше, но после 6 августа конверсия группы В вышла вперед."
   ]
  },
  {
   "cell_type": "markdown",
   "metadata": {},
   "source": [
    "#### 5. График относительного изменения кумулятивной конверсии группы B к группе A"
   ]
  },
  {
   "cell_type": "code",
   "execution_count": 18,
   "metadata": {},
   "outputs": [
    {
     "data": {
      "image/png": "[encoded data removed]",
      "text/plain": [
       "<Figure size 864x648 with 1 Axes>"
      ]
     },
     "metadata": {
      "needs_background": "light"
     },
     "output_type": "display_data"
    }
   ],
   "source": [
    "mergedCumulativeConversions = cumulativeDataA[['date','conversion']].merge(cumulativeDataB[['date','conversion']], left_on='date', right_on='date', how='left', suffixes=['A', 'B'])\n",
    "\n",
    "plt.figure(figsize=(12, 9))\n",
    "plt.plot(mergedCumulativeConversions['date'], mergedCumulativeConversions['conversionB']/mergedCumulativeConversions['conversionA']-1)\n",
    "\n",
    "plt.title('График относительного изменения кумулятивной конверсии группы B к группе A')\n",
    "plt.xlabel('Дата')\n",
    "plt.ylabel('Относительное изменениее коверсии группы В к группе А') \n",
    "plt.axhline(y=0, color='black', linestyle='--')\n",
    "plt.axhline(y=0.10, color='gray', linestyle='--')\n",
    "plt.axhline(y=0.21, color='gray', linestyle='--');"
   ]
  },
  {
   "cell_type": "markdown",
   "metadata": {},
   "source": [
    "<div class=\"alert alert-block alert-warning\">\n",
    "    \n",
    "\n",
    "__Комментарий от ревьюера №1 (можно лучше)__\n",
    "\n",
    "Тут легенда на графике выглядят лишней, у нас же нет разделения данных на категории.\n",
    "</div>"
   ]
  },
  {
   "cell_type": "markdown",
   "metadata": {},
   "source": [
    "После 6 августа конверсия группы B опережает коверсию группы А, но прирост колеблется в пределах 10% и 21%."
   ]
  },
  {
   "cell_type": "markdown",
   "metadata": {},
   "source": [
    "#### 6. График количества заказов по пользователям"
   ]
  },
  {
   "cell_type": "code",
   "execution_count": 19,
   "metadata": {},
   "outputs": [
    {
     "data": {
      "text/html": [
       "<div>\n",
       "<style scoped>\n",
       "    .dataframe tbody tr th:only-of-type {\n",
       "        vertical-align: middle;\n",
       "    }\n",
       "\n",
       "    .dataframe tbody tr th {\n",
       "        vertical-align: top;\n",
       "    }\n",
       "\n",
       "    .dataframe thead th {\n",
       "        text-align: right;\n",
       "    }\n",
       "</style>\n",
       "<table border=\"1\" class=\"dataframe\">\n",
       "  <thead>\n",
       "    <tr style=\"text-align: right;\">\n",
       "      <th></th>\n",
       "      <th>userId</th>\n",
       "      <th>orders</th>\n",
       "    </tr>\n",
       "  </thead>\n",
       "  <tbody>\n",
       "    <tr>\n",
       "      <td>908</td>\n",
       "      <td>3967698036</td>\n",
       "      <td>3</td>\n",
       "    </tr>\n",
       "    <tr>\n",
       "      <td>55</td>\n",
       "      <td>249864742</td>\n",
       "      <td>3</td>\n",
       "    </tr>\n",
       "    <tr>\n",
       "      <td>478</td>\n",
       "      <td>2108163459</td>\n",
       "      <td>3</td>\n",
       "    </tr>\n",
       "    <tr>\n",
       "      <td>687</td>\n",
       "      <td>2988190573</td>\n",
       "      <td>3</td>\n",
       "    </tr>\n",
       "    <tr>\n",
       "      <td>890</td>\n",
       "      <td>3908431265</td>\n",
       "      <td>3</td>\n",
       "    </tr>\n",
       "    <tr>\n",
       "      <td>138</td>\n",
       "      <td>611059232</td>\n",
       "      <td>3</td>\n",
       "    </tr>\n",
       "    <tr>\n",
       "      <td>632</td>\n",
       "      <td>2742574263</td>\n",
       "      <td>3</td>\n",
       "    </tr>\n",
       "    <tr>\n",
       "      <td>157</td>\n",
       "      <td>678354126</td>\n",
       "      <td>2</td>\n",
       "    </tr>\n",
       "    <tr>\n",
       "      <td>323</td>\n",
       "      <td>1404560065</td>\n",
       "      <td>2</td>\n",
       "    </tr>\n",
       "    <tr>\n",
       "      <td>452</td>\n",
       "      <td>1985475298</td>\n",
       "      <td>2</td>\n",
       "    </tr>\n",
       "  </tbody>\n",
       "</table>\n",
       "</div>"
      ],
      "text/plain": [
       "         userId  orders\n",
       "908  3967698036       3\n",
       "55    249864742       3\n",
       "478  2108163459       3\n",
       "687  2988190573       3\n",
       "890  3908431265       3\n",
       "138   611059232       3\n",
       "632  2742574263       3\n",
       "157   678354126       2\n",
       "323  1404560065       2\n",
       "452  1985475298       2"
      ]
     },
     "execution_count": 19,
     "metadata": {},
     "output_type": "execute_result"
    }
   ],
   "source": [
    "ordersByUsers = (\n",
    "    orders.drop(['group', 'revenue', 'date'], axis=1)\n",
    "    .groupby('visitorId', as_index=False)\n",
    "    .agg({'transactionId' : pd.Series.nunique})\n",
    ")\n",
    "ordersByUsers.columns = ['userId', 'orders']\n",
    "\n",
    "ordersByUsers.sort_values(by='orders', ascending=False).head(10)"
   ]
  },
  {
   "cell_type": "code",
   "execution_count": 20,
   "metadata": {},
   "outputs": [
    {
     "data": {
      "image/png": "[encoded data removed]",
      "text/plain": [
       "<Figure size 864x648 with 1 Axes>"
      ]
     },
     "metadata": {
      "needs_background": "light"
     },
     "output_type": "display_data"
    }
   ],
   "source": [
    "# серия из чисел от 0 до количества наблюдений в ordersByUsers\n",
    "x_values = pd.Series(range(0, len(ordersByUsers)))\n",
    "plt.figure(figsize=(12, 9))\n",
    "plt.scatter(x_values, ordersByUsers['orders'])\n",
    "plt.title('График количества заказов')\n",
    "plt.xlabel('Количество наблюдений')\n",
    "plt.ylabel('Количество заказов');"
   ]
  },
  {
   "cell_type": "markdown",
   "metadata": {},
   "source": [
    "Пользователей, заказавших больше 2 раз не так много. Надо посмотреть перцентили."
   ]
  },
  {
   "cell_type": "markdown",
   "metadata": {},
   "source": [
    "*После удаления пользователей,которые находились в двух группах одновременно, разброс по количеству заказов поуменьшился*"
   ]
  },
  {
   "cell_type": "markdown",
   "metadata": {},
   "source": [
    "#### 7. Рассчет перцентелей заказов"
   ]
  },
  {
   "cell_type": "code",
   "execution_count": 21,
   "metadata": {},
   "outputs": [
    {
     "name": "stdout",
     "output_type": "stream",
     "text": [
      "[1. 1. 2.]\n"
     ]
    }
   ],
   "source": [
    "print(np.percentile(ordersByUsers['orders'], [90, 95, 99])) "
   ]
  },
  {
   "cell_type": "markdown",
   "metadata": {},
   "source": [
    "95% пользователей заказывают не более одного раза. И не более 1% - больше 2 заказов."
   ]
  },
  {
   "cell_type": "markdown",
   "metadata": {},
   "source": [
    "#### 8. График стоимостей заказов"
   ]
  },
  {
   "cell_type": "code",
   "execution_count": 22,
   "metadata": {},
   "outputs": [
    {
     "data": {
      "text/html": [
       "<div>\n",
       "<style scoped>\n",
       "    .dataframe tbody tr th:only-of-type {\n",
       "        vertical-align: middle;\n",
       "    }\n",
       "\n",
       "    .dataframe tbody tr th {\n",
       "        vertical-align: top;\n",
       "    }\n",
       "\n",
       "    .dataframe thead th {\n",
       "        text-align: right;\n",
       "    }\n",
       "</style>\n",
       "<table border=\"1\" class=\"dataframe\">\n",
       "  <thead>\n",
       "    <tr style=\"text-align: right;\">\n",
       "      <th></th>\n",
       "      <th>transactionId</th>\n",
       "      <th>visitorId</th>\n",
       "      <th>date</th>\n",
       "      <th>revenue</th>\n",
       "      <th>group</th>\n",
       "    </tr>\n",
       "  </thead>\n",
       "  <tbody>\n",
       "    <tr>\n",
       "      <td>425</td>\n",
       "      <td>590470918</td>\n",
       "      <td>1920142716</td>\n",
       "      <td>2019-08-19</td>\n",
       "      <td>1294500</td>\n",
       "      <td>B</td>\n",
       "    </tr>\n",
       "    <tr>\n",
       "      <td>1196</td>\n",
       "      <td>3936777065</td>\n",
       "      <td>2108080724</td>\n",
       "      <td>2019-08-15</td>\n",
       "      <td>202740</td>\n",
       "      <td>B</td>\n",
       "    </tr>\n",
       "    <tr>\n",
       "      <td>1136</td>\n",
       "      <td>666610489</td>\n",
       "      <td>1307669133</td>\n",
       "      <td>2019-08-13</td>\n",
       "      <td>92550</td>\n",
       "      <td>A</td>\n",
       "    </tr>\n",
       "    <tr>\n",
       "      <td>744</td>\n",
       "      <td>3668308183</td>\n",
       "      <td>888512513</td>\n",
       "      <td>2019-08-27</td>\n",
       "      <td>86620</td>\n",
       "      <td>B</td>\n",
       "    </tr>\n",
       "    <tr>\n",
       "      <td>743</td>\n",
       "      <td>3603576309</td>\n",
       "      <td>4133034833</td>\n",
       "      <td>2019-08-09</td>\n",
       "      <td>67990</td>\n",
       "      <td>A</td>\n",
       "    </tr>\n",
       "    <tr>\n",
       "      <td>1103</td>\n",
       "      <td>1348774318</td>\n",
       "      <td>1164614297</td>\n",
       "      <td>2019-08-12</td>\n",
       "      <td>66350</td>\n",
       "      <td>A</td>\n",
       "    </tr>\n",
       "    <tr>\n",
       "      <td>1099</td>\n",
       "      <td>316924019</td>\n",
       "      <td>148427295</td>\n",
       "      <td>2019-08-12</td>\n",
       "      <td>65710</td>\n",
       "      <td>A</td>\n",
       "    </tr>\n",
       "    <tr>\n",
       "      <td>949</td>\n",
       "      <td>1347999392</td>\n",
       "      <td>887908475</td>\n",
       "      <td>2019-08-21</td>\n",
       "      <td>60450</td>\n",
       "      <td>A</td>\n",
       "    </tr>\n",
       "    <tr>\n",
       "      <td>940</td>\n",
       "      <td>2420050534</td>\n",
       "      <td>4003628586</td>\n",
       "      <td>2019-08-08</td>\n",
       "      <td>58550</td>\n",
       "      <td>B</td>\n",
       "    </tr>\n",
       "    <tr>\n",
       "      <td>131</td>\n",
       "      <td>3163614039</td>\n",
       "      <td>2254586615</td>\n",
       "      <td>2019-08-22</td>\n",
       "      <td>53904</td>\n",
       "      <td>A</td>\n",
       "    </tr>\n",
       "  </tbody>\n",
       "</table>\n",
       "</div>"
      ],
      "text/plain": [
       "      transactionId   visitorId       date  revenue group\n",
       "425       590470918  1920142716 2019-08-19  1294500     B\n",
       "1196     3936777065  2108080724 2019-08-15   202740     B\n",
       "1136      666610489  1307669133 2019-08-13    92550     A\n",
       "744      3668308183   888512513 2019-08-27    86620     B\n",
       "743      3603576309  4133034833 2019-08-09    67990     A\n",
       "1103     1348774318  1164614297 2019-08-12    66350     A\n",
       "1099      316924019   148427295 2019-08-12    65710     A\n",
       "949      1347999392   887908475 2019-08-21    60450     A\n",
       "940      2420050534  4003628586 2019-08-08    58550     B\n",
       "131      3163614039  2254586615 2019-08-22    53904     A"
      ]
     },
     "execution_count": 22,
     "metadata": {},
     "output_type": "execute_result"
    }
   ],
   "source": [
    "orders.sort_values(by='revenue', ascending=False).head(10)"
   ]
  },
  {
   "cell_type": "code",
   "execution_count": 23,
   "metadata": {},
   "outputs": [
    {
     "data": {
      "image/png": "[encoded data removed]",
      "text/plain": [
       "<Figure size 864x648 with 1 Axes>"
      ]
     },
     "metadata": {
      "needs_background": "light"
     },
     "output_type": "display_data"
    }
   ],
   "source": [
    "x_values = pd.Series(range(0, len(orders['revenue'])))\n",
    "plt.figure(figsize=(12, 9))\n",
    "plt.scatter(x_values, orders['revenue'])\n",
    "plt.title('График стоимости заказов')\n",
    "plt.xlabel('Количество наблюдений')\n",
    "plt.ylabel('Стоимость заказа');"
   ]
  },
  {
   "cell_type": "markdown",
   "metadata": {},
   "source": [
    "На графике видны выбросы: более 1,2М, 200 тыс, около 100 тысяч. Опять же, посмотрим перцентили распределения."
   ]
  },
  {
   "cell_type": "markdown",
   "metadata": {},
   "source": [
    "#### 9. Рассчет перцентелей стоимости заказов"
   ]
  },
  {
   "cell_type": "code",
   "execution_count": 24,
   "metadata": {},
   "outputs": [
    {
     "data": {
      "text/plain": [
       "array([17990., 26785., 53904.])"
      ]
     },
     "execution_count": 24,
     "metadata": {},
     "output_type": "execute_result"
    }
   ],
   "source": [
    "np.percentile(orders['revenue'], [90, 95, 99])"
   ]
  },
  {
   "cell_type": "markdown",
   "metadata": {},
   "source": [
    "Не более, чем у 5% заказов чек дороже 26785, не более чем у 1% заказов - дороже 53904."
   ]
  },
  {
   "cell_type": "markdown",
   "metadata": {},
   "source": [
    "<div class=\"alert alert-block alert-success\">\n",
    "    \n",
    "\n",
    "__Комментарий от ревьюера №1 (OK)__\n",
    "\n",
    "Аномальные значения найдены верно.\n",
    "</div>"
   ]
  },
  {
   "cell_type": "markdown",
   "metadata": {},
   "source": [
    "#### 10. Статистическая значимость различий в конверсии между группами по «сырым» данным"
   ]
  },
  {
   "cell_type": "markdown",
   "metadata": {},
   "source": [
    "Подготовим данные"
   ]
  },
  {
   "cell_type": "code",
   "execution_count": 25,
   "metadata": {
    "scrolled": true
   },
   "outputs": [
    {
     "data": {
      "text/html": [
       "<div>\n",
       "<style scoped>\n",
       "    .dataframe tbody tr th:only-of-type {\n",
       "        vertical-align: middle;\n",
       "    }\n",
       "\n",
       "    .dataframe tbody tr th {\n",
       "        vertical-align: top;\n",
       "    }\n",
       "\n",
       "    .dataframe thead th {\n",
       "        text-align: right;\n",
       "    }\n",
       "</style>\n",
       "<table border=\"1\" class=\"dataframe\">\n",
       "  <thead>\n",
       "    <tr style=\"text-align: right;\">\n",
       "      <th></th>\n",
       "      <th>date</th>\n",
       "      <th>ordersPerDateA</th>\n",
       "      <th>revenuePerDateA</th>\n",
       "      <th>ordersPerDateB</th>\n",
       "      <th>revenuePerDateB</th>\n",
       "      <th>ordersCummulativeA</th>\n",
       "      <th>revenueCummulativeA</th>\n",
       "      <th>ordersCummulativeB</th>\n",
       "      <th>revenueCummulativeB</th>\n",
       "      <th>visitorsPerDateA</th>\n",
       "      <th>visitorsPerDateB</th>\n",
       "      <th>visitorsCummulativeA</th>\n",
       "      <th>visitorsCummulativeB</th>\n",
       "    </tr>\n",
       "  </thead>\n",
       "  <tbody>\n",
       "    <tr>\n",
       "      <td>0</td>\n",
       "      <td>2019-08-01</td>\n",
       "      <td>23</td>\n",
       "      <td>142779</td>\n",
       "      <td>17</td>\n",
       "      <td>59758</td>\n",
       "      <td>23</td>\n",
       "      <td>142779</td>\n",
       "      <td>17</td>\n",
       "      <td>59758</td>\n",
       "      <td>719</td>\n",
       "      <td>713</td>\n",
       "      <td>719</td>\n",
       "      <td>713</td>\n",
       "    </tr>\n",
       "    <tr>\n",
       "      <td>1</td>\n",
       "      <td>2019-08-02</td>\n",
       "      <td>19</td>\n",
       "      <td>91602</td>\n",
       "      <td>23</td>\n",
       "      <td>162043</td>\n",
       "      <td>42</td>\n",
       "      <td>234381</td>\n",
       "      <td>40</td>\n",
       "      <td>221801</td>\n",
       "      <td>619</td>\n",
       "      <td>581</td>\n",
       "      <td>1338</td>\n",
       "      <td>1294</td>\n",
       "    </tr>\n",
       "    <tr>\n",
       "      <td>2</td>\n",
       "      <td>2019-08-03</td>\n",
       "      <td>24</td>\n",
       "      <td>112473</td>\n",
       "      <td>14</td>\n",
       "      <td>67049</td>\n",
       "      <td>66</td>\n",
       "      <td>346854</td>\n",
       "      <td>54</td>\n",
       "      <td>288850</td>\n",
       "      <td>507</td>\n",
       "      <td>509</td>\n",
       "      <td>1845</td>\n",
       "      <td>1803</td>\n",
       "    </tr>\n",
       "    <tr>\n",
       "      <td>3</td>\n",
       "      <td>2019-08-04</td>\n",
       "      <td>11</td>\n",
       "      <td>41176</td>\n",
       "      <td>14</td>\n",
       "      <td>96890</td>\n",
       "      <td>77</td>\n",
       "      <td>388030</td>\n",
       "      <td>68</td>\n",
       "      <td>385740</td>\n",
       "      <td>717</td>\n",
       "      <td>770</td>\n",
       "      <td>2562</td>\n",
       "      <td>2573</td>\n",
       "    </tr>\n",
       "    <tr>\n",
       "      <td>4</td>\n",
       "      <td>2019-08-05</td>\n",
       "      <td>22</td>\n",
       "      <td>86383</td>\n",
       "      <td>21</td>\n",
       "      <td>89908</td>\n",
       "      <td>99</td>\n",
       "      <td>474413</td>\n",
       "      <td>89</td>\n",
       "      <td>475648</td>\n",
       "      <td>756</td>\n",
       "      <td>707</td>\n",
       "      <td>3318</td>\n",
       "      <td>3280</td>\n",
       "    </tr>\n",
       "  </tbody>\n",
       "</table>\n",
       "</div>"
      ],
      "text/plain": [
       "        date  ordersPerDateA  revenuePerDateA  ordersPerDateB  \\\n",
       "0 2019-08-01              23           142779              17   \n",
       "1 2019-08-02              19            91602              23   \n",
       "2 2019-08-03              24           112473              14   \n",
       "3 2019-08-04              11            41176              14   \n",
       "4 2019-08-05              22            86383              21   \n",
       "\n",
       "   revenuePerDateB  ordersCummulativeA  revenueCummulativeA  \\\n",
       "0            59758                  23               142779   \n",
       "1           162043                  42               234381   \n",
       "2            67049                  66               346854   \n",
       "3            96890                  77               388030   \n",
       "4            89908                  99               474413   \n",
       "\n",
       "   ordersCummulativeB  revenueCummulativeB  visitorsPerDateA  \\\n",
       "0                  17                59758               719   \n",
       "1                  40               221801               619   \n",
       "2                  54               288850               507   \n",
       "3                  68               385740               717   \n",
       "4                  89               475648               756   \n",
       "\n",
       "   visitorsPerDateB  visitorsCummulativeA  visitorsCummulativeB  \n",
       "0               713                   719                   713  \n",
       "1               581                  1338                  1294  \n",
       "2               509                  1845                  1803  \n",
       "3               770                  2562                  2573  \n",
       "4               707                  3318                  3280  "
      ]
     },
     "execution_count": 25,
     "metadata": {},
     "output_type": "execute_result"
    }
   ],
   "source": [
    "visitorsADaily = visitors[visitors['group'] == 'A'][['date', 'visitors']]\n",
    "visitorsADaily.columns = ['date', 'visitorsPerDateA']\n",
    "\n",
    "visitorsACummulative = visitorsADaily.apply(\n",
    "    lambda x: visitorsADaily[visitorsADaily['date'] <= x['date']].agg(\n",
    "        {'date': 'max', 'visitorsPerDateA': 'sum'}\n",
    "    ),\n",
    "    axis=1,\n",
    ")\n",
    "visitorsACummulative.columns = ['date', 'visitorsCummulativeA']\n",
    "\n",
    "visitorsBDaily = visitors[visitors['group'] == 'B'][['date', 'visitors']]\n",
    "visitorsBDaily.columns = ['date', 'visitorsPerDateB']\n",
    "\n",
    "visitorsBCummulative = visitorsBDaily.apply(\n",
    "    lambda x: visitorsBDaily[visitorsBDaily['date'] <= x['date']].agg(\n",
    "        {'date': 'max', 'visitorsPerDateB': 'sum'}\n",
    "    ),\n",
    "    axis=1,\n",
    ")\n",
    "visitorsBCummulative.columns = ['date', 'visitorsCummulativeB']\n",
    "\n",
    "ordersADaily = (\n",
    "    orders[orders['group'] == 'A'][['date', 'transactionId', 'visitorId', 'revenue']]\n",
    "    .groupby('date', as_index=False)\n",
    "    .agg({'transactionId': pd.Series.nunique, 'revenue': 'sum'})\n",
    ")\n",
    "ordersADaily.columns = ['date', 'ordersPerDateA', 'revenuePerDateA']\n",
    "\n",
    "ordersACummulative = ordersADaily.apply(\n",
    "    lambda x: ordersADaily[ordersADaily['date'] <= x['date']].agg(\n",
    "        {'date': 'max', 'ordersPerDateA': 'sum', 'revenuePerDateA': 'sum'}\n",
    "    ),\n",
    "    axis=1,\n",
    ").sort_values(by=['date'])\n",
    "ordersACummulative.columns = [\n",
    "    'date',\n",
    "    'ordersCummulativeA',\n",
    "    'revenueCummulativeA',\n",
    "]\n",
    "\n",
    "ordersBDaily = (\n",
    "    orders[orders['group'] == 'B'][['date', 'transactionId', 'visitorId', 'revenue']]\n",
    "    .groupby('date', as_index=False)\n",
    "    .agg({'transactionId': pd.Series.nunique, 'revenue': 'sum'})\n",
    ")\n",
    "ordersBDaily.columns = ['date', 'ordersPerDateB', 'revenuePerDateB']\n",
    "\n",
    "ordersBCummulative = ordersBDaily.apply(\n",
    "    lambda x: ordersBDaily[ordersBDaily['date'] <= x['date']].agg(\n",
    "        {'date': 'max', 'ordersPerDateB': 'sum', 'revenuePerDateB': 'sum'}\n",
    "    ),\n",
    "    axis=1,\n",
    ").sort_values(by=['date'])\n",
    "ordersBCummulative.columns = [\n",
    "    'date',\n",
    "    'ordersCummulativeB',\n",
    "    'revenueCummulativeB',\n",
    "]\n",
    "\n",
    "data = (\n",
    "    ordersADaily.merge(\n",
    "        ordersBDaily, left_on='date', right_on='date', how='left'\n",
    "    )\n",
    "    .merge(ordersACummulative, left_on='date', right_on='date', how='left')\n",
    "    .merge(ordersBCummulative, left_on='date', right_on='date', how='left')\n",
    "    .merge(visitorsADaily, left_on='date', right_on='date', how='left')\n",
    "    .merge(visitorsBDaily, left_on='date', right_on='date', how='left')\n",
    "    .merge(visitorsACummulative, left_on='date', right_on='date', how='left')\n",
    "    .merge(visitorsBCummulative, left_on='date', right_on='date', how='left')\n",
    ")\n",
    "\n",
    "data.head(5)"
   ]
  },
  {
   "cell_type": "code",
   "execution_count": 26,
   "metadata": {},
   "outputs": [
    {
     "data": {
      "text/html": [
       "<div>\n",
       "<style scoped>\n",
       "    .dataframe tbody tr th:only-of-type {\n",
       "        vertical-align: middle;\n",
       "    }\n",
       "\n",
       "    .dataframe tbody tr th {\n",
       "        vertical-align: top;\n",
       "    }\n",
       "\n",
       "    .dataframe thead th {\n",
       "        text-align: right;\n",
       "    }\n",
       "</style>\n",
       "<table border=\"1\" class=\"dataframe\">\n",
       "  <thead>\n",
       "    <tr style=\"text-align: right;\">\n",
       "      <th></th>\n",
       "      <th>userId</th>\n",
       "      <th>orders</th>\n",
       "    </tr>\n",
       "  </thead>\n",
       "  <tbody>\n",
       "    <tr>\n",
       "      <td>0</td>\n",
       "      <td>11685486</td>\n",
       "      <td>1</td>\n",
       "    </tr>\n",
       "    <tr>\n",
       "      <td>1</td>\n",
       "      <td>54447517</td>\n",
       "      <td>1</td>\n",
       "    </tr>\n",
       "    <tr>\n",
       "      <td>2</td>\n",
       "      <td>66685450</td>\n",
       "      <td>1</td>\n",
       "    </tr>\n",
       "    <tr>\n",
       "      <td>3</td>\n",
       "      <td>78758296</td>\n",
       "      <td>1</td>\n",
       "    </tr>\n",
       "    <tr>\n",
       "      <td>4</td>\n",
       "      <td>85103373</td>\n",
       "      <td>1</td>\n",
       "    </tr>\n",
       "  </tbody>\n",
       "</table>\n",
       "</div>"
      ],
      "text/plain": [
       "     userId  orders\n",
       "0  11685486       1\n",
       "1  54447517       1\n",
       "2  66685450       1\n",
       "3  78758296       1\n",
       "4  85103373       1"
      ]
     },
     "execution_count": 26,
     "metadata": {},
     "output_type": "execute_result"
    }
   ],
   "source": [
    "ordersByUsersA = (\n",
    "    orders[orders['group'] == 'A']\n",
    "    .groupby('visitorId', as_index=False)\n",
    "    .agg({'transactionId': pd.Series.nunique})\n",
    ")\n",
    "ordersByUsersA.columns = ['userId', 'orders']\n",
    "ordersByUsersA.head()"
   ]
  },
  {
   "cell_type": "code",
   "execution_count": 27,
   "metadata": {},
   "outputs": [
    {
     "data": {
      "text/html": [
       "<div>\n",
       "<style scoped>\n",
       "    .dataframe tbody tr th:only-of-type {\n",
       "        vertical-align: middle;\n",
       "    }\n",
       "\n",
       "    .dataframe tbody tr th {\n",
       "        vertical-align: top;\n",
       "    }\n",
       "\n",
       "    .dataframe thead th {\n",
       "        text-align: right;\n",
       "    }\n",
       "</style>\n",
       "<table border=\"1\" class=\"dataframe\">\n",
       "  <thead>\n",
       "    <tr style=\"text-align: right;\">\n",
       "      <th></th>\n",
       "      <th>userId</th>\n",
       "      <th>orders</th>\n",
       "    </tr>\n",
       "  </thead>\n",
       "  <tbody>\n",
       "    <tr>\n",
       "      <td>0</td>\n",
       "      <td>5114589</td>\n",
       "      <td>1</td>\n",
       "    </tr>\n",
       "    <tr>\n",
       "      <td>1</td>\n",
       "      <td>6958315</td>\n",
       "      <td>1</td>\n",
       "    </tr>\n",
       "    <tr>\n",
       "      <td>2</td>\n",
       "      <td>39475350</td>\n",
       "      <td>1</td>\n",
       "    </tr>\n",
       "    <tr>\n",
       "      <td>3</td>\n",
       "      <td>47206413</td>\n",
       "      <td>1</td>\n",
       "    </tr>\n",
       "    <tr>\n",
       "      <td>4</td>\n",
       "      <td>48147722</td>\n",
       "      <td>1</td>\n",
       "    </tr>\n",
       "  </tbody>\n",
       "</table>\n",
       "</div>"
      ],
      "text/plain": [
       "     userId  orders\n",
       "0   5114589       1\n",
       "1   6958315       1\n",
       "2  39475350       1\n",
       "3  47206413       1\n",
       "4  48147722       1"
      ]
     },
     "execution_count": 27,
     "metadata": {},
     "output_type": "execute_result"
    }
   ],
   "source": [
    "ordersByUsersB = (\n",
    "    orders[orders['group'] == 'B']\n",
    "    .groupby('visitorId', as_index=False)\n",
    "    .agg({'transactionId': pd.Series.nunique})\n",
    ")\n",
    "ordersByUsersB.columns = ['userId', 'orders']\n",
    "ordersByUsersB.head()"
   ]
  },
  {
   "cell_type": "code",
   "execution_count": 28,
   "metadata": {},
   "outputs": [],
   "source": [
    "#Объявим переменные sampleA и sampleB, \n",
    "#в которых пользователям из разных групп будет соответствовать количество заказов. \n",
    "#Тем, кто ничего не заказал, будут соответствовать нули\n",
    "sampleA = pd.concat(\n",
    "    [\n",
    "        ordersByUsersA['orders'],\n",
    "        pd.Series(\n",
    "            0,\n",
    "            index=np.arange(\n",
    "                data['visitorsPerDateA'].sum() - len(ordersByUsersA['orders'])\n",
    "            ),\n",
    "            name='orders',\n",
    "        ),\n",
    "    ],\n",
    "    axis=0,\n",
    ")\n",
    "\n",
    "sampleB = pd.concat(\n",
    "    [\n",
    "        ordersByUsersB['orders'],\n",
    "        pd.Series(\n",
    "            0,\n",
    "            index=np.arange(\n",
    "                data['visitorsPerDateB'].sum() - len(ordersByUsersB['orders'])\n",
    "            ),\n",
    "            name='orders',\n",
    "        ),\n",
    "    ],\n",
    "    axis=0,\n",
    ")\n"
   ]
  },
  {
   "cell_type": "markdown",
   "metadata": {},
   "source": [
    "<div class=\"alert alert-block alert-warning\">\n",
    "    \n",
    "\n",
    "__Комментарий от ревьюера №1 (нужно доделать)__\n",
    "\n",
    "Нужно сформулировать гипотезы перед каждым тестом, иначе что мы проверяем? Примерно так:  \n",
    "1. Нулевая гипотеза: ...  \n",
    "2. Обратная гипотеза: ...  \n",
    "    \n",
    "Так сторонний наблюдатель поймет что ты проверяешь.\n",
    "    \n",
    "А вот в [этой статье](https://ru.qwe.wiki/wiki/Null_hypothesis) можно почитать в целом о формулировании гипотез и как всё это дело началось)\n",
    "\n",
    "</div>"
   ]
  },
  {
   "cell_type": "markdown",
   "metadata": {},
   "source": [
    "<div style=\"border-radius: 15px; border: solid blue 2px; padding: 20px\">\n",
    "<b>Комментарий от студента №1</b><br>\n",
    "Поправил.\n",
    "</div>"
   ]
  },
  {
   "cell_type": "markdown",
   "metadata": {},
   "source": [
    "<div class=\"alert alert-block alert-success\">\n",
    "    \n",
    "\n",
    "__Комментарий от ревьюера №2 (OK)__\n",
    "\n",
    "👍\n",
    "</div>"
   ]
  },
  {
   "cell_type": "markdown",
   "metadata": {},
   "source": [
    "__Нулевая гипотеза__: Статистически значимых различий в конверсии между группами нет.<br>\n",
    "__Альтернативная гипотеза__: Между группами есть статистически значимые различия в конверсии."
   ]
  },
  {
   "cell_type": "code",
   "execution_count": 29,
   "metadata": {},
   "outputs": [
    {
     "name": "stdout",
     "output_type": "stream",
     "text": [
      "0.00551\n",
      "0.15980\n"
     ]
    }
   ],
   "source": [
    "print(\"{0:.5f}\".format(stats.mannwhitneyu(sampleA, sampleB)[1]))\n",
    "print(\"{0:.5f}\".format(sampleB.mean() / sampleA.mean() - 1))"
   ]
  },
  {
   "cell_type": "markdown",
   "metadata": {},
   "source": [
    "<div class=\"alert alert-block alert-warning\">\n",
    "    \n",
    "\n",
    "__Комментарий от ревьюера №1 (можно лучше)__\n",
    "\n",
    "Все импорты, по стандарту оформления кода pep8, принято выносить в начало работы — https://pythonworld.ru/osnovy/pep-8-rukovodstvo-po-napisaniyu-koda-na-python.html#id8\n",
    "\n",
    "</div>"
   ]
  },
  {
   "cell_type": "markdown",
   "metadata": {},
   "source": [
    "<div style=\"border-radius: 15px; border: solid blue 2px; padding: 20px\">\n",
    "<b>Комментарий от студента №1</b><br>\n",
    "Вынес все импорты в начало\n",
    "</div>"
   ]
  },
  {
   "cell_type": "markdown",
   "metadata": {},
   "source": [
    "<div class=\"alert alert-block alert-success\">\n",
    "    \n",
    "\n",
    "__Комментарий от ревьюера №2 (OK)__\n",
    "\n",
    "👍\n",
    "</div>"
   ]
  },
  {
   "cell_type": "markdown",
   "metadata": {},
   "source": [
    "##### Вывод по \"сырым\" данным\n",
    "`p-value = 0.00551` меньше 0.05. Значит, нулевую гипотезу о том, что статистически значимых различий в конверсии между группами нет, отвергаем.  \n",
    "\n",
    "Относительный выигрыш группы B равен 15.98%"
   ]
  },
  {
   "cell_type": "markdown",
   "metadata": {},
   "source": [
    "#### 11. Статистическая значимость различий в среднем чеке между группами по «сырым» данным"
   ]
  },
  {
   "cell_type": "markdown",
   "metadata": {},
   "source": [
    "__Нулевая гипотеза__: Статистически значимых различий в среднем чеке между группами по «сырым» данным нет.<br>\n",
    "__Альтернативная гипотеза__: Между группами есть статистически значимые различия в среднем чеке по «сырым» данным."
   ]
  },
  {
   "cell_type": "code",
   "execution_count": 30,
   "metadata": {},
   "outputs": [
    {
     "name": "stdout",
     "output_type": "stream",
     "text": [
      "0.41475\n",
      "0.28660\n"
     ]
    }
   ],
   "source": [
    "print('{0:.5f}'.format(stats.mannwhitneyu(orders[orders['group']=='A']['revenue'], orders[orders['group']=='B']['revenue'])[1]))\n",
    "print('{0:.5f}'.format(orders[orders['group']=='B']['revenue'].mean()/orders[orders['group']=='A']['revenue'].mean()-1))"
   ]
  },
  {
   "cell_type": "markdown",
   "metadata": {},
   "source": [
    "##### Вывод по \"сырым\" данным\n",
    "`p-value = 0.41475` больше 0.05. Значит, нулевую гипотезу о том, что статистически значимых различий в среднем чеке между группами нет, не отвергаем.  \n",
    "\n",
    "При этом средний чек группы В выше на 28.66%"
   ]
  },
  {
   "cell_type": "markdown",
   "metadata": {},
   "source": [
    "#### 12. Статистическая значимость различий в конверсии между группами по «очищенным» данным"
   ]
  },
  {
   "cell_type": "markdown",
   "metadata": {},
   "source": [
    "Очистим данные от аномалий"
   ]
  },
  {
   "cell_type": "markdown",
   "metadata": {},
   "source": [
    "Примем за аномальных пользователей тех, кто совершил от 3 заказов или совершил заказ дороже 28 000."
   ]
  },
  {
   "cell_type": "code",
   "execution_count": 31,
   "metadata": {
    "scrolled": true
   },
   "outputs": [
    {
     "name": "stdout",
     "output_type": "stream",
     "text": [
      "(55,)\n"
     ]
    }
   ],
   "source": [
    "usersWithManyOrders = pd.concat(\n",
    "    [\n",
    "        ordersByUsersA[ordersByUsersA['orders'] > 2]['userId'],\n",
    "        ordersByUsersB[ordersByUsersB['orders'] > 2]['userId'],\n",
    "    ],\n",
    "    axis=0,\n",
    ")\n",
    "usersWithExpensiveOrders = orders[orders['revenue'] > 28000]['visitorId']\n",
    "abnormalUsers = (\n",
    "    pd.concat([usersWithManyOrders, usersWithExpensiveOrders], axis=0)\n",
    "    .drop_duplicates()\n",
    "    .sort_values()\n",
    ")\n",
    "print(abnormalUsers.shape) "
   ]
  },
  {
   "cell_type": "markdown",
   "metadata": {},
   "source": [
    "Получили 55 аномальных пользователей"
   ]
  },
  {
   "cell_type": "code",
   "execution_count": 32,
   "metadata": {},
   "outputs": [],
   "source": [
    "sampleAFiltered = pd.concat(\n",
    "    [\n",
    "        ordersByUsersA[\n",
    "            np.logical_not(ordersByUsersA['userId'].isin(abnormalUsers))\n",
    "        ]['orders'],\n",
    "        pd.Series(\n",
    "            0,\n",
    "            index=np.arange(\n",
    "                data['visitorsPerDateA'].sum() - len(ordersByUsersA['orders'])\n",
    "            ),\n",
    "            name='orders',\n",
    "        ),\n",
    "    ],\n",
    "    axis=0,\n",
    ")\n",
    "\n",
    "sampleBFiltered = pd.concat(\n",
    "    [\n",
    "        ordersByUsersB[\n",
    "            np.logical_not(ordersByUsersB['userId'].isin(abnormalUsers))\n",
    "        ]['orders'],\n",
    "        pd.Series(\n",
    "            0,\n",
    "            index=np.arange(\n",
    "                data['visitorsPerDateB'].sum() - len(ordersByUsersB['orders'])\n",
    "            ),\n",
    "            name='orders',\n",
    "        ),\n",
    "    ],\n",
    "    axis=0,\n",
    ")"
   ]
  },
  {
   "cell_type": "markdown",
   "metadata": {},
   "source": [
    "__Нулевая гипотеза__: Статистически значимых различий в конверсии между группами по \"очищенным\" данным нет.<br>\n",
    "__Альтернативная гипотеза__: Между группами есть статистически значимые различия в конверсии по \"очищенным\" данным."
   ]
  },
  {
   "cell_type": "code",
   "execution_count": 33,
   "metadata": {},
   "outputs": [
    {
     "name": "stdout",
     "output_type": "stream",
     "text": [
      "0.00473\n",
      "0.18863\n"
     ]
    }
   ],
   "source": [
    "print('{0:.5f}'.format(stats.mannwhitneyu(sampleAFiltered, sampleBFiltered)[1]))\n",
    "print('{0:.5f}'.format(sampleBFiltered.mean()/sampleAFiltered.mean()-1))"
   ]
  },
  {
   "cell_type": "markdown",
   "metadata": {},
   "source": [
    "##### Вывод по \"очищенным\" данным\n",
    "`p-value = 0.00402` меньше 0.05. Значит, нулевую гипотезу о том, что статистически значимых различий в конверсии между группами нет, отвергаем.  \n",
    "\n",
    "Относительный выигрыш группы B равен 18.86%"
   ]
  },
  {
   "cell_type": "markdown",
   "metadata": {},
   "source": [
    "#### 13. Статистическая значимость различий в среднем чеке заказа между группами по «очищенным» данным"
   ]
  },
  {
   "cell_type": "code",
   "execution_count": 34,
   "metadata": {},
   "outputs": [
    {
     "name": "stdout",
     "output_type": "stream",
     "text": [
      "0.38084\n",
      "-0.02245\n"
     ]
    }
   ],
   "source": [
    "print(\n",
    "    '{0:.5f}'.format(\n",
    "        stats.mannwhitneyu(\n",
    "            orders[\n",
    "                np.logical_and(\n",
    "                    orders['group'] == 'A',\n",
    "                    np.logical_not(orders['visitorId'].isin(abnormalUsers)),\n",
    "                )\n",
    "            ]['revenue'],\n",
    "            orders[\n",
    "                np.logical_and(\n",
    "                    orders['group'] == 'B',\n",
    "                    np.logical_not(orders['visitorId'].isin(abnormalUsers)),\n",
    "                )\n",
    "            ]['revenue'],\n",
    "        )[1]\n",
    "    )\n",
    ")\n",
    "\n",
    "print(\n",
    "    \"{0:.5f}\".format(\n",
    "        orders[\n",
    "            np.logical_and(\n",
    "                orders['group'] == 'B',\n",
    "                np.logical_not(orders['visitorId'].isin(abnormalUsers)),\n",
    "            )\n",
    "        ]['revenue'].mean()\n",
    "        / orders[\n",
    "            np.logical_and(\n",
    "                orders['group'] == 'A',\n",
    "                np.logical_not(orders['visitorId'].isin(abnormalUsers)),\n",
    "            )\n",
    "        ]['revenue'].mean()\n",
    "        - 1\n",
    "    )\n",
    ")"
   ]
  },
  {
   "cell_type": "markdown",
   "metadata": {},
   "source": [
    "##### Вывод по \"очищенным\" данным\n",
    "`p-value = 0.38084` больше 0.05. Значит, нулевую гипотезу о том, что статистически значимых различий в среднем чеке между группами нет, не отвергаем.  \n",
    "\n",
    "При этом средний чек группы В ниже на 2.24%"
   ]
  },
  {
   "cell_type": "markdown",
   "metadata": {},
   "source": [
    "<div class=\"alert alert-block alert-warning\">\n",
    "    \n",
    "\n",
    "__Комментарий от ревьюера №1 (нужно доделать)__\n",
    "\n",
    "А вот тут как-то странно получилось, ты же удаляешь все аномалии, а разница в среднем чеке почти не меняется.\n",
    "\n",
    "</div>"
   ]
  },
  {
   "cell_type": "markdown",
   "metadata": {},
   "source": [
    "<div style=\"border-radius: 15px; border: solid blue 2px; padding: 20px\">\n",
    "<b>Комментарий от студента №1</b><br>\n",
    "Нашлась опечатка при формировании abnormalUsers\n",
    "</div>"
   ]
  },
  {
   "cell_type": "markdown",
   "metadata": {},
   "source": [
    "<div class=\"alert alert-block alert-success\">\n",
    "    \n",
    "\n",
    "__Комментарий от ревьюера №2 (OK)__\n",
    "\n",
    "👍\n",
    "</div>"
   ]
  },
  {
   "cell_type": "markdown",
   "metadata": {},
   "source": [
    "#### 14. Результат теста"
   ]
  },
  {
   "cell_type": "markdown",
   "metadata": {},
   "source": [
    "- Есть статистические значимые различия в конверсии между группами А и В, как по \"сырым\", так и по \"очищенным\" данным. Относительный выиигрыш группы B в конверсии - 15.98% (по сырым) и 18.86% (по очищенным)\n",
    "\n",
    "- Нет статистически значимых различий в среднем чеке заказа между группами А и В как по \"сырым\", так и по \"очищенным\" данным. При этом средний чек группы B по очищенным данным оказался нижне на 2.24%.\n",
    "\n",
    "- График относительного различия кумулятивной конверсий сообщает, что группа В оказалось лучше группы А.\n",
    "\n",
    "- График относительного различия кумулятивного среднего чека также сообщает, что группа В оказалось лучше группы А.\n",
    "\n",
    "- Остановить тест, зафиксировать победу группы В. "
   ]
  },
  {
   "cell_type": "markdown",
   "metadata": {},
   "source": [
    "<div class=\"alert alert-block alert-warning\">\n",
    "    \n",
    "\n",
    "__Комментарий от ревьюера №1 (нужно доделать)__\n",
    "\n",
    "Напиши, пожалуйста, общий вывод к проекту, который будет включать этапы предобработки данных, приоритезации гипотез, анализа данных и А/Б-теста.\n",
    "\n",
    "</div>"
   ]
  },
  {
   "cell_type": "markdown",
   "metadata": {},
   "source": [
    "<div style=\"border-radius: 15px; border: solid blue 2px; padding: 20px\">\n",
    "<b>Комментарий от студента №1</b><br>\n",
    "Добавил\n",
    "</div>"
   ]
  },
  {
   "cell_type": "markdown",
   "metadata": {},
   "source": [
    "## Общий вывод"
   ]
  },
  {
   "cell_type": "markdown",
   "metadata": {},
   "source": [
    "__Этап предобработки данных__<br>\n",
    "На этапе предобработки данных были выявлены пользователи, находящиеся одновременно в двух группах. Таблица заказов была скорректирована\n",
    "\n",
    "__Приоритезации гипотез__<br>\n",
    "По фреймворку RICE приоритет гипотез следующий:\n",
    "1. Добавить форму подписки на все основные страницы, чтобы собрать базу клиентов для email-рассылок\n",
    "2. Добавить блоки рекомендаций товаров на сайт интернет магазина, чтобы повысить конверсию и средний чек заказа\n",
    "3. Добавить два новых канала привлечения трафика, что позволит привлекать на 30% больше пользователей\n",
    "4. Показать на главной странице баннеры с актуальными акциями и распродажами, чтобы увеличить конверсию\n",
    "5. Запустить акцию, дающую скидку на товар в день рождения\n",
    "\n",
    "__Анализ данных__<br>\n",
    "В ходе изучения заказов и стоимости были выявлены аномальные пользователи.<br>\n",
    "По количеству заказов: 95% пользователей заказывают не более одного раза. И не более 1% - больше 2 заказов.<br>\n",
    "По стоимости заказа: не более, чем у 5% заказов чек дороже 26785, не более чем у 1% заказов - дороже 53904.\n",
    "\n",
    "__Результат A/B-теста__<br>\n",
    "\n",
    "1. Есть статистически значимые различия в конверсии между группами А и В, как по \"сырым\", так и по \"очищенным\" данным. Относительный выиигрыш группы B в конверсии - 15.98% (по сырым) и 18.86% (по очищенным)\n",
    "2. Нет статистически значимых различий в среднем чеке заказа между группами А и В как по \"сырым\", так и по \"очищенным\" данным. При этом средний чек группы B по очищенным данным оказался нижне на 2.24%.\n",
    "3. Остановить тест, зафиксировать победу группы В"
   ]
  },
  {
   "cell_type": "markdown",
   "metadata": {},
   "source": [
    "<div class=\"alert alert-block alert-success\">\n",
    "\n",
    "__Комментарий от ревьюера по общему выводу №1 (OK)__ \n",
    "\n",
    "Что сделано хорошо:  \n",
    "— есть информация о проблемах в данных;   \n",
    "— представлены основные выводы с этапов анализа;  \n",
    "— выделены основные гипотезы для проверки;  \n",
    "— есть вывод про А/Б-тест и победившую группу.  \n",
    "\n",
    "Что можно было сделать лучше:  \n",
    "— предположить что победа группы B даст продукту в целом (средний чек не упал, но конверсия выросла, значит количество заказов тоже будет больше).\n",
    "</div>"
   ]
  },
  {
   "cell_type": "code",
   "execution_count": null,
   "metadata": {},
   "outputs": [],
   "source": []
  }
 ],
 "metadata": {
  "ExecuteTimeLog": [
   {
    "duration": 952,
    "start_time": "2021-12-04T19:56:29.753Z"
   },
   {
    "duration": 94,
    "start_time": "2021-12-04T19:56:49.914Z"
   },
   {
    "duration": 87,
    "start_time": "2021-12-04T19:57:31.767Z"
   },
   {
    "duration": 88,
    "start_time": "2021-12-04T19:57:47.256Z"
   },
   {
    "duration": 95,
    "start_time": "2021-12-04T20:00:59.233Z"
   },
   {
    "duration": 11,
    "start_time": "2021-12-04T20:05:40.475Z"
   },
   {
    "duration": 10,
    "start_time": "2021-12-04T20:05:48.397Z"
   },
   {
    "duration": 10,
    "start_time": "2021-12-04T20:05:55.037Z"
   },
   {
    "duration": 9,
    "start_time": "2021-12-04T20:07:18.897Z"
   },
   {
    "duration": 241,
    "start_time": "2021-12-04T20:09:37.929Z"
   },
   {
    "duration": 248,
    "start_time": "2021-12-04T20:09:59.018Z"
   },
   {
    "duration": 258,
    "start_time": "2021-12-04T20:10:12.313Z"
   },
   {
    "duration": 9,
    "start_time": "2021-12-04T20:10:26.761Z"
   },
   {
    "duration": 86,
    "start_time": "2021-12-04T20:11:16.407Z"
   },
   {
    "duration": 11,
    "start_time": "2021-12-04T20:11:27.150Z"
   },
   {
    "duration": 7,
    "start_time": "2021-12-04T20:11:29.430Z"
   },
   {
    "duration": 6724,
    "start_time": "2021-12-04T20:24:07.696Z"
   },
   {
    "duration": 11,
    "start_time": "2021-12-04T20:26:10.049Z"
   },
   {
    "duration": 9,
    "start_time": "2021-12-04T20:26:22.347Z"
   },
   {
    "duration": 7,
    "start_time": "2021-12-04T20:52:20.849Z"
   },
   {
    "duration": 615,
    "start_time": "2021-12-04T20:55:05.511Z"
   },
   {
    "duration": 11,
    "start_time": "2021-12-04T20:55:06.128Z"
   },
   {
    "duration": 8,
    "start_time": "2021-12-04T20:55:06.144Z"
   },
   {
    "duration": 6,
    "start_time": "2021-12-04T20:55:06.153Z"
   },
   {
    "duration": 30,
    "start_time": "2021-12-04T20:55:06.161Z"
   },
   {
    "duration": 294,
    "start_time": "2021-12-04T20:55:50.549Z"
   },
   {
    "duration": 9,
    "start_time": "2021-12-04T20:55:55.485Z"
   },
   {
    "duration": 9,
    "start_time": "2021-12-04T20:59:34.836Z"
   },
   {
    "duration": 1124,
    "start_time": "2021-12-04T21:16:17.602Z"
   },
   {
    "duration": 606,
    "start_time": "2021-12-04T21:16:35.944Z"
   },
   {
    "duration": 1129,
    "start_time": "2021-12-04T21:16:36.551Z"
   },
   {
    "duration": -1957,
    "start_time": "2021-12-04T21:16:39.639Z"
   },
   {
    "duration": -1957,
    "start_time": "2021-12-04T21:16:39.640Z"
   },
   {
    "duration": -1957,
    "start_time": "2021-12-04T21:16:39.641Z"
   },
   {
    "duration": -1957,
    "start_time": "2021-12-04T21:16:39.642Z"
   },
   {
    "duration": -1958,
    "start_time": "2021-12-04T21:16:39.644Z"
   },
   {
    "duration": 599,
    "start_time": "2021-12-04T21:16:58.039Z"
   },
   {
    "duration": 1208,
    "start_time": "2021-12-04T21:16:58.640Z"
   },
   {
    "duration": -1962,
    "start_time": "2021-12-04T21:17:01.813Z"
   },
   {
    "duration": -1963,
    "start_time": "2021-12-04T21:17:01.814Z"
   },
   {
    "duration": -1963,
    "start_time": "2021-12-04T21:17:01.815Z"
   },
   {
    "duration": -1963,
    "start_time": "2021-12-04T21:17:01.816Z"
   },
   {
    "duration": -1963,
    "start_time": "2021-12-04T21:17:01.817Z"
   },
   {
    "duration": 1382,
    "start_time": "2021-12-04T21:17:31.985Z"
   },
   {
    "duration": 1091,
    "start_time": "2021-12-04T21:17:49.455Z"
   },
   {
    "duration": 12,
    "start_time": "2021-12-04T21:19:02.783Z"
   },
   {
    "duration": 7,
    "start_time": "2021-12-04T21:21:09.415Z"
   },
   {
    "duration": 11,
    "start_time": "2021-12-04T21:21:21.807Z"
   },
   {
    "duration": 628,
    "start_time": "2021-12-04T21:21:48.626Z"
   },
   {
    "duration": 10,
    "start_time": "2021-12-04T21:21:49.256Z"
   },
   {
    "duration": 17,
    "start_time": "2021-12-04T21:21:49.268Z"
   },
   {
    "duration": 14,
    "start_time": "2021-12-04T21:21:49.287Z"
   },
   {
    "duration": 10,
    "start_time": "2021-12-04T21:21:49.303Z"
   },
   {
    "duration": 14,
    "start_time": "2021-12-04T21:21:49.314Z"
   },
   {
    "duration": 22,
    "start_time": "2021-12-04T21:21:49.329Z"
   },
   {
    "duration": 17,
    "start_time": "2021-12-04T21:21:49.353Z"
   },
   {
    "duration": 10,
    "start_time": "2021-12-04T21:21:58.237Z"
   },
   {
    "duration": 495,
    "start_time": "2021-12-04T21:28:02.294Z"
   },
   {
    "duration": 90,
    "start_time": "2021-12-04T21:28:24.652Z"
   },
   {
    "duration": 1060,
    "start_time": "2021-12-04T21:28:28.117Z"
   },
   {
    "duration": 87,
    "start_time": "2021-12-04T21:29:13.828Z"
   },
   {
    "duration": 92,
    "start_time": "2021-12-04T21:29:27.124Z"
   },
   {
    "duration": 1128,
    "start_time": "2021-12-04T21:29:56.251Z"
   },
   {
    "duration": 662,
    "start_time": "2021-12-04T21:30:07.256Z"
   },
   {
    "duration": 10,
    "start_time": "2021-12-04T21:30:07.919Z"
   },
   {
    "duration": 10,
    "start_time": "2021-12-04T21:30:07.931Z"
   },
   {
    "duration": 6,
    "start_time": "2021-12-04T21:30:07.942Z"
   },
   {
    "duration": 10,
    "start_time": "2021-12-04T21:30:07.950Z"
   },
   {
    "duration": 34,
    "start_time": "2021-12-04T21:30:07.961Z"
   },
   {
    "duration": 9,
    "start_time": "2021-12-04T21:30:07.996Z"
   },
   {
    "duration": 1250,
    "start_time": "2021-12-04T21:30:08.006Z"
   },
   {
    "duration": -2001,
    "start_time": "2021-12-04T21:30:11.259Z"
   },
   {
    "duration": -2002,
    "start_time": "2021-12-04T21:30:11.261Z"
   },
   {
    "duration": 663,
    "start_time": "2021-12-04T21:30:54.274Z"
   },
   {
    "duration": 1146,
    "start_time": "2021-12-04T21:30:54.939Z"
   },
   {
    "duration": -1996,
    "start_time": "2021-12-04T21:30:58.083Z"
   },
   {
    "duration": -1995,
    "start_time": "2021-12-04T21:30:58.084Z"
   },
   {
    "duration": -1995,
    "start_time": "2021-12-04T21:30:58.085Z"
   },
   {
    "duration": -1995,
    "start_time": "2021-12-04T21:30:58.086Z"
   },
   {
    "duration": -1994,
    "start_time": "2021-12-04T21:30:58.087Z"
   },
   {
    "duration": -1994,
    "start_time": "2021-12-04T21:30:58.088Z"
   },
   {
    "duration": -1997,
    "start_time": "2021-12-04T21:30:58.092Z"
   },
   {
    "duration": 11,
    "start_time": "2021-12-04T21:31:38.006Z"
   },
   {
    "duration": 5960,
    "start_time": "2021-12-04T21:31:41.597Z"
   },
   {
    "duration": 6455,
    "start_time": "2021-12-04T21:31:48.565Z"
   },
   {
    "duration": 608,
    "start_time": "2021-12-04T21:33:17.122Z"
   },
   {
    "duration": 10,
    "start_time": "2021-12-04T21:33:17.732Z"
   },
   {
    "duration": 9,
    "start_time": "2021-12-04T21:33:17.744Z"
   },
   {
    "duration": 6,
    "start_time": "2021-12-04T21:33:17.755Z"
   },
   {
    "duration": 26,
    "start_time": "2021-12-04T21:33:17.762Z"
   },
   {
    "duration": 10,
    "start_time": "2021-12-04T21:33:17.789Z"
   },
   {
    "duration": 9,
    "start_time": "2021-12-04T21:33:17.800Z"
   },
   {
    "duration": 8,
    "start_time": "2021-12-04T21:33:17.811Z"
   },
   {
    "duration": 6266,
    "start_time": "2021-12-04T21:33:17.821Z"
   },
   {
    "duration": 209,
    "start_time": "2021-12-04T21:34:16.286Z"
   },
   {
    "duration": 195,
    "start_time": "2021-12-04T21:34:50.068Z"
   },
   {
    "duration": 151,
    "start_time": "2021-12-04T21:37:46.749Z"
   },
   {
    "duration": 9,
    "start_time": "2021-12-04T21:38:08.572Z"
   },
   {
    "duration": 13,
    "start_time": "2021-12-04T21:38:13.651Z"
   },
   {
    "duration": 246,
    "start_time": "2021-12-04T21:40:04.279Z"
   },
   {
    "duration": 5956,
    "start_time": "2021-12-04T21:44:11.589Z"
   },
   {
    "duration": 9,
    "start_time": "2021-12-04T21:44:31.093Z"
   },
   {
    "duration": 8,
    "start_time": "2021-12-04T21:48:17.899Z"
   },
   {
    "duration": 8,
    "start_time": "2021-12-04T21:48:29.707Z"
   },
   {
    "duration": 8,
    "start_time": "2021-12-04T21:53:51.550Z"
   },
   {
    "duration": 655,
    "start_time": "2021-12-04T21:56:14.751Z"
   },
   {
    "duration": 11,
    "start_time": "2021-12-04T21:56:15.408Z"
   },
   {
    "duration": 9,
    "start_time": "2021-12-04T21:56:15.421Z"
   },
   {
    "duration": 10,
    "start_time": "2021-12-04T21:56:15.432Z"
   },
   {
    "duration": 6,
    "start_time": "2021-12-04T21:56:15.444Z"
   },
   {
    "duration": 40,
    "start_time": "2021-12-04T21:56:15.451Z"
   },
   {
    "duration": 10,
    "start_time": "2021-12-04T21:56:15.493Z"
   },
   {
    "duration": 10,
    "start_time": "2021-12-04T21:56:15.505Z"
   },
   {
    "duration": 11,
    "start_time": "2021-12-04T21:56:15.516Z"
   },
   {
    "duration": 11,
    "start_time": "2021-12-04T21:56:15.528Z"
   },
   {
    "duration": 218,
    "start_time": "2021-12-04T21:56:15.540Z"
   },
   {
    "duration": 150,
    "start_time": "2021-12-04T21:56:15.759Z"
   },
   {
    "duration": 10,
    "start_time": "2021-12-04T21:56:15.910Z"
   },
   {
    "duration": 250,
    "start_time": "2021-12-04T21:56:15.922Z"
   },
   {
    "duration": 670,
    "start_time": "2021-12-04T22:05:43.990Z"
   },
   {
    "duration": 629,
    "start_time": "2021-12-04T22:05:54.294Z"
   },
   {
    "duration": 493,
    "start_time": "2021-12-04T22:06:29.373Z"
   },
   {
    "duration": 535,
    "start_time": "2021-12-04T22:13:30.581Z"
   },
   {
    "duration": 173,
    "start_time": "2021-12-04T22:14:20.801Z"
   },
   {
    "duration": 198,
    "start_time": "2021-12-04T22:14:30.833Z"
   },
   {
    "duration": 193,
    "start_time": "2021-12-04T22:14:39.057Z"
   },
   {
    "duration": 214,
    "start_time": "2021-12-04T22:14:45.952Z"
   },
   {
    "duration": 669,
    "start_time": "2021-12-04T22:15:04.371Z"
   },
   {
    "duration": 10,
    "start_time": "2021-12-04T22:15:05.041Z"
   },
   {
    "duration": 9,
    "start_time": "2021-12-04T22:15:05.057Z"
   },
   {
    "duration": 22,
    "start_time": "2021-12-04T22:15:05.067Z"
   },
   {
    "duration": 7,
    "start_time": "2021-12-04T22:15:05.090Z"
   },
   {
    "duration": 7,
    "start_time": "2021-12-04T22:15:05.099Z"
   },
   {
    "duration": 11,
    "start_time": "2021-12-04T22:15:05.107Z"
   },
   {
    "duration": 10,
    "start_time": "2021-12-04T22:15:05.120Z"
   },
   {
    "duration": 10,
    "start_time": "2021-12-04T22:15:05.131Z"
   },
   {
    "duration": 9,
    "start_time": "2021-12-04T22:15:05.142Z"
   },
   {
    "duration": 228,
    "start_time": "2021-12-04T22:15:05.153Z"
   },
   {
    "duration": 155,
    "start_time": "2021-12-04T22:15:05.383Z"
   },
   {
    "duration": 11,
    "start_time": "2021-12-04T22:15:05.539Z"
   },
   {
    "duration": 297,
    "start_time": "2021-12-04T22:15:05.551Z"
   },
   {
    "duration": 223,
    "start_time": "2021-12-04T22:16:09.493Z"
   },
   {
    "duration": 252,
    "start_time": "2021-12-04T22:17:28.193Z"
   },
   {
    "duration": 284,
    "start_time": "2021-12-04T22:26:24.572Z"
   },
   {
    "duration": 237,
    "start_time": "2021-12-04T22:26:34.131Z"
   },
   {
    "duration": 603,
    "start_time": "2021-12-04T22:36:14.729Z"
   },
   {
    "duration": 11,
    "start_time": "2021-12-04T22:36:15.333Z"
   },
   {
    "duration": 8,
    "start_time": "2021-12-04T22:36:15.346Z"
   },
   {
    "duration": 7,
    "start_time": "2021-12-04T22:36:15.356Z"
   },
   {
    "duration": 9,
    "start_time": "2021-12-04T22:36:15.364Z"
   },
   {
    "duration": 18,
    "start_time": "2021-12-04T22:36:15.375Z"
   },
   {
    "duration": 8,
    "start_time": "2021-12-04T22:36:15.395Z"
   },
   {
    "duration": 9,
    "start_time": "2021-12-04T22:36:15.405Z"
   },
   {
    "duration": 218,
    "start_time": "2021-12-04T22:36:15.417Z"
   },
   {
    "duration": 152,
    "start_time": "2021-12-04T22:36:15.636Z"
   },
   {
    "duration": 11,
    "start_time": "2021-12-04T22:36:15.790Z"
   },
   {
    "duration": 328,
    "start_time": "2021-12-04T22:36:15.802Z"
   },
   {
    "duration": 247,
    "start_time": "2021-12-04T22:36:16.131Z"
   },
   {
    "duration": 241,
    "start_time": "2021-12-04T22:45:35.569Z"
   },
   {
    "duration": 422,
    "start_time": "2021-12-04T22:50:52.933Z"
   },
   {
    "duration": 380,
    "start_time": "2021-12-04T22:51:06.165Z"
   },
   {
    "duration": 247,
    "start_time": "2021-12-04T22:58:58.416Z"
   },
   {
    "duration": 398,
    "start_time": "2021-12-04T23:04:49.578Z"
   },
   {
    "duration": 378,
    "start_time": "2021-12-04T23:04:56.106Z"
   },
   {
    "duration": 366,
    "start_time": "2021-12-04T23:05:46.312Z"
   },
   {
    "duration": 329,
    "start_time": "2021-12-04T23:05:52.735Z"
   },
   {
    "duration": 383,
    "start_time": "2021-12-04T23:07:00.765Z"
   },
   {
    "duration": 338,
    "start_time": "2021-12-04T23:07:16.340Z"
   },
   {
    "duration": 373,
    "start_time": "2021-12-04T23:08:03.961Z"
   },
   {
    "duration": 375,
    "start_time": "2021-12-04T23:08:16.474Z"
   },
   {
    "duration": 398,
    "start_time": "2021-12-04T23:08:22.570Z"
   },
   {
    "duration": 92,
    "start_time": "2021-12-04T23:15:57.590Z"
   },
   {
    "duration": 135,
    "start_time": "2021-12-04T23:31:18.937Z"
   },
   {
    "duration": 133,
    "start_time": "2021-12-04T23:31:28.935Z"
   },
   {
    "duration": 238,
    "start_time": "2021-12-04T23:32:01.454Z"
   },
   {
    "duration": 233,
    "start_time": "2021-12-04T23:32:14.910Z"
   },
   {
    "duration": 4,
    "start_time": "2021-12-04T23:40:46.241Z"
   },
   {
    "duration": 268,
    "start_time": "2021-12-04T23:45:39.156Z"
   },
   {
    "duration": 303,
    "start_time": "2021-12-04T23:45:50.636Z"
   },
   {
    "duration": 345,
    "start_time": "2021-12-04T23:45:59.143Z"
   },
   {
    "duration": 328,
    "start_time": "2021-12-04T23:46:08.924Z"
   },
   {
    "duration": 7,
    "start_time": "2021-12-04T23:47:46.032Z"
   },
   {
    "duration": 9,
    "start_time": "2021-12-04T23:47:51.280Z"
   },
   {
    "duration": 5,
    "start_time": "2021-12-04T23:51:43.390Z"
   },
   {
    "duration": 615,
    "start_time": "2021-12-04T23:55:47.511Z"
   },
   {
    "duration": 10,
    "start_time": "2021-12-04T23:55:48.128Z"
   },
   {
    "duration": 8,
    "start_time": "2021-12-04T23:55:48.140Z"
   },
   {
    "duration": 6,
    "start_time": "2021-12-04T23:55:48.150Z"
   },
   {
    "duration": 30,
    "start_time": "2021-12-04T23:55:48.158Z"
   },
   {
    "duration": 9,
    "start_time": "2021-12-04T23:55:48.190Z"
   },
   {
    "duration": 8,
    "start_time": "2021-12-04T23:55:48.201Z"
   },
   {
    "duration": 8,
    "start_time": "2021-12-04T23:55:48.212Z"
   },
   {
    "duration": 215,
    "start_time": "2021-12-04T23:55:48.222Z"
   },
   {
    "duration": 151,
    "start_time": "2021-12-04T23:55:48.439Z"
   },
   {
    "duration": 12,
    "start_time": "2021-12-04T23:55:48.592Z"
   },
   {
    "duration": 328,
    "start_time": "2021-12-04T23:55:48.606Z"
   },
   {
    "duration": 253,
    "start_time": "2021-12-04T23:55:48.936Z"
   },
   {
    "duration": 390,
    "start_time": "2021-12-04T23:55:49.191Z"
   },
   {
    "duration": 316,
    "start_time": "2021-12-04T23:55:49.583Z"
   },
   {
    "duration": 355,
    "start_time": "2021-12-04T23:55:49.900Z"
   },
   {
    "duration": 96,
    "start_time": "2021-12-04T23:55:50.257Z"
   },
   {
    "duration": 325,
    "start_time": "2021-12-04T23:55:50.354Z"
   },
   {
    "duration": 3,
    "start_time": "2021-12-04T23:55:50.687Z"
   },
   {
    "duration": 11,
    "start_time": "2021-12-04T23:55:50.692Z"
   },
   {
    "duration": 336,
    "start_time": "2021-12-04T23:55:50.704Z"
   },
   {
    "duration": 4,
    "start_time": "2021-12-04T23:55:51.042Z"
   },
   {
    "duration": 306,
    "start_time": "2021-12-05T09:02:20.083Z"
   },
   {
    "duration": 58,
    "start_time": "2021-12-05T09:21:20.119Z"
   },
   {
    "duration": 256,
    "start_time": "2021-12-05T09:24:06.245Z"
   },
   {
    "duration": 10,
    "start_time": "2021-12-05T09:24:19.095Z"
   },
   {
    "duration": 11,
    "start_time": "2021-12-05T09:25:54.642Z"
   },
   {
    "duration": 58,
    "start_time": "2021-12-05T09:26:03.219Z"
   },
   {
    "duration": 14,
    "start_time": "2021-12-05T09:27:18.034Z"
   },
   {
    "duration": 10,
    "start_time": "2021-12-05T09:27:54.380Z"
   },
   {
    "duration": 13,
    "start_time": "2021-12-05T09:29:07.541Z"
   },
   {
    "duration": 8,
    "start_time": "2021-12-05T09:29:34.737Z"
   },
   {
    "duration": 446,
    "start_time": "2021-12-05T09:31:29.587Z"
   },
   {
    "duration": 7771,
    "start_time": "2021-12-05T09:32:35.554Z"
   },
   {
    "duration": 244,
    "start_time": "2021-12-05T09:33:15.137Z"
   },
   {
    "duration": 243,
    "start_time": "2021-12-05T09:38:47.263Z"
   },
   {
    "duration": 292,
    "start_time": "2021-12-05T09:39:01.138Z"
   },
   {
    "duration": 338,
    "start_time": "2021-12-05T09:39:20.951Z"
   },
   {
    "duration": 677,
    "start_time": "2021-12-05T09:40:18.093Z"
   },
   {
    "duration": 12,
    "start_time": "2021-12-05T09:40:18.773Z"
   },
   {
    "duration": 22,
    "start_time": "2021-12-05T09:40:18.787Z"
   },
   {
    "duration": 18,
    "start_time": "2021-12-05T09:40:18.811Z"
   },
   {
    "duration": 21,
    "start_time": "2021-12-05T09:40:18.831Z"
   },
   {
    "duration": 21,
    "start_time": "2021-12-05T09:40:18.854Z"
   },
   {
    "duration": 19,
    "start_time": "2021-12-05T09:40:18.877Z"
   },
   {
    "duration": 12,
    "start_time": "2021-12-05T09:40:18.899Z"
   },
   {
    "duration": 232,
    "start_time": "2021-12-05T09:40:18.913Z"
   },
   {
    "duration": 170,
    "start_time": "2021-12-05T09:40:19.147Z"
   },
   {
    "duration": 12,
    "start_time": "2021-12-05T09:40:19.319Z"
   },
   {
    "duration": 420,
    "start_time": "2021-12-05T09:40:19.333Z"
   },
   {
    "duration": 291,
    "start_time": "2021-12-05T09:40:19.755Z"
   },
   {
    "duration": 376,
    "start_time": "2021-12-05T09:40:20.048Z"
   },
   {
    "duration": 330,
    "start_time": "2021-12-05T09:40:20.426Z"
   },
   {
    "duration": 457,
    "start_time": "2021-12-05T09:40:20.758Z"
   },
   {
    "duration": 127,
    "start_time": "2021-12-05T09:40:21.216Z"
   },
   {
    "duration": 383,
    "start_time": "2021-12-05T09:40:21.345Z"
   },
   {
    "duration": 3,
    "start_time": "2021-12-05T09:40:21.730Z"
   },
   {
    "duration": 27,
    "start_time": "2021-12-05T09:40:21.735Z"
   },
   {
    "duration": 412,
    "start_time": "2021-12-05T09:40:21.763Z"
   },
   {
    "duration": 13,
    "start_time": "2021-12-05T09:40:22.177Z"
   },
   {
    "duration": 276,
    "start_time": "2021-12-05T09:40:22.195Z"
   },
   {
    "duration": 365,
    "start_time": "2021-12-05T09:40:22.473Z"
   },
   {
    "duration": 356,
    "start_time": "2021-12-05T09:41:51.423Z"
   },
   {
    "duration": 109,
    "start_time": "2021-12-05T09:42:01.414Z"
   },
   {
    "duration": 263,
    "start_time": "2021-12-05T09:42:32.893Z"
   },
   {
    "duration": 67,
    "start_time": "2021-12-05T09:43:58.000Z"
   },
   {
    "duration": 61,
    "start_time": "2021-12-05T09:44:06.896Z"
   },
   {
    "duration": 77,
    "start_time": "2021-12-05T09:44:48.704Z"
   },
   {
    "duration": 6,
    "start_time": "2021-12-05T09:50:06.617Z"
   },
   {
    "duration": 6,
    "start_time": "2021-12-05T09:51:29.718Z"
   },
   {
    "duration": 247,
    "start_time": "2021-12-05T09:51:54.134Z"
   },
   {
    "duration": 342,
    "start_time": "2021-12-05T09:52:11.677Z"
   },
   {
    "duration": 8,
    "start_time": "2021-12-05T09:52:21.804Z"
   },
   {
    "duration": 10,
    "start_time": "2021-12-05T10:00:31.016Z"
   },
   {
    "duration": 11,
    "start_time": "2021-12-05T10:00:37.983Z"
   },
   {
    "duration": 6017,
    "start_time": "2021-12-05T10:20:14.345Z"
   },
   {
    "duration": 9,
    "start_time": "2021-12-05T10:20:59.270Z"
   },
   {
    "duration": 11,
    "start_time": "2021-12-05T10:21:15.182Z"
   },
   {
    "duration": 11,
    "start_time": "2021-12-05T10:21:28.308Z"
   },
   {
    "duration": 13,
    "start_time": "2021-12-05T10:21:51.388Z"
   },
   {
    "duration": 10,
    "start_time": "2021-12-05T10:22:01.028Z"
   },
   {
    "duration": 367,
    "start_time": "2021-12-05T10:22:26.546Z"
   },
   {
    "duration": 10,
    "start_time": "2021-12-05T10:22:34.875Z"
   },
   {
    "duration": 9,
    "start_time": "2021-12-05T10:22:45.851Z"
   },
   {
    "duration": 16,
    "start_time": "2021-12-05T10:34:02.486Z"
   },
   {
    "duration": 8,
    "start_time": "2021-12-05T10:34:15.094Z"
   },
   {
    "duration": 8,
    "start_time": "2021-12-05T10:34:18.381Z"
   },
   {
    "duration": 6446,
    "start_time": "2021-12-05T10:37:27.701Z"
   },
   {
    "duration": 19,
    "start_time": "2021-12-05T10:38:40.689Z"
   },
   {
    "duration": 653,
    "start_time": "2021-12-05T10:51:48.387Z"
   },
   {
    "duration": 11,
    "start_time": "2021-12-05T10:51:49.041Z"
   },
   {
    "duration": 8,
    "start_time": "2021-12-05T10:51:49.056Z"
   },
   {
    "duration": 7,
    "start_time": "2021-12-05T10:51:49.066Z"
   },
   {
    "duration": 25,
    "start_time": "2021-12-05T10:51:49.075Z"
   },
   {
    "duration": 11,
    "start_time": "2021-12-05T10:51:49.102Z"
   },
   {
    "duration": 9,
    "start_time": "2021-12-05T10:51:49.116Z"
   },
   {
    "duration": 9,
    "start_time": "2021-12-05T10:51:49.127Z"
   },
   {
    "duration": 235,
    "start_time": "2021-12-05T10:51:49.138Z"
   },
   {
    "duration": 165,
    "start_time": "2021-12-05T10:51:49.375Z"
   },
   {
    "duration": 13,
    "start_time": "2021-12-05T10:51:49.542Z"
   },
   {
    "duration": 353,
    "start_time": "2021-12-05T10:51:49.556Z"
   },
   {
    "duration": 256,
    "start_time": "2021-12-05T10:51:49.911Z"
   },
   {
    "duration": 376,
    "start_time": "2021-12-05T10:51:50.169Z"
   },
   {
    "duration": 311,
    "start_time": "2021-12-05T10:51:50.546Z"
   },
   {
    "duration": 427,
    "start_time": "2021-12-05T10:51:50.859Z"
   },
   {
    "duration": 123,
    "start_time": "2021-12-05T10:51:51.288Z"
   },
   {
    "duration": 347,
    "start_time": "2021-12-05T10:51:51.412Z"
   },
   {
    "duration": 4,
    "start_time": "2021-12-05T10:51:51.760Z"
   },
   {
    "duration": 11,
    "start_time": "2021-12-05T10:51:51.765Z"
   },
   {
    "duration": 381,
    "start_time": "2021-12-05T10:51:51.787Z"
   },
   {
    "duration": 4,
    "start_time": "2021-12-05T10:51:52.171Z"
   },
   {
    "duration": 257,
    "start_time": "2021-12-05T10:51:52.177Z"
   },
   {
    "duration": 68,
    "start_time": "2021-12-05T10:51:52.436Z"
   },
   {
    "duration": 60,
    "start_time": "2021-12-05T10:51:52.505Z"
   },
   {
    "duration": 6,
    "start_time": "2021-12-05T10:51:52.566Z"
   },
   {
    "duration": 332,
    "start_time": "2021-12-05T10:51:52.589Z"
   },
   {
    "duration": 9,
    "start_time": "2021-12-05T10:51:52.922Z"
   },
   {
    "duration": 8,
    "start_time": "2021-12-05T10:51:52.933Z"
   },
   {
    "duration": 7,
    "start_time": "2021-12-05T10:51:52.943Z"
   },
   {
    "duration": 7,
    "start_time": "2021-12-05T10:51:52.951Z"
   },
   {
    "duration": 47,
    "start_time": "2021-12-05T10:51:52.959Z"
   },
   {
    "duration": 813,
    "start_time": "2021-12-05T16:32:11.489Z"
   },
   {
    "duration": 18,
    "start_time": "2021-12-05T16:32:12.305Z"
   },
   {
    "duration": 41,
    "start_time": "2021-12-05T16:32:12.326Z"
   },
   {
    "duration": 11,
    "start_time": "2021-12-05T16:32:12.370Z"
   },
   {
    "duration": 16,
    "start_time": "2021-12-05T16:32:12.383Z"
   },
   {
    "duration": 15,
    "start_time": "2021-12-05T16:32:12.401Z"
   },
   {
    "duration": 52,
    "start_time": "2021-12-05T16:32:12.419Z"
   },
   {
    "duration": 16,
    "start_time": "2021-12-05T16:32:12.473Z"
   },
   {
    "duration": 373,
    "start_time": "2021-12-05T16:32:12.493Z"
   },
   {
    "duration": 294,
    "start_time": "2021-12-05T16:32:12.869Z"
   },
   {
    "duration": 18,
    "start_time": "2021-12-05T16:32:13.166Z"
   },
   {
    "duration": 569,
    "start_time": "2021-12-05T16:32:13.186Z"
   },
   {
    "duration": 474,
    "start_time": "2021-12-05T16:32:13.760Z"
   },
   {
    "duration": 563,
    "start_time": "2021-12-05T16:32:14.236Z"
   },
   {
    "duration": 503,
    "start_time": "2021-12-05T16:32:14.802Z"
   },
   {
    "duration": 624,
    "start_time": "2021-12-05T16:32:15.307Z"
   },
   {
    "duration": 197,
    "start_time": "2021-12-05T16:32:15.933Z"
   },
   {
    "duration": 549,
    "start_time": "2021-12-05T16:32:16.133Z"
   },
   {
    "duration": 6,
    "start_time": "2021-12-05T16:32:16.684Z"
   },
   {
    "duration": 14,
    "start_time": "2021-12-05T16:32:16.693Z"
   },
   {
    "duration": 560,
    "start_time": "2021-12-05T16:32:16.710Z"
   },
   {
    "duration": 7,
    "start_time": "2021-12-05T16:32:17.272Z"
   },
   {
    "duration": 480,
    "start_time": "2021-12-05T16:32:17.282Z"
   },
   {
    "duration": 135,
    "start_time": "2021-12-05T16:32:17.765Z"
   },
   {
    "duration": 157,
    "start_time": "2021-12-05T16:32:17.903Z"
   },
   {
    "duration": 10,
    "start_time": "2021-12-05T16:32:18.063Z"
   },
   {
    "duration": 489,
    "start_time": "2021-12-05T16:32:18.080Z"
   },
   {
    "duration": 16,
    "start_time": "2021-12-05T16:32:18.572Z"
   },
   {
    "duration": 19,
    "start_time": "2021-12-05T16:32:18.591Z"
   },
   {
    "duration": 12,
    "start_time": "2021-12-05T16:32:18.613Z"
   },
   {
    "duration": 35,
    "start_time": "2021-12-05T16:32:18.627Z"
   },
   {
    "duration": 20,
    "start_time": "2021-12-05T16:32:18.664Z"
   },
   {
    "duration": 287,
    "start_time": "2021-12-05T16:57:01.801Z"
   },
   {
    "duration": 1245,
    "start_time": "2021-12-05T16:58:23.177Z"
   },
   {
    "duration": 12,
    "start_time": "2021-12-05T16:58:24.424Z"
   },
   {
    "duration": 10,
    "start_time": "2021-12-05T16:58:24.439Z"
   },
   {
    "duration": 14,
    "start_time": "2021-12-05T16:58:24.452Z"
   },
   {
    "duration": 8,
    "start_time": "2021-12-05T16:58:24.468Z"
   },
   {
    "duration": 12,
    "start_time": "2021-12-05T16:58:24.478Z"
   },
   {
    "duration": 10,
    "start_time": "2021-12-05T16:58:24.492Z"
   },
   {
    "duration": 9,
    "start_time": "2021-12-05T16:58:24.505Z"
   },
   {
    "duration": 49,
    "start_time": "2021-12-05T16:58:24.516Z"
   },
   {
    "duration": 234,
    "start_time": "2021-12-05T16:58:24.567Z"
   },
   {
    "duration": 182,
    "start_time": "2021-12-05T16:58:24.803Z"
   },
   {
    "duration": 14,
    "start_time": "2021-12-05T16:58:24.988Z"
   },
   {
    "duration": 321,
    "start_time": "2021-12-05T16:58:25.005Z"
   },
   {
    "duration": 289,
    "start_time": "2021-12-05T16:58:25.328Z"
   },
   {
    "duration": 391,
    "start_time": "2021-12-05T16:58:25.619Z"
   },
   {
    "duration": 321,
    "start_time": "2021-12-05T16:58:26.012Z"
   },
   {
    "duration": 421,
    "start_time": "2021-12-05T16:58:26.335Z"
   },
   {
    "duration": 152,
    "start_time": "2021-12-05T16:58:26.758Z"
   },
   {
    "duration": 408,
    "start_time": "2021-12-05T16:58:26.912Z"
   },
   {
    "duration": 4,
    "start_time": "2021-12-05T16:58:27.322Z"
   },
   {
    "duration": 13,
    "start_time": "2021-12-05T16:58:27.328Z"
   },
   {
    "duration": 428,
    "start_time": "2021-12-05T16:58:27.342Z"
   },
   {
    "duration": 5,
    "start_time": "2021-12-05T16:58:27.773Z"
   },
   {
    "duration": 315,
    "start_time": "2021-12-05T16:58:27.780Z"
   },
   {
    "duration": 89,
    "start_time": "2021-12-05T16:58:28.097Z"
   },
   {
    "duration": 86,
    "start_time": "2021-12-05T16:58:28.188Z"
   },
   {
    "duration": 18,
    "start_time": "2021-12-05T16:58:28.275Z"
   },
   {
    "duration": 14,
    "start_time": "2021-12-05T16:58:28.296Z"
   },
   {
    "duration": 52,
    "start_time": "2021-12-05T16:58:28.312Z"
   },
   {
    "duration": 21,
    "start_time": "2021-12-05T16:58:28.367Z"
   },
   {
    "duration": 26,
    "start_time": "2021-12-05T16:58:28.390Z"
   },
   {
    "duration": 10,
    "start_time": "2021-12-05T16:58:28.418Z"
   },
   {
    "duration": 14,
    "start_time": "2021-12-05T16:58:28.430Z"
   },
   {
    "duration": 10,
    "start_time": "2021-12-05T16:59:28.634Z"
   },
   {
    "duration": 395,
    "start_time": "2021-12-05T17:13:42.426Z"
   },
   {
    "duration": 11,
    "start_time": "2021-12-05T17:13:55.544Z"
   },
   {
    "duration": 14,
    "start_time": "2021-12-05T17:15:53.461Z"
   },
   {
    "duration": 268,
    "start_time": "2021-12-05T17:17:37.616Z"
   },
   {
    "duration": 380,
    "start_time": "2021-12-05T17:18:00.369Z"
   },
   {
    "duration": 328,
    "start_time": "2021-12-05T17:18:33.999Z"
   },
   {
    "duration": 9,
    "start_time": "2021-12-05T17:18:42.293Z"
   },
   {
    "duration": 28,
    "start_time": "2021-12-05T17:18:48.349Z"
   },
   {
    "duration": 12,
    "start_time": "2021-12-05T17:22:48.347Z"
   },
   {
    "duration": 1475,
    "start_time": "2021-12-05T17:23:03.884Z"
   },
   {
    "duration": 23,
    "start_time": "2021-12-05T17:23:05.361Z"
   },
   {
    "duration": 12,
    "start_time": "2021-12-05T17:23:05.386Z"
   },
   {
    "duration": 21,
    "start_time": "2021-12-05T17:23:05.400Z"
   },
   {
    "duration": 44,
    "start_time": "2021-12-05T17:23:05.423Z"
   },
   {
    "duration": 15,
    "start_time": "2021-12-05T17:23:05.472Z"
   },
   {
    "duration": 32,
    "start_time": "2021-12-05T17:23:05.489Z"
   },
   {
    "duration": 20,
    "start_time": "2021-12-05T17:23:05.524Z"
   },
   {
    "duration": 19,
    "start_time": "2021-12-05T17:23:05.546Z"
   },
   {
    "duration": 57,
    "start_time": "2021-12-05T17:23:05.567Z"
   },
   {
    "duration": 266,
    "start_time": "2021-12-05T17:23:05.626Z"
   },
   {
    "duration": 185,
    "start_time": "2021-12-05T17:23:05.894Z"
   },
   {
    "duration": 22,
    "start_time": "2021-12-05T17:23:06.081Z"
   },
   {
    "duration": 326,
    "start_time": "2021-12-05T17:23:06.105Z"
   },
   {
    "duration": 315,
    "start_time": "2021-12-05T17:23:06.433Z"
   },
   {
    "duration": 403,
    "start_time": "2021-12-05T17:23:06.750Z"
   },
   {
    "duration": 332,
    "start_time": "2021-12-05T17:23:07.155Z"
   },
   {
    "duration": 582,
    "start_time": "2021-12-05T17:23:07.489Z"
   },
   {
    "duration": 149,
    "start_time": "2021-12-05T17:23:08.074Z"
   },
   {
    "duration": 441,
    "start_time": "2021-12-05T17:23:08.226Z"
   },
   {
    "duration": 7,
    "start_time": "2021-12-05T17:23:08.670Z"
   },
   {
    "duration": 15,
    "start_time": "2021-12-05T17:23:08.679Z"
   },
   {
    "duration": 385,
    "start_time": "2021-12-05T17:23:08.699Z"
   },
   {
    "duration": 8,
    "start_time": "2021-12-05T17:23:09.087Z"
   },
   {
    "duration": 315,
    "start_time": "2021-12-05T17:23:09.097Z"
   },
   {
    "duration": 75,
    "start_time": "2021-12-05T17:23:09.414Z"
   },
   {
    "duration": 99,
    "start_time": "2021-12-05T17:23:09.491Z"
   },
   {
    "duration": 8,
    "start_time": "2021-12-05T17:23:09.592Z"
   },
   {
    "duration": 12,
    "start_time": "2021-12-05T17:23:09.601Z"
   },
   {
    "duration": 11,
    "start_time": "2021-12-05T17:23:09.615Z"
   },
   {
    "duration": 44,
    "start_time": "2021-12-05T17:23:09.628Z"
   },
   {
    "duration": 13,
    "start_time": "2021-12-05T17:23:09.675Z"
   },
   {
    "duration": 13,
    "start_time": "2021-12-05T17:23:09.691Z"
   },
   {
    "duration": 16,
    "start_time": "2021-12-05T17:23:09.706Z"
   },
   {
    "duration": 119,
    "start_time": "2021-12-05T17:23:58.170Z"
   },
   {
    "duration": 12,
    "start_time": "2021-12-05T17:24:03.304Z"
   },
   {
    "duration": 1291,
    "start_time": "2021-12-05T17:25:10.630Z"
   },
   {
    "duration": 14,
    "start_time": "2021-12-05T17:25:11.923Z"
   },
   {
    "duration": 45,
    "start_time": "2021-12-05T17:25:11.939Z"
   },
   {
    "duration": 15,
    "start_time": "2021-12-05T17:25:11.986Z"
   },
   {
    "duration": 13,
    "start_time": "2021-12-05T17:25:12.003Z"
   },
   {
    "duration": 41,
    "start_time": "2021-12-05T17:25:12.018Z"
   },
   {
    "duration": 24,
    "start_time": "2021-12-05T17:25:12.061Z"
   },
   {
    "duration": 16,
    "start_time": "2021-12-05T17:25:12.088Z"
   },
   {
    "duration": 12,
    "start_time": "2021-12-05T17:25:12.107Z"
   },
   {
    "duration": 23,
    "start_time": "2021-12-05T17:25:12.121Z"
   },
   {
    "duration": 267,
    "start_time": "2021-12-05T17:25:12.146Z"
   },
   {
    "duration": 201,
    "start_time": "2021-12-05T17:25:12.415Z"
   },
   {
    "duration": 15,
    "start_time": "2021-12-05T17:25:12.618Z"
   },
   {
    "duration": 355,
    "start_time": "2021-12-05T17:25:12.635Z"
   },
   {
    "duration": 336,
    "start_time": "2021-12-05T17:25:12.992Z"
   },
   {
    "duration": 447,
    "start_time": "2021-12-05T17:25:13.330Z"
   },
   {
    "duration": 327,
    "start_time": "2021-12-05T17:25:13.779Z"
   },
   {
    "duration": 422,
    "start_time": "2021-12-05T17:25:14.108Z"
   },
   {
    "duration": 155,
    "start_time": "2021-12-05T17:25:14.532Z"
   },
   {
    "duration": 420,
    "start_time": "2021-12-05T17:25:14.690Z"
   },
   {
    "duration": 5,
    "start_time": "2021-12-05T17:25:15.112Z"
   },
   {
    "duration": 28,
    "start_time": "2021-12-05T17:25:15.119Z"
   },
   {
    "duration": 407,
    "start_time": "2021-12-05T17:25:15.151Z"
   },
   {
    "duration": 6,
    "start_time": "2021-12-05T17:25:15.560Z"
   },
   {
    "duration": 338,
    "start_time": "2021-12-05T17:25:15.568Z"
   },
   {
    "duration": 83,
    "start_time": "2021-12-05T17:25:15.908Z"
   },
   {
    "duration": 108,
    "start_time": "2021-12-05T17:25:15.993Z"
   },
   {
    "duration": 7,
    "start_time": "2021-12-05T17:25:16.103Z"
   },
   {
    "duration": 30,
    "start_time": "2021-12-05T17:25:16.111Z"
   },
   {
    "duration": 17,
    "start_time": "2021-12-05T17:25:16.143Z"
   },
   {
    "duration": 17,
    "start_time": "2021-12-05T17:25:16.162Z"
   },
   {
    "duration": 11,
    "start_time": "2021-12-05T17:25:16.183Z"
   },
   {
    "duration": 10,
    "start_time": "2021-12-05T17:25:16.196Z"
   },
   {
    "duration": 16,
    "start_time": "2021-12-05T17:25:16.209Z"
   },
   {
    "duration": 12,
    "start_time": "2021-12-05T17:27:11.990Z"
   },
   {
    "duration": 317,
    "start_time": "2021-12-05T17:39:00.913Z"
   },
   {
    "duration": 722,
    "start_time": "2021-12-05T17:46:21.149Z"
   },
   {
    "duration": 587,
    "start_time": "2021-12-05T17:46:42.646Z"
   },
   {
    "duration": 562,
    "start_time": "2021-12-05T17:47:25.363Z"
   },
   {
    "duration": 345,
    "start_time": "2021-12-05T17:48:15.443Z"
   },
   {
    "duration": 410,
    "start_time": "2021-12-05T17:50:22.597Z"
   },
   {
    "duration": 381,
    "start_time": "2021-12-05T17:51:45.779Z"
   },
   {
    "duration": 272,
    "start_time": "2021-12-05T17:53:48.420Z"
   },
   {
    "duration": 346,
    "start_time": "2021-12-05T17:54:06.387Z"
   },
   {
    "duration": 519,
    "start_time": "2021-12-05T17:54:53.128Z"
   },
   {
    "duration": 456,
    "start_time": "2021-12-05T17:55:07.944Z"
   },
   {
    "duration": 482,
    "start_time": "2021-12-05T17:55:30.568Z"
   },
   {
    "duration": 492,
    "start_time": "2021-12-05T17:55:43.406Z"
   },
   {
    "duration": 391,
    "start_time": "2021-12-05T17:55:56.622Z"
   },
   {
    "duration": 377,
    "start_time": "2021-12-05T17:56:06.670Z"
   },
   {
    "duration": 376,
    "start_time": "2021-12-05T17:56:17.038Z"
   },
   {
    "duration": 458,
    "start_time": "2021-12-05T17:58:51.680Z"
   },
   {
    "duration": 463,
    "start_time": "2021-12-05T17:58:59.455Z"
   },
   {
    "duration": 372,
    "start_time": "2021-12-05T18:00:42.348Z"
   },
   {
    "duration": 468,
    "start_time": "2021-12-05T18:03:31.627Z"
   },
   {
    "duration": 407,
    "start_time": "2021-12-05T18:04:15.802Z"
   },
   {
    "duration": 1241,
    "start_time": "2021-12-05T18:05:02.407Z"
   },
   {
    "duration": 19,
    "start_time": "2021-12-05T18:05:03.651Z"
   },
   {
    "duration": 28,
    "start_time": "2021-12-05T18:05:03.673Z"
   },
   {
    "duration": 15,
    "start_time": "2021-12-05T18:05:03.703Z"
   },
   {
    "duration": 10,
    "start_time": "2021-12-05T18:05:03.720Z"
   },
   {
    "duration": 9,
    "start_time": "2021-12-05T18:05:03.732Z"
   },
   {
    "duration": 41,
    "start_time": "2021-12-05T18:05:03.743Z"
   },
   {
    "duration": 22,
    "start_time": "2021-12-05T18:05:03.787Z"
   },
   {
    "duration": 17,
    "start_time": "2021-12-05T18:05:03.811Z"
   },
   {
    "duration": 22,
    "start_time": "2021-12-05T18:05:03.830Z"
   },
   {
    "duration": 248,
    "start_time": "2021-12-05T18:05:03.854Z"
   },
   {
    "duration": 189,
    "start_time": "2021-12-05T18:05:04.103Z"
   },
   {
    "duration": 14,
    "start_time": "2021-12-05T18:05:04.294Z"
   },
   {
    "duration": 419,
    "start_time": "2021-12-05T18:05:04.310Z"
   },
   {
    "duration": 386,
    "start_time": "2021-12-05T18:05:04.732Z"
   },
   {
    "duration": 409,
    "start_time": "2021-12-05T18:05:05.120Z"
   },
   {
    "duration": 343,
    "start_time": "2021-12-05T18:05:05.531Z"
   },
   {
    "duration": 406,
    "start_time": "2021-12-05T18:05:05.877Z"
   },
   {
    "duration": 186,
    "start_time": "2021-12-05T18:05:06.288Z"
   },
   {
    "duration": 380,
    "start_time": "2021-12-05T18:05:06.477Z"
   },
   {
    "duration": 6,
    "start_time": "2021-12-05T18:05:06.863Z"
   },
   {
    "duration": 25,
    "start_time": "2021-12-05T18:05:06.871Z"
   },
   {
    "duration": 391,
    "start_time": "2021-12-05T18:05:06.899Z"
   },
   {
    "duration": 5,
    "start_time": "2021-12-05T18:05:07.292Z"
   },
   {
    "duration": 294,
    "start_time": "2021-12-05T18:05:07.299Z"
   },
   {
    "duration": 75,
    "start_time": "2021-12-05T18:05:07.595Z"
   },
   {
    "duration": 84,
    "start_time": "2021-12-05T18:05:07.672Z"
   },
   {
    "duration": 12,
    "start_time": "2021-12-05T18:05:07.758Z"
   },
   {
    "duration": 33,
    "start_time": "2021-12-05T18:05:07.772Z"
   },
   {
    "duration": 21,
    "start_time": "2021-12-05T18:05:07.807Z"
   },
   {
    "duration": 22,
    "start_time": "2021-12-05T18:05:07.831Z"
   },
   {
    "duration": 32,
    "start_time": "2021-12-05T18:05:07.855Z"
   },
   {
    "duration": 38,
    "start_time": "2021-12-05T18:05:07.889Z"
   },
   {
    "duration": 28,
    "start_time": "2021-12-05T18:05:07.929Z"
   },
   {
    "duration": 1245,
    "start_time": "2021-12-05T18:06:45.112Z"
   },
   {
    "duration": 29,
    "start_time": "2021-12-05T18:06:46.360Z"
   },
   {
    "duration": 8,
    "start_time": "2021-12-05T18:06:46.392Z"
   },
   {
    "duration": 17,
    "start_time": "2021-12-05T18:06:46.402Z"
   },
   {
    "duration": 7,
    "start_time": "2021-12-05T18:06:46.421Z"
   },
   {
    "duration": 9,
    "start_time": "2021-12-05T18:06:46.431Z"
   },
   {
    "duration": 28,
    "start_time": "2021-12-05T18:06:46.442Z"
   },
   {
    "duration": 13,
    "start_time": "2021-12-05T18:06:46.473Z"
   },
   {
    "duration": 11,
    "start_time": "2021-12-05T18:06:46.488Z"
   },
   {
    "duration": 21,
    "start_time": "2021-12-05T18:06:46.502Z"
   },
   {
    "duration": 406,
    "start_time": "2021-12-05T18:06:46.525Z"
   },
   {
    "duration": 186,
    "start_time": "2021-12-05T18:06:46.934Z"
   },
   {
    "duration": 13,
    "start_time": "2021-12-05T18:06:47.121Z"
   },
   {
    "duration": 409,
    "start_time": "2021-12-05T18:06:47.135Z"
   },
   {
    "duration": 358,
    "start_time": "2021-12-05T18:06:47.546Z"
   },
   {
    "duration": 424,
    "start_time": "2021-12-05T18:06:47.906Z"
   },
   {
    "duration": 486,
    "start_time": "2021-12-05T18:06:48.333Z"
   },
   {
    "duration": 590,
    "start_time": "2021-12-05T18:06:48.822Z"
   },
   {
    "duration": 125,
    "start_time": "2021-12-05T18:06:49.413Z"
   },
   {
    "duration": 409,
    "start_time": "2021-12-05T18:06:49.539Z"
   },
   {
    "duration": 5,
    "start_time": "2021-12-05T18:06:49.950Z"
   },
   {
    "duration": 20,
    "start_time": "2021-12-05T18:06:49.963Z"
   },
   {
    "duration": 412,
    "start_time": "2021-12-05T18:06:49.988Z"
   },
   {
    "duration": 6,
    "start_time": "2021-12-05T18:06:50.403Z"
   },
   {
    "duration": 430,
    "start_time": "2021-12-05T18:06:50.411Z"
   },
   {
    "duration": 73,
    "start_time": "2021-12-05T18:06:50.842Z"
   },
   {
    "duration": 92,
    "start_time": "2021-12-05T18:06:50.917Z"
   },
   {
    "duration": 6,
    "start_time": "2021-12-05T18:06:51.011Z"
   },
   {
    "duration": 16,
    "start_time": "2021-12-05T18:06:51.018Z"
   },
   {
    "duration": 32,
    "start_time": "2021-12-05T18:06:51.036Z"
   },
   {
    "duration": 16,
    "start_time": "2021-12-05T18:06:51.071Z"
   },
   {
    "duration": 12,
    "start_time": "2021-12-05T18:06:51.091Z"
   },
   {
    "duration": 19,
    "start_time": "2021-12-05T18:06:51.104Z"
   },
   {
    "duration": 43,
    "start_time": "2021-12-05T18:06:51.125Z"
   },
   {
    "duration": 1157,
    "start_time": "2021-12-05T18:13:48.296Z"
   },
   {
    "duration": 19,
    "start_time": "2021-12-05T18:13:49.455Z"
   },
   {
    "duration": 11,
    "start_time": "2021-12-05T18:13:49.478Z"
   },
   {
    "duration": 10,
    "start_time": "2021-12-05T18:13:49.491Z"
   },
   {
    "duration": 98,
    "start_time": "2021-12-05T18:13:49.503Z"
   },
   {
    "duration": -1550,
    "start_time": "2021-12-05T18:13:51.154Z"
   },
   {
    "duration": -1552,
    "start_time": "2021-12-05T18:13:51.157Z"
   },
   {
    "duration": -1553,
    "start_time": "2021-12-05T18:13:51.159Z"
   },
   {
    "duration": -1555,
    "start_time": "2021-12-05T18:13:51.162Z"
   },
   {
    "duration": -1556,
    "start_time": "2021-12-05T18:13:51.164Z"
   },
   {
    "duration": -1558,
    "start_time": "2021-12-05T18:13:51.167Z"
   },
   {
    "duration": -1561,
    "start_time": "2021-12-05T18:13:51.171Z"
   },
   {
    "duration": -1563,
    "start_time": "2021-12-05T18:13:51.174Z"
   },
   {
    "duration": -1567,
    "start_time": "2021-12-05T18:13:51.179Z"
   },
   {
    "duration": -1570,
    "start_time": "2021-12-05T18:13:51.183Z"
   },
   {
    "duration": -1587,
    "start_time": "2021-12-05T18:13:51.201Z"
   },
   {
    "duration": -1590,
    "start_time": "2021-12-05T18:13:51.205Z"
   },
   {
    "duration": -1592,
    "start_time": "2021-12-05T18:13:51.208Z"
   },
   {
    "duration": -1594,
    "start_time": "2021-12-05T18:13:51.211Z"
   },
   {
    "duration": -1597,
    "start_time": "2021-12-05T18:13:51.214Z"
   },
   {
    "duration": -1598,
    "start_time": "2021-12-05T18:13:51.216Z"
   },
   {
    "duration": -1599,
    "start_time": "2021-12-05T18:13:51.218Z"
   },
   {
    "duration": -1599,
    "start_time": "2021-12-05T18:13:51.219Z"
   },
   {
    "duration": -1602,
    "start_time": "2021-12-05T18:13:51.223Z"
   },
   {
    "duration": -1603,
    "start_time": "2021-12-05T18:13:51.225Z"
   },
   {
    "duration": -1604,
    "start_time": "2021-12-05T18:13:51.227Z"
   },
   {
    "duration": -1603,
    "start_time": "2021-12-05T18:13:51.228Z"
   },
   {
    "duration": -1604,
    "start_time": "2021-12-05T18:13:51.230Z"
   },
   {
    "duration": -1605,
    "start_time": "2021-12-05T18:13:51.232Z"
   },
   {
    "duration": -1607,
    "start_time": "2021-12-05T18:13:51.234Z"
   },
   {
    "duration": -1608,
    "start_time": "2021-12-05T18:13:51.236Z"
   },
   {
    "duration": -1610,
    "start_time": "2021-12-05T18:13:51.239Z"
   },
   {
    "duration": -1611,
    "start_time": "2021-12-05T18:13:51.241Z"
   },
   {
    "duration": -1612,
    "start_time": "2021-12-05T18:13:51.243Z"
   },
   {
    "duration": 1310,
    "start_time": "2021-12-05T18:14:19.016Z"
   },
   {
    "duration": 13,
    "start_time": "2021-12-05T18:14:20.327Z"
   },
   {
    "duration": 9,
    "start_time": "2021-12-05T18:14:20.343Z"
   },
   {
    "duration": 13,
    "start_time": "2021-12-05T18:14:20.354Z"
   },
   {
    "duration": 9,
    "start_time": "2021-12-05T18:14:20.369Z"
   },
   {
    "duration": 14,
    "start_time": "2021-12-05T18:14:20.380Z"
   },
   {
    "duration": 14,
    "start_time": "2021-12-05T18:14:20.396Z"
   },
   {
    "duration": 11,
    "start_time": "2021-12-05T18:14:20.413Z"
   },
   {
    "duration": 51,
    "start_time": "2021-12-05T18:14:20.426Z"
   },
   {
    "duration": 11,
    "start_time": "2021-12-05T18:14:20.479Z"
   },
   {
    "duration": 250,
    "start_time": "2021-12-05T18:14:20.492Z"
   },
   {
    "duration": 176,
    "start_time": "2021-12-05T18:14:20.744Z"
   },
   {
    "duration": 14,
    "start_time": "2021-12-05T18:14:20.922Z"
   },
   {
    "duration": 374,
    "start_time": "2021-12-05T18:14:20.938Z"
   },
   {
    "duration": 341,
    "start_time": "2021-12-05T18:14:21.314Z"
   },
   {
    "duration": 424,
    "start_time": "2021-12-05T18:14:21.657Z"
   },
   {
    "duration": 313,
    "start_time": "2021-12-05T18:14:22.084Z"
   },
   {
    "duration": 406,
    "start_time": "2021-12-05T18:14:22.399Z"
   },
   {
    "duration": 111,
    "start_time": "2021-12-05T18:14:22.808Z"
   },
   {
    "duration": 380,
    "start_time": "2021-12-05T18:14:22.921Z"
   },
   {
    "duration": 4,
    "start_time": "2021-12-05T18:14:23.302Z"
   },
   {
    "duration": 48,
    "start_time": "2021-12-05T18:14:23.308Z"
   },
   {
    "duration": 388,
    "start_time": "2021-12-05T18:14:23.358Z"
   },
   {
    "duration": 6,
    "start_time": "2021-12-05T18:14:23.748Z"
   },
   {
    "duration": 310,
    "start_time": "2021-12-05T18:14:23.765Z"
   },
   {
    "duration": 54,
    "start_time": "2021-12-05T18:14:24.078Z"
   },
   {
    "duration": 92,
    "start_time": "2021-12-05T18:14:24.134Z"
   },
   {
    "duration": 5,
    "start_time": "2021-12-05T18:14:24.228Z"
   },
   {
    "duration": 33,
    "start_time": "2021-12-05T18:14:24.235Z"
   },
   {
    "duration": 18,
    "start_time": "2021-12-05T18:14:24.276Z"
   },
   {
    "duration": 9,
    "start_time": "2021-12-05T18:14:24.296Z"
   },
   {
    "duration": 22,
    "start_time": "2021-12-05T18:14:24.307Z"
   },
   {
    "duration": 29,
    "start_time": "2021-12-05T18:14:24.330Z"
   },
   {
    "duration": 23,
    "start_time": "2021-12-05T18:14:24.361Z"
   },
   {
    "duration": 7,
    "start_time": "2021-12-05T19:12:54.371Z"
   },
   {
    "duration": 318,
    "start_time": "2021-12-05T19:13:03.933Z"
   },
   {
    "duration": 8,
    "start_time": "2021-12-05T19:13:12.976Z"
   },
   {
    "duration": 6,
    "start_time": "2021-12-05T19:14:37.177Z"
   },
   {
    "duration": 6,
    "start_time": "2021-12-05T19:14:46.813Z"
   },
   {
    "duration": 5,
    "start_time": "2021-12-05T19:16:12.872Z"
   },
   {
    "duration": 7,
    "start_time": "2021-12-05T19:18:29.948Z"
   },
   {
    "duration": 6,
    "start_time": "2021-12-05T19:18:39.381Z"
   },
   {
    "duration": 7,
    "start_time": "2021-12-05T19:19:11.945Z"
   },
   {
    "duration": 5,
    "start_time": "2021-12-05T19:19:29.176Z"
   },
   {
    "duration": 1182,
    "start_time": "2021-12-05T19:19:36.271Z"
   },
   {
    "duration": 13,
    "start_time": "2021-12-05T19:19:37.454Z"
   },
   {
    "duration": 16,
    "start_time": "2021-12-05T19:19:37.470Z"
   },
   {
    "duration": 13,
    "start_time": "2021-12-05T19:19:37.488Z"
   },
   {
    "duration": 7,
    "start_time": "2021-12-05T19:19:37.503Z"
   },
   {
    "duration": 14,
    "start_time": "2021-12-05T19:19:37.512Z"
   },
   {
    "duration": 12,
    "start_time": "2021-12-05T19:19:37.528Z"
   },
   {
    "duration": 31,
    "start_time": "2021-12-05T19:19:37.542Z"
   },
   {
    "duration": 15,
    "start_time": "2021-12-05T19:19:37.577Z"
   },
   {
    "duration": 13,
    "start_time": "2021-12-05T19:19:37.594Z"
   },
   {
    "duration": 255,
    "start_time": "2021-12-05T19:19:37.608Z"
   },
   {
    "duration": 164,
    "start_time": "2021-12-05T19:19:37.864Z"
   },
   {
    "duration": 12,
    "start_time": "2021-12-05T19:19:38.029Z"
   },
   {
    "duration": 356,
    "start_time": "2021-12-05T19:19:38.043Z"
   },
   {
    "duration": 339,
    "start_time": "2021-12-05T19:19:38.401Z"
   },
   {
    "duration": 417,
    "start_time": "2021-12-05T19:19:38.741Z"
   },
   {
    "duration": 327,
    "start_time": "2021-12-05T19:19:39.163Z"
   },
   {
    "duration": 386,
    "start_time": "2021-12-05T19:19:39.491Z"
   },
   {
    "duration": 134,
    "start_time": "2021-12-05T19:19:39.879Z"
   },
   {
    "duration": 359,
    "start_time": "2021-12-05T19:19:40.015Z"
   },
   {
    "duration": 4,
    "start_time": "2021-12-05T19:19:40.376Z"
   },
   {
    "duration": 20,
    "start_time": "2021-12-05T19:19:40.382Z"
   },
   {
    "duration": 349,
    "start_time": "2021-12-05T19:19:40.404Z"
   },
   {
    "duration": 11,
    "start_time": "2021-12-05T19:19:40.755Z"
   },
   {
    "duration": 276,
    "start_time": "2021-12-05T19:19:40.768Z"
   },
   {
    "duration": 74,
    "start_time": "2021-12-05T19:19:41.046Z"
   },
   {
    "duration": 78,
    "start_time": "2021-12-05T19:19:41.123Z"
   },
   {
    "duration": 7,
    "start_time": "2021-12-05T19:19:41.203Z"
   },
   {
    "duration": 11,
    "start_time": "2021-12-05T19:19:41.212Z"
   },
   {
    "duration": 10,
    "start_time": "2021-12-05T19:19:41.225Z"
   },
   {
    "duration": 31,
    "start_time": "2021-12-05T19:19:41.236Z"
   },
   {
    "duration": 6,
    "start_time": "2021-12-05T19:19:41.269Z"
   },
   {
    "duration": 11,
    "start_time": "2021-12-05T19:19:41.277Z"
   },
   {
    "duration": 10,
    "start_time": "2021-12-05T19:19:41.290Z"
   },
   {
    "duration": 10,
    "start_time": "2021-12-05T19:19:41.302Z"
   },
   {
    "duration": 15,
    "start_time": "2021-12-05T19:19:41.313Z"
   },
   {
    "duration": 9,
    "start_time": "2021-12-05T19:19:41.363Z"
   },
   {
    "duration": 10,
    "start_time": "2021-12-05T19:19:41.374Z"
   },
   {
    "duration": 8,
    "start_time": "2021-12-05T19:20:59.429Z"
   },
   {
    "duration": 9,
    "start_time": "2021-12-05T19:21:30.301Z"
   },
   {
    "duration": 13,
    "start_time": "2021-12-05T19:23:12.050Z"
   },
   {
    "duration": 8,
    "start_time": "2021-12-05T19:24:32.989Z"
   },
   {
    "duration": 726,
    "start_time": "2021-12-05T19:25:19.164Z"
   },
   {
    "duration": 699,
    "start_time": "2021-12-05T19:25:35.970Z"
   },
   {
    "duration": 17,
    "start_time": "2021-12-05T19:27:17.846Z"
   },
   {
    "duration": 86,
    "start_time": "2021-12-05T19:27:49.445Z"
   },
   {
    "duration": 84,
    "start_time": "2021-12-05T19:27:57.133Z"
   },
   {
    "duration": 362,
    "start_time": "2021-12-05T19:28:56.756Z"
   },
   {
    "duration": 17,
    "start_time": "2021-12-05T19:29:12.817Z"
   },
   {
    "duration": 6,
    "start_time": "2021-12-05T19:30:39.446Z"
   },
   {
    "duration": 6389,
    "start_time": "2021-12-05T19:31:27.963Z"
   },
   {
    "duration": -1727,
    "start_time": "2021-12-05T19:31:36.081Z"
   },
   {
    "duration": 11,
    "start_time": "2021-12-05T19:32:22.858Z"
   },
   {
    "duration": 5,
    "start_time": "2021-12-05T19:32:26.089Z"
   },
   {
    "duration": 13,
    "start_time": "2021-12-05T19:32:34.716Z"
   },
   {
    "duration": 11,
    "start_time": "2021-12-05T19:32:40.425Z"
   },
   {
    "duration": 21,
    "start_time": "2021-12-05T19:32:46.489Z"
   },
   {
    "duration": 19,
    "start_time": "2021-12-05T19:32:53.314Z"
   },
   {
    "duration": 8,
    "start_time": "2021-12-05T19:33:05.895Z"
   },
   {
    "duration": 17,
    "start_time": "2021-12-05T19:33:08.697Z"
   },
   {
    "duration": 7,
    "start_time": "2021-12-05T19:33:16.287Z"
   },
   {
    "duration": 13,
    "start_time": "2021-12-05T19:33:32.929Z"
   },
   {
    "duration": 8,
    "start_time": "2021-12-05T19:33:46.890Z"
   },
   {
    "duration": 17,
    "start_time": "2021-12-05T19:33:50.078Z"
   },
   {
    "duration": 1212,
    "start_time": "2021-12-05T19:35:35.649Z"
   },
   {
    "duration": 13,
    "start_time": "2021-12-05T19:35:36.863Z"
   },
   {
    "duration": 21,
    "start_time": "2021-12-05T19:35:36.879Z"
   },
   {
    "duration": 24,
    "start_time": "2021-12-05T19:35:36.902Z"
   },
   {
    "duration": 10,
    "start_time": "2021-12-05T19:35:36.929Z"
   },
   {
    "duration": 26,
    "start_time": "2021-12-05T19:35:36.941Z"
   },
   {
    "duration": 15,
    "start_time": "2021-12-05T19:35:36.970Z"
   },
   {
    "duration": 24,
    "start_time": "2021-12-05T19:35:36.988Z"
   },
   {
    "duration": 38,
    "start_time": "2021-12-05T19:35:37.014Z"
   },
   {
    "duration": 45,
    "start_time": "2021-12-05T19:35:37.055Z"
   },
   {
    "duration": 245,
    "start_time": "2021-12-05T19:35:37.102Z"
   },
   {
    "duration": 183,
    "start_time": "2021-12-05T19:35:37.349Z"
   },
   {
    "duration": 33,
    "start_time": "2021-12-05T19:35:37.534Z"
   },
   {
    "duration": 365,
    "start_time": "2021-12-05T19:35:37.569Z"
   },
   {
    "duration": 360,
    "start_time": "2021-12-05T19:35:37.936Z"
   },
   {
    "duration": 398,
    "start_time": "2021-12-05T19:35:38.298Z"
   },
   {
    "duration": 319,
    "start_time": "2021-12-05T19:35:38.698Z"
   },
   {
    "duration": 405,
    "start_time": "2021-12-05T19:35:39.019Z"
   },
   {
    "duration": 114,
    "start_time": "2021-12-05T19:35:39.426Z"
   },
   {
    "duration": 397,
    "start_time": "2021-12-05T19:35:39.542Z"
   },
   {
    "duration": 4,
    "start_time": "2021-12-05T19:35:39.941Z"
   },
   {
    "duration": 22,
    "start_time": "2021-12-05T19:35:39.947Z"
   },
   {
    "duration": 370,
    "start_time": "2021-12-05T19:35:39.972Z"
   },
   {
    "duration": 6,
    "start_time": "2021-12-05T19:35:40.344Z"
   },
   {
    "duration": 291,
    "start_time": "2021-12-05T19:35:40.364Z"
   },
   {
    "duration": 65,
    "start_time": "2021-12-05T19:35:40.664Z"
   },
   {
    "duration": 80,
    "start_time": "2021-12-05T19:35:40.731Z"
   },
   {
    "duration": 7,
    "start_time": "2021-12-05T19:35:40.813Z"
   },
   {
    "duration": 22,
    "start_time": "2021-12-05T19:35:40.821Z"
   },
   {
    "duration": 19,
    "start_time": "2021-12-05T19:35:40.845Z"
   },
   {
    "duration": 9,
    "start_time": "2021-12-05T19:35:40.866Z"
   },
   {
    "duration": 10,
    "start_time": "2021-12-05T19:35:40.877Z"
   },
   {
    "duration": 8,
    "start_time": "2021-12-05T19:35:40.889Z"
   },
   {
    "duration": 13,
    "start_time": "2021-12-05T19:35:40.899Z"
   },
   {
    "duration": 6,
    "start_time": "2021-12-05T19:39:10.304Z"
   },
   {
    "duration": 384,
    "start_time": "2021-12-05T19:41:25.788Z"
   },
   {
    "duration": 466,
    "start_time": "2021-12-05T19:42:42.450Z"
   },
   {
    "duration": 1154,
    "start_time": "2021-12-05T20:02:39.013Z"
   },
   {
    "duration": 17,
    "start_time": "2021-12-05T20:02:40.170Z"
   },
   {
    "duration": 10,
    "start_time": "2021-12-05T20:02:40.189Z"
   },
   {
    "duration": 10,
    "start_time": "2021-12-05T20:02:40.201Z"
   },
   {
    "duration": 8,
    "start_time": "2021-12-05T20:02:40.213Z"
   },
   {
    "duration": 52,
    "start_time": "2021-12-05T20:02:40.222Z"
   },
   {
    "duration": 14,
    "start_time": "2021-12-05T20:02:40.276Z"
   },
   {
    "duration": 11,
    "start_time": "2021-12-05T20:02:40.292Z"
   },
   {
    "duration": 11,
    "start_time": "2021-12-05T20:02:40.305Z"
   },
   {
    "duration": 17,
    "start_time": "2021-12-05T20:02:40.318Z"
   },
   {
    "duration": 270,
    "start_time": "2021-12-05T20:02:40.337Z"
   },
   {
    "duration": 177,
    "start_time": "2021-12-05T20:02:40.609Z"
   },
   {
    "duration": 14,
    "start_time": "2021-12-05T20:02:40.788Z"
   },
   {
    "duration": 374,
    "start_time": "2021-12-05T20:02:40.804Z"
   },
   {
    "duration": 467,
    "start_time": "2021-12-05T20:02:41.181Z"
   },
   {
    "duration": 440,
    "start_time": "2021-12-05T20:02:41.649Z"
   },
   {
    "duration": 320,
    "start_time": "2021-12-05T20:02:42.090Z"
   },
   {
    "duration": 420,
    "start_time": "2021-12-05T20:02:42.412Z"
   },
   {
    "duration": 112,
    "start_time": "2021-12-05T20:02:42.834Z"
   },
   {
    "duration": 541,
    "start_time": "2021-12-05T20:02:42.948Z"
   },
   {
    "duration": 5,
    "start_time": "2021-12-05T20:02:43.491Z"
   },
   {
    "duration": 13,
    "start_time": "2021-12-05T20:02:43.499Z"
   },
   {
    "duration": 413,
    "start_time": "2021-12-05T20:02:43.515Z"
   },
   {
    "duration": 6,
    "start_time": "2021-12-05T20:02:43.931Z"
   },
   {
    "duration": 294,
    "start_time": "2021-12-05T20:02:43.938Z"
   },
   {
    "duration": 66,
    "start_time": "2021-12-05T20:02:44.234Z"
   },
   {
    "duration": 84,
    "start_time": "2021-12-05T20:02:44.302Z"
   },
   {
    "duration": 5,
    "start_time": "2021-12-05T20:02:44.388Z"
   },
   {
    "duration": 10,
    "start_time": "2021-12-05T20:02:44.395Z"
   },
   {
    "duration": 10,
    "start_time": "2021-12-05T20:02:44.407Z"
   },
   {
    "duration": 10,
    "start_time": "2021-12-05T20:02:44.419Z"
   },
   {
    "duration": 9,
    "start_time": "2021-12-05T20:02:44.463Z"
   },
   {
    "duration": 8,
    "start_time": "2021-12-05T20:02:44.475Z"
   },
   {
    "duration": 13,
    "start_time": "2021-12-05T20:02:44.485Z"
   },
   {
    "duration": 1420,
    "start_time": "2021-12-05T20:03:52.476Z"
   },
   {
    "duration": 14,
    "start_time": "2021-12-05T20:03:53.899Z"
   },
   {
    "duration": 22,
    "start_time": "2021-12-05T20:03:53.915Z"
   },
   {
    "duration": 32,
    "start_time": "2021-12-05T20:03:53.939Z"
   },
   {
    "duration": 12,
    "start_time": "2021-12-05T20:03:53.974Z"
   },
   {
    "duration": 8,
    "start_time": "2021-12-05T20:03:53.988Z"
   },
   {
    "duration": 16,
    "start_time": "2021-12-05T20:03:53.997Z"
   },
   {
    "duration": 12,
    "start_time": "2021-12-05T20:03:54.015Z"
   },
   {
    "duration": 51,
    "start_time": "2021-12-05T20:03:54.029Z"
   },
   {
    "duration": 15,
    "start_time": "2021-12-05T20:03:54.082Z"
   },
   {
    "duration": 244,
    "start_time": "2021-12-05T20:03:54.099Z"
   },
   {
    "duration": 184,
    "start_time": "2021-12-05T20:03:54.345Z"
   },
   {
    "duration": 13,
    "start_time": "2021-12-05T20:03:54.531Z"
   },
   {
    "duration": 378,
    "start_time": "2021-12-05T20:03:54.546Z"
   },
   {
    "duration": 370,
    "start_time": "2021-12-05T20:03:54.926Z"
   },
   {
    "duration": 406,
    "start_time": "2021-12-05T20:03:55.298Z"
   },
   {
    "duration": 328,
    "start_time": "2021-12-05T20:03:55.706Z"
   },
   {
    "duration": 452,
    "start_time": "2021-12-05T20:03:56.036Z"
   },
   {
    "duration": 131,
    "start_time": "2021-12-05T20:03:56.490Z"
   },
   {
    "duration": 406,
    "start_time": "2021-12-05T20:03:56.624Z"
   },
   {
    "duration": 4,
    "start_time": "2021-12-05T20:03:57.032Z"
   },
   {
    "duration": 38,
    "start_time": "2021-12-05T20:03:57.038Z"
   },
   {
    "duration": 417,
    "start_time": "2021-12-05T20:03:57.079Z"
   },
   {
    "duration": 5,
    "start_time": "2021-12-05T20:03:57.498Z"
   },
   {
    "duration": 299,
    "start_time": "2021-12-05T20:03:57.504Z"
   },
   {
    "duration": 69,
    "start_time": "2021-12-05T20:03:57.806Z"
   },
   {
    "duration": 88,
    "start_time": "2021-12-05T20:03:57.877Z"
   },
   {
    "duration": 10,
    "start_time": "2021-12-05T20:03:57.968Z"
   },
   {
    "duration": 11,
    "start_time": "2021-12-05T20:03:57.981Z"
   },
   {
    "duration": 10,
    "start_time": "2021-12-05T20:03:57.994Z"
   },
   {
    "duration": 12,
    "start_time": "2021-12-05T20:03:58.005Z"
   },
   {
    "duration": 12,
    "start_time": "2021-12-05T20:03:58.018Z"
   },
   {
    "duration": 47,
    "start_time": "2021-12-05T20:03:58.031Z"
   },
   {
    "duration": 18,
    "start_time": "2021-12-05T20:03:58.081Z"
   },
   {
    "duration": 1222,
    "start_time": "2021-12-05T20:12:04.742Z"
   },
   {
    "duration": 16,
    "start_time": "2021-12-05T20:12:05.967Z"
   },
   {
    "duration": 29,
    "start_time": "2021-12-05T20:12:05.988Z"
   },
   {
    "duration": 25,
    "start_time": "2021-12-05T20:12:06.019Z"
   },
   {
    "duration": 7,
    "start_time": "2021-12-05T20:12:06.045Z"
   },
   {
    "duration": 12,
    "start_time": "2021-12-05T20:12:06.053Z"
   },
   {
    "duration": 17,
    "start_time": "2021-12-05T20:12:06.069Z"
   },
   {
    "duration": 12,
    "start_time": "2021-12-05T20:12:06.088Z"
   },
   {
    "duration": 11,
    "start_time": "2021-12-05T20:12:06.102Z"
   },
   {
    "duration": 19,
    "start_time": "2021-12-05T20:12:06.115Z"
   },
   {
    "duration": 258,
    "start_time": "2021-12-05T20:12:06.136Z"
   },
   {
    "duration": 187,
    "start_time": "2021-12-05T20:12:06.395Z"
   },
   {
    "duration": 13,
    "start_time": "2021-12-05T20:12:06.584Z"
   },
   {
    "duration": 356,
    "start_time": "2021-12-05T20:12:06.599Z"
   },
   {
    "duration": 353,
    "start_time": "2021-12-05T20:12:06.957Z"
   },
   {
    "duration": 427,
    "start_time": "2021-12-05T20:12:07.312Z"
   },
   {
    "duration": 319,
    "start_time": "2021-12-05T20:12:07.741Z"
   },
   {
    "duration": 446,
    "start_time": "2021-12-05T20:12:08.063Z"
   },
   {
    "duration": 113,
    "start_time": "2021-12-05T20:12:08.510Z"
   },
   {
    "duration": 411,
    "start_time": "2021-12-05T20:12:08.624Z"
   },
   {
    "duration": 4,
    "start_time": "2021-12-05T20:12:09.037Z"
   },
   {
    "duration": 27,
    "start_time": "2021-12-05T20:12:09.044Z"
   },
   {
    "duration": 414,
    "start_time": "2021-12-05T20:12:09.074Z"
   },
   {
    "duration": 6,
    "start_time": "2021-12-05T20:12:09.491Z"
   },
   {
    "duration": 398,
    "start_time": "2021-12-05T20:12:09.499Z"
   },
   {
    "duration": 84,
    "start_time": "2021-12-05T20:12:09.899Z"
   },
   {
    "duration": 142,
    "start_time": "2021-12-05T20:12:09.985Z"
   },
   {
    "duration": 11,
    "start_time": "2021-12-05T20:12:10.129Z"
   },
   {
    "duration": 30,
    "start_time": "2021-12-05T20:12:10.142Z"
   },
   {
    "duration": 14,
    "start_time": "2021-12-05T20:12:10.176Z"
   },
   {
    "duration": 9,
    "start_time": "2021-12-05T20:12:10.192Z"
   },
   {
    "duration": 11,
    "start_time": "2021-12-05T20:12:10.203Z"
   },
   {
    "duration": 11,
    "start_time": "2021-12-05T20:12:10.217Z"
   },
   {
    "duration": 37,
    "start_time": "2021-12-05T20:12:10.265Z"
   }
  ],
  "kernelspec": {
   "display_name": "anaconda-2022.05-py39",
   "language": "python",
   "name": "conda-env-anaconda-2022.05-py39-py"
  },
  "language_info": {
   "codemirror_mode": {
    "name": "ipython",
    "version": 3
   },
   "file_extension": ".py",
   "mimetype": "text/x-python",
   "name": "python",
   "nbconvert_exporter": "python",
   "pygments_lexer": "ipython3",
   "version": "3.9.12"
  },
  "toc": {
   "base_numbering": 1,
   "nav_menu": {},
   "number_sections": false,
   "sideBar": true,
   "skip_h1_title": true,
   "title_cell": "Table of Contents",
   "title_sidebar": "Contents",
   "toc_cell": false,
   "toc_position": {
    "height": "calc(100% - 180px)",
    "left": "10px",
    "top": "150px",
    "width": "366.391px"
   },
   "toc_section_display": true,
   "toc_window_display": true
  }
 },
 "nbformat": 4,
 "nbformat_minor": 4
}
