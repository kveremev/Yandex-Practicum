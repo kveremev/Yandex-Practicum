{
 "cells": [
  {
   "cell_type": "markdown",
   "metadata": {},
   "source": [
    "# Исследование надёжности заёмщиков\n",
    "\n",
    "Заказчик — кредитный отдел банка. Нужно разобраться, влияет ли семейное положение и количество детей клиента на факт погашения кредита в срок. Входные данные от банка — статистика о платёжеспособности клиентов.\n",
    "\n",
    "Результаты исследования будут учтены при построении модели **кредитного скоринга** — специальной системы, которая оценивает способность потенциального заёмщика вернуть кредит банку."
   ]
  },
  {
   "cell_type": "markdown",
   "metadata": {},
   "source": [
    "## Шаг 1. Откройте файл с данными и изучите общую информацию\n"
   ]
  },
  {
   "cell_type": "markdown",
   "metadata": {},
   "source": [
    "Импортируем необходимые библиотеки:"
   ]
  },
  {
   "cell_type": "code",
   "execution_count": 1,
   "metadata": {},
   "outputs": [],
   "source": [
    "import pandas as pd \n",
    "data = pd.read_csv('/datasets/data.csv')\n",
    "from pymystem3 import Mystem\n",
    "m = Mystem()"
   ]
  },
  {
   "cell_type": "markdown",
   "metadata": {},
   "source": [
    "Прочитаем исходный файл и выведем первые 10 строк:"
   ]
  },
  {
   "cell_type": "code",
   "execution_count": 2,
   "metadata": {},
   "outputs": [
    {
     "data": {
      "text/html": [
       "<div>\n",
       "<style scoped>\n",
       "    .dataframe tbody tr th:only-of-type {\n",
       "        vertical-align: middle;\n",
       "    }\n",
       "\n",
       "    .dataframe tbody tr th {\n",
       "        vertical-align: top;\n",
       "    }\n",
       "\n",
       "    .dataframe thead th {\n",
       "        text-align: right;\n",
       "    }\n",
       "</style>\n",
       "<table border=\"1\" class=\"dataframe\">\n",
       "  <thead>\n",
       "    <tr style=\"text-align: right;\">\n",
       "      <th></th>\n",
       "      <th>children</th>\n",
       "      <th>days_employed</th>\n",
       "      <th>dob_years</th>\n",
       "      <th>education</th>\n",
       "      <th>education_id</th>\n",
       "      <th>family_status</th>\n",
       "      <th>family_status_id</th>\n",
       "      <th>gender</th>\n",
       "      <th>income_type</th>\n",
       "      <th>debt</th>\n",
       "      <th>total_income</th>\n",
       "      <th>purpose</th>\n",
       "    </tr>\n",
       "  </thead>\n",
       "  <tbody>\n",
       "    <tr>\n",
       "      <td>0</td>\n",
       "      <td>1</td>\n",
       "      <td>-8437.673028</td>\n",
       "      <td>42</td>\n",
       "      <td>высшее</td>\n",
       "      <td>0</td>\n",
       "      <td>женат / замужем</td>\n",
       "      <td>0</td>\n",
       "      <td>F</td>\n",
       "      <td>сотрудник</td>\n",
       "      <td>0</td>\n",
       "      <td>253875.639453</td>\n",
       "      <td>покупка жилья</td>\n",
       "    </tr>\n",
       "    <tr>\n",
       "      <td>1</td>\n",
       "      <td>1</td>\n",
       "      <td>-4024.803754</td>\n",
       "      <td>36</td>\n",
       "      <td>среднее</td>\n",
       "      <td>1</td>\n",
       "      <td>женат / замужем</td>\n",
       "      <td>0</td>\n",
       "      <td>F</td>\n",
       "      <td>сотрудник</td>\n",
       "      <td>0</td>\n",
       "      <td>112080.014102</td>\n",
       "      <td>приобретение автомобиля</td>\n",
       "    </tr>\n",
       "    <tr>\n",
       "      <td>2</td>\n",
       "      <td>0</td>\n",
       "      <td>-5623.422610</td>\n",
       "      <td>33</td>\n",
       "      <td>Среднее</td>\n",
       "      <td>1</td>\n",
       "      <td>женат / замужем</td>\n",
       "      <td>0</td>\n",
       "      <td>M</td>\n",
       "      <td>сотрудник</td>\n",
       "      <td>0</td>\n",
       "      <td>145885.952297</td>\n",
       "      <td>покупка жилья</td>\n",
       "    </tr>\n",
       "    <tr>\n",
       "      <td>3</td>\n",
       "      <td>3</td>\n",
       "      <td>-4124.747207</td>\n",
       "      <td>32</td>\n",
       "      <td>среднее</td>\n",
       "      <td>1</td>\n",
       "      <td>женат / замужем</td>\n",
       "      <td>0</td>\n",
       "      <td>M</td>\n",
       "      <td>сотрудник</td>\n",
       "      <td>0</td>\n",
       "      <td>267628.550329</td>\n",
       "      <td>дополнительное образование</td>\n",
       "    </tr>\n",
       "    <tr>\n",
       "      <td>4</td>\n",
       "      <td>0</td>\n",
       "      <td>340266.072047</td>\n",
       "      <td>53</td>\n",
       "      <td>среднее</td>\n",
       "      <td>1</td>\n",
       "      <td>гражданский брак</td>\n",
       "      <td>1</td>\n",
       "      <td>F</td>\n",
       "      <td>пенсионер</td>\n",
       "      <td>0</td>\n",
       "      <td>158616.077870</td>\n",
       "      <td>сыграть свадьбу</td>\n",
       "    </tr>\n",
       "    <tr>\n",
       "      <td>5</td>\n",
       "      <td>0</td>\n",
       "      <td>-926.185831</td>\n",
       "      <td>27</td>\n",
       "      <td>высшее</td>\n",
       "      <td>0</td>\n",
       "      <td>гражданский брак</td>\n",
       "      <td>1</td>\n",
       "      <td>M</td>\n",
       "      <td>компаньон</td>\n",
       "      <td>0</td>\n",
       "      <td>255763.565419</td>\n",
       "      <td>покупка жилья</td>\n",
       "    </tr>\n",
       "    <tr>\n",
       "      <td>6</td>\n",
       "      <td>0</td>\n",
       "      <td>-2879.202052</td>\n",
       "      <td>43</td>\n",
       "      <td>высшее</td>\n",
       "      <td>0</td>\n",
       "      <td>женат / замужем</td>\n",
       "      <td>0</td>\n",
       "      <td>F</td>\n",
       "      <td>компаньон</td>\n",
       "      <td>0</td>\n",
       "      <td>240525.971920</td>\n",
       "      <td>операции с жильем</td>\n",
       "    </tr>\n",
       "    <tr>\n",
       "      <td>7</td>\n",
       "      <td>0</td>\n",
       "      <td>-152.779569</td>\n",
       "      <td>50</td>\n",
       "      <td>СРЕДНЕЕ</td>\n",
       "      <td>1</td>\n",
       "      <td>женат / замужем</td>\n",
       "      <td>0</td>\n",
       "      <td>M</td>\n",
       "      <td>сотрудник</td>\n",
       "      <td>0</td>\n",
       "      <td>135823.934197</td>\n",
       "      <td>образование</td>\n",
       "    </tr>\n",
       "    <tr>\n",
       "      <td>8</td>\n",
       "      <td>2</td>\n",
       "      <td>-6929.865299</td>\n",
       "      <td>35</td>\n",
       "      <td>ВЫСШЕЕ</td>\n",
       "      <td>0</td>\n",
       "      <td>гражданский брак</td>\n",
       "      <td>1</td>\n",
       "      <td>F</td>\n",
       "      <td>сотрудник</td>\n",
       "      <td>0</td>\n",
       "      <td>95856.832424</td>\n",
       "      <td>на проведение свадьбы</td>\n",
       "    </tr>\n",
       "    <tr>\n",
       "      <td>9</td>\n",
       "      <td>0</td>\n",
       "      <td>-2188.756445</td>\n",
       "      <td>41</td>\n",
       "      <td>среднее</td>\n",
       "      <td>1</td>\n",
       "      <td>женат / замужем</td>\n",
       "      <td>0</td>\n",
       "      <td>M</td>\n",
       "      <td>сотрудник</td>\n",
       "      <td>0</td>\n",
       "      <td>144425.938277</td>\n",
       "      <td>покупка жилья для семьи</td>\n",
       "    </tr>\n",
       "  </tbody>\n",
       "</table>\n",
       "</div>"
      ],
      "text/plain": [
       "   children  days_employed  dob_years education  education_id  \\\n",
       "0         1   -8437.673028         42    высшее             0   \n",
       "1         1   -4024.803754         36   среднее             1   \n",
       "2         0   -5623.422610         33   Среднее             1   \n",
       "3         3   -4124.747207         32   среднее             1   \n",
       "4         0  340266.072047         53   среднее             1   \n",
       "5         0    -926.185831         27    высшее             0   \n",
       "6         0   -2879.202052         43    высшее             0   \n",
       "7         0    -152.779569         50   СРЕДНЕЕ             1   \n",
       "8         2   -6929.865299         35    ВЫСШЕЕ             0   \n",
       "9         0   -2188.756445         41   среднее             1   \n",
       "\n",
       "      family_status  family_status_id gender income_type  debt   total_income  \\\n",
       "0   женат / замужем                 0      F   сотрудник     0  253875.639453   \n",
       "1   женат / замужем                 0      F   сотрудник     0  112080.014102   \n",
       "2   женат / замужем                 0      M   сотрудник     0  145885.952297   \n",
       "3   женат / замужем                 0      M   сотрудник     0  267628.550329   \n",
       "4  гражданский брак                 1      F   пенсионер     0  158616.077870   \n",
       "5  гражданский брак                 1      M   компаньон     0  255763.565419   \n",
       "6   женат / замужем                 0      F   компаньон     0  240525.971920   \n",
       "7   женат / замужем                 0      M   сотрудник     0  135823.934197   \n",
       "8  гражданский брак                 1      F   сотрудник     0   95856.832424   \n",
       "9   женат / замужем                 0      M   сотрудник     0  144425.938277   \n",
       "\n",
       "                      purpose  \n",
       "0               покупка жилья  \n",
       "1     приобретение автомобиля  \n",
       "2               покупка жилья  \n",
       "3  дополнительное образование  \n",
       "4             сыграть свадьбу  \n",
       "5               покупка жилья  \n",
       "6           операции с жильем  \n",
       "7                 образование  \n",
       "8       на проведение свадьбы  \n",
       "9     покупка жилья для семьи  "
      ]
     },
     "execution_count": 2,
     "metadata": {},
     "output_type": "execute_result"
    }
   ],
   "source": [
    "data.head(10)"
   ]
  },
  {
   "cell_type": "markdown",
   "metadata": {},
   "source": [
    "Дополнительно посмотрим общую информацию о таблице:"
   ]
  },
  {
   "cell_type": "code",
   "execution_count": 3,
   "metadata": {},
   "outputs": [
    {
     "name": "stdout",
     "output_type": "stream",
     "text": [
      "<class 'pandas.core.frame.DataFrame'>\n",
      "RangeIndex: 21525 entries, 0 to 21524\n",
      "Data columns (total 12 columns):\n",
      "children            21525 non-null int64\n",
      "days_employed       19351 non-null float64\n",
      "dob_years           21525 non-null int64\n",
      "education           21525 non-null object\n",
      "education_id        21525 non-null int64\n",
      "family_status       21525 non-null object\n",
      "family_status_id    21525 non-null int64\n",
      "gender              21525 non-null object\n",
      "income_type         21525 non-null object\n",
      "debt                21525 non-null int64\n",
      "total_income        19351 non-null float64\n",
      "purpose             21525 non-null object\n",
      "dtypes: float64(2), int64(5), object(5)\n",
      "memory usage: 2.0+ MB\n"
     ]
    }
   ],
   "source": [
    "data.info()"
   ]
  },
  {
   "cell_type": "markdown",
   "metadata": {},
   "source": [
    "Рассмотрим полученную информацию подробнее:\n",
    "1. Все столбцы имеют \"хорошие\" названия: в нижнем регистре, с подчеркиванием, без лишних пробелов. Замена названий не требуется.\n",
    "1. Количество значений в столбцах различаются. Это говорит о том, что в данных есть пустые значения. А именно в колонках `'days_employed'` и `'total_income'` по 2174 пустых значения.  \n",
    "1. Данные о трудовом стаже. Стаж должен быть в днях, но имеет тип `float`. Среди значений есть отрицательные. Так же среди значений встречаются значения не характерные для трудового стажа, например, 340266.072047, а это более 950 лет. Возможно, была применена некая функция при расчете трудового стажа.\n",
    "1. Среди данных об образовании клиента встречаются значения с разными регистрами.\n",
    "1. Данные о ежемесячном доходе имеют тип `float`."
   ]
  },
  {
   "cell_type": "markdown",
   "metadata": {},
   "source": [
    "**Вывод**"
   ]
  },
  {
   "cell_type": "markdown",
   "metadata": {},
   "source": [
    "В предоставленной таблице встречаются проблемные данные и пустые значения. Исследуем их более подробно."
   ]
  },
  {
   "cell_type": "markdown",
   "metadata": {},
   "source": [
    "## Шаг 2. Предобработка данных"
   ]
  },
  {
   "cell_type": "markdown",
   "metadata": {},
   "source": [
    "### Обработка пропусков"
   ]
  },
  {
   "cell_type": "markdown",
   "metadata": {},
   "source": [
    "По разнице значений в информации мы сделали вывод, что пропуски в столбцах `'days_employed'` и `'total_income'` есть. Находим пропуски в столбце `'total_income'` методом `isna()` и выводим их на экран"
   ]
  },
  {
   "cell_type": "code",
   "execution_count": 4,
   "metadata": {},
   "outputs": [
    {
     "data": {
      "text/html": [
       "<div>\n",
       "<style scoped>\n",
       "    .dataframe tbody tr th:only-of-type {\n",
       "        vertical-align: middle;\n",
       "    }\n",
       "\n",
       "    .dataframe tbody tr th {\n",
       "        vertical-align: top;\n",
       "    }\n",
       "\n",
       "    .dataframe thead th {\n",
       "        text-align: right;\n",
       "    }\n",
       "</style>\n",
       "<table border=\"1\" class=\"dataframe\">\n",
       "  <thead>\n",
       "    <tr style=\"text-align: right;\">\n",
       "      <th></th>\n",
       "      <th>children</th>\n",
       "      <th>days_employed</th>\n",
       "      <th>dob_years</th>\n",
       "      <th>education</th>\n",
       "      <th>education_id</th>\n",
       "      <th>family_status</th>\n",
       "      <th>family_status_id</th>\n",
       "      <th>gender</th>\n",
       "      <th>income_type</th>\n",
       "      <th>debt</th>\n",
       "      <th>total_income</th>\n",
       "      <th>purpose</th>\n",
       "    </tr>\n",
       "  </thead>\n",
       "  <tbody>\n",
       "    <tr>\n",
       "      <td>12</td>\n",
       "      <td>0</td>\n",
       "      <td>NaN</td>\n",
       "      <td>65</td>\n",
       "      <td>среднее</td>\n",
       "      <td>1</td>\n",
       "      <td>гражданский брак</td>\n",
       "      <td>1</td>\n",
       "      <td>M</td>\n",
       "      <td>пенсионер</td>\n",
       "      <td>0</td>\n",
       "      <td>NaN</td>\n",
       "      <td>сыграть свадьбу</td>\n",
       "    </tr>\n",
       "    <tr>\n",
       "      <td>26</td>\n",
       "      <td>0</td>\n",
       "      <td>NaN</td>\n",
       "      <td>41</td>\n",
       "      <td>среднее</td>\n",
       "      <td>1</td>\n",
       "      <td>женат / замужем</td>\n",
       "      <td>0</td>\n",
       "      <td>M</td>\n",
       "      <td>госслужащий</td>\n",
       "      <td>0</td>\n",
       "      <td>NaN</td>\n",
       "      <td>образование</td>\n",
       "    </tr>\n",
       "    <tr>\n",
       "      <td>29</td>\n",
       "      <td>0</td>\n",
       "      <td>NaN</td>\n",
       "      <td>63</td>\n",
       "      <td>среднее</td>\n",
       "      <td>1</td>\n",
       "      <td>Не женат / не замужем</td>\n",
       "      <td>4</td>\n",
       "      <td>F</td>\n",
       "      <td>пенсионер</td>\n",
       "      <td>0</td>\n",
       "      <td>NaN</td>\n",
       "      <td>строительство жилой недвижимости</td>\n",
       "    </tr>\n",
       "    <tr>\n",
       "      <td>41</td>\n",
       "      <td>0</td>\n",
       "      <td>NaN</td>\n",
       "      <td>50</td>\n",
       "      <td>среднее</td>\n",
       "      <td>1</td>\n",
       "      <td>женат / замужем</td>\n",
       "      <td>0</td>\n",
       "      <td>F</td>\n",
       "      <td>госслужащий</td>\n",
       "      <td>0</td>\n",
       "      <td>NaN</td>\n",
       "      <td>сделка с подержанным автомобилем</td>\n",
       "    </tr>\n",
       "    <tr>\n",
       "      <td>55</td>\n",
       "      <td>0</td>\n",
       "      <td>NaN</td>\n",
       "      <td>54</td>\n",
       "      <td>среднее</td>\n",
       "      <td>1</td>\n",
       "      <td>гражданский брак</td>\n",
       "      <td>1</td>\n",
       "      <td>F</td>\n",
       "      <td>пенсионер</td>\n",
       "      <td>1</td>\n",
       "      <td>NaN</td>\n",
       "      <td>сыграть свадьбу</td>\n",
       "    </tr>\n",
       "    <tr>\n",
       "      <td>...</td>\n",
       "      <td>...</td>\n",
       "      <td>...</td>\n",
       "      <td>...</td>\n",
       "      <td>...</td>\n",
       "      <td>...</td>\n",
       "      <td>...</td>\n",
       "      <td>...</td>\n",
       "      <td>...</td>\n",
       "      <td>...</td>\n",
       "      <td>...</td>\n",
       "      <td>...</td>\n",
       "      <td>...</td>\n",
       "    </tr>\n",
       "    <tr>\n",
       "      <td>21489</td>\n",
       "      <td>2</td>\n",
       "      <td>NaN</td>\n",
       "      <td>47</td>\n",
       "      <td>Среднее</td>\n",
       "      <td>1</td>\n",
       "      <td>женат / замужем</td>\n",
       "      <td>0</td>\n",
       "      <td>M</td>\n",
       "      <td>компаньон</td>\n",
       "      <td>0</td>\n",
       "      <td>NaN</td>\n",
       "      <td>сделка с автомобилем</td>\n",
       "    </tr>\n",
       "    <tr>\n",
       "      <td>21495</td>\n",
       "      <td>1</td>\n",
       "      <td>NaN</td>\n",
       "      <td>50</td>\n",
       "      <td>среднее</td>\n",
       "      <td>1</td>\n",
       "      <td>гражданский брак</td>\n",
       "      <td>1</td>\n",
       "      <td>F</td>\n",
       "      <td>сотрудник</td>\n",
       "      <td>0</td>\n",
       "      <td>NaN</td>\n",
       "      <td>свадьба</td>\n",
       "    </tr>\n",
       "    <tr>\n",
       "      <td>21497</td>\n",
       "      <td>0</td>\n",
       "      <td>NaN</td>\n",
       "      <td>48</td>\n",
       "      <td>ВЫСШЕЕ</td>\n",
       "      <td>0</td>\n",
       "      <td>женат / замужем</td>\n",
       "      <td>0</td>\n",
       "      <td>F</td>\n",
       "      <td>компаньон</td>\n",
       "      <td>0</td>\n",
       "      <td>NaN</td>\n",
       "      <td>строительство недвижимости</td>\n",
       "    </tr>\n",
       "    <tr>\n",
       "      <td>21502</td>\n",
       "      <td>1</td>\n",
       "      <td>NaN</td>\n",
       "      <td>42</td>\n",
       "      <td>среднее</td>\n",
       "      <td>1</td>\n",
       "      <td>женат / замужем</td>\n",
       "      <td>0</td>\n",
       "      <td>F</td>\n",
       "      <td>сотрудник</td>\n",
       "      <td>0</td>\n",
       "      <td>NaN</td>\n",
       "      <td>строительство жилой недвижимости</td>\n",
       "    </tr>\n",
       "    <tr>\n",
       "      <td>21510</td>\n",
       "      <td>2</td>\n",
       "      <td>NaN</td>\n",
       "      <td>28</td>\n",
       "      <td>среднее</td>\n",
       "      <td>1</td>\n",
       "      <td>женат / замужем</td>\n",
       "      <td>0</td>\n",
       "      <td>F</td>\n",
       "      <td>сотрудник</td>\n",
       "      <td>0</td>\n",
       "      <td>NaN</td>\n",
       "      <td>приобретение автомобиля</td>\n",
       "    </tr>\n",
       "  </tbody>\n",
       "</table>\n",
       "<p>2174 rows × 12 columns</p>\n",
       "</div>"
      ],
      "text/plain": [
       "       children  days_employed  dob_years education  education_id  \\\n",
       "12            0            NaN         65   среднее             1   \n",
       "26            0            NaN         41   среднее             1   \n",
       "29            0            NaN         63   среднее             1   \n",
       "41            0            NaN         50   среднее             1   \n",
       "55            0            NaN         54   среднее             1   \n",
       "...         ...            ...        ...       ...           ...   \n",
       "21489         2            NaN         47   Среднее             1   \n",
       "21495         1            NaN         50   среднее             1   \n",
       "21497         0            NaN         48    ВЫСШЕЕ             0   \n",
       "21502         1            NaN         42   среднее             1   \n",
       "21510         2            NaN         28   среднее             1   \n",
       "\n",
       "               family_status  family_status_id gender  income_type  debt  \\\n",
       "12          гражданский брак                 1      M    пенсионер     0   \n",
       "26           женат / замужем                 0      M  госслужащий     0   \n",
       "29     Не женат / не замужем                 4      F    пенсионер     0   \n",
       "41           женат / замужем                 0      F  госслужащий     0   \n",
       "55          гражданский брак                 1      F    пенсионер     1   \n",
       "...                      ...               ...    ...          ...   ...   \n",
       "21489        женат / замужем                 0      M    компаньон     0   \n",
       "21495       гражданский брак                 1      F    сотрудник     0   \n",
       "21497        женат / замужем                 0      F    компаньон     0   \n",
       "21502        женат / замужем                 0      F    сотрудник     0   \n",
       "21510        женат / замужем                 0      F    сотрудник     0   \n",
       "\n",
       "       total_income                           purpose  \n",
       "12              NaN                   сыграть свадьбу  \n",
       "26              NaN                       образование  \n",
       "29              NaN  строительство жилой недвижимости  \n",
       "41              NaN  сделка с подержанным автомобилем  \n",
       "55              NaN                   сыграть свадьбу  \n",
       "...             ...                               ...  \n",
       "21489           NaN              сделка с автомобилем  \n",
       "21495           NaN                           свадьба  \n",
       "21497           NaN        строительство недвижимости  \n",
       "21502           NaN  строительство жилой недвижимости  \n",
       "21510           NaN           приобретение автомобиля  \n",
       "\n",
       "[2174 rows x 12 columns]"
      ]
     },
     "execution_count": 4,
     "metadata": {},
     "output_type": "execute_result"
    }
   ],
   "source": [
    "data[data['total_income'].isnull()]"
   ]
  },
  {
   "cell_type": "code",
   "execution_count": 5,
   "metadata": {},
   "outputs": [
    {
     "data": {
      "text/html": [
       "<div>\n",
       "<style scoped>\n",
       "    .dataframe tbody tr th:only-of-type {\n",
       "        vertical-align: middle;\n",
       "    }\n",
       "\n",
       "    .dataframe tbody tr th {\n",
       "        vertical-align: top;\n",
       "    }\n",
       "\n",
       "    .dataframe thead th {\n",
       "        text-align: right;\n",
       "    }\n",
       "</style>\n",
       "<table border=\"1\" class=\"dataframe\">\n",
       "  <thead>\n",
       "    <tr style=\"text-align: right;\">\n",
       "      <th></th>\n",
       "      <th>children</th>\n",
       "      <th>days_employed</th>\n",
       "      <th>dob_years</th>\n",
       "      <th>education</th>\n",
       "      <th>education_id</th>\n",
       "      <th>family_status</th>\n",
       "      <th>family_status_id</th>\n",
       "      <th>gender</th>\n",
       "      <th>income_type</th>\n",
       "      <th>debt</th>\n",
       "      <th>total_income</th>\n",
       "      <th>purpose</th>\n",
       "    </tr>\n",
       "  </thead>\n",
       "  <tbody>\n",
       "    <tr>\n",
       "      <td>12</td>\n",
       "      <td>0</td>\n",
       "      <td>NaN</td>\n",
       "      <td>65</td>\n",
       "      <td>среднее</td>\n",
       "      <td>1</td>\n",
       "      <td>гражданский брак</td>\n",
       "      <td>1</td>\n",
       "      <td>M</td>\n",
       "      <td>пенсионер</td>\n",
       "      <td>0</td>\n",
       "      <td>NaN</td>\n",
       "      <td>сыграть свадьбу</td>\n",
       "    </tr>\n",
       "    <tr>\n",
       "      <td>26</td>\n",
       "      <td>0</td>\n",
       "      <td>NaN</td>\n",
       "      <td>41</td>\n",
       "      <td>среднее</td>\n",
       "      <td>1</td>\n",
       "      <td>женат / замужем</td>\n",
       "      <td>0</td>\n",
       "      <td>M</td>\n",
       "      <td>госслужащий</td>\n",
       "      <td>0</td>\n",
       "      <td>NaN</td>\n",
       "      <td>образование</td>\n",
       "    </tr>\n",
       "    <tr>\n",
       "      <td>29</td>\n",
       "      <td>0</td>\n",
       "      <td>NaN</td>\n",
       "      <td>63</td>\n",
       "      <td>среднее</td>\n",
       "      <td>1</td>\n",
       "      <td>Не женат / не замужем</td>\n",
       "      <td>4</td>\n",
       "      <td>F</td>\n",
       "      <td>пенсионер</td>\n",
       "      <td>0</td>\n",
       "      <td>NaN</td>\n",
       "      <td>строительство жилой недвижимости</td>\n",
       "    </tr>\n",
       "    <tr>\n",
       "      <td>41</td>\n",
       "      <td>0</td>\n",
       "      <td>NaN</td>\n",
       "      <td>50</td>\n",
       "      <td>среднее</td>\n",
       "      <td>1</td>\n",
       "      <td>женат / замужем</td>\n",
       "      <td>0</td>\n",
       "      <td>F</td>\n",
       "      <td>госслужащий</td>\n",
       "      <td>0</td>\n",
       "      <td>NaN</td>\n",
       "      <td>сделка с подержанным автомобилем</td>\n",
       "    </tr>\n",
       "    <tr>\n",
       "      <td>55</td>\n",
       "      <td>0</td>\n",
       "      <td>NaN</td>\n",
       "      <td>54</td>\n",
       "      <td>среднее</td>\n",
       "      <td>1</td>\n",
       "      <td>гражданский брак</td>\n",
       "      <td>1</td>\n",
       "      <td>F</td>\n",
       "      <td>пенсионер</td>\n",
       "      <td>1</td>\n",
       "      <td>NaN</td>\n",
       "      <td>сыграть свадьбу</td>\n",
       "    </tr>\n",
       "  </tbody>\n",
       "</table>\n",
       "</div>"
      ],
      "text/plain": [
       "    children  days_employed  dob_years education  education_id  \\\n",
       "12         0            NaN         65   среднее             1   \n",
       "26         0            NaN         41   среднее             1   \n",
       "29         0            NaN         63   среднее             1   \n",
       "41         0            NaN         50   среднее             1   \n",
       "55         0            NaN         54   среднее             1   \n",
       "\n",
       "            family_status  family_status_id gender  income_type  debt  \\\n",
       "12       гражданский брак                 1      M    пенсионер     0   \n",
       "26        женат / замужем                 0      M  госслужащий     0   \n",
       "29  Не женат / не замужем                 4      F    пенсионер     0   \n",
       "41        женат / замужем                 0      F  госслужащий     0   \n",
       "55       гражданский брак                 1      F    пенсионер     1   \n",
       "\n",
       "    total_income                           purpose  \n",
       "12           NaN                   сыграть свадьбу  \n",
       "26           NaN                       образование  \n",
       "29           NaN  строительство жилой недвижимости  \n",
       "41           NaN  сделка с подержанным автомобилем  \n",
       "55           NaN                   сыграть свадьбу  "
      ]
     },
     "execution_count": 5,
     "metadata": {},
     "output_type": "execute_result"
    }
   ],
   "source": [
    "data[data['total_income'].isna()].head()"
   ]
  },
  {
   "cell_type": "markdown",
   "metadata": {},
   "source": [
    "По полученной таблице можно предположить, что если в `'days_employed'` значение `NaN`, то и в `'total_income'` тоже будет `NaN`"
   ]
  },
  {
   "cell_type": "markdown",
   "metadata": {},
   "source": [
    "Проверим это условием:"
   ]
  },
  {
   "cell_type": "code",
   "execution_count": 6,
   "metadata": {
    "scrolled": true
   },
   "outputs": [
    {
     "data": {
      "text/html": [
       "<div>\n",
       "<style scoped>\n",
       "    .dataframe tbody tr th:only-of-type {\n",
       "        vertical-align: middle;\n",
       "    }\n",
       "\n",
       "    .dataframe tbody tr th {\n",
       "        vertical-align: top;\n",
       "    }\n",
       "\n",
       "    .dataframe thead th {\n",
       "        text-align: right;\n",
       "    }\n",
       "</style>\n",
       "<table border=\"1\" class=\"dataframe\">\n",
       "  <thead>\n",
       "    <tr style=\"text-align: right;\">\n",
       "      <th></th>\n",
       "      <th>children</th>\n",
       "      <th>days_employed</th>\n",
       "      <th>dob_years</th>\n",
       "      <th>education</th>\n",
       "      <th>education_id</th>\n",
       "      <th>family_status</th>\n",
       "      <th>family_status_id</th>\n",
       "      <th>gender</th>\n",
       "      <th>income_type</th>\n",
       "      <th>debt</th>\n",
       "      <th>total_income</th>\n",
       "      <th>purpose</th>\n",
       "    </tr>\n",
       "  </thead>\n",
       "  <tbody>\n",
       "    <tr>\n",
       "      <td>12</td>\n",
       "      <td>0</td>\n",
       "      <td>NaN</td>\n",
       "      <td>65</td>\n",
       "      <td>среднее</td>\n",
       "      <td>1</td>\n",
       "      <td>гражданский брак</td>\n",
       "      <td>1</td>\n",
       "      <td>M</td>\n",
       "      <td>пенсионер</td>\n",
       "      <td>0</td>\n",
       "      <td>NaN</td>\n",
       "      <td>сыграть свадьбу</td>\n",
       "    </tr>\n",
       "    <tr>\n",
       "      <td>26</td>\n",
       "      <td>0</td>\n",
       "      <td>NaN</td>\n",
       "      <td>41</td>\n",
       "      <td>среднее</td>\n",
       "      <td>1</td>\n",
       "      <td>женат / замужем</td>\n",
       "      <td>0</td>\n",
       "      <td>M</td>\n",
       "      <td>госслужащий</td>\n",
       "      <td>0</td>\n",
       "      <td>NaN</td>\n",
       "      <td>образование</td>\n",
       "    </tr>\n",
       "    <tr>\n",
       "      <td>29</td>\n",
       "      <td>0</td>\n",
       "      <td>NaN</td>\n",
       "      <td>63</td>\n",
       "      <td>среднее</td>\n",
       "      <td>1</td>\n",
       "      <td>Не женат / не замужем</td>\n",
       "      <td>4</td>\n",
       "      <td>F</td>\n",
       "      <td>пенсионер</td>\n",
       "      <td>0</td>\n",
       "      <td>NaN</td>\n",
       "      <td>строительство жилой недвижимости</td>\n",
       "    </tr>\n",
       "    <tr>\n",
       "      <td>41</td>\n",
       "      <td>0</td>\n",
       "      <td>NaN</td>\n",
       "      <td>50</td>\n",
       "      <td>среднее</td>\n",
       "      <td>1</td>\n",
       "      <td>женат / замужем</td>\n",
       "      <td>0</td>\n",
       "      <td>F</td>\n",
       "      <td>госслужащий</td>\n",
       "      <td>0</td>\n",
       "      <td>NaN</td>\n",
       "      <td>сделка с подержанным автомобилем</td>\n",
       "    </tr>\n",
       "    <tr>\n",
       "      <td>55</td>\n",
       "      <td>0</td>\n",
       "      <td>NaN</td>\n",
       "      <td>54</td>\n",
       "      <td>среднее</td>\n",
       "      <td>1</td>\n",
       "      <td>гражданский брак</td>\n",
       "      <td>1</td>\n",
       "      <td>F</td>\n",
       "      <td>пенсионер</td>\n",
       "      <td>1</td>\n",
       "      <td>NaN</td>\n",
       "      <td>сыграть свадьбу</td>\n",
       "    </tr>\n",
       "  </tbody>\n",
       "</table>\n",
       "</div>"
      ],
      "text/plain": [
       "    children  days_employed  dob_years education  education_id  \\\n",
       "12         0            NaN         65   среднее             1   \n",
       "26         0            NaN         41   среднее             1   \n",
       "29         0            NaN         63   среднее             1   \n",
       "41         0            NaN         50   среднее             1   \n",
       "55         0            NaN         54   среднее             1   \n",
       "\n",
       "            family_status  family_status_id gender  income_type  debt  \\\n",
       "12       гражданский брак                 1      M    пенсионер     0   \n",
       "26        женат / замужем                 0      M  госслужащий     0   \n",
       "29  Не женат / не замужем                 4      F    пенсионер     0   \n",
       "41        женат / замужем                 0      F  госслужащий     0   \n",
       "55       гражданский брак                 1      F    пенсионер     1   \n",
       "\n",
       "    total_income                           purpose  \n",
       "12           NaN                   сыграть свадьбу  \n",
       "26           NaN                       образование  \n",
       "29           NaN  строительство жилой недвижимости  \n",
       "41           NaN  сделка с подержанным автомобилем  \n",
       "55           NaN                   сыграть свадьбу  "
      ]
     },
     "execution_count": 6,
     "metadata": {},
     "output_type": "execute_result"
    }
   ],
   "source": [
    "data.loc[(data['total_income'].isna())&(data['days_employed'].isna())].head()"
   ]
  },
  {
   "cell_type": "markdown",
   "metadata": {},
   "source": [
    "Посчитаем количество таких строк"
   ]
  },
  {
   "cell_type": "code",
   "execution_count": 7,
   "metadata": {},
   "outputs": [
    {
     "data": {
      "text/plain": [
       "2174"
      ]
     },
     "execution_count": 7,
     "metadata": {},
     "output_type": "execute_result"
    }
   ],
   "source": [
    "len(data.loc[(data['total_income'].isna())&(data['days_employed'].isna())])"
   ]
  },
  {
   "cell_type": "markdown",
   "metadata": {},
   "source": [
    "Таким образом, мы получили, что 2174 строки одновременно содержат `NaN` в столбцах `'days_employed'` и `'total_income'`. Возможных причин для пустых значений может быть несколько: клиент не стал указывать трудовой стаж и доход, отсутствует ежемесячный доход и стаж работы, либо вследствие технического сбоя. \n",
    "Удалять строки с пустыми данными нельзя, так как они содержат важные для нас данные по количеству детей и семейному положению. Пока что будем считать, что у таких клиентов отсутствует трудовой стаж и ежемесячный доход. Произведем замену `NaN` на 0 методом `fillna()`"
   ]
  },
  {
   "cell_type": "code",
   "execution_count": 8,
   "metadata": {},
   "outputs": [
    {
     "name": "stdout",
     "output_type": "stream",
     "text": [
      "<class 'pandas.core.frame.DataFrame'>\n",
      "RangeIndex: 21525 entries, 0 to 21524\n",
      "Data columns (total 12 columns):\n",
      "children            21525 non-null int64\n",
      "days_employed       21525 non-null float64\n",
      "dob_years           21525 non-null int64\n",
      "education           21525 non-null object\n",
      "education_id        21525 non-null int64\n",
      "family_status       21525 non-null object\n",
      "family_status_id    21525 non-null int64\n",
      "gender              21525 non-null object\n",
      "income_type         21525 non-null object\n",
      "debt                21525 non-null int64\n",
      "total_income        21525 non-null float64\n",
      "purpose             21525 non-null object\n",
      "dtypes: float64(2), int64(5), object(5)\n",
      "memory usage: 2.0+ MB\n"
     ]
    }
   ],
   "source": [
    "data['total_income'] = data['total_income'].fillna(0)\n",
    "data['days_employed'] = data['days_employed'].fillna(0)\n",
    "data.info()"
   ]
  },
  {
   "cell_type": "markdown",
   "metadata": {},
   "source": [
    "**Вывод**"
   ]
  },
  {
   "cell_type": "markdown",
   "metadata": {},
   "source": [
    "Выявили пропущенные значения в ежемесячном доходе и стаже работы. Установили, что в строках, где нет дохода, так же отсутствует стаж работы. Для таких записей сделали замену пропусков на 0, посчитав, что у клиента ежемесячный доход отсутствует."
   ]
  },
  {
   "cell_type": "markdown",
   "metadata": {},
   "source": [
    "### Замена типа данных"
   ]
  },
  {
   "cell_type": "markdown",
   "metadata": {},
   "source": [
    "В общей информации о таблице выявили столбцы с типом `float`: `'days_employed'` и `'total_income'`."
   ]
  },
  {
   "cell_type": "markdown",
   "metadata": {},
   "source": [
    "Переведем ежемесячный доход и стаж работы в целые числа, так как стаж считается в днях, а ежемесячный доход будем считать с точностью до целых. Для перевода воспользуемся `astype()`:"
   ]
  },
  {
   "cell_type": "code",
   "execution_count": 9,
   "metadata": {},
   "outputs": [],
   "source": [
    "data['total_income'] = data['total_income'].astype('int')"
   ]
  },
  {
   "cell_type": "code",
   "execution_count": 10,
   "metadata": {},
   "outputs": [
    {
     "name": "stdout",
     "output_type": "stream",
     "text": [
      "<class 'pandas.core.frame.DataFrame'>\n",
      "RangeIndex: 21525 entries, 0 to 21524\n",
      "Data columns (total 12 columns):\n",
      "children            21525 non-null int64\n",
      "days_employed       21525 non-null float64\n",
      "dob_years           21525 non-null int64\n",
      "education           21525 non-null object\n",
      "education_id        21525 non-null int64\n",
      "family_status       21525 non-null object\n",
      "family_status_id    21525 non-null int64\n",
      "gender              21525 non-null object\n",
      "income_type         21525 non-null object\n",
      "debt                21525 non-null int64\n",
      "total_income        21525 non-null int64\n",
      "purpose             21525 non-null object\n",
      "dtypes: float64(1), int64(6), object(5)\n",
      "memory usage: 2.0+ MB\n"
     ]
    }
   ],
   "source": [
    "data.info()"
   ]
  },
  {
   "cell_type": "code",
   "execution_count": 11,
   "metadata": {},
   "outputs": [],
   "source": [
    "data['days_employed'] = data['days_employed'].astype('int')"
   ]
  },
  {
   "cell_type": "code",
   "execution_count": 12,
   "metadata": {},
   "outputs": [
    {
     "name": "stdout",
     "output_type": "stream",
     "text": [
      "<class 'pandas.core.frame.DataFrame'>\n",
      "RangeIndex: 21525 entries, 0 to 21524\n",
      "Data columns (total 12 columns):\n",
      "children            21525 non-null int64\n",
      "days_employed       21525 non-null int64\n",
      "dob_years           21525 non-null int64\n",
      "education           21525 non-null object\n",
      "education_id        21525 non-null int64\n",
      "family_status       21525 non-null object\n",
      "family_status_id    21525 non-null int64\n",
      "gender              21525 non-null object\n",
      "income_type         21525 non-null object\n",
      "debt                21525 non-null int64\n",
      "total_income        21525 non-null int64\n",
      "purpose             21525 non-null object\n",
      "dtypes: int64(7), object(5)\n",
      "memory usage: 2.0+ MB\n"
     ]
    }
   ],
   "source": [
    "data.info()"
   ]
  },
  {
   "cell_type": "markdown",
   "metadata": {},
   "source": [
    "**Вывод**"
   ]
  },
  {
   "cell_type": "markdown",
   "metadata": {},
   "source": [
    "Произвели замену типов`float` на `int` для столбцов `'days_employed'` и `'total_income'`. "
   ]
  },
  {
   "cell_type": "markdown",
   "metadata": {},
   "source": [
    "### Обработка дубликатов"
   ]
  },
  {
   "cell_type": "markdown",
   "metadata": {},
   "source": [
    "Перед тем, как приступать к поиску явных дубликатов, исследуем каждый столбец на артефакты/уникальные значения"
   ]
  },
  {
   "cell_type": "markdown",
   "metadata": {},
   "source": [
    "#### Проверка столбца `'children'`"
   ]
  },
  {
   "cell_type": "markdown",
   "metadata": {},
   "source": [
    "Посмотрим на уникальные значения столбца `'children'` используем метод `unique()`"
   ]
  },
  {
   "cell_type": "code",
   "execution_count": 13,
   "metadata": {},
   "outputs": [
    {
     "data": {
      "text/plain": [
       "array([ 1,  0,  3,  2, -1,  4, 20,  5])"
      ]
     },
     "execution_count": 13,
     "metadata": {},
     "output_type": "execute_result"
    }
   ],
   "source": [
    "data['children'].unique()"
   ]
  },
  {
   "cell_type": "markdown",
   "metadata": {},
   "source": [
    "Выдающиеся значения '-1' и '20'. Посмотрим сколько записей по каждому значению методом `value_counts()`"
   ]
  },
  {
   "cell_type": "code",
   "execution_count": 14,
   "metadata": {},
   "outputs": [
    {
     "data": {
      "text/plain": [
       " 0     14149\n",
       " 1      4818\n",
       " 2      2055\n",
       " 3       330\n",
       " 20       76\n",
       "-1        47\n",
       " 4        41\n",
       " 5         9\n",
       "Name: children, dtype: int64"
      ]
     },
     "execution_count": 14,
     "metadata": {},
     "output_type": "execute_result"
    }
   ],
   "source": [
    "data['children'].value_counts()"
   ]
  },
  {
   "cell_type": "markdown",
   "metadata": {},
   "source": [
    "Исходя из этих данных, можно заметить резкое уменьшение числа записей с ростом количества детей. Для 5 детей всего 9 записей. Вероятнее всего, значение '20' появилось вследствие опечатки. Поэтому отнесем такие записи к записям, где двое детей. Записи со значение '-1' отнесем к записям с '1'. Возможно, стоит добавить валидацию на значения поля на этапе формирования заявки на кредит. Воспользуемся методом `replace()`"
   ]
  },
  {
   "cell_type": "code",
   "execution_count": 15,
   "metadata": {},
   "outputs": [],
   "source": [
    "data['children'] = data['children'].replace(20, 2)"
   ]
  },
  {
   "cell_type": "code",
   "execution_count": 16,
   "metadata": {},
   "outputs": [],
   "source": [
    "data['children'] = data['children'].replace(-1, 1)"
   ]
  },
  {
   "cell_type": "code",
   "execution_count": 17,
   "metadata": {},
   "outputs": [
    {
     "data": {
      "text/plain": [
       "0    14149\n",
       "1     4865\n",
       "2     2131\n",
       "3      330\n",
       "4       41\n",
       "5        9\n",
       "Name: children, dtype: int64"
      ]
     },
     "execution_count": 17,
     "metadata": {},
     "output_type": "execute_result"
    }
   ],
   "source": [
    "data['children'].value_counts()"
   ]
  },
  {
   "cell_type": "markdown",
   "metadata": {},
   "source": [
    "Столбец с количеством детей привели в порядок."
   ]
  },
  {
   "cell_type": "markdown",
   "metadata": {},
   "source": [
    "#### Проверка столбца `'income_type'`"
   ]
  },
  {
   "cell_type": "markdown",
   "metadata": {},
   "source": [
    "Проверяем на уникальность `income_type`"
   ]
  },
  {
   "cell_type": "code",
   "execution_count": 18,
   "metadata": {},
   "outputs": [
    {
     "data": {
      "text/plain": [
       "array(['сотрудник', 'пенсионер', 'компаньон', 'госслужащий',\n",
       "       'безработный', 'предприниматель', 'студент', 'в декрете'],\n",
       "      dtype=object)"
      ]
     },
     "execution_count": 18,
     "metadata": {},
     "output_type": "execute_result"
    }
   ],
   "source": [
    "data['income_type'].unique()"
   ]
  },
  {
   "cell_type": "markdown",
   "metadata": {},
   "source": [
    "С типами клиентов всё в порядке."
   ]
  },
  {
   "cell_type": "markdown",
   "metadata": {},
   "source": [
    "#### Проверка столбца `'dob_years'`"
   ]
  },
  {
   "cell_type": "markdown",
   "metadata": {},
   "source": [
    "Посмотрим на уникальные значения в `'dob_years'`"
   ]
  },
  {
   "cell_type": "code",
   "execution_count": 19,
   "metadata": {},
   "outputs": [
    {
     "data": {
      "text/plain": [
       "array([42, 36, 33, 32, 53, 27, 43, 50, 35, 41, 40, 65, 54, 56, 26, 48, 24,\n",
       "       21, 57, 67, 28, 63, 62, 47, 34, 68, 25, 31, 30, 20, 49, 37, 45, 61,\n",
       "       64, 44, 52, 46, 23, 38, 39, 51,  0, 59, 29, 60, 55, 58, 71, 22, 73,\n",
       "       66, 69, 19, 72, 70, 74, 75])"
      ]
     },
     "execution_count": 19,
     "metadata": {},
     "output_type": "execute_result"
    }
   ],
   "source": [
    "data['dob_years'].unique()"
   ]
  },
  {
   "cell_type": "markdown",
   "metadata": {},
   "source": [
    "Среди данных о возрасте есть значение `0`. Для исключения нулевых данных возраста, возможно стоит предусмотреть обязательное заполнение данного поля клиентом, с добавлением валидации на ненулевое значение."
   ]
  },
  {
   "cell_type": "code",
   "execution_count": 20,
   "metadata": {},
   "outputs": [
    {
     "data": {
      "text/plain": [
       "101"
      ]
     },
     "execution_count": 20,
     "metadata": {},
     "output_type": "execute_result"
    }
   ],
   "source": [
    "#Находим количество таких записей в таблице\n",
    "len(data.loc[data['dob_years'] == 0 ])"
   ]
  },
  {
   "cell_type": "markdown",
   "metadata": {},
   "source": [
    "101 запись в таблице с указанным возрастом `0`. Для замены нулевого значения поступим следующим образом. Для каждой записи с нулевым возрастом посмотрим, какой был указан тип клиента. Для каждого типа клиента рассчитаем среднее значение возраста. А потом заменим нулевое значение на среднее, в зависимости от его типа. Среднее значение было использовано, так как шкала возраста более менее непрерывна."
   ]
  },
  {
   "cell_type": "code",
   "execution_count": 21,
   "metadata": {},
   "outputs": [
    {
     "data": {
      "text/plain": [
       "сотрудник      55\n",
       "пенсионер      20\n",
       "компаньон      20\n",
       "госслужащий     6\n",
       "Name: income_type, dtype: int64"
      ]
     },
     "execution_count": 21,
     "metadata": {},
     "output_type": "execute_result"
    }
   ],
   "source": [
    "#Создаем новую таблицу c нулевым возрастом и типом клиента, применив фильтрацию к исходной\n",
    "data_years_type = data[['dob_years','income_type']].loc[data['dob_years'] == 0 ]\n",
    "#находим все типы клиента с возрастом ноль\n",
    "data_years_type['income_type'].value_counts()"
   ]
  },
  {
   "cell_type": "markdown",
   "metadata": {},
   "source": [
    "Установили, что для следующих типов клиента в записях есть нулевые значения возраста:\n",
    "1. сотрудник      \n",
    "1. пенсионер\n",
    "1. компаньон\n",
    "1. госслужащий\n",
    "\n",
    "Для каждого найденного типа рассчитаем средний возраст. Потом подставим его в нулевые значения:"
   ]
  },
  {
   "cell_type": "code",
   "execution_count": 22,
   "metadata": {},
   "outputs": [],
   "source": [
    "#Находим среднее значение для типа 'сотрудник' и сразу переводим в 'int'\n",
    "mean_1 = data['dob_years'].loc[data['income_type'] == 'сотрудник'].mean().astype('int')\n",
    "\n",
    "#Находим среднее значение для типа 'пенсионер' и сразу переводим в 'int'\n",
    "mean_2 = data['dob_years'].loc[data['income_type'] == 'пенсионер'].mean().astype('int')\n",
    "\n",
    "#Находим среднее значение для типа 'компаньон' и сразу переводим в 'int'\n",
    "mean_3 = data['dob_years'].loc[data['income_type'] == 'компаньон'].mean().astype('int')\n",
    "\n",
    "#Находим среднее значение для типа 'компаньон' и сразу переводим в 'int'\n",
    "mean_4 = data['dob_years'].loc[data['income_type'] == 'госслужащий'].mean().astype('int')\n",
    "\n"
   ]
  },
  {
   "cell_type": "code",
   "execution_count": 23,
   "metadata": {},
   "outputs": [],
   "source": [
    "#Присваиваем нулевым значениям рассчитанные средние значения возраста по каждой категории\n",
    "data.loc[(data['income_type'] == 'сотрудник')&(data['dob_years'] == 0), 'dob_years'] = mean_1\n",
    "data.loc[(data['income_type'] == 'пенсионер')&(data['dob_years'] == 0), 'dob_years'] = mean_2\n",
    "data.loc[(data['income_type'] == 'компаньон')&(data['dob_years'] == 0), 'dob_years'] = mean_3\n",
    "data.loc[(data['income_type'] == 'госслужащий')&(data['dob_years'] == 0), 'dob_years'] = mean_4"
   ]
  },
  {
   "cell_type": "code",
   "execution_count": 24,
   "metadata": {},
   "outputs": [
    {
     "data": {
      "text/plain": [
       "0"
      ]
     },
     "execution_count": 24,
     "metadata": {},
     "output_type": "execute_result"
    }
   ],
   "source": [
    "#Проверяем, что в таблице не осталось нулевых значений возраста\n",
    "len(data.loc[data['dob_years'] == 0 ])"
   ]
  },
  {
   "cell_type": "markdown",
   "metadata": {},
   "source": [
    "Столбец возраста привели в порядок. Все нулевые значения возраста заменили на средние значения в зависимости от типа клиента"
   ]
  },
  {
   "cell_type": "markdown",
   "metadata": {},
   "source": [
    "#### Проверка столбца `'education'`"
   ]
  },
  {
   "cell_type": "markdown",
   "metadata": {},
   "source": [
    "При первичном осмотре таблицы в глаза бросались значения в `'education'` с разными регистрами. Посмотрим на все значения:"
   ]
  },
  {
   "cell_type": "code",
   "execution_count": 25,
   "metadata": {},
   "outputs": [
    {
     "data": {
      "text/plain": [
       "array(['высшее', 'среднее', 'Среднее', 'СРЕДНЕЕ', 'ВЫСШЕЕ',\n",
       "       'неоконченное высшее', 'начальное', 'Высшее',\n",
       "       'НЕОКОНЧЕННОЕ ВЫСШЕЕ', 'Неоконченное высшее', 'НАЧАЛЬНОЕ',\n",
       "       'Начальное', 'Ученая степень', 'УЧЕНАЯ СТЕПЕНЬ', 'ученая степень'],\n",
       "      dtype=object)"
      ]
     },
     "execution_count": 25,
     "metadata": {},
     "output_type": "execute_result"
    }
   ],
   "source": [
    "data['education'].unique()"
   ]
  },
  {
   "cell_type": "markdown",
   "metadata": {},
   "source": [
    "Приведем все значения в `'education'` к нижнему регистру, по аналогии с `family_status`"
   ]
  },
  {
   "cell_type": "code",
   "execution_count": 26,
   "metadata": {},
   "outputs": [
    {
     "data": {
      "text/plain": [
       "array(['высшее', 'среднее', 'неоконченное высшее', 'начальное',\n",
       "       'ученая степень'], dtype=object)"
      ]
     },
     "execution_count": 26,
     "metadata": {},
     "output_type": "execute_result"
    }
   ],
   "source": [
    "data['education'] = data['education'].str.lower()\n",
    "data['education'].unique()"
   ]
  },
  {
   "cell_type": "markdown",
   "metadata": {},
   "source": [
    "Значения в `'education'` привели в порядок"
   ]
  },
  {
   "cell_type": "markdown",
   "metadata": {},
   "source": [
    "#### Проверка столбца `'education_id'`"
   ]
  },
  {
   "cell_type": "markdown",
   "metadata": {},
   "source": [
    "Проверяем значения в `'education_id'`"
   ]
  },
  {
   "cell_type": "code",
   "execution_count": 27,
   "metadata": {},
   "outputs": [
    {
     "data": {
      "text/plain": [
       "array([0, 1, 2, 3, 4])"
      ]
     },
     "execution_count": 27,
     "metadata": {},
     "output_type": "execute_result"
    }
   ],
   "source": [
    "data['education_id'].unique()"
   ]
  },
  {
   "cell_type": "markdown",
   "metadata": {},
   "source": [
    "Артефактов не обнаружено, столбец в порядке"
   ]
  },
  {
   "cell_type": "markdown",
   "metadata": {},
   "source": [
    "#### Проверка столбца `'family_status'`"
   ]
  },
  {
   "cell_type": "markdown",
   "metadata": {},
   "source": [
    "Посмотрим на уникальные значения столбца `'family_status'`"
   ]
  },
  {
   "cell_type": "code",
   "execution_count": 28,
   "metadata": {},
   "outputs": [
    {
     "data": {
      "text/plain": [
       "array(['женат / замужем', 'гражданский брак', 'вдовец / вдова',\n",
       "       'в разводе', 'Не женат / не замужем'], dtype=object)"
      ]
     },
     "execution_count": 28,
     "metadata": {},
     "output_type": "execute_result"
    }
   ],
   "source": [
    "data['family_status'].unique()"
   ]
  },
  {
   "cell_type": "markdown",
   "metadata": {},
   "source": [
    "Поправим значение 'Не женат/ не замежуем', чтобы все значения были в нижнем регистре. Воспользуемся методом `str.lower()`"
   ]
  },
  {
   "cell_type": "code",
   "execution_count": 29,
   "metadata": {},
   "outputs": [
    {
     "data": {
      "text/plain": [
       "array(['женат / замужем', 'гражданский брак', 'вдовец / вдова',\n",
       "       'в разводе', 'не женат / не замужем'], dtype=object)"
      ]
     },
     "execution_count": 29,
     "metadata": {},
     "output_type": "execute_result"
    }
   ],
   "source": [
    "data['family_status'] = data['family_status'].str.lower()\n",
    "data['family_status'].unique()"
   ]
  },
  {
   "cell_type": "markdown",
   "metadata": {},
   "source": [
    "Семейные статусы приведены в порядок"
   ]
  },
  {
   "cell_type": "markdown",
   "metadata": {},
   "source": [
    "#### Проверка столбца `'family_status_id'`"
   ]
  },
  {
   "cell_type": "markdown",
   "metadata": {},
   "source": [
    "Теперь посмотрим на уникальные значения столбца `'family_status_id'`"
   ]
  },
  {
   "cell_type": "code",
   "execution_count": 30,
   "metadata": {},
   "outputs": [
    {
     "data": {
      "text/plain": [
       "array([0, 1, 2, 3, 4])"
      ]
     },
     "execution_count": 30,
     "metadata": {},
     "output_type": "execute_result"
    }
   ],
   "source": [
    "data['family_status_id'].unique()"
   ]
  },
  {
   "cell_type": "markdown",
   "metadata": {},
   "source": [
    "Артефактов не обнаружено"
   ]
  },
  {
   "cell_type": "markdown",
   "metadata": {},
   "source": [
    "#### Проверка столбца `'debt'`"
   ]
  },
  {
   "cell_type": "markdown",
   "metadata": {},
   "source": [
    "Проверим уникальные значения в `'debt'`"
   ]
  },
  {
   "cell_type": "code",
   "execution_count": 31,
   "metadata": {},
   "outputs": [
    {
     "data": {
      "text/plain": [
       "array([0, 1])"
      ]
     },
     "execution_count": 31,
     "metadata": {},
     "output_type": "execute_result"
    }
   ],
   "source": [
    "data['debt'].unique()"
   ]
  },
  {
   "cell_type": "markdown",
   "metadata": {},
   "source": [
    "Артефактов не обнаружено"
   ]
  },
  {
   "cell_type": "markdown",
   "metadata": {},
   "source": [
    "#### Проверка столбца `'gender '`"
   ]
  },
  {
   "cell_type": "code",
   "execution_count": 32,
   "metadata": {},
   "outputs": [
    {
     "data": {
      "text/plain": [
       "array(['F', 'M', 'XNA'], dtype=object)"
      ]
     },
     "execution_count": 32,
     "metadata": {},
     "output_type": "execute_result"
    }
   ],
   "source": [
    "data['gender'].unique()"
   ]
  },
  {
   "cell_type": "markdown",
   "metadata": {},
   "source": [
    "Среди значений пола есть значение 'XNA'. Проверим количество записей с таким значеним"
   ]
  },
  {
   "cell_type": "code",
   "execution_count": 33,
   "metadata": {},
   "outputs": [
    {
     "data": {
      "text/plain": [
       "F      14236\n",
       "M       7288\n",
       "XNA        1\n",
       "Name: gender, dtype: int64"
      ]
     },
     "execution_count": 33,
     "metadata": {},
     "output_type": "execute_result"
    }
   ],
   "source": [
    "data['gender'].value_counts()"
   ]
  },
  {
   "cell_type": "markdown",
   "metadata": {},
   "source": [
    "В данных только одна запись с пропущенным полом клиента. Удалим её из выборки. Возможно, при обработке данных стоит учесть валидацию на ввод поля \"Пол\"."
   ]
  },
  {
   "cell_type": "code",
   "execution_count": 34,
   "metadata": {},
   "outputs": [],
   "source": [
    "#Присвоим data отфильтрованную версию себя, без значения 'XNA'\n",
    "data = data.loc[data['gender'] != 'XNA']"
   ]
  },
  {
   "cell_type": "code",
   "execution_count": 35,
   "metadata": {},
   "outputs": [
    {
     "data": {
      "text/plain": [
       "array(['F', 'M'], dtype=object)"
      ]
     },
     "execution_count": 35,
     "metadata": {},
     "output_type": "execute_result"
    }
   ],
   "source": [
    "#Проверим, что в data в столбце 'gender' отсутствует пропущенное значение\n",
    "data['gender'].unique()"
   ]
  },
  {
   "cell_type": "markdown",
   "metadata": {},
   "source": [
    "Столбец `'gender'` привели в порядок"
   ]
  },
  {
   "cell_type": "markdown",
   "metadata": {},
   "source": [
    "#### Проверка столбца `'total_income '`"
   ]
  },
  {
   "cell_type": "markdown",
   "metadata": {},
   "source": [
    "В столбце `'total_income'` ранее мы меняли пустые значения на `'0'`."
   ]
  },
  {
   "cell_type": "code",
   "execution_count": 36,
   "metadata": {},
   "outputs": [
    {
     "data": {
      "text/plain": [
       "0         2174\n",
       "102816       3\n",
       "126262       3\n",
       "144533       3\n",
       "107832       3\n",
       "          ... \n",
       "109583       1\n",
       "101387       1\n",
       "138249       1\n",
       "280240       1\n",
       "229304       1\n",
       "Name: total_income, Length: 18606, dtype: int64"
      ]
     },
     "execution_count": 36,
     "metadata": {},
     "output_type": "execute_result"
    }
   ],
   "source": [
    "data['total_income'].value_counts()"
   ]
  },
  {
   "cell_type": "markdown",
   "metadata": {},
   "source": [
    "Теперь заполним нулевые значения на медианные для каждой категории `'income_type '`. То есть, сделаем по аналогии столбца `'dob_years'`"
   ]
  },
  {
   "cell_type": "code",
   "execution_count": 37,
   "metadata": {},
   "outputs": [
    {
     "data": {
      "text/plain": [
       "сотрудник          1105\n",
       "компаньон           508\n",
       "пенсионер           413\n",
       "госслужащий         147\n",
       "предприниматель       1\n",
       "Name: income_type, dtype: int64"
      ]
     },
     "execution_count": 37,
     "metadata": {},
     "output_type": "execute_result"
    }
   ],
   "source": [
    "#Создаем новую таблицу c нулевым доходом и типом клиента, применив фильтрацию к исходной\n",
    "data_income_type = data[['income_type','total_income']].loc[data['total_income'] == 0 ]\n",
    "#находим все типы клиента с нулевым доходом\n",
    "data_income_type['income_type'].value_counts()"
   ]
  },
  {
   "cell_type": "markdown",
   "metadata": {},
   "source": [
    "Таким образом получили, что в пяти типах присутствуют нулевые доходы. Посчитаем медианные значения для этих 5 типов:"
   ]
  },
  {
   "cell_type": "code",
   "execution_count": 38,
   "metadata": {},
   "outputs": [],
   "source": [
    "#Медианное значение для типа 'сотрудник'\n",
    "median_1 = data['total_income'].loc[data['income_type'] == 'сотрудник'].median().astype('int')\n",
    "\n",
    "#Медианное значение для типа 'компаньон'\n",
    "median_2 = data['total_income'].loc[data['income_type'] == 'компаньон'].median().astype('int')\n",
    "\n",
    "#Медианное значение для типа 'пенсионер'\n",
    "median_3 = data['total_income'].loc[data['income_type'] == 'пенсионер'].median().astype('int')\n",
    "\n",
    "#Медианное значение для типа 'госслужащий'\n",
    "median_4 = data['total_income'].loc[data['income_type'] == 'госслужащий'].median().astype('int')\n",
    "\n",
    "#Медианное значение для типа 'предприниматель'\n",
    "median_5 = data['total_income'].loc[data['income_type'] == 'предприниматель'].median().astype('int')"
   ]
  },
  {
   "cell_type": "markdown",
   "metadata": {},
   "source": [
    "Теперь заполним нулевые значения полученными медианными значениями для каждой категории:"
   ]
  },
  {
   "cell_type": "code",
   "execution_count": 39,
   "metadata": {},
   "outputs": [],
   "source": [
    "data.loc[(data['income_type'] == 'сотрудник')&(data['total_income'] == 0), 'total_income'] = median_1\n",
    "data.loc[(data['income_type'] == 'компаньон')&(data['total_income'] == 0), 'total_income'] = median_2\n",
    "data.loc[(data['income_type'] == 'пенсионер')&(data['total_income'] == 0), 'total_income'] = median_3\n",
    "data.loc[(data['income_type'] == 'госслужащий')&(data['total_income'] == 0), 'total_income'] = median_4\n",
    "data.loc[(data['income_type'] == 'предприниматель')&(data['total_income'] == 0), 'total_income'] = median_5"
   ]
  },
  {
   "cell_type": "markdown",
   "metadata": {},
   "source": [
    "Проверим, что нулевых значений в `'total_income'` не осталось"
   ]
  },
  {
   "cell_type": "code",
   "execution_count": 40,
   "metadata": {},
   "outputs": [
    {
     "data": {
      "text/plain": [
       "133546    1106\n",
       "162379     508\n",
       "110179     414\n",
       "139034     148\n",
       "107832       3\n",
       "          ... \n",
       "101387       1\n",
       "138249       1\n",
       "280240       1\n",
       "390148       1\n",
       "264193       1\n",
       "Name: total_income, Length: 18607, dtype: int64"
      ]
     },
     "execution_count": 40,
     "metadata": {},
     "output_type": "execute_result"
    }
   ],
   "source": [
    "data['total_income'].value_counts()"
   ]
  },
  {
   "cell_type": "markdown",
   "metadata": {},
   "source": [
    "Столбец `'total_income'` привели в порядок"
   ]
  },
  {
   "cell_type": "markdown",
   "metadata": {},
   "source": [
    "#### Проверка столбца `'days_employed '`"
   ]
  },
  {
   "cell_type": "markdown",
   "metadata": {},
   "source": [
    "Проверяем столбец `'days_employed '` методом `value_counts()`"
   ]
  },
  {
   "cell_type": "code",
   "execution_count": 41,
   "metadata": {},
   "outputs": [
    {
     "data": {
      "text/plain": [
       " 0         2174\n",
       "-133         16\n",
       "-327         16\n",
       "-438         15\n",
       "-223         14\n",
       "           ... \n",
       "-11220        1\n",
       "-7126         1\n",
       " 373727       1\n",
       " 355300       1\n",
       "-4058         1\n",
       "Name: days_employed, Length: 9087, dtype: int64"
      ]
     },
     "execution_count": 41,
     "metadata": {},
     "output_type": "execute_result"
    }
   ],
   "source": [
    "data['days_employed'].value_counts()"
   ]
  },
  {
   "cell_type": "markdown",
   "metadata": {},
   "source": [
    "Самый проблемный столбец в данных. Тут и отрицательные значения, и пропуски (заменили на нулевые значения), и не характерные для трудового стажа количество дней. Отрицательные значения могли появиться здесь из-за дополнительного символа '-', который использовали как \"тире\".\n",
    "\n",
    "Попробуем привести его в порядок: заменим отрицательные значения"
   ]
  },
  {
   "cell_type": "code",
   "execution_count": 42,
   "metadata": {},
   "outputs": [
    {
     "data": {
      "text/plain": [
       "0         2174\n",
       "133         16\n",
       "327         16\n",
       "438         15\n",
       "223         14\n",
       "          ... \n",
       "350691       1\n",
       "329638       1\n",
       "346609       1\n",
       "360739       1\n",
       "6219         1\n",
       "Name: days_employed, Length: 9087, dtype: int64"
      ]
     },
     "execution_count": 42,
     "metadata": {},
     "output_type": "execute_result"
    }
   ],
   "source": [
    "#Применяем к значениям столбца 'days_employed' функцию вычисления модуля числа abs()\n",
    "data['days_employed'] = abs(data['days_employed'])\n",
    "#Проверяем, что отрицательных значений больше нет\n",
    "data['days_employed'].value_counts()"
   ]
  },
  {
   "cell_type": "markdown",
   "metadata": {},
   "source": [
    "Отрицательные значения перевели в соответствующие положительные"
   ]
  },
  {
   "cell_type": "markdown",
   "metadata": {},
   "source": [
    "Некоторые значения слишком огромные. Например, 360739. Если предположить, что данное число не в днях, а в часах, тогда при переводе в года это будет ~40 лет. Для категории \"Пенсионер\" такой стаж укладывается в здравый смысл. Возможно, данные собирались в общую таблицу из разных источников. Поэтому для категории пенсионеров все значения трудового стажа схожи и одинакого нехарактерны."
   ]
  },
  {
   "cell_type": "code",
   "execution_count": 43,
   "metadata": {},
   "outputs": [
    {
     "data": {
      "text/plain": [
       "328728"
      ]
     },
     "execution_count": 43,
     "metadata": {},
     "output_type": "execute_result"
    }
   ],
   "source": [
    "#Посмотрим на минимальное значение стажа для категории 'пенсионер'\n",
    "data['days_employed'].loc[(data['income_type'] == 'пенсионер')&(data['days_employed'] != 0)].min()"
   ]
  },
  {
   "cell_type": "markdown",
   "metadata": {},
   "source": [
    "Минимальный стаж категории 'пенсионер' при переводе в года получился 37,5 лет. То есть, вероятно, значения для пенсионеров не в днях, а в часах. Поделим все значения стажа на 24 для 'пенсионеров'"
   ]
  },
  {
   "cell_type": "code",
   "execution_count": 44,
   "metadata": {},
   "outputs": [],
   "source": [
    "data.loc[(data['income_type'] == 'пенсионер'), 'days_employed'] = (data['days_employed'] / 24).astype('int')"
   ]
  },
  {
   "cell_type": "code",
   "execution_count": 45,
   "metadata": {},
   "outputs": [
    {
     "data": {
      "text/plain": [
       "0        413\n",
       "15572      7\n",
       "14542      5\n",
       "14621      5\n",
       "14159      5\n",
       "        ... \n",
       "15628      1\n",
       "16171      1\n",
       "14124      1\n",
       "14128      1\n",
       "16405      1\n",
       "Name: days_employed, Length: 2096, dtype: int64"
      ]
     },
     "execution_count": 45,
     "metadata": {},
     "output_type": "execute_result"
    }
   ],
   "source": [
    "data['days_employed'].loc[data['income_type'] == 'пенсионер'].value_counts()"
   ]
  },
  {
   "cell_type": "markdown",
   "metadata": {},
   "source": [
    "Заменим нулевые значения на медианные для каждой категории, в которой они есть (по аналогии со столбцом `'income_income'`). Хотя в данном случае, можно было бы воспользоваться и средним, так как каких-либо выдающихся значений стажа в категориях нет."
   ]
  },
  {
   "cell_type": "markdown",
   "metadata": {},
   "source": [
    "Ищем, для каких категорий клиентов есть пустые значения в стаже:"
   ]
  },
  {
   "cell_type": "code",
   "execution_count": 46,
   "metadata": {},
   "outputs": [
    {
     "data": {
      "text/plain": [
       "сотрудник          1105\n",
       "компаньон           508\n",
       "пенсионер           413\n",
       "госслужащий         147\n",
       "предприниматель       1\n",
       "Name: income_type, dtype: int64"
      ]
     },
     "execution_count": 46,
     "metadata": {},
     "output_type": "execute_result"
    }
   ],
   "source": [
    "#Создаем новую таблицу c нулевыми доходом и типом клиента, применив фильтрацию к исходной\n",
    "data_days_type = data[['income_type','days_employed']].loc[data['days_employed'] == 0 ]\n",
    "#находим все типы клиента с нулевым доходом\n",
    "data_days_type['income_type'].value_counts()"
   ]
  },
  {
   "cell_type": "code",
   "execution_count": 47,
   "metadata": {},
   "outputs": [],
   "source": [
    "#Медианное значение для типа 'сотрудник'\n",
    "median_days_1 = data['days_employed'].loc[data['income_type'] == 'сотрудник'].median().astype('int')\n",
    "\n",
    "#Медианное значение для типа 'компаньон'\n",
    "median_days_2 = data['days_employed'].loc[data['income_type'] == 'компаньон'].median().astype('int')\n",
    "\n",
    "#Медианное значение для типа 'пенсионер'\n",
    "median_days_3 = data['days_employed'].loc[data['income_type'] == 'пенсионер'].median().astype('int')\n",
    "\n",
    "#Медианное значение для типа 'госслужащий'\n",
    "median_days_4 = data['days_employed'].loc[data['income_type'] == 'госслужащий'].median().astype('int')\n",
    "\n",
    "#Медианное значение для типа 'предприниматель'\n",
    "median_days_5 = data['days_employed'].loc[data['income_type'] == 'предприниматель'].median().astype('int')"
   ]
  },
  {
   "cell_type": "code",
   "execution_count": 48,
   "metadata": {},
   "outputs": [],
   "source": [
    "data.loc[(data['income_type'] == 'сотрудник')&(data['days_employed'] == 0), 'days_employed'] = median_days_1\n",
    "data.loc[(data['income_type'] == 'компаньон')&(data['days_employed'] == 0), 'days_employed'] = median_days_2\n",
    "data.loc[(data['income_type'] == 'пенсионер')&(data['days_employed'] == 0), 'days_employed'] = median_days_3\n",
    "data.loc[(data['income_type'] == 'госслужащий')&(data['days_employed'] == 0), 'days_employed'] = median_days_4\n",
    "data.loc[(data['income_type'] == 'предприниматель')&(data['days_employed'] == 0), 'days_employed'] = median_days_5"
   ]
  },
  {
   "cell_type": "markdown",
   "metadata": {},
   "source": [
    "Проверим, что нулевых значений не осталось:"
   ]
  },
  {
   "cell_type": "code",
   "execution_count": 49,
   "metadata": {},
   "outputs": [
    {
     "data": {
      "text/plain": [
       "1360     1106\n",
       "1311      516\n",
       "15020     414\n",
       "2385      150\n",
       "327        16\n",
       "         ... \n",
       "15695       1\n",
       "5466        1\n",
       "3433        1\n",
       "15727       1\n",
       "2049        1\n",
       "Name: days_employed, Length: 7789, dtype: int64"
      ]
     },
     "execution_count": 49,
     "metadata": {},
     "output_type": "execute_result"
    }
   ],
   "source": [
    "data['days_employed'].value_counts()"
   ]
  },
  {
   "cell_type": "markdown",
   "metadata": {},
   "source": [
    "По стажу работы избавились от отрицательных значений, заполнили нулевые значения соответствующими медианными, преобразовали стаж для типа 'пенсионер'."
   ]
  },
  {
   "cell_type": "markdown",
   "metadata": {},
   "source": [
    "#### Обработка явных дубликатов"
   ]
  },
  {
   "cell_type": "markdown",
   "metadata": {},
   "source": [
    "После преобразований всех столбцов найдём явные дубликаты в таблице методом `duplicated()` и посчитаем их количество методом `sum()`:"
   ]
  },
  {
   "cell_type": "code",
   "execution_count": 50,
   "metadata": {},
   "outputs": [
    {
     "data": {
      "text/plain": [
       "71"
      ]
     },
     "execution_count": 50,
     "metadata": {},
     "output_type": "execute_result"
    }
   ],
   "source": [
    "data.duplicated().sum()"
   ]
  },
  {
   "cell_type": "markdown",
   "metadata": {},
   "source": [
    "В таблице есть 71 дубликат. Избавимся от них методом `drop_duplicates()` и сбросим индексы `reset_index()` c параметром `True`"
   ]
  },
  {
   "cell_type": "code",
   "execution_count": 51,
   "metadata": {},
   "outputs": [],
   "source": [
    "data = data.drop_duplicates().reset_index(drop=True)"
   ]
  },
  {
   "cell_type": "code",
   "execution_count": 52,
   "metadata": {},
   "outputs": [
    {
     "data": {
      "text/plain": [
       "0"
      ]
     },
     "execution_count": 52,
     "metadata": {},
     "output_type": "execute_result"
    }
   ],
   "source": [
    "#Проверяем, что дубликатов не осталось\n",
    "data.duplicated().sum()"
   ]
  },
  {
   "cell_type": "code",
   "execution_count": 53,
   "metadata": {},
   "outputs": [
    {
     "name": "stdout",
     "output_type": "stream",
     "text": [
      "<class 'pandas.core.frame.DataFrame'>\n",
      "RangeIndex: 21453 entries, 0 to 21452\n",
      "Data columns (total 12 columns):\n",
      "children            21453 non-null int64\n",
      "days_employed       21453 non-null int64\n",
      "dob_years           21453 non-null int64\n",
      "education           21453 non-null object\n",
      "education_id        21453 non-null int64\n",
      "family_status       21453 non-null object\n",
      "family_status_id    21453 non-null int64\n",
      "gender              21453 non-null object\n",
      "income_type         21453 non-null object\n",
      "debt                21453 non-null int64\n",
      "total_income        21453 non-null int64\n",
      "purpose             21453 non-null object\n",
      "dtypes: int64(7), object(5)\n",
      "memory usage: 2.0+ MB\n"
     ]
    }
   ],
   "source": [
    "data.info()"
   ]
  },
  {
   "cell_type": "markdown",
   "metadata": {},
   "source": [
    "**Вывод**"
   ]
  },
  {
   "cell_type": "markdown",
   "metadata": {},
   "source": [
    "На этапе обработки дубликатов проверили все столбцы на уникальные значения. Выявили артефакты и привели столбцы в презентабельный вид. \n",
    "Так же были найдены явные дубликаты. Возможно, дубликаты появились в ходе технического сбоя."
   ]
  },
  {
   "cell_type": "markdown",
   "metadata": {},
   "source": [
    "### Лемматизация"
   ]
  },
  {
   "cell_type": "markdown",
   "metadata": {},
   "source": [
    "Лемматизируем столбец `'purpose'`, используя библиотеку для лемматизации:"
   ]
  },
  {
   "cell_type": "code",
   "execution_count": 54,
   "metadata": {},
   "outputs": [
    {
     "data": {
      "text/html": [
       "<div>\n",
       "<style scoped>\n",
       "    .dataframe tbody tr th:only-of-type {\n",
       "        vertical-align: middle;\n",
       "    }\n",
       "\n",
       "    .dataframe tbody tr th {\n",
       "        vertical-align: top;\n",
       "    }\n",
       "\n",
       "    .dataframe thead th {\n",
       "        text-align: right;\n",
       "    }\n",
       "</style>\n",
       "<table border=\"1\" class=\"dataframe\">\n",
       "  <thead>\n",
       "    <tr style=\"text-align: right;\">\n",
       "      <th></th>\n",
       "      <th>children</th>\n",
       "      <th>days_employed</th>\n",
       "      <th>dob_years</th>\n",
       "      <th>education</th>\n",
       "      <th>education_id</th>\n",
       "      <th>family_status</th>\n",
       "      <th>family_status_id</th>\n",
       "      <th>gender</th>\n",
       "      <th>income_type</th>\n",
       "      <th>debt</th>\n",
       "      <th>total_income</th>\n",
       "      <th>purpose</th>\n",
       "      <th>purpose_lemmas</th>\n",
       "    </tr>\n",
       "  </thead>\n",
       "  <tbody>\n",
       "    <tr>\n",
       "      <td>0</td>\n",
       "      <td>1</td>\n",
       "      <td>8437</td>\n",
       "      <td>42</td>\n",
       "      <td>высшее</td>\n",
       "      <td>0</td>\n",
       "      <td>женат / замужем</td>\n",
       "      <td>0</td>\n",
       "      <td>F</td>\n",
       "      <td>сотрудник</td>\n",
       "      <td>0</td>\n",
       "      <td>253875</td>\n",
       "      <td>покупка жилья</td>\n",
       "      <td>[покупка,  , жилье, \\n]</td>\n",
       "    </tr>\n",
       "    <tr>\n",
       "      <td>1</td>\n",
       "      <td>1</td>\n",
       "      <td>4024</td>\n",
       "      <td>36</td>\n",
       "      <td>среднее</td>\n",
       "      <td>1</td>\n",
       "      <td>женат / замужем</td>\n",
       "      <td>0</td>\n",
       "      <td>F</td>\n",
       "      <td>сотрудник</td>\n",
       "      <td>0</td>\n",
       "      <td>112080</td>\n",
       "      <td>приобретение автомобиля</td>\n",
       "      <td>[приобретение,  , автомобиль, \\n]</td>\n",
       "    </tr>\n",
       "    <tr>\n",
       "      <td>2</td>\n",
       "      <td>0</td>\n",
       "      <td>5623</td>\n",
       "      <td>33</td>\n",
       "      <td>среднее</td>\n",
       "      <td>1</td>\n",
       "      <td>женат / замужем</td>\n",
       "      <td>0</td>\n",
       "      <td>M</td>\n",
       "      <td>сотрудник</td>\n",
       "      <td>0</td>\n",
       "      <td>145885</td>\n",
       "      <td>покупка жилья</td>\n",
       "      <td>[покупка,  , жилье, \\n]</td>\n",
       "    </tr>\n",
       "    <tr>\n",
       "      <td>3</td>\n",
       "      <td>3</td>\n",
       "      <td>4124</td>\n",
       "      <td>32</td>\n",
       "      <td>среднее</td>\n",
       "      <td>1</td>\n",
       "      <td>женат / замужем</td>\n",
       "      <td>0</td>\n",
       "      <td>M</td>\n",
       "      <td>сотрудник</td>\n",
       "      <td>0</td>\n",
       "      <td>267628</td>\n",
       "      <td>дополнительное образование</td>\n",
       "      <td>[дополнительный,  , образование, \\n]</td>\n",
       "    </tr>\n",
       "    <tr>\n",
       "      <td>4</td>\n",
       "      <td>0</td>\n",
       "      <td>14177</td>\n",
       "      <td>53</td>\n",
       "      <td>среднее</td>\n",
       "      <td>1</td>\n",
       "      <td>гражданский брак</td>\n",
       "      <td>1</td>\n",
       "      <td>F</td>\n",
       "      <td>пенсионер</td>\n",
       "      <td>0</td>\n",
       "      <td>158616</td>\n",
       "      <td>сыграть свадьбу</td>\n",
       "      <td>[сыграть,  , свадьба, \\n]</td>\n",
       "    </tr>\n",
       "    <tr>\n",
       "      <td>5</td>\n",
       "      <td>0</td>\n",
       "      <td>926</td>\n",
       "      <td>27</td>\n",
       "      <td>высшее</td>\n",
       "      <td>0</td>\n",
       "      <td>гражданский брак</td>\n",
       "      <td>1</td>\n",
       "      <td>M</td>\n",
       "      <td>компаньон</td>\n",
       "      <td>0</td>\n",
       "      <td>255763</td>\n",
       "      <td>покупка жилья</td>\n",
       "      <td>[покупка,  , жилье, \\n]</td>\n",
       "    </tr>\n",
       "    <tr>\n",
       "      <td>6</td>\n",
       "      <td>0</td>\n",
       "      <td>2879</td>\n",
       "      <td>43</td>\n",
       "      <td>высшее</td>\n",
       "      <td>0</td>\n",
       "      <td>женат / замужем</td>\n",
       "      <td>0</td>\n",
       "      <td>F</td>\n",
       "      <td>компаньон</td>\n",
       "      <td>0</td>\n",
       "      <td>240525</td>\n",
       "      <td>операции с жильем</td>\n",
       "      <td>[операция,  , с,  , жилье, \\n]</td>\n",
       "    </tr>\n",
       "    <tr>\n",
       "      <td>7</td>\n",
       "      <td>0</td>\n",
       "      <td>152</td>\n",
       "      <td>50</td>\n",
       "      <td>среднее</td>\n",
       "      <td>1</td>\n",
       "      <td>женат / замужем</td>\n",
       "      <td>0</td>\n",
       "      <td>M</td>\n",
       "      <td>сотрудник</td>\n",
       "      <td>0</td>\n",
       "      <td>135823</td>\n",
       "      <td>образование</td>\n",
       "      <td>[образование, \\n]</td>\n",
       "    </tr>\n",
       "    <tr>\n",
       "      <td>8</td>\n",
       "      <td>2</td>\n",
       "      <td>6929</td>\n",
       "      <td>35</td>\n",
       "      <td>высшее</td>\n",
       "      <td>0</td>\n",
       "      <td>гражданский брак</td>\n",
       "      <td>1</td>\n",
       "      <td>F</td>\n",
       "      <td>сотрудник</td>\n",
       "      <td>0</td>\n",
       "      <td>95856</td>\n",
       "      <td>на проведение свадьбы</td>\n",
       "      <td>[на,  , проведение,  , свадьба, \\n]</td>\n",
       "    </tr>\n",
       "    <tr>\n",
       "      <td>9</td>\n",
       "      <td>0</td>\n",
       "      <td>2188</td>\n",
       "      <td>41</td>\n",
       "      <td>среднее</td>\n",
       "      <td>1</td>\n",
       "      <td>женат / замужем</td>\n",
       "      <td>0</td>\n",
       "      <td>M</td>\n",
       "      <td>сотрудник</td>\n",
       "      <td>0</td>\n",
       "      <td>144425</td>\n",
       "      <td>покупка жилья для семьи</td>\n",
       "      <td>[покупка,  , жилье,  , для,  , семья, \\n]</td>\n",
       "    </tr>\n",
       "    <tr>\n",
       "      <td>10</td>\n",
       "      <td>2</td>\n",
       "      <td>4171</td>\n",
       "      <td>36</td>\n",
       "      <td>высшее</td>\n",
       "      <td>0</td>\n",
       "      <td>женат / замужем</td>\n",
       "      <td>0</td>\n",
       "      <td>M</td>\n",
       "      <td>компаньон</td>\n",
       "      <td>0</td>\n",
       "      <td>113943</td>\n",
       "      <td>покупка недвижимости</td>\n",
       "      <td>[покупка,  , недвижимость, \\n]</td>\n",
       "    </tr>\n",
       "    <tr>\n",
       "      <td>11</td>\n",
       "      <td>0</td>\n",
       "      <td>792</td>\n",
       "      <td>40</td>\n",
       "      <td>среднее</td>\n",
       "      <td>1</td>\n",
       "      <td>женат / замужем</td>\n",
       "      <td>0</td>\n",
       "      <td>F</td>\n",
       "      <td>сотрудник</td>\n",
       "      <td>0</td>\n",
       "      <td>77069</td>\n",
       "      <td>покупка коммерческой недвижимости</td>\n",
       "      <td>[покупка,  , коммерческий,  , недвижимость, \\n]</td>\n",
       "    </tr>\n",
       "    <tr>\n",
       "      <td>12</td>\n",
       "      <td>0</td>\n",
       "      <td>15020</td>\n",
       "      <td>65</td>\n",
       "      <td>среднее</td>\n",
       "      <td>1</td>\n",
       "      <td>гражданский брак</td>\n",
       "      <td>1</td>\n",
       "      <td>M</td>\n",
       "      <td>пенсионер</td>\n",
       "      <td>0</td>\n",
       "      <td>110179</td>\n",
       "      <td>сыграть свадьбу</td>\n",
       "      <td>[сыграть,  , свадьба, \\n]</td>\n",
       "    </tr>\n",
       "    <tr>\n",
       "      <td>13</td>\n",
       "      <td>0</td>\n",
       "      <td>1846</td>\n",
       "      <td>54</td>\n",
       "      <td>неоконченное высшее</td>\n",
       "      <td>2</td>\n",
       "      <td>женат / замужем</td>\n",
       "      <td>0</td>\n",
       "      <td>F</td>\n",
       "      <td>сотрудник</td>\n",
       "      <td>0</td>\n",
       "      <td>130458</td>\n",
       "      <td>приобретение автомобиля</td>\n",
       "      <td>[приобретение,  , автомобиль, \\n]</td>\n",
       "    </tr>\n",
       "    <tr>\n",
       "      <td>14</td>\n",
       "      <td>0</td>\n",
       "      <td>1844</td>\n",
       "      <td>56</td>\n",
       "      <td>высшее</td>\n",
       "      <td>0</td>\n",
       "      <td>гражданский брак</td>\n",
       "      <td>1</td>\n",
       "      <td>F</td>\n",
       "      <td>компаньон</td>\n",
       "      <td>1</td>\n",
       "      <td>165127</td>\n",
       "      <td>покупка жилой недвижимости</td>\n",
       "      <td>[покупка,  , жилой,  , недвижимость, \\n]</td>\n",
       "    </tr>\n",
       "  </tbody>\n",
       "</table>\n",
       "</div>"
      ],
      "text/plain": [
       "    children  days_employed  dob_years            education  education_id  \\\n",
       "0          1           8437         42               высшее             0   \n",
       "1          1           4024         36              среднее             1   \n",
       "2          0           5623         33              среднее             1   \n",
       "3          3           4124         32              среднее             1   \n",
       "4          0          14177         53              среднее             1   \n",
       "5          0            926         27               высшее             0   \n",
       "6          0           2879         43               высшее             0   \n",
       "7          0            152         50              среднее             1   \n",
       "8          2           6929         35               высшее             0   \n",
       "9          0           2188         41              среднее             1   \n",
       "10         2           4171         36               высшее             0   \n",
       "11         0            792         40              среднее             1   \n",
       "12         0          15020         65              среднее             1   \n",
       "13         0           1846         54  неоконченное высшее             2   \n",
       "14         0           1844         56               высшее             0   \n",
       "\n",
       "       family_status  family_status_id gender income_type  debt  total_income  \\\n",
       "0    женат / замужем                 0      F   сотрудник     0        253875   \n",
       "1    женат / замужем                 0      F   сотрудник     0        112080   \n",
       "2    женат / замужем                 0      M   сотрудник     0        145885   \n",
       "3    женат / замужем                 0      M   сотрудник     0        267628   \n",
       "4   гражданский брак                 1      F   пенсионер     0        158616   \n",
       "5   гражданский брак                 1      M   компаньон     0        255763   \n",
       "6    женат / замужем                 0      F   компаньон     0        240525   \n",
       "7    женат / замужем                 0      M   сотрудник     0        135823   \n",
       "8   гражданский брак                 1      F   сотрудник     0         95856   \n",
       "9    женат / замужем                 0      M   сотрудник     0        144425   \n",
       "10   женат / замужем                 0      M   компаньон     0        113943   \n",
       "11   женат / замужем                 0      F   сотрудник     0         77069   \n",
       "12  гражданский брак                 1      M   пенсионер     0        110179   \n",
       "13   женат / замужем                 0      F   сотрудник     0        130458   \n",
       "14  гражданский брак                 1      F   компаньон     1        165127   \n",
       "\n",
       "                              purpose  \\\n",
       "0                       покупка жилья   \n",
       "1             приобретение автомобиля   \n",
       "2                       покупка жилья   \n",
       "3          дополнительное образование   \n",
       "4                     сыграть свадьбу   \n",
       "5                       покупка жилья   \n",
       "6                   операции с жильем   \n",
       "7                         образование   \n",
       "8               на проведение свадьбы   \n",
       "9             покупка жилья для семьи   \n",
       "10               покупка недвижимости   \n",
       "11  покупка коммерческой недвижимости   \n",
       "12                    сыграть свадьбу   \n",
       "13            приобретение автомобиля   \n",
       "14         покупка жилой недвижимости   \n",
       "\n",
       "                                     purpose_lemmas  \n",
       "0                           [покупка,  , жилье, \\n]  \n",
       "1                 [приобретение,  , автомобиль, \\n]  \n",
       "2                           [покупка,  , жилье, \\n]  \n",
       "3              [дополнительный,  , образование, \\n]  \n",
       "4                         [сыграть,  , свадьба, \\n]  \n",
       "5                           [покупка,  , жилье, \\n]  \n",
       "6                    [операция,  , с,  , жилье, \\n]  \n",
       "7                                 [образование, \\n]  \n",
       "8               [на,  , проведение,  , свадьба, \\n]  \n",
       "9         [покупка,  , жилье,  , для,  , семья, \\n]  \n",
       "10                   [покупка,  , недвижимость, \\n]  \n",
       "11  [покупка,  , коммерческий,  , недвижимость, \\n]  \n",
       "12                        [сыграть,  , свадьба, \\n]  \n",
       "13                [приобретение,  , автомобиль, \\n]  \n",
       "14         [покупка,  , жилой,  , недвижимость, \\n]  "
      ]
     },
     "execution_count": 54,
     "metadata": {},
     "output_type": "execute_result"
    }
   ],
   "source": [
    "#Напишем функцию, которая будет принимать на вход строку, разбивать текст в ячейке 'purpose' на леммы и возвращать их в ячейку \n",
    "def text_purpose (row):\n",
    "    text = row [11]\n",
    "    lemmas = m.lemmatize(text)\n",
    "    row [11] = lemmas\n",
    "    return row [11]\n",
    "\n",
    "#Применим функцию к data, указав параметр axis =1 , чтобы передавались строки таблицы\n",
    "data['purpose_lemmas'] = data.apply(text_purpose, axis = 1)\n",
    "data.head(15)"
   ]
  },
  {
   "cell_type": "markdown",
   "metadata": {},
   "source": [
    "**Вывод**"
   ]
  },
  {
   "cell_type": "markdown",
   "metadata": {},
   "source": [
    "После проведения лемматизации, по первым 15 строкам видно, что целями кредитов являются: недвижимость, жилье, автомобиль, образование, свадьба. Возможно, есть что-то ещё. В дальнейшем используем полученные данные для категоризации клиентов по целям"
   ]
  },
  {
   "cell_type": "markdown",
   "metadata": {},
   "source": [
    "### Категоризация данных"
   ]
  },
  {
   "cell_type": "markdown",
   "metadata": {},
   "source": [
    "По таблице данных клиентов можно категоризировать:\n",
    "1. По наличию детей\n",
    "1. По семейному положению\n",
    "1. По возрасту\n",
    "1. По ежемесячному доходу\n",
    "1. По целям на кредит"
   ]
  },
  {
   "cell_type": "markdown",
   "metadata": {},
   "source": [
    "#### Категоризация по количеству детей у клиента"
   ]
  },
  {
   "cell_type": "markdown",
   "metadata": {},
   "source": [
    "Разобьем клиентов на следующие категории:\n",
    "1. Нет детей (`'children' == 0`)\n",
    "1. Один ребенок (`'children' == 1`)\n",
    "1. Два ребенка (`'children'== 2`)\n",
    "1. Многодетный (`'children' >= 3`)"
   ]
  },
  {
   "cell_type": "markdown",
   "metadata": {},
   "source": [
    "Напишем функцию, которой на вход будет попадать количество детей, а возвращать она будет категорию:"
   ]
  },
  {
   "cell_type": "code",
   "execution_count": 55,
   "metadata": {},
   "outputs": [
    {
     "data": {
      "text/plain": [
       "Нет детей       14090\n",
       "Один ребенок     4855\n",
       "Два ребенка      2128\n",
       "Многодетный       380\n",
       "Name: child_category, dtype: int64"
      ]
     },
     "execution_count": 55,
     "metadata": {},
     "output_type": "execute_result"
    }
   ],
   "source": [
    "def child_category (children):\n",
    "    if children == 0:\n",
    "        return 'Нет детей'\n",
    "    if children == 1:\n",
    "        return 'Один ребенок'\n",
    "    if children == 2:\n",
    "        return 'Два ребенка'\n",
    "    return 'Многодетный'\n",
    "\n",
    "#добавляем столбец с категорией в таблицу\n",
    "data['child_category'] = data['children'].apply(child_category)\n",
    "\n",
    "data['child_category'].value_counts()"
   ]
  },
  {
   "cell_type": "markdown",
   "metadata": {},
   "source": [
    "После разделения по количеству детей оценим, какая доля кредитов приходится на каждую категорию:"
   ]
  },
  {
   "cell_type": "code",
   "execution_count": 56,
   "metadata": {},
   "outputs": [
    {
     "data": {
      "text/plain": [
       "Нет детей       65.678460\n",
       "Один ребенок    22.630867\n",
       "Два ребенка      9.919359\n",
       "Многодетный      1.771314\n",
       "Name: child_category, dtype: float64"
      ]
     },
     "execution_count": 56,
     "metadata": {},
     "output_type": "execute_result"
    }
   ],
   "source": [
    "part_child_category = data['child_category'].value_counts() / len(data) * 100\n",
    "part_child_category"
   ]
  },
  {
   "cell_type": "markdown",
   "metadata": {},
   "source": [
    "**Вывод**"
   ]
  },
  {
   "cell_type": "markdown",
   "metadata": {},
   "source": [
    "Выполнили категоризацию клиентов банка по наличию детей. Более 60% кредитов выдали бездетным клиентам, почти пятая часть всех кредитов взята клиентами с одним ребенком. Около 10% взяли клиенты с двумя детьми. Кредиты многодетных клиентов составляют меньше двух процентов от всех кредитов."
   ]
  },
  {
   "cell_type": "markdown",
   "metadata": {},
   "source": [
    "#### Категоризация по семейному положению клиента"
   ]
  },
  {
   "cell_type": "markdown",
   "metadata": {},
   "source": [
    "В таблице данных установим соответствие между `'family_status'` и `'family_status_id'`"
   ]
  },
  {
   "cell_type": "code",
   "execution_count": 57,
   "metadata": {},
   "outputs": [
    {
     "data": {
      "text/html": [
       "<div>\n",
       "<style scoped>\n",
       "    .dataframe tbody tr th:only-of-type {\n",
       "        vertical-align: middle;\n",
       "    }\n",
       "\n",
       "    .dataframe tbody tr th {\n",
       "        vertical-align: top;\n",
       "    }\n",
       "\n",
       "    .dataframe thead th {\n",
       "        text-align: right;\n",
       "    }\n",
       "</style>\n",
       "<table border=\"1\" class=\"dataframe\">\n",
       "  <thead>\n",
       "    <tr style=\"text-align: right;\">\n",
       "      <th></th>\n",
       "      <th>family_status</th>\n",
       "      <th>family_status_id</th>\n",
       "    </tr>\n",
       "  </thead>\n",
       "  <tbody>\n",
       "    <tr>\n",
       "      <td>0</td>\n",
       "      <td>женат / замужем</td>\n",
       "      <td>0</td>\n",
       "    </tr>\n",
       "    <tr>\n",
       "      <td>1</td>\n",
       "      <td>гражданский брак</td>\n",
       "      <td>1</td>\n",
       "    </tr>\n",
       "    <tr>\n",
       "      <td>2</td>\n",
       "      <td>вдовец / вдова</td>\n",
       "      <td>2</td>\n",
       "    </tr>\n",
       "    <tr>\n",
       "      <td>3</td>\n",
       "      <td>в разводе</td>\n",
       "      <td>3</td>\n",
       "    </tr>\n",
       "    <tr>\n",
       "      <td>4</td>\n",
       "      <td>не женат / не замужем</td>\n",
       "      <td>4</td>\n",
       "    </tr>\n",
       "  </tbody>\n",
       "</table>\n",
       "</div>"
      ],
      "text/plain": [
       "           family_status  family_status_id\n",
       "0        женат / замужем                 0\n",
       "1       гражданский брак                 1\n",
       "2         вдовец / вдова                 2\n",
       "3              в разводе                 3\n",
       "4  не женат / не замужем                 4"
      ]
     },
     "execution_count": 57,
     "metadata": {},
     "output_type": "execute_result"
    }
   ],
   "source": [
    "#Создаем таблицу и переносим столбцы\n",
    "family_dict = data[['family_status', 'family_status_id']]\n",
    "\n",
    "#удаляем дубликаты из полученной таблицы\n",
    "family_dict = family_dict.drop_duplicates().reset_index(drop = True)\n",
    "family_dict"
   ]
  },
  {
   "cell_type": "markdown",
   "metadata": {},
   "source": [
    "Таким образом, выявили следующее соответствие между семейным статусом и его id:\n",
    " - 0 - женат / замужем\n",
    " - 1 - гражданский брак\n",
    " - 2 - вдовец / вдова\n",
    " - 3 - в разводе\n",
    " - 4 - не женат / не замужем"
   ]
  },
  {
   "cell_type": "markdown",
   "metadata": {},
   "source": [
    "Разделим всех клиентов на тех, кто состоит в отношениях ( статусы: 0, 1), и одиноких (статусы: 2, 3, 4). Напишем функцию, которая на вход получает `'family_status_id'`, а на выходе возвращать соответствующую категорию."
   ]
  },
  {
   "cell_type": "code",
   "execution_count": 58,
   "metadata": {},
   "outputs": [
    {
     "data": {
      "text/plain": [
       "Состоит в отношениях       16489\n",
       "Не состоит в отношениях     4964\n",
       "Name: family_category, dtype: int64"
      ]
     },
     "execution_count": 58,
     "metadata": {},
     "output_type": "execute_result"
    }
   ],
   "source": [
    "def family_category (family_status_id):\n",
    "    if family_status_id == 0:\n",
    "        return 'Состоит в отношениях'\n",
    "    if family_status_id == 1:\n",
    "        return 'Состоит в отношениях'\n",
    "    if family_status_id == 2:\n",
    "        return 'Не состоит в отношениях'\n",
    "    if family_status_id == 3:\n",
    "        return 'Не состоит в отношениях'\n",
    "    return 'Не состоит в отношениях'\n",
    "\n",
    "#добавляем столбец с категорией в таблицу\n",
    "data['family_category'] = data['family_status_id'].apply(family_category)\n",
    "\n",
    "data['family_category'].value_counts()"
   ]
  },
  {
   "cell_type": "markdown",
   "metadata": {},
   "source": [
    "После разделения по семейному положению оценим, какая доля кредитов приходится на каждую категорию:"
   ]
  },
  {
   "cell_type": "code",
   "execution_count": 59,
   "metadata": {},
   "outputs": [
    {
     "data": {
      "text/plain": [
       "Состоит в отношениях       76.861045\n",
       "Не состоит в отношениях    23.138955\n",
       "Name: family_category, dtype: float64"
      ]
     },
     "execution_count": 59,
     "metadata": {},
     "output_type": "execute_result"
    }
   ],
   "source": [
    "part_family_category = data['family_category'].value_counts() / len(data) * 100\n",
    "part_family_category"
   ]
  },
  {
   "cell_type": "markdown",
   "metadata": {},
   "source": [
    "При такой категоризации клиентов видно, что более 2/3 кредитов получили клиенты, состоящие в отношениях"
   ]
  },
  {
   "cell_type": "markdown",
   "metadata": {},
   "source": [
    "#### Категоризация по возрасту клиента"
   ]
  },
  {
   "cell_type": "markdown",
   "metadata": {},
   "source": [
    "Распределим клиентов по возрасту, по классификации Всемирной организации здравоохранения:\n",
    "1. Молодой возраст - 18-44.\n",
    "1. Средний возраст - 45-59.\n",
    "1. Пожилой возраст - 60-74.\n",
    "1. Старческий возраст - 75-90."
   ]
  },
  {
   "cell_type": "markdown",
   "metadata": {},
   "source": [
    "Напишем функцию, которая на вход получает `'dob_years'`, а на выходе возвращать соответствующую категорию."
   ]
  },
  {
   "cell_type": "code",
   "execution_count": 60,
   "metadata": {},
   "outputs": [
    {
     "data": {
      "text/plain": [
       "Молодой возраст       11787\n",
       "Средний возраст        5185\n",
       "Пожилой возраст        2499\n",
       "Старческий возраст     1982\n",
       "Name: age_category, dtype: int64"
      ]
     },
     "execution_count": 60,
     "metadata": {},
     "output_type": "execute_result"
    }
   ],
   "source": [
    "def age_category (dob_years):\n",
    "    if dob_years >= 18 and dob_years <= 44:\n",
    "        return 'Молодой возраст'\n",
    "    if dob_years >= 49 and dob_years <= 59:\n",
    "        return 'Средний возраст'\n",
    "    if dob_years >= 60 and dob_years <= 74:\n",
    "        return 'Пожилой возраст'\n",
    "    return 'Старческий возраст'\n",
    "\n",
    "data['age_category'] = data['dob_years'].apply(age_category)\n",
    "data['age_category'].value_counts()"
   ]
  },
  {
   "cell_type": "markdown",
   "metadata": {},
   "source": [
    "Оценим долю взятых кредитов по категориям:"
   ]
  },
  {
   "cell_type": "code",
   "execution_count": 61,
   "metadata": {},
   "outputs": [
    {
     "data": {
      "text/plain": [
       "Молодой возраст       54.943365\n",
       "Средний возраст       24.169114\n",
       "Пожилой возраст       11.648720\n",
       "Старческий возраст     9.238801\n",
       "Name: age_category, dtype: float64"
      ]
     },
     "execution_count": 61,
     "metadata": {},
     "output_type": "execute_result"
    }
   ],
   "source": [
    "part_age_category = data['age_category'].value_counts() / len(data) * 100\n",
    "part_age_category"
   ]
  },
  {
   "cell_type": "markdown",
   "metadata": {},
   "source": [
    "Более половины кредитов выдано \"Молодым\" клиентам, чуть меньше четверти получили клиенты \"Среднего\" возраста. Доля \"Пожилых\" клиентов около 12%, доля \"Стариков\" - менее 10%"
   ]
  },
  {
   "cell_type": "markdown",
   "metadata": {},
   "source": [
    "#### Категоризация по ежемесячным доходам"
   ]
  },
  {
   "cell_type": "markdown",
   "metadata": {},
   "source": [
    "Можно попробовать разделить клиентов по ежемесячному доходу на категории:\n",
    "1. Доход ниже среднего\n",
    "1. Доход средний\n",
    "1. Доход выше среднего\n",
    "\n",
    "Для границы используем медианное значение зарплаты. К среднему доходу будем относить всех клиентов, чей доход отличается от медианного на не более, чем 25%. То есть 0,75* Median <= Средний доход <= 1.25* Median"
   ]
  },
  {
   "cell_type": "code",
   "execution_count": 62,
   "metadata": {},
   "outputs": [
    {
     "data": {
      "text/plain": [
       "140212"
      ]
     },
     "execution_count": 62,
     "metadata": {},
     "output_type": "execute_result"
    }
   ],
   "source": [
    "#Находим медиану по доходу для всего столбца\n",
    "median_income = data['total_income'].median().astype('int')\n",
    "median_income"
   ]
  },
  {
   "cell_type": "code",
   "execution_count": 63,
   "metadata": {},
   "outputs": [
    {
     "data": {
      "text/plain": [
       "Доход средний          10457\n",
       "Доход выше среднего     6751\n",
       "Доход ниже среднего     4245\n",
       "Name: total_income_category, dtype: int64"
      ]
     },
     "execution_count": 63,
     "metadata": {},
     "output_type": "execute_result"
    }
   ],
   "source": [
    "# Напишем функцию , которая будет возвращать категорию в зависимости от дохода\n",
    "def total_income_category (total_income):\n",
    "    \n",
    "    if total_income < 0.70 * median_income:\n",
    "        return 'Доход ниже среднего'\n",
    "    \n",
    "    if total_income > 1.25 * median_income:\n",
    "        return 'Доход выше среднего'\n",
    "    \n",
    "    return 'Доход средний'\n",
    "\n",
    "data['total_income_category'] = data['total_income'].apply(total_income_category)\n",
    "data['total_income_category'].value_counts()"
   ]
  },
  {
   "cell_type": "markdown",
   "metadata": {},
   "source": [
    "Оценим долю взятых кредитов по категориям:"
   ]
  },
  {
   "cell_type": "code",
   "execution_count": 64,
   "metadata": {},
   "outputs": [
    {
     "data": {
      "text/plain": [
       "Доход средний          48.743765\n",
       "Доход выше среднего    31.468792\n",
       "Доход ниже среднего    19.787442\n",
       "Name: total_income_category, dtype: float64"
      ]
     },
     "execution_count": 64,
     "metadata": {},
     "output_type": "execute_result"
    }
   ],
   "source": [
    "part_income_category = data['total_income_category'].value_counts() / len(data) * 100\n",
    "part_income_category"
   ]
  },
  {
   "cell_type": "markdown",
   "metadata": {},
   "source": [
    "Почти половину кредитов взято клиентами со средним доходом, 31, 5 % - кредиты клиентов с доходом выше среднего и 19,8% - с доходом ниже среднего"
   ]
  },
  {
   "cell_type": "markdown",
   "metadata": {},
   "source": [
    "#### Категоризация по целям кредита"
   ]
  },
  {
   "cell_type": "markdown",
   "metadata": {},
   "source": [
    "Разобьем цели кредита исходя из проведенной лемматизации на следующие категории:\n",
    "1. Недвижимость\n",
    "1. Жилье\n",
    "1. Автомобиль\n",
    "1. Образование\n",
    "1. Свадьба\n",
    "1. Другое"
   ]
  },
  {
   "cell_type": "code",
   "execution_count": 65,
   "metadata": {},
   "outputs": [
    {
     "data": {
      "text/plain": [
       "Недвижимость    6350\n",
       "Жилье           4460\n",
       "Автомобиль      4306\n",
       "Образование     4013\n",
       "Свадьба         2324\n",
       "Name: purpose_category, dtype: int64"
      ]
     },
     "execution_count": 65,
     "metadata": {},
     "output_type": "execute_result"
    }
   ],
   "source": [
    "# Напишем функцию, которая принимает на вход список выделенных лемм, проверяет есть ли ключевое слово и возвращает категорию\n",
    "def purpose_category (porpose_lemmas):\n",
    "    \n",
    "#    for purpose in porpose_lemmas:\n",
    "        if 'недвижимость' in porpose_lemmas:\n",
    "            return 'Недвижимость'\n",
    "        \n",
    "        if 'жилье' in porpose_lemmas:\n",
    "            return 'Жилье'\n",
    "        \n",
    "        if 'автомобиль' in porpose_lemmas:\n",
    "            return 'Автомобиль'\n",
    "        \n",
    "        if 'образование' in porpose_lemmas :\n",
    "            return 'Образование'\n",
    "        \n",
    "        if 'свадьба' in porpose_lemmas:\n",
    "            return 'Свадьба'\n",
    "        \n",
    "        return 'Другое'\n",
    "\n",
    "data['purpose_category'] = data['purpose_lemmas'].apply(purpose_category)\n",
    "data['purpose_category'].value_counts()"
   ]
  },
  {
   "cell_type": "markdown",
   "metadata": {},
   "source": [
    "Оценим долю кредитов:"
   ]
  },
  {
   "cell_type": "code",
   "execution_count": 66,
   "metadata": {},
   "outputs": [
    {
     "data": {
      "text/plain": [
       "Недвижимость    29.599590\n",
       "Жилье           20.789633\n",
       "Автомобиль      20.071785\n",
       "Образование     18.706008\n",
       "Свадьба         10.832984\n",
       "Name: purpose_category, dtype: float64"
      ]
     },
     "execution_count": 66,
     "metadata": {},
     "output_type": "execute_result"
    }
   ],
   "source": [
    "part_purpose_category = data['purpose_category'].value_counts() / len(data) * 100\n",
    "part_purpose_category"
   ]
  },
  {
   "cell_type": "markdown",
   "metadata": {},
   "source": [
    "Как видно после категоризации, выявились 5 конкретных категорий целей кредита. Категория \"Другое\" - отсутствует.\n",
    "Больше всего клиенты берут кредит на недвижимость. Примерно в равной доле \"Жилье\", \"Автомобиль\" и \"Образование\"."
   ]
  },
  {
   "cell_type": "markdown",
   "metadata": {},
   "source": [
    "#### Категоризация по полу клиента"
   ]
  },
  {
   "cell_type": "code",
   "execution_count": 67,
   "metadata": {},
   "outputs": [
    {
     "data": {
      "text/plain": [
       "F    14174\n",
       "M     7279\n",
       "Name: gender, dtype: int64"
      ]
     },
     "execution_count": 67,
     "metadata": {},
     "output_type": "execute_result"
    }
   ],
   "source": [
    "data['gender'].value_counts()"
   ]
  },
  {
   "cell_type": "markdown",
   "metadata": {},
   "source": [
    "Оценим долю кредитов по полу:"
   ]
  },
  {
   "cell_type": "code",
   "execution_count": 68,
   "metadata": {},
   "outputs": [
    {
     "data": {
      "text/plain": [
       "F    66.070014\n",
       "M    33.929986\n",
       "Name: gender, dtype: float64"
      ]
     },
     "execution_count": 68,
     "metadata": {},
     "output_type": "execute_result"
    }
   ],
   "source": [
    "data['gender'].value_counts() / len(data) * 100"
   ]
  },
  {
   "cell_type": "markdown",
   "metadata": {},
   "source": [
    "По таблице видим, что женщины берут кредит чаще. Их доля почти 2/3 всех кредитов"
   ]
  },
  {
   "cell_type": "markdown",
   "metadata": {},
   "source": [
    "## Шаг 3. Ответьте на вопросы"
   ]
  },
  {
   "cell_type": "markdown",
   "metadata": {},
   "source": [
    "- Есть ли зависимость между наличием детей и возвратом кредита в срок?"
   ]
  },
  {
   "cell_type": "markdown",
   "metadata": {},
   "source": [
    "Поищем взаимосвязь между возвратом кредита в срок и количеством детей. "
   ]
  },
  {
   "cell_type": "code",
   "execution_count": 69,
   "metadata": {},
   "outputs": [
    {
     "data": {
      "text/html": [
       "<div>\n",
       "<style scoped>\n",
       "    .dataframe tbody tr th:only-of-type {\n",
       "        vertical-align: middle;\n",
       "    }\n",
       "\n",
       "    .dataframe tbody tr th {\n",
       "        vertical-align: top;\n",
       "    }\n",
       "\n",
       "    .dataframe thead th {\n",
       "        text-align: right;\n",
       "    }\n",
       "</style>\n",
       "<table border=\"1\" class=\"dataframe\">\n",
       "  <thead>\n",
       "    <tr style=\"text-align: right;\">\n",
       "      <th></th>\n",
       "      <th>debt</th>\n",
       "      <th>debt_part</th>\n",
       "    </tr>\n",
       "    <tr>\n",
       "      <th>child_category</th>\n",
       "      <th></th>\n",
       "      <th></th>\n",
       "    </tr>\n",
       "  </thead>\n",
       "  <tbody>\n",
       "    <tr>\n",
       "      <td>Нет детей</td>\n",
       "      <td>1063</td>\n",
       "      <td>7.544358</td>\n",
       "    </tr>\n",
       "    <tr>\n",
       "      <td>Многодетный</td>\n",
       "      <td>31</td>\n",
       "      <td>8.157895</td>\n",
       "    </tr>\n",
       "    <tr>\n",
       "      <td>Один ребенок</td>\n",
       "      <td>445</td>\n",
       "      <td>9.165808</td>\n",
       "    </tr>\n",
       "    <tr>\n",
       "      <td>Два ребенка</td>\n",
       "      <td>202</td>\n",
       "      <td>9.492481</td>\n",
       "    </tr>\n",
       "  </tbody>\n",
       "</table>\n",
       "</div>"
      ],
      "text/plain": [
       "                debt  debt_part\n",
       "child_category                 \n",
       "Нет детей       1063   7.544358\n",
       "Многодетный       31   8.157895\n",
       "Один ребенок     445   9.165808\n",
       "Два ребенка      202   9.492481"
      ]
     },
     "execution_count": 69,
     "metadata": {},
     "output_type": "execute_result"
    }
   ],
   "source": [
    "# сгруппируем данные по категории количества детей и найдем количество непогашенных кредитов методом agg(), суммировав по 'debt'\n",
    "data_grouped_child = data.groupby(['child_category']).agg({'debt':sum})\n",
    "\n",
    "# Найдем долю непогашенных кредитов для каждой категории поделив количество непогашенных кредитов на общее число кредитов категории в %\n",
    "data_grouped_child['debt_part'] = data_grouped_child['debt'] / data['child_category'].value_counts() * 100\n",
    "\n",
    "#Выведем общую таблицу с категорией, количеством непогашенных кредитов и их % от выданных кредитов на категорию\n",
    "data_grouped_child.sort_values(by=['debt_part'])"
   ]
  },
  {
   "cell_type": "markdown",
   "metadata": {},
   "source": [
    "**Вывод**"
   ]
  },
  {
   "cell_type": "markdown",
   "metadata": {},
   "source": [
    "Определенно, прослеживается зависимость между возвратом кредита в срок и количеством детей. Клиенты без детей возвращают кредит лучше всех. С увеличением числа детей вероятность невозврата возрастает. Парадоксально, но по полученным данным, многодетные клиенты справляются с возвратом кредита лучше, чем клиенты с одним или двумя детьми. Вероятно, это связано с тем, что таких клиентов всего 1,77%. Возможно, стоит пересмотреть категоризацию, разделив на 3 группы: \"Дети отсутствуют\", \"Один ребенок\" и \"Два и более детей\"."
   ]
  },
  {
   "cell_type": "code",
   "execution_count": 70,
   "metadata": {},
   "outputs": [
    {
     "data": {
      "text/html": [
       "<div>\n",
       "<style scoped>\n",
       "    .dataframe tbody tr th:only-of-type {\n",
       "        vertical-align: middle;\n",
       "    }\n",
       "\n",
       "    .dataframe tbody tr th {\n",
       "        vertical-align: top;\n",
       "    }\n",
       "\n",
       "    .dataframe thead th {\n",
       "        text-align: right;\n",
       "    }\n",
       "</style>\n",
       "<table border=\"1\" class=\"dataframe\">\n",
       "  <thead>\n",
       "    <tr style=\"text-align: right;\">\n",
       "      <th></th>\n",
       "      <th>debt</th>\n",
       "    </tr>\n",
       "    <tr>\n",
       "      <th>child_category</th>\n",
       "      <th></th>\n",
       "    </tr>\n",
       "  </thead>\n",
       "  <tbody>\n",
       "    <tr>\n",
       "      <td>Два ребенка</td>\n",
       "      <td>0.094925</td>\n",
       "    </tr>\n",
       "    <tr>\n",
       "      <td>Многодетный</td>\n",
       "      <td>0.081579</td>\n",
       "    </tr>\n",
       "    <tr>\n",
       "      <td>Нет детей</td>\n",
       "      <td>0.075444</td>\n",
       "    </tr>\n",
       "    <tr>\n",
       "      <td>Один ребенок</td>\n",
       "      <td>0.091658</td>\n",
       "    </tr>\n",
       "  </tbody>\n",
       "</table>\n",
       "</div>"
      ],
      "text/plain": [
       "                    debt\n",
       "child_category          \n",
       "Два ребенка     0.094925\n",
       "Многодетный     0.081579\n",
       "Нет детей       0.075444\n",
       "Один ребенок    0.091658"
      ]
     },
     "execution_count": 70,
     "metadata": {},
     "output_type": "execute_result"
    }
   ],
   "source": [
    "data.groupby(['child_category']).agg({'debt':'mean'})"
   ]
  },
  {
   "cell_type": "markdown",
   "metadata": {},
   "source": [
    "- Есть ли зависимость между семейным положением и возвратом кредита в срок?"
   ]
  },
  {
   "cell_type": "code",
   "execution_count": 71,
   "metadata": {},
   "outputs": [
    {
     "data": {
      "text/html": [
       "<div>\n",
       "<style scoped>\n",
       "    .dataframe tbody tr th:only-of-type {\n",
       "        vertical-align: middle;\n",
       "    }\n",
       "\n",
       "    .dataframe tbody tr th {\n",
       "        vertical-align: top;\n",
       "    }\n",
       "\n",
       "    .dataframe thead th {\n",
       "        text-align: right;\n",
       "    }\n",
       "</style>\n",
       "<table border=\"1\" class=\"dataframe\">\n",
       "  <thead>\n",
       "    <tr style=\"text-align: right;\">\n",
       "      <th></th>\n",
       "      <th>debt</th>\n",
       "      <th>debt_part</th>\n",
       "    </tr>\n",
       "    <tr>\n",
       "      <th>family_category</th>\n",
       "      <th></th>\n",
       "      <th></th>\n",
       "    </tr>\n",
       "  </thead>\n",
       "  <tbody>\n",
       "    <tr>\n",
       "      <td>Состоит в отношениях</td>\n",
       "      <td>1319</td>\n",
       "      <td>7.999272</td>\n",
       "    </tr>\n",
       "    <tr>\n",
       "      <td>Не состоит в отношениях</td>\n",
       "      <td>422</td>\n",
       "      <td>8.501209</td>\n",
       "    </tr>\n",
       "  </tbody>\n",
       "</table>\n",
       "</div>"
      ],
      "text/plain": [
       "                         debt  debt_part\n",
       "family_category                         \n",
       "Состоит в отношениях     1319   7.999272\n",
       "Не состоит в отношениях   422   8.501209"
      ]
     },
     "execution_count": 71,
     "metadata": {},
     "output_type": "execute_result"
    }
   ],
   "source": [
    "# сгруппируем данные по категории и найдем количество непогашенных кредитов методом agg(), суммировав по 'debt'\n",
    "data_grouped_family = data.groupby(['family_category']).agg({'debt':sum})\n",
    "\n",
    "# Найдем долю непогашенных кредитов для каждой категории поделив количество непогашенных кредитов на общее число кредитов категории в %\n",
    "data_grouped_family['debt_part'] = data_grouped_family['debt'] / data['family_category'].value_counts() * 100\n",
    "\n",
    "#Выведем общую таблицу с категорией, количеством непогашенных кредитов и их % от выданных кредитов на категорию\n",
    "data_grouped_family.sort_values(by=['debt_part'])"
   ]
  },
  {
   "cell_type": "code",
   "execution_count": 72,
   "metadata": {},
   "outputs": [
    {
     "data": {
      "text/html": [
       "<div>\n",
       "<style scoped>\n",
       "    .dataframe tbody tr th:only-of-type {\n",
       "        vertical-align: middle;\n",
       "    }\n",
       "\n",
       "    .dataframe tbody tr th {\n",
       "        vertical-align: top;\n",
       "    }\n",
       "\n",
       "    .dataframe thead th {\n",
       "        text-align: right;\n",
       "    }\n",
       "</style>\n",
       "<table border=\"1\" class=\"dataframe\">\n",
       "  <thead>\n",
       "    <tr style=\"text-align: right;\">\n",
       "      <th>gender</th>\n",
       "      <th>F</th>\n",
       "      <th>M</th>\n",
       "    </tr>\n",
       "    <tr>\n",
       "      <th>family_category</th>\n",
       "      <th></th>\n",
       "      <th></th>\n",
       "    </tr>\n",
       "  </thead>\n",
       "  <tbody>\n",
       "    <tr>\n",
       "      <td>Не состоит в отношениях</td>\n",
       "      <td>0.064724</td>\n",
       "      <td>0.136918</td>\n",
       "    </tr>\n",
       "    <tr>\n",
       "      <td>Состоит в отношениях</td>\n",
       "      <td>0.071947</td>\n",
       "      <td>0.094494</td>\n",
       "    </tr>\n",
       "  </tbody>\n",
       "</table>\n",
       "</div>"
      ],
      "text/plain": [
       "gender                          F         M\n",
       "family_category                            \n",
       "Не состоит в отношениях  0.064724  0.136918\n",
       "Состоит в отношениях     0.071947  0.094494"
      ]
     },
     "execution_count": 72,
     "metadata": {},
     "output_type": "execute_result"
    }
   ],
   "source": [
    "data_pivot_1 = data.pivot_table(index = 'family_category', columns = 'gender', values = 'debt', aggfunc='mean' )\n",
    "data_pivot_1"
   ]
  },
  {
   "cell_type": "markdown",
   "metadata": {},
   "source": [
    "**Вывод**"
   ]
  },
  {
   "cell_type": "markdown",
   "metadata": {},
   "source": [
    "По таблице видим, что клиенты, состоящие в отношениях имеют много невыплаченных кредитов, при этом в целом возвращают их немного ( на 0,5%) лучше, чем одинокие клиенты"
   ]
  },
  {
   "cell_type": "markdown",
   "metadata": {},
   "source": [
    "- Есть ли зависимость между уровнем дохода и возвратом кредита в срок?"
   ]
  },
  {
   "cell_type": "code",
   "execution_count": 73,
   "metadata": {},
   "outputs": [
    {
     "data": {
      "text/html": [
       "<div>\n",
       "<style scoped>\n",
       "    .dataframe tbody tr th:only-of-type {\n",
       "        vertical-align: middle;\n",
       "    }\n",
       "\n",
       "    .dataframe tbody tr th {\n",
       "        vertical-align: top;\n",
       "    }\n",
       "\n",
       "    .dataframe thead th {\n",
       "        text-align: right;\n",
       "    }\n",
       "</style>\n",
       "<table border=\"1\" class=\"dataframe\">\n",
       "  <thead>\n",
       "    <tr style=\"text-align: right;\">\n",
       "      <th></th>\n",
       "      <th>debt</th>\n",
       "      <th>debt_part</th>\n",
       "    </tr>\n",
       "    <tr>\n",
       "      <th>total_income_category</th>\n",
       "      <th></th>\n",
       "      <th></th>\n",
       "    </tr>\n",
       "  </thead>\n",
       "  <tbody>\n",
       "    <tr>\n",
       "      <td>Доход выше среднего</td>\n",
       "      <td>503</td>\n",
       "      <td>7.450748</td>\n",
       "    </tr>\n",
       "    <tr>\n",
       "      <td>Доход ниже среднего</td>\n",
       "      <td>342</td>\n",
       "      <td>8.056537</td>\n",
       "    </tr>\n",
       "    <tr>\n",
       "      <td>Доход средний</td>\n",
       "      <td>896</td>\n",
       "      <td>8.568423</td>\n",
       "    </tr>\n",
       "  </tbody>\n",
       "</table>\n",
       "</div>"
      ],
      "text/plain": [
       "                       debt  debt_part\n",
       "total_income_category                 \n",
       "Доход выше среднего     503   7.450748\n",
       "Доход ниже среднего     342   8.056537\n",
       "Доход средний           896   8.568423"
      ]
     },
     "execution_count": 73,
     "metadata": {},
     "output_type": "execute_result"
    }
   ],
   "source": [
    "# сгруппируем данные по категории и найдем количество непогашенных кредитов методом agg(), суммировав по 'debt'\n",
    "data_grouped_income = data.groupby(['total_income_category']).agg({'debt':sum})\n",
    "\n",
    "# Найдем долю непогашенных кредитов для каждой категории поделив количество непогашенных кредитов на общее число кредитов категории в %\n",
    "data_grouped_income['debt_part'] = data_grouped_income['debt'] / data['total_income_category'].value_counts() * 100\n",
    "\n",
    "#Выведем общую таблицу с категорией, количеством непогашенных кредитов и их % от выданных кредитов на категорию\n",
    "data_grouped_income.sort_values(by=['debt_part'])"
   ]
  },
  {
   "cell_type": "code",
   "execution_count": 74,
   "metadata": {},
   "outputs": [
    {
     "data": {
      "text/html": [
       "<div>\n",
       "<style scoped>\n",
       "    .dataframe tbody tr th:only-of-type {\n",
       "        vertical-align: middle;\n",
       "    }\n",
       "\n",
       "    .dataframe tbody tr th {\n",
       "        vertical-align: top;\n",
       "    }\n",
       "\n",
       "    .dataframe thead th {\n",
       "        text-align: right;\n",
       "    }\n",
       "</style>\n",
       "<table border=\"1\" class=\"dataframe\">\n",
       "  <thead>\n",
       "    <tr style=\"text-align: right;\">\n",
       "      <th></th>\n",
       "      <th>debt</th>\n",
       "    </tr>\n",
       "    <tr>\n",
       "      <th>total_income_category</th>\n",
       "      <th></th>\n",
       "    </tr>\n",
       "  </thead>\n",
       "  <tbody>\n",
       "    <tr>\n",
       "      <td>Доход выше среднего</td>\n",
       "      <td>0.074507</td>\n",
       "    </tr>\n",
       "    <tr>\n",
       "      <td>Доход ниже среднего</td>\n",
       "      <td>0.080565</td>\n",
       "    </tr>\n",
       "    <tr>\n",
       "      <td>Доход средний</td>\n",
       "      <td>0.085684</td>\n",
       "    </tr>\n",
       "  </tbody>\n",
       "</table>\n",
       "</div>"
      ],
      "text/plain": [
       "                           debt\n",
       "total_income_category          \n",
       "Доход выше среднего    0.074507\n",
       "Доход ниже среднего    0.080565\n",
       "Доход средний          0.085684"
      ]
     },
     "execution_count": 74,
     "metadata": {},
     "output_type": "execute_result"
    }
   ],
   "source": [
    "data_pivot = data.pivot_table(index = 'total_income_category', values = ['debt'] , aggfunc='mean')\n",
    "data_pivot"
   ]
  },
  {
   "cell_type": "markdown",
   "metadata": {},
   "source": [
    "**Вывод**"
   ]
  },
  {
   "cell_type": "markdown",
   "metadata": {},
   "source": [
    "Зависимость не прослеживается. Клиенты с низким доходом выплачивают кредит лучше, чем клиенты со средним доходом, примерно на 0,5%  "
   ]
  },
  {
   "cell_type": "markdown",
   "metadata": {},
   "source": [
    "- Как разные цели кредита влияют на его возврат в срок?"
   ]
  },
  {
   "cell_type": "code",
   "execution_count": 75,
   "metadata": {},
   "outputs": [
    {
     "data": {
      "text/html": [
       "<div>\n",
       "<style scoped>\n",
       "    .dataframe tbody tr th:only-of-type {\n",
       "        vertical-align: middle;\n",
       "    }\n",
       "\n",
       "    .dataframe tbody tr th {\n",
       "        vertical-align: top;\n",
       "    }\n",
       "\n",
       "    .dataframe thead th {\n",
       "        text-align: right;\n",
       "    }\n",
       "</style>\n",
       "<table border=\"1\" class=\"dataframe\">\n",
       "  <thead>\n",
       "    <tr style=\"text-align: right;\">\n",
       "      <th></th>\n",
       "      <th>debt</th>\n",
       "      <th>debt_part</th>\n",
       "    </tr>\n",
       "    <tr>\n",
       "      <th>purpose_category</th>\n",
       "      <th></th>\n",
       "      <th></th>\n",
       "    </tr>\n",
       "  </thead>\n",
       "  <tbody>\n",
       "    <tr>\n",
       "      <td>Жилье</td>\n",
       "      <td>308</td>\n",
       "      <td>6.905830</td>\n",
       "    </tr>\n",
       "    <tr>\n",
       "      <td>Недвижимость</td>\n",
       "      <td>474</td>\n",
       "      <td>7.464567</td>\n",
       "    </tr>\n",
       "    <tr>\n",
       "      <td>Свадьба</td>\n",
       "      <td>186</td>\n",
       "      <td>8.003442</td>\n",
       "    </tr>\n",
       "    <tr>\n",
       "      <td>Образование</td>\n",
       "      <td>370</td>\n",
       "      <td>9.220035</td>\n",
       "    </tr>\n",
       "    <tr>\n",
       "      <td>Автомобиль</td>\n",
       "      <td>403</td>\n",
       "      <td>9.359034</td>\n",
       "    </tr>\n",
       "  </tbody>\n",
       "</table>\n",
       "</div>"
      ],
      "text/plain": [
       "                  debt  debt_part\n",
       "purpose_category                 \n",
       "Жилье              308   6.905830\n",
       "Недвижимость       474   7.464567\n",
       "Свадьба            186   8.003442\n",
       "Образование        370   9.220035\n",
       "Автомобиль         403   9.359034"
      ]
     },
     "execution_count": 75,
     "metadata": {},
     "output_type": "execute_result"
    }
   ],
   "source": [
    "# сгруппируем данные по категории и найдем количество непогашенных кредитов методом agg(), суммировав по 'debt'\n",
    "data_grouped_purpose = data.groupby(['purpose_category']).agg({'debt':sum})\n",
    "\n",
    "# Найдем долю непогашенных кредитов для каждой категории поделив количество непогашенных кредитов на общее число кредитов категории в %\n",
    "data_grouped_purpose['debt_part'] = data_grouped_purpose['debt'] / data['purpose_category'].value_counts() * 100\n",
    "\n",
    "#Выведем общую таблицу с категорией, количеством непогашенных кредитов и их % от выданных кредитов на категорию\n",
    "data_grouped_purpose.sort_values(by=['debt_part'])"
   ]
  },
  {
   "cell_type": "markdown",
   "metadata": {},
   "source": [
    "**Вывод**"
   ]
  },
  {
   "cell_type": "markdown",
   "metadata": {},
   "source": [
    "Кредиты на Образование и Автомобиль возвращаются хуже всех, более 9%. Самая возвращаемая категория - на Жилье - менее 7%."
   ]
  },
  {
   "cell_type": "markdown",
   "metadata": {},
   "source": [
    "- Посмотрим на возврат кредитов по возрастной категории:"
   ]
  },
  {
   "cell_type": "code",
   "execution_count": 76,
   "metadata": {},
   "outputs": [
    {
     "data": {
      "text/html": [
       "<div>\n",
       "<style scoped>\n",
       "    .dataframe tbody tr th:only-of-type {\n",
       "        vertical-align: middle;\n",
       "    }\n",
       "\n",
       "    .dataframe tbody tr th {\n",
       "        vertical-align: top;\n",
       "    }\n",
       "\n",
       "    .dataframe thead th {\n",
       "        text-align: right;\n",
       "    }\n",
       "</style>\n",
       "<table border=\"1\" class=\"dataframe\">\n",
       "  <thead>\n",
       "    <tr style=\"text-align: right;\">\n",
       "      <th></th>\n",
       "      <th>debt</th>\n",
       "      <th>debt_part</th>\n",
       "    </tr>\n",
       "    <tr>\n",
       "      <th>age_category</th>\n",
       "      <th></th>\n",
       "      <th></th>\n",
       "    </tr>\n",
       "  </thead>\n",
       "  <tbody>\n",
       "    <tr>\n",
       "      <td>Пожилой возраст</td>\n",
       "      <td>123</td>\n",
       "      <td>4.921969</td>\n",
       "    </tr>\n",
       "    <tr>\n",
       "      <td>Средний возраст</td>\n",
       "      <td>337</td>\n",
       "      <td>6.499518</td>\n",
       "    </tr>\n",
       "    <tr>\n",
       "      <td>Старческий возраст</td>\n",
       "      <td>149</td>\n",
       "      <td>7.517659</td>\n",
       "    </tr>\n",
       "    <tr>\n",
       "      <td>Молодой возраст</td>\n",
       "      <td>1132</td>\n",
       "      <td>9.603801</td>\n",
       "    </tr>\n",
       "  </tbody>\n",
       "</table>\n",
       "</div>"
      ],
      "text/plain": [
       "                    debt  debt_part\n",
       "age_category                       \n",
       "Пожилой возраст      123   4.921969\n",
       "Средний возраст      337   6.499518\n",
       "Старческий возраст   149   7.517659\n",
       "Молодой возраст     1132   9.603801"
      ]
     },
     "execution_count": 76,
     "metadata": {},
     "output_type": "execute_result"
    }
   ],
   "source": [
    "# сгруппируем данные по категории и найдем количество непогашенных кредитов методом agg(), суммировав по 'debt'\n",
    "data_grouped_years = data.groupby(['age_category']).agg({'debt':sum})\n",
    "\n",
    "# Найдем долю непогашенных кредитов для каждой категории поделив количество непогашенных кредитов на общее число кредитов категории в %\n",
    "data_grouped_years['debt_part'] = data_grouped_years['debt'] / data['age_category'].value_counts() * 100\n",
    "\n",
    "#Выведем общую таблицу с категорией, количеством непогашенных кредитов и их % от выданных кредитов на категорию\n",
    "data_grouped_years.sort_values(by=['debt_part'])"
   ]
  },
  {
   "cell_type": "markdown",
   "metadata": {},
   "source": [
    "Хуже всех с выплатой справляются молодые (до 44) и старики (75-90). "
   ]
  },
  {
   "cell_type": "markdown",
   "metadata": {},
   "source": [
    "- Посмотрим на возврат кредитов по половой принадлежности:"
   ]
  },
  {
   "cell_type": "code",
   "execution_count": 77,
   "metadata": {},
   "outputs": [
    {
     "data": {
      "text/html": [
       "<div>\n",
       "<style scoped>\n",
       "    .dataframe tbody tr th:only-of-type {\n",
       "        vertical-align: middle;\n",
       "    }\n",
       "\n",
       "    .dataframe tbody tr th {\n",
       "        vertical-align: top;\n",
       "    }\n",
       "\n",
       "    .dataframe thead th {\n",
       "        text-align: right;\n",
       "    }\n",
       "</style>\n",
       "<table border=\"1\" class=\"dataframe\">\n",
       "  <thead>\n",
       "    <tr style=\"text-align: right;\">\n",
       "      <th></th>\n",
       "      <th>debt</th>\n",
       "      <th>debt_part</th>\n",
       "    </tr>\n",
       "    <tr>\n",
       "      <th>gender</th>\n",
       "      <th></th>\n",
       "      <th></th>\n",
       "    </tr>\n",
       "  </thead>\n",
       "  <tbody>\n",
       "    <tr>\n",
       "      <td>F</td>\n",
       "      <td>994</td>\n",
       "      <td>7.012840</td>\n",
       "    </tr>\n",
       "    <tr>\n",
       "      <td>M</td>\n",
       "      <td>747</td>\n",
       "      <td>10.262399</td>\n",
       "    </tr>\n",
       "  </tbody>\n",
       "</table>\n",
       "</div>"
      ],
      "text/plain": [
       "        debt  debt_part\n",
       "gender                 \n",
       "F        994   7.012840\n",
       "M        747  10.262399"
      ]
     },
     "execution_count": 77,
     "metadata": {},
     "output_type": "execute_result"
    }
   ],
   "source": [
    "# сгруппируем данные по категории и найдем количество непогашенных кредитов методом agg(), суммировав по 'debt'\n",
    "data_grouped_gender = data.groupby(['gender']).agg({'debt':sum})\n",
    "\n",
    "# Найдем долю непогашенных кредитов для каждой категории поделив количество непогашенных кредитов на общее число кредитов категории в %\n",
    "data_grouped_gender['debt_part'] = data_grouped_gender['debt'] / data['gender'].value_counts() * 100\n",
    "\n",
    "#Выведем общую таблицу с категорией, количеством непогашенных кредитов и их % от выданных кредитов на категорию\n",
    "data_grouped_gender.sort_values(by=['debt_part'])"
   ]
  },
  {
   "cell_type": "markdown",
   "metadata": {},
   "source": [
    "Женщины оказались более ответственными. Больше кредитов берут и возвращают лучше мужчин."
   ]
  },
  {
   "cell_type": "markdown",
   "metadata": {},
   "source": [
    "## Шаг 4. Общий вывод"
   ]
  },
  {
   "cell_type": "markdown",
   "metadata": {},
   "source": [
    "### Предобработка данных"
   ]
  },
  {
   "cell_type": "markdown",
   "metadata": {},
   "source": [
    "Провели замену пропусков, удаление дубликатов, проверили таблицу на корректность ифнормации."
   ]
  },
  {
   "cell_type": "markdown",
   "metadata": {},
   "source": [
    "### Категоризация клиентов"
   ]
  },
  {
   "cell_type": "markdown",
   "metadata": {},
   "source": [
    "Провели категоризацию клиентов:\n",
    "1. По количеству детей\n",
    "1. По семейному положению\n",
    "1. По возрасту клиента\n",
    "1. По ежемесячному доходу\n",
    "1. По полу клиента\n",
    "1. По целям кредита"
   ]
  },
  {
   "cell_type": "markdown",
   "metadata": {},
   "source": [
    "### Главные выводы и расчеты"
   ]
  },
  {
   "cell_type": "markdown",
   "metadata": {},
   "source": [
    "Расчитали процентное соотношение непогашенных кредитов к общему числу взятых кредитов по выявленным категориям клиентов"
   ]
  },
  {
   "cell_type": "markdown",
   "metadata": {},
   "source": [
    "1. Установили, что с увеличением количества детей, вероятность невозврата кредита увеличивается.\n",
    "1. Установили, что люди, состоящие в отношениях (гражданский брак, женат/замужем) выплачивают кредит лучше, чем одинокие.\n",
    "1. Не установили прямой зависимости между уровнем дохода и погашением кредита. Клиенты с низким доходом выплачивают лучше, чем клиенты со средним доходов.\n",
    "1. Не установили прямой зависимости от возраста. Молодые и старики возвращают кредит хуже.\n",
    "1. Установили, что хуже всего клиенты возвращают кредиты, взятые на \"Автомобиль\" и \"Образование\".\n",
    "1. Установили, что клиенты женского пола выплачивают кредит лучше мужского.\n"
   ]
  },
  {
   "cell_type": "markdown",
   "metadata": {},
   "source": [
    "### Рекомендации"
   ]
  },
  {
   "cell_type": "markdown",
   "metadata": {},
   "source": [
    "Возможно стоит на этапе сбора информации предусмотреть обязательность ввода некоторых полей: \"Стаж\", \"Доход\", \"Пол\". Для полей \"Количество детей\", \"Стаж\" стоит предусмотреть валидацию или проверку на неотрицательные значения."
   ]
  },
  {
   "cell_type": "markdown",
   "metadata": {},
   "source": [
    "## Чек-лист готовности проекта\n",
    "\n",
    "Поставьте 'x' в выполненных пунктах. Далее нажмите Shift+Enter."
   ]
  },
  {
   "cell_type": "markdown",
   "metadata": {},
   "source": [
    "- [x]  открыт файл;\n",
    "- [x]  файл изучен;\n",
    "- [x]  определены пропущенные значения;\n",
    "- [x]  заполнены пропущенные значения;\n",
    "- [x]  есть пояснение, какие пропущенные значения обнаружены;\n",
    "- [x]  описаны возможные причины появления пропусков в данных;\n",
    "- [x]  объяснено, по какому принципу заполнены пропуски;\n",
    "- [x]  заменен вещественный тип данных на целочисленный;\n",
    "- [x]  есть пояснение, какой метод используется для изменения типа данных и почему;\n",
    "- [x]  удалены дубликаты;\n",
    "- [x]  есть пояснение, какой метод используется для поиска и удаления дубликатов;\n",
    "- [x]  описаны возможные причины появления дубликатов в данных;\n",
    "- [x]  выделены леммы в значениях столбца с целями получения кредита;\n",
    "- [x]  описан процесс лемматизации;\n",
    "- [x]  данные категоризированы;\n",
    "- [x]  есть объяснение принципа категоризации данных;\n",
    "- [x]  есть ответ на вопрос: \"Есть ли зависимость между наличием детей и возвратом кредита в срок?\";\n",
    "- [x]  есть ответ на вопрос: \"Есть ли зависимость между семейным положением и возвратом кредита в срок?\";\n",
    "- [x]  есть ответ на вопрос: \"Есть ли зависимость между уровнем дохода и возвратом кредита в срок?\";\n",
    "- [x]  есть ответ на вопрос: \"Как разные цели кредита влияют на его возврат в срок?\";\n",
    "- [x]  в каждом этапе есть выводы;\n",
    "- [x]  есть общий вывод."
   ]
  }
 ],
 "metadata": {
  "ExecuteTimeLog": [
   {
    "duration": 883,
    "start_time": "2021-08-12T21:00:25.555Z"
   },
   {
    "duration": 78,
    "start_time": "2021-08-12T21:04:09.830Z"
   },
   {
    "duration": 825,
    "start_time": "2021-08-12T21:13:56.610Z"
   },
   {
    "duration": 77,
    "start_time": "2021-08-12T21:20:32.229Z"
   },
   {
    "duration": 72,
    "start_time": "2021-08-12T21:22:45.773Z"
   },
   {
    "duration": 18,
    "start_time": "2021-08-12T21:25:49.593Z"
   },
   {
    "duration": 87,
    "start_time": "2021-08-12T21:56:08.234Z"
   },
   {
    "duration": 72,
    "start_time": "2021-08-12T21:59:37.529Z"
   },
   {
    "duration": 316,
    "start_time": "2021-08-13T12:12:53.889Z"
   },
   {
    "duration": 276,
    "start_time": "2021-08-13T12:13:02.388Z"
   },
   {
    "duration": 762,
    "start_time": "2021-08-13T12:13:13.911Z"
   },
   {
    "duration": 15,
    "start_time": "2021-08-13T12:13:17.000Z"
   },
   {
    "duration": 266,
    "start_time": "2021-08-13T12:13:21.313Z"
   },
   {
    "duration": 24,
    "start_time": "2021-08-13T12:13:58.385Z"
   },
   {
    "duration": 23,
    "start_time": "2021-08-13T12:14:26.103Z"
   },
   {
    "duration": 23,
    "start_time": "2021-08-13T12:14:51.978Z"
   },
   {
    "duration": 884,
    "start_time": "2021-08-13T12:16:36.642Z"
   },
   {
    "duration": 15,
    "start_time": "2021-08-13T12:16:37.529Z"
   },
   {
    "duration": 25,
    "start_time": "2021-08-13T12:16:37.562Z"
   },
   {
    "duration": 42,
    "start_time": "2021-08-13T12:23:11.895Z"
   },
   {
    "duration": 26,
    "start_time": "2021-08-13T12:24:16.267Z"
   },
   {
    "duration": 771,
    "start_time": "2021-08-13T12:25:41.308Z"
   },
   {
    "duration": 15,
    "start_time": "2021-08-13T12:25:42.082Z"
   },
   {
    "duration": 24,
    "start_time": "2021-08-13T12:25:42.100Z"
   },
   {
    "duration": 50,
    "start_time": "2021-08-13T12:25:42.127Z"
   },
   {
    "duration": 6896,
    "start_time": "2021-08-13T12:27:42.243Z"
   },
   {
    "duration": 6825,
    "start_time": "2021-08-13T12:28:26.607Z"
   },
   {
    "duration": 6872,
    "start_time": "2021-08-13T12:29:17.931Z"
   },
   {
    "duration": 36,
    "start_time": "2021-08-13T12:30:14.776Z"
   },
   {
    "duration": 13,
    "start_time": "2021-08-13T12:30:46.900Z"
   },
   {
    "duration": 12,
    "start_time": "2021-08-13T12:30:51.002Z"
   },
   {
    "duration": 13,
    "start_time": "2021-08-13T12:30:57.906Z"
   },
   {
    "duration": 266,
    "start_time": "2021-08-13T12:31:06.657Z"
   },
   {
    "duration": 13,
    "start_time": "2021-08-13T12:31:12.379Z"
   },
   {
    "duration": 11,
    "start_time": "2021-08-13T12:31:22.122Z"
   },
   {
    "duration": 12,
    "start_time": "2021-08-13T12:31:24.418Z"
   },
   {
    "duration": 13,
    "start_time": "2021-08-13T12:31:30.661Z"
   },
   {
    "duration": 11,
    "start_time": "2021-08-13T12:31:38.757Z"
   },
   {
    "duration": 78,
    "start_time": "2021-08-13T12:32:00.751Z"
   },
   {
    "duration": 79,
    "start_time": "2021-08-13T12:32:09.336Z"
   },
   {
    "duration": 8,
    "start_time": "2021-08-13T12:32:39.707Z"
   },
   {
    "duration": 11,
    "start_time": "2021-08-13T12:33:03.183Z"
   },
   {
    "duration": 10,
    "start_time": "2021-08-13T12:33:18.991Z"
   },
   {
    "duration": 9,
    "start_time": "2021-08-13T12:33:37.089Z"
   },
   {
    "duration": 14,
    "start_time": "2021-08-13T12:34:04.443Z"
   },
   {
    "duration": 39,
    "start_time": "2021-08-13T12:35:15.230Z"
   },
   {
    "duration": 24,
    "start_time": "2021-08-13T12:35:24.570Z"
   },
   {
    "duration": 69,
    "start_time": "2021-08-13T12:35:30.137Z"
   },
   {
    "duration": 28,
    "start_time": "2021-08-13T12:48:21.112Z"
   },
   {
    "duration": 24,
    "start_time": "2021-08-13T12:49:20.155Z"
   },
   {
    "duration": 15,
    "start_time": "2021-08-13T12:49:59.771Z"
   },
   {
    "duration": 283,
    "start_time": "2021-08-13T12:51:13.779Z"
   },
   {
    "duration": 76,
    "start_time": "2021-08-13T12:51:56.888Z"
   },
   {
    "duration": 316,
    "start_time": "2021-08-13T12:52:00.678Z"
   },
   {
    "duration": 800,
    "start_time": "2021-08-13T12:52:47.202Z"
   },
   {
    "duration": 19,
    "start_time": "2021-08-13T12:52:48.005Z"
   },
   {
    "duration": 53,
    "start_time": "2021-08-13T12:52:48.028Z"
   },
   {
    "duration": 19,
    "start_time": "2021-08-13T12:58:54.294Z"
   },
   {
    "duration": 51,
    "start_time": "2021-08-13T12:59:30.376Z"
   },
   {
    "duration": 356,
    "start_time": "2021-08-13T13:04:02.058Z"
   },
   {
    "duration": 329,
    "start_time": "2021-08-13T13:04:22.188Z"
   },
   {
    "duration": 311,
    "start_time": "2021-08-13T13:05:39.237Z"
   },
   {
    "duration": 294,
    "start_time": "2021-08-13T13:07:12.650Z"
   },
   {
    "duration": 13,
    "start_time": "2021-08-13T13:07:17.592Z"
   },
   {
    "duration": 11,
    "start_time": "2021-08-13T13:07:29.675Z"
   },
   {
    "duration": 12,
    "start_time": "2021-08-13T13:07:34.917Z"
   },
   {
    "duration": 11,
    "start_time": "2021-08-13T13:07:38.664Z"
   },
   {
    "duration": 12,
    "start_time": "2021-08-13T13:07:43.748Z"
   },
   {
    "duration": 12,
    "start_time": "2021-08-13T13:07:48.339Z"
   },
   {
    "duration": 12,
    "start_time": "2021-08-13T13:07:54.866Z"
   },
   {
    "duration": 12,
    "start_time": "2021-08-13T13:07:58.697Z"
   },
   {
    "duration": 12,
    "start_time": "2021-08-13T13:08:02.929Z"
   },
   {
    "duration": 101,
    "start_time": "2021-08-13T13:08:13.017Z"
   },
   {
    "duration": 12,
    "start_time": "2021-08-13T13:08:19.897Z"
   },
   {
    "duration": 12,
    "start_time": "2021-08-13T13:08:23.915Z"
   },
   {
    "duration": 232,
    "start_time": "2021-08-13T13:09:42.942Z"
   },
   {
    "duration": 12,
    "start_time": "2021-08-13T13:09:53.338Z"
   },
   {
    "duration": 14,
    "start_time": "2021-08-13T13:11:19.051Z"
   },
   {
    "duration": 13,
    "start_time": "2021-08-13T13:11:30.051Z"
   },
   {
    "duration": 281,
    "start_time": "2021-08-13T13:11:59.521Z"
   },
   {
    "duration": 276,
    "start_time": "2021-08-13T13:13:26.836Z"
   },
   {
    "duration": 224,
    "start_time": "2021-08-13T13:13:38.545Z"
   },
   {
    "duration": 41,
    "start_time": "2021-08-13T13:13:46.039Z"
   },
   {
    "duration": 29,
    "start_time": "2021-08-13T13:15:20.152Z"
   },
   {
    "duration": 292,
    "start_time": "2021-08-13T13:17:13.707Z"
   },
   {
    "duration": 7,
    "start_time": "2021-08-13T13:18:23.237Z"
   },
   {
    "duration": 35,
    "start_time": "2021-08-13T13:19:38.001Z"
   },
   {
    "duration": 35,
    "start_time": "2021-08-13T13:19:51.109Z"
   },
   {
    "duration": 29,
    "start_time": "2021-08-13T13:22:50.204Z"
   },
   {
    "duration": 298,
    "start_time": "2021-08-13T13:23:09.499Z"
   },
   {
    "duration": 312,
    "start_time": "2021-08-13T13:23:55.005Z"
   },
   {
    "duration": 6,
    "start_time": "2021-08-13T13:26:31.082Z"
   },
   {
    "duration": 7,
    "start_time": "2021-08-13T13:26:46.013Z"
   },
   {
    "duration": 22,
    "start_time": "2021-08-13T13:28:00.822Z"
   },
   {
    "duration": 21,
    "start_time": "2021-08-13T13:28:11.485Z"
   },
   {
    "duration": 12,
    "start_time": "2021-08-13T13:30:58.203Z"
   },
   {
    "duration": 20,
    "start_time": "2021-08-13T13:31:16.475Z"
   },
   {
    "duration": 11,
    "start_time": "2021-08-13T13:36:15.342Z"
   },
   {
    "duration": 8,
    "start_time": "2021-08-13T13:41:09.199Z"
   },
   {
    "duration": 9,
    "start_time": "2021-08-13T13:45:58.616Z"
   },
   {
    "duration": 22,
    "start_time": "2021-08-13T13:46:15.070Z"
   },
   {
    "duration": 14,
    "start_time": "2021-08-13T13:46:46.943Z"
   },
   {
    "duration": 11,
    "start_time": "2021-08-13T13:46:59.763Z"
   },
   {
    "duration": 11,
    "start_time": "2021-08-13T13:47:11.291Z"
   },
   {
    "duration": 26,
    "start_time": "2021-08-13T13:47:16.963Z"
   },
   {
    "duration": 21,
    "start_time": "2021-08-13T13:54:37.702Z"
   },
   {
    "duration": 20,
    "start_time": "2021-08-13T13:55:01.384Z"
   },
   {
    "duration": 9,
    "start_time": "2021-08-13T14:00:02.291Z"
   },
   {
    "duration": 95,
    "start_time": "2021-08-13T14:03:12.346Z"
   },
   {
    "duration": 19,
    "start_time": "2021-08-13T14:19:39.603Z"
   },
   {
    "duration": 100,
    "start_time": "2021-08-13T14:21:36.195Z"
   },
   {
    "duration": 1111,
    "start_time": "2021-08-13T14:41:25.262Z"
   },
   {
    "duration": 21,
    "start_time": "2021-08-13T14:41:26.376Z"
   },
   {
    "duration": 29,
    "start_time": "2021-08-13T14:41:26.401Z"
   },
   {
    "duration": 47,
    "start_time": "2021-08-13T14:41:26.432Z"
   },
   {
    "duration": 8,
    "start_time": "2021-08-13T14:41:26.482Z"
   },
   {
    "duration": 18,
    "start_time": "2021-08-13T14:41:26.493Z"
   },
   {
    "duration": 64,
    "start_time": "2021-08-13T14:41:26.513Z"
   },
   {
    "duration": 397,
    "start_time": "2021-08-13T15:07:40.599Z"
   },
   {
    "duration": 5,
    "start_time": "2021-08-13T15:08:04.708Z"
   },
   {
    "duration": 6,
    "start_time": "2021-08-13T15:08:09.406Z"
   },
   {
    "duration": 19,
    "start_time": "2021-08-13T15:08:30.084Z"
   },
   {
    "duration": 282,
    "start_time": "2021-08-13T15:09:23.132Z"
   },
   {
    "duration": 224,
    "start_time": "2021-08-13T15:09:54.453Z"
   },
   {
    "duration": 55,
    "start_time": "2021-08-13T15:10:19.096Z"
   },
   {
    "duration": 22,
    "start_time": "2021-08-13T15:11:36.571Z"
   },
   {
    "duration": 6,
    "start_time": "2021-08-13T15:13:20.385Z"
   },
   {
    "duration": 16,
    "start_time": "2021-08-13T15:13:22.227Z"
   },
   {
    "duration": 18,
    "start_time": "2021-08-13T15:13:37.377Z"
   },
   {
    "duration": 770,
    "start_time": "2021-08-13T15:20:39.804Z"
   },
   {
    "duration": 15,
    "start_time": "2021-08-13T15:20:40.576Z"
   },
   {
    "duration": 22,
    "start_time": "2021-08-13T15:20:40.594Z"
   },
   {
    "duration": 46,
    "start_time": "2021-08-13T15:20:40.619Z"
   },
   {
    "duration": 9,
    "start_time": "2021-08-13T15:20:40.668Z"
   },
   {
    "duration": 20,
    "start_time": "2021-08-13T15:20:40.679Z"
   },
   {
    "duration": 4,
    "start_time": "2021-08-13T15:20:40.701Z"
   },
   {
    "duration": 57,
    "start_time": "2021-08-13T15:20:40.707Z"
   },
   {
    "duration": 5,
    "start_time": "2021-08-13T15:20:40.767Z"
   },
   {
    "duration": 20,
    "start_time": "2021-08-13T15:20:40.775Z"
   },
   {
    "duration": 28,
    "start_time": "2021-08-13T15:20:40.798Z"
   },
   {
    "duration": 24,
    "start_time": "2021-08-13T15:21:39.308Z"
   },
   {
    "duration": 15,
    "start_time": "2021-08-13T15:23:22.430Z"
   },
   {
    "duration": 21,
    "start_time": "2021-08-13T15:25:09.565Z"
   },
   {
    "duration": 26,
    "start_time": "2021-08-13T15:30:24.069Z"
   },
   {
    "duration": 24,
    "start_time": "2021-08-13T15:30:32.774Z"
   },
   {
    "duration": 14,
    "start_time": "2021-08-13T15:31:39.988Z"
   },
   {
    "duration": 6,
    "start_time": "2021-08-13T15:34:49.489Z"
   },
   {
    "duration": 34,
    "start_time": "2021-08-13T15:46:59.211Z"
   },
   {
    "duration": 12,
    "start_time": "2021-08-13T15:47:37.248Z"
   },
   {
    "duration": 7,
    "start_time": "2021-08-13T15:47:56.104Z"
   },
   {
    "duration": 7,
    "start_time": "2021-08-13T15:48:12.038Z"
   },
   {
    "duration": 7,
    "start_time": "2021-08-13T15:49:29.381Z"
   },
   {
    "duration": 102,
    "start_time": "2021-08-13T15:55:31.628Z"
   },
   {
    "duration": 332,
    "start_time": "2021-08-13T17:23:18.919Z"
   },
   {
    "duration": 8,
    "start_time": "2021-08-13T17:24:43.312Z"
   },
   {
    "duration": 6,
    "start_time": "2021-08-13T17:37:08.021Z"
   },
   {
    "duration": 7,
    "start_time": "2021-08-13T17:49:17.363Z"
   },
   {
    "duration": 8,
    "start_time": "2021-08-13T17:49:55.036Z"
   },
   {
    "duration": 5,
    "start_time": "2021-08-13T17:59:37.803Z"
   },
   {
    "duration": 9,
    "start_time": "2021-08-13T17:59:50.973Z"
   },
   {
    "duration": 5,
    "start_time": "2021-08-13T18:01:49.017Z"
   },
   {
    "duration": 6,
    "start_time": "2021-08-13T18:01:52.464Z"
   },
   {
    "duration": 5,
    "start_time": "2021-08-13T18:01:53.282Z"
   },
   {
    "duration": 8,
    "start_time": "2021-08-13T18:01:54.000Z"
   },
   {
    "duration": 6,
    "start_time": "2021-08-13T18:03:47.525Z"
   },
   {
    "duration": 7,
    "start_time": "2021-08-13T18:04:44.281Z"
   },
   {
    "duration": 7,
    "start_time": "2021-08-13T18:08:47.879Z"
   },
   {
    "duration": 77,
    "start_time": "2021-08-13T18:23:33.850Z"
   },
   {
    "duration": 4,
    "start_time": "2021-08-13T18:23:36.279Z"
   },
   {
    "duration": 10,
    "start_time": "2021-08-13T18:26:21.262Z"
   },
   {
    "duration": 286,
    "start_time": "2021-08-13T18:46:06.416Z"
   },
   {
    "duration": 921,
    "start_time": "2021-08-13T18:47:00.823Z"
   },
   {
    "duration": 7,
    "start_time": "2021-08-13T18:47:13.279Z"
   },
   {
    "duration": 3340,
    "start_time": "2021-08-13T18:56:56.633Z"
   },
   {
    "duration": 3357,
    "start_time": "2021-08-13T18:57:06.648Z"
   },
   {
    "duration": 3120,
    "start_time": "2021-08-13T18:57:19.679Z"
   },
   {
    "duration": 3181,
    "start_time": "2021-08-13T18:57:25.552Z"
   },
   {
    "duration": 8,
    "start_time": "2021-08-13T18:57:46.623Z"
   },
   {
    "duration": 40,
    "start_time": "2021-08-13T19:28:35.583Z"
   },
   {
    "duration": 1040,
    "start_time": "2021-08-13T19:29:18.798Z"
   },
   {
    "duration": 50,
    "start_time": "2021-08-13T19:29:39.206Z"
   },
   {
    "duration": 37,
    "start_time": "2021-08-13T19:34:04.540Z"
   },
   {
    "duration": 693,
    "start_time": "2021-08-13T19:34:53.499Z"
   },
   {
    "duration": 125,
    "start_time": "2021-08-13T19:34:54.195Z"
   },
   {
    "duration": 15,
    "start_time": "2021-08-13T19:34:54.328Z"
   },
   {
    "duration": 22,
    "start_time": "2021-08-13T19:34:54.346Z"
   },
   {
    "duration": 20,
    "start_time": "2021-08-13T19:34:54.371Z"
   },
   {
    "duration": 11,
    "start_time": "2021-08-13T19:34:54.394Z"
   },
   {
    "duration": 16,
    "start_time": "2021-08-13T19:34:54.410Z"
   },
   {
    "duration": 5,
    "start_time": "2021-08-13T19:34:54.429Z"
   },
   {
    "duration": 30,
    "start_time": "2021-08-13T19:34:54.437Z"
   },
   {
    "duration": 5,
    "start_time": "2021-08-13T19:34:54.470Z"
   },
   {
    "duration": 25,
    "start_time": "2021-08-13T19:34:54.477Z"
   },
   {
    "duration": 25,
    "start_time": "2021-08-13T19:34:54.505Z"
   },
   {
    "duration": 31,
    "start_time": "2021-08-13T19:34:54.533Z"
   },
   {
    "duration": 21,
    "start_time": "2021-08-13T19:34:54.567Z"
   },
   {
    "duration": 13,
    "start_time": "2021-08-13T19:34:54.590Z"
   },
   {
    "duration": 6,
    "start_time": "2021-08-13T19:34:54.606Z"
   },
   {
    "duration": 11,
    "start_time": "2021-08-13T19:34:54.614Z"
   },
   {
    "duration": 6,
    "start_time": "2021-08-13T19:34:54.627Z"
   },
   {
    "duration": 8,
    "start_time": "2021-08-13T19:34:54.636Z"
   },
   {
    "duration": 29,
    "start_time": "2021-08-13T19:34:54.646Z"
   },
   {
    "duration": 23,
    "start_time": "2021-08-13T19:34:54.678Z"
   },
   {
    "duration": 22,
    "start_time": "2021-08-13T19:34:54.705Z"
   },
   {
    "duration": 14,
    "start_time": "2021-08-13T19:34:54.730Z"
   },
   {
    "duration": 109,
    "start_time": "2021-08-13T19:34:54.747Z"
   },
   {
    "duration": 75,
    "start_time": "2021-08-13T20:03:26.008Z"
   },
   {
    "duration": 3658,
    "start_time": "2021-08-13T20:03:32.969Z"
   },
   {
    "duration": 375,
    "start_time": "2021-08-13T20:03:47.378Z"
   },
   {
    "duration": 5495,
    "start_time": "2021-08-13T20:03:56.425Z"
   },
   {
    "duration": 864,
    "start_time": "2021-08-13T20:04:27.018Z"
   },
   {
    "duration": 9,
    "start_time": "2021-08-13T20:05:15.345Z"
   },
   {
    "duration": 3424,
    "start_time": "2021-08-13T20:05:29.612Z"
   },
   {
    "duration": 266,
    "start_time": "2021-08-13T20:06:44.243Z"
   },
   {
    "duration": 258,
    "start_time": "2021-08-13T20:06:55.235Z"
   },
   {
    "duration": 442,
    "start_time": "2021-08-13T20:09:25.309Z"
   },
   {
    "duration": 918,
    "start_time": "2021-08-13T20:09:29.949Z"
   },
   {
    "duration": 974,
    "start_time": "2021-08-13T20:10:00.491Z"
   },
   {
    "duration": 603,
    "start_time": "2021-08-13T20:10:16.410Z"
   },
   {
    "duration": 476,
    "start_time": "2021-08-13T20:10:24.315Z"
   },
   {
    "duration": 556,
    "start_time": "2021-08-13T20:10:37.522Z"
   },
   {
    "duration": 4048,
    "start_time": "2021-08-13T20:10:47.748Z"
   },
   {
    "duration": 1079,
    "start_time": "2021-08-13T20:13:22.804Z"
   },
   {
    "duration": 938,
    "start_time": "2021-08-13T20:13:32.652Z"
   },
   {
    "duration": 5,
    "start_time": "2021-08-13T20:15:13.423Z"
   },
   {
    "duration": 965,
    "start_time": "2021-08-13T20:17:36.369Z"
   },
   {
    "duration": 956,
    "start_time": "2021-08-13T20:18:55.534Z"
   },
   {
    "duration": 966,
    "start_time": "2021-08-13T20:19:05.222Z"
   },
   {
    "duration": 962,
    "start_time": "2021-08-13T20:20:27.883Z"
   },
   {
    "duration": 950,
    "start_time": "2021-08-13T20:20:46.417Z"
   },
   {
    "duration": 3224,
    "start_time": "2021-08-13T20:22:28.616Z"
   },
   {
    "duration": 3239,
    "start_time": "2021-08-13T20:23:35.852Z"
   },
   {
    "duration": 90,
    "start_time": "2021-08-13T20:26:25.910Z"
   },
   {
    "duration": 3681,
    "start_time": "2021-08-13T20:26:31.860Z"
   },
   {
    "duration": 3554,
    "start_time": "2021-08-13T20:26:45.219Z"
   },
   {
    "duration": 3284,
    "start_time": "2021-08-13T20:26:56.579Z"
   },
   {
    "duration": 736,
    "start_time": "2021-08-13T20:34:17.105Z"
   },
   {
    "duration": 87,
    "start_time": "2021-08-13T20:34:17.844Z"
   },
   {
    "duration": 27,
    "start_time": "2021-08-13T20:34:17.938Z"
   },
   {
    "duration": 20,
    "start_time": "2021-08-13T20:34:17.968Z"
   },
   {
    "duration": 23,
    "start_time": "2021-08-13T20:34:17.990Z"
   },
   {
    "duration": 9,
    "start_time": "2021-08-13T20:34:18.015Z"
   },
   {
    "duration": 18,
    "start_time": "2021-08-13T20:34:18.064Z"
   },
   {
    "duration": 5,
    "start_time": "2021-08-13T20:34:18.085Z"
   },
   {
    "duration": 20,
    "start_time": "2021-08-13T20:34:18.092Z"
   },
   {
    "duration": 5,
    "start_time": "2021-08-13T20:34:18.114Z"
   },
   {
    "duration": 50,
    "start_time": "2021-08-13T20:34:18.121Z"
   },
   {
    "duration": 20,
    "start_time": "2021-08-13T20:34:18.174Z"
   },
   {
    "duration": 24,
    "start_time": "2021-08-13T20:34:18.196Z"
   },
   {
    "duration": 51,
    "start_time": "2021-08-13T20:34:18.222Z"
   },
   {
    "duration": 15,
    "start_time": "2021-08-13T20:34:18.276Z"
   },
   {
    "duration": 12,
    "start_time": "2021-08-13T20:34:18.293Z"
   },
   {
    "duration": 10,
    "start_time": "2021-08-13T20:34:18.307Z"
   },
   {
    "duration": 11,
    "start_time": "2021-08-13T20:34:18.320Z"
   },
   {
    "duration": 30,
    "start_time": "2021-08-13T20:34:18.333Z"
   },
   {
    "duration": 11,
    "start_time": "2021-08-13T20:34:18.366Z"
   },
   {
    "duration": 12,
    "start_time": "2021-08-13T20:34:18.379Z"
   },
   {
    "duration": 7,
    "start_time": "2021-08-13T20:34:18.395Z"
   },
   {
    "duration": 11,
    "start_time": "2021-08-13T20:34:18.404Z"
   },
   {
    "duration": 4587,
    "start_time": "2021-08-13T20:34:18.418Z"
   },
   {
    "duration": 13,
    "start_time": "2021-08-13T20:57:58.992Z"
   },
   {
    "duration": 29,
    "start_time": "2021-08-13T20:58:11.735Z"
   },
   {
    "duration": 33,
    "start_time": "2021-08-13T20:59:12.396Z"
   },
   {
    "duration": 95,
    "start_time": "2021-08-13T21:10:45.388Z"
   },
   {
    "duration": 26,
    "start_time": "2021-08-13T21:10:53.737Z"
   },
   {
    "duration": 25,
    "start_time": "2021-08-13T21:11:34.249Z"
   },
   {
    "duration": 19,
    "start_time": "2021-08-13T21:13:14.637Z"
   },
   {
    "duration": 361,
    "start_time": "2021-08-13T21:31:51.530Z"
   },
   {
    "duration": 31,
    "start_time": "2021-08-13T21:32:22.473Z"
   },
   {
    "duration": 24,
    "start_time": "2021-08-13T21:32:27.632Z"
   },
   {
    "duration": 35,
    "start_time": "2021-08-13T21:32:35.072Z"
   },
   {
    "duration": 99,
    "start_time": "2021-08-13T21:33:20.045Z"
   },
   {
    "duration": 91,
    "start_time": "2021-08-13T21:33:35.053Z"
   },
   {
    "duration": 323,
    "start_time": "2021-08-13T21:34:12.429Z"
   },
   {
    "duration": 33,
    "start_time": "2021-08-13T21:34:20.500Z"
   },
   {
    "duration": 19,
    "start_time": "2021-08-13T21:34:36.971Z"
   },
   {
    "duration": 285,
    "start_time": "2021-08-13T21:34:52.843Z"
   },
   {
    "duration": 20,
    "start_time": "2021-08-13T21:35:16.129Z"
   },
   {
    "duration": 21,
    "start_time": "2021-08-13T21:35:30.136Z"
   },
   {
    "duration": 6913,
    "start_time": "2021-08-13T21:36:29.879Z"
   },
   {
    "duration": 275,
    "start_time": "2021-08-13T21:36:55.735Z"
   },
   {
    "duration": 6685,
    "start_time": "2021-08-13T21:37:38.886Z"
   },
   {
    "duration": 19,
    "start_time": "2021-08-13T21:38:17.573Z"
   },
   {
    "duration": 24,
    "start_time": "2021-08-13T21:38:57.401Z"
   },
   {
    "duration": 29,
    "start_time": "2021-08-13T21:39:04.672Z"
   },
   {
    "duration": 297,
    "start_time": "2021-08-13T21:40:21.446Z"
   },
   {
    "duration": 21,
    "start_time": "2021-08-13T21:41:25.891Z"
   },
   {
    "duration": 15,
    "start_time": "2021-08-13T21:43:55.957Z"
   },
   {
    "duration": 359,
    "start_time": "2021-08-13T21:44:15.254Z"
   },
   {
    "duration": 19,
    "start_time": "2021-08-13T21:53:11.498Z"
   },
   {
    "duration": 7,
    "start_time": "2021-08-13T21:55:19.099Z"
   },
   {
    "duration": 10,
    "start_time": "2021-08-13T21:55:22.621Z"
   },
   {
    "duration": 11,
    "start_time": "2021-08-13T21:55:58.481Z"
   },
   {
    "duration": 11,
    "start_time": "2021-08-13T21:56:01.073Z"
   },
   {
    "duration": 11,
    "start_time": "2021-08-13T21:56:23.672Z"
   },
   {
    "duration": 8,
    "start_time": "2021-08-13T21:57:11.640Z"
   },
   {
    "duration": 11,
    "start_time": "2021-08-13T21:57:16.126Z"
   },
   {
    "duration": 742,
    "start_time": "2021-08-13T23:39:03.864Z"
   },
   {
    "duration": 92,
    "start_time": "2021-08-13T23:39:04.609Z"
   },
   {
    "duration": 15,
    "start_time": "2021-08-13T23:39:04.707Z"
   },
   {
    "duration": 41,
    "start_time": "2021-08-13T23:39:04.725Z"
   },
   {
    "duration": 21,
    "start_time": "2021-08-13T23:39:04.768Z"
   },
   {
    "duration": 9,
    "start_time": "2021-08-13T23:39:04.791Z"
   },
   {
    "duration": 18,
    "start_time": "2021-08-13T23:39:04.804Z"
   },
   {
    "duration": 39,
    "start_time": "2021-08-13T23:39:04.825Z"
   },
   {
    "duration": 18,
    "start_time": "2021-08-13T23:39:04.867Z"
   },
   {
    "duration": 6,
    "start_time": "2021-08-13T23:39:04.887Z"
   },
   {
    "duration": 25,
    "start_time": "2021-08-13T23:39:04.895Z"
   },
   {
    "duration": 50,
    "start_time": "2021-08-13T23:39:04.923Z"
   },
   {
    "duration": 25,
    "start_time": "2021-08-13T23:39:04.975Z"
   },
   {
    "duration": 22,
    "start_time": "2021-08-13T23:39:05.003Z"
   },
   {
    "duration": 38,
    "start_time": "2021-08-13T23:39:05.028Z"
   },
   {
    "duration": 6,
    "start_time": "2021-08-13T23:39:05.068Z"
   },
   {
    "duration": 11,
    "start_time": "2021-08-13T23:39:05.076Z"
   },
   {
    "duration": 9,
    "start_time": "2021-08-13T23:39:05.089Z"
   },
   {
    "duration": 11,
    "start_time": "2021-08-13T23:39:05.100Z"
   },
   {
    "duration": 11,
    "start_time": "2021-08-13T23:39:05.114Z"
   },
   {
    "duration": 36,
    "start_time": "2021-08-13T23:39:05.127Z"
   },
   {
    "duration": 8,
    "start_time": "2021-08-13T23:39:05.167Z"
   },
   {
    "duration": 7,
    "start_time": "2021-08-13T23:39:05.178Z"
   },
   {
    "duration": 4654,
    "start_time": "2021-08-13T23:39:05.189Z"
   },
   {
    "duration": 27,
    "start_time": "2021-08-13T23:39:09.845Z"
   },
   {
    "duration": 13,
    "start_time": "2021-08-13T23:39:09.875Z"
   },
   {
    "duration": 83,
    "start_time": "2021-08-13T23:52:39.570Z"
   },
   {
    "duration": 334,
    "start_time": "2021-08-13T23:52:44.649Z"
   },
   {
    "duration": 242,
    "start_time": "2021-08-13T23:52:48.265Z"
   },
   {
    "duration": 88,
    "start_time": "2021-08-13T23:53:02.360Z"
   },
   {
    "duration": 10,
    "start_time": "2021-08-13T23:53:08.696Z"
   },
   {
    "duration": 290,
    "start_time": "2021-08-14T00:01:03.663Z"
   },
   {
    "duration": 11,
    "start_time": "2021-08-14T00:03:11.196Z"
   },
   {
    "duration": 8,
    "start_time": "2021-08-14T00:27:38.539Z"
   },
   {
    "duration": 15,
    "start_time": "2021-08-14T00:29:25.582Z"
   },
   {
    "duration": 13,
    "start_time": "2021-08-14T00:33:44.602Z"
   },
   {
    "duration": 7,
    "start_time": "2021-08-14T00:34:10.154Z"
   },
   {
    "duration": 73,
    "start_time": "2021-08-14T00:34:43.729Z"
   },
   {
    "duration": 9,
    "start_time": "2021-08-14T00:38:26.560Z"
   },
   {
    "duration": 1770,
    "start_time": "2021-08-14T00:38:44.982Z"
   },
   {
    "duration": 11,
    "start_time": "2021-08-14T00:38:52.391Z"
   },
   {
    "duration": 28,
    "start_time": "2021-08-14T00:46:30.383Z"
   },
   {
    "duration": 15,
    "start_time": "2021-08-14T00:46:35.814Z"
   },
   {
    "duration": 19,
    "start_time": "2021-08-14T00:50:06.981Z"
   },
   {
    "duration": 19,
    "start_time": "2021-08-14T00:50:25.358Z"
   },
   {
    "duration": 19,
    "start_time": "2021-08-14T00:51:57.349Z"
   },
   {
    "duration": 11,
    "start_time": "2021-08-14T00:53:03.133Z"
   },
   {
    "duration": 10,
    "start_time": "2021-08-14T00:53:35.189Z"
   },
   {
    "duration": 11,
    "start_time": "2021-08-14T00:53:44.332Z"
   },
   {
    "duration": 317,
    "start_time": "2021-08-14T01:18:06.030Z"
   },
   {
    "duration": 15,
    "start_time": "2021-08-14T01:18:41.637Z"
   },
   {
    "duration": 14,
    "start_time": "2021-08-14T01:20:46.102Z"
   },
   {
    "duration": 10,
    "start_time": "2021-08-14T01:21:44.923Z"
   },
   {
    "duration": 10,
    "start_time": "2021-08-14T01:22:00.299Z"
   },
   {
    "duration": 6378,
    "start_time": "2021-08-14T01:22:54.836Z"
   },
   {
    "duration": 20,
    "start_time": "2021-08-14T01:23:07.778Z"
   },
   {
    "duration": 10,
    "start_time": "2021-08-14T01:24:48.284Z"
   },
   {
    "duration": 15,
    "start_time": "2021-08-14T01:24:57.924Z"
   },
   {
    "duration": 15,
    "start_time": "2021-08-14T01:25:11.038Z"
   },
   {
    "duration": 25,
    "start_time": "2021-08-14T01:28:54.556Z"
   },
   {
    "duration": 307,
    "start_time": "2021-08-14T01:30:02.706Z"
   },
   {
    "duration": 108,
    "start_time": "2021-08-14T01:30:19.952Z"
   },
   {
    "duration": 22,
    "start_time": "2021-08-14T01:31:15.103Z"
   },
   {
    "duration": 6,
    "start_time": "2021-08-14T01:32:45.332Z"
   },
   {
    "duration": 763,
    "start_time": "2021-08-14T01:43:26.282Z"
   },
   {
    "duration": 89,
    "start_time": "2021-08-14T01:43:27.048Z"
   },
   {
    "duration": 31,
    "start_time": "2021-08-14T01:43:27.146Z"
   },
   {
    "duration": 23,
    "start_time": "2021-08-14T01:43:27.180Z"
   },
   {
    "duration": 7,
    "start_time": "2021-08-14T01:43:27.206Z"
   },
   {
    "duration": 63,
    "start_time": "2021-08-14T01:43:27.216Z"
   },
   {
    "duration": 9,
    "start_time": "2021-08-14T01:43:27.283Z"
   },
   {
    "duration": 21,
    "start_time": "2021-08-14T01:43:27.296Z"
   },
   {
    "duration": 5,
    "start_time": "2021-08-14T01:43:27.320Z"
   },
   {
    "duration": 16,
    "start_time": "2021-08-14T01:43:27.362Z"
   },
   {
    "duration": 5,
    "start_time": "2021-08-14T01:43:27.381Z"
   },
   {
    "duration": 26,
    "start_time": "2021-08-14T01:43:27.388Z"
   },
   {
    "duration": 51,
    "start_time": "2021-08-14T01:43:27.416Z"
   },
   {
    "duration": 25,
    "start_time": "2021-08-14T01:43:27.469Z"
   },
   {
    "duration": 23,
    "start_time": "2021-08-14T01:43:27.496Z"
   },
   {
    "duration": 41,
    "start_time": "2021-08-14T01:43:27.521Z"
   },
   {
    "duration": 7,
    "start_time": "2021-08-14T01:43:27.564Z"
   },
   {
    "duration": 10,
    "start_time": "2021-08-14T01:43:27.573Z"
   },
   {
    "duration": 5,
    "start_time": "2021-08-14T01:43:27.586Z"
   },
   {
    "duration": 7,
    "start_time": "2021-08-14T01:43:27.593Z"
   },
   {
    "duration": 11,
    "start_time": "2021-08-14T01:43:27.603Z"
   },
   {
    "duration": 48,
    "start_time": "2021-08-14T01:43:27.618Z"
   },
   {
    "duration": 6,
    "start_time": "2021-08-14T01:43:27.669Z"
   },
   {
    "duration": 8,
    "start_time": "2021-08-14T01:43:27.677Z"
   },
   {
    "duration": 5502,
    "start_time": "2021-08-14T01:43:27.687Z"
   },
   {
    "duration": 130,
    "start_time": "2021-08-14T01:43:33.192Z"
   },
   {
    "duration": 1618,
    "start_time": "2021-08-14T01:43:31.707Z"
   },
   {
    "duration": 1617,
    "start_time": "2021-08-14T01:43:31.710Z"
   },
   {
    "duration": 1611,
    "start_time": "2021-08-14T01:43:31.717Z"
   },
   {
    "duration": 1610,
    "start_time": "2021-08-14T01:43:31.719Z"
   },
   {
    "duration": 1609,
    "start_time": "2021-08-14T01:43:31.722Z"
   },
   {
    "duration": 1607,
    "start_time": "2021-08-14T01:43:31.725Z"
   },
   {
    "duration": 1607,
    "start_time": "2021-08-14T01:43:31.730Z"
   },
   {
    "duration": 310,
    "start_time": "2021-08-14T01:49:26.174Z"
   },
   {
    "duration": 726,
    "start_time": "2021-08-14T01:49:34.789Z"
   },
   {
    "duration": 91,
    "start_time": "2021-08-14T01:49:40.669Z"
   },
   {
    "duration": 684,
    "start_time": "2021-08-14T01:49:47.391Z"
   },
   {
    "duration": 86,
    "start_time": "2021-08-14T01:49:48.077Z"
   },
   {
    "duration": 17,
    "start_time": "2021-08-14T01:49:48.166Z"
   },
   {
    "duration": 21,
    "start_time": "2021-08-14T01:49:48.186Z"
   },
   {
    "duration": 9,
    "start_time": "2021-08-14T01:49:48.210Z"
   },
   {
    "duration": 55,
    "start_time": "2021-08-14T01:49:48.222Z"
   },
   {
    "duration": 15,
    "start_time": "2021-08-14T01:49:48.280Z"
   },
   {
    "duration": 18,
    "start_time": "2021-08-14T01:49:48.299Z"
   },
   {
    "duration": 42,
    "start_time": "2021-08-14T01:49:48.320Z"
   },
   {
    "duration": 20,
    "start_time": "2021-08-14T01:49:48.365Z"
   },
   {
    "duration": 5,
    "start_time": "2021-08-14T01:49:48.387Z"
   },
   {
    "duration": 29,
    "start_time": "2021-08-14T01:49:48.395Z"
   },
   {
    "duration": 51,
    "start_time": "2021-08-14T01:49:48.427Z"
   },
   {
    "duration": 26,
    "start_time": "2021-08-14T01:49:48.480Z"
   },
   {
    "duration": 57,
    "start_time": "2021-08-14T01:49:48.508Z"
   },
   {
    "duration": 13,
    "start_time": "2021-08-14T01:49:48.567Z"
   },
   {
    "duration": 7,
    "start_time": "2021-08-14T01:49:48.583Z"
   },
   {
    "duration": 10,
    "start_time": "2021-08-14T01:49:48.592Z"
   },
   {
    "duration": 56,
    "start_time": "2021-08-14T01:49:48.605Z"
   },
   {
    "duration": 5,
    "start_time": "2021-08-14T01:49:48.664Z"
   },
   {
    "duration": 10,
    "start_time": "2021-08-14T01:49:48.671Z"
   },
   {
    "duration": 7,
    "start_time": "2021-08-14T01:49:48.683Z"
   },
   {
    "duration": 8,
    "start_time": "2021-08-14T01:49:48.694Z"
   },
   {
    "duration": 58,
    "start_time": "2021-08-14T01:49:48.705Z"
   },
   {
    "duration": 4408,
    "start_time": "2021-08-14T01:49:48.765Z"
   },
   {
    "duration": 88,
    "start_time": "2021-08-14T01:49:53.176Z"
   },
   {
    "duration": 1609,
    "start_time": "2021-08-14T01:49:51.657Z"
   },
   {
    "duration": 1601,
    "start_time": "2021-08-14T01:49:51.667Z"
   },
   {
    "duration": 1599,
    "start_time": "2021-08-14T01:49:51.670Z"
   },
   {
    "duration": 1597,
    "start_time": "2021-08-14T01:49:51.673Z"
   },
   {
    "duration": 1597,
    "start_time": "2021-08-14T01:49:51.675Z"
   },
   {
    "duration": 1595,
    "start_time": "2021-08-14T01:49:51.678Z"
   },
   {
    "duration": 1594,
    "start_time": "2021-08-14T01:49:51.680Z"
   },
   {
    "duration": 755,
    "start_time": "2021-08-14T01:50:37.440Z"
   },
   {
    "duration": 87,
    "start_time": "2021-08-14T01:50:38.198Z"
   },
   {
    "duration": 17,
    "start_time": "2021-08-14T01:50:38.289Z"
   },
   {
    "duration": 23,
    "start_time": "2021-08-14T01:50:38.309Z"
   },
   {
    "duration": 7,
    "start_time": "2021-08-14T01:50:38.364Z"
   },
   {
    "duration": 23,
    "start_time": "2021-08-14T01:50:38.374Z"
   },
   {
    "duration": 17,
    "start_time": "2021-08-14T01:50:38.400Z"
   },
   {
    "duration": 54,
    "start_time": "2021-08-14T01:50:38.423Z"
   },
   {
    "duration": 5,
    "start_time": "2021-08-14T01:50:38.481Z"
   },
   {
    "duration": 19,
    "start_time": "2021-08-14T01:50:38.489Z"
   },
   {
    "duration": 5,
    "start_time": "2021-08-14T01:50:38.510Z"
   },
   {
    "duration": 54,
    "start_time": "2021-08-14T01:50:38.518Z"
   },
   {
    "duration": 22,
    "start_time": "2021-08-14T01:50:38.574Z"
   },
   {
    "duration": 24,
    "start_time": "2021-08-14T01:50:38.599Z"
   },
   {
    "duration": 50,
    "start_time": "2021-08-14T01:50:38.626Z"
   },
   {
    "duration": 12,
    "start_time": "2021-08-14T01:50:38.679Z"
   },
   {
    "duration": 6,
    "start_time": "2021-08-14T01:50:38.694Z"
   },
   {
    "duration": 11,
    "start_time": "2021-08-14T01:50:38.702Z"
   },
   {
    "duration": 6,
    "start_time": "2021-08-14T01:50:38.715Z"
   },
   {
    "duration": 6,
    "start_time": "2021-08-14T01:50:38.763Z"
   },
   {
    "duration": 11,
    "start_time": "2021-08-14T01:50:38.771Z"
   },
   {
    "duration": 12,
    "start_time": "2021-08-14T01:50:38.785Z"
   },
   {
    "duration": 6,
    "start_time": "2021-08-14T01:50:38.804Z"
   },
   {
    "duration": 50,
    "start_time": "2021-08-14T01:50:38.814Z"
   },
   {
    "duration": 5621,
    "start_time": "2021-08-14T01:50:38.867Z"
   },
   {
    "duration": 334,
    "start_time": "2021-08-14T01:50:44.492Z"
   },
   {
    "duration": 1593,
    "start_time": "2021-08-14T01:50:43.235Z"
   },
   {
    "duration": 1592,
    "start_time": "2021-08-14T01:50:43.237Z"
   },
   {
    "duration": 1586,
    "start_time": "2021-08-14T01:50:43.245Z"
   },
   {
    "duration": 1585,
    "start_time": "2021-08-14T01:50:43.247Z"
   },
   {
    "duration": 1584,
    "start_time": "2021-08-14T01:50:43.250Z"
   },
   {
    "duration": 1583,
    "start_time": "2021-08-14T01:50:43.252Z"
   },
   {
    "duration": 19,
    "start_time": "2021-08-14T01:51:18.574Z"
   },
   {
    "duration": 11,
    "start_time": "2021-08-14T01:51:23.429Z"
   },
   {
    "duration": 11,
    "start_time": "2021-08-14T01:51:27.820Z"
   },
   {
    "duration": 9,
    "start_time": "2021-08-14T01:51:29.949Z"
   },
   {
    "duration": 774,
    "start_time": "2021-08-14T01:51:42.555Z"
   },
   {
    "duration": 90,
    "start_time": "2021-08-14T01:51:43.331Z"
   },
   {
    "duration": 15,
    "start_time": "2021-08-14T01:51:43.424Z"
   },
   {
    "duration": 38,
    "start_time": "2021-08-14T01:51:43.442Z"
   },
   {
    "duration": 9,
    "start_time": "2021-08-14T01:51:43.482Z"
   },
   {
    "duration": 28,
    "start_time": "2021-08-14T01:51:43.494Z"
   },
   {
    "duration": 10,
    "start_time": "2021-08-14T01:51:43.524Z"
   },
   {
    "duration": 18,
    "start_time": "2021-08-14T01:51:43.563Z"
   },
   {
    "duration": 5,
    "start_time": "2021-08-14T01:51:43.584Z"
   },
   {
    "duration": 21,
    "start_time": "2021-08-14T01:51:43.592Z"
   },
   {
    "duration": 5,
    "start_time": "2021-08-14T01:51:43.615Z"
   },
   {
    "duration": 52,
    "start_time": "2021-08-14T01:51:43.622Z"
   },
   {
    "duration": 22,
    "start_time": "2021-08-14T01:51:43.677Z"
   },
   {
    "duration": 25,
    "start_time": "2021-08-14T01:51:43.701Z"
   },
   {
    "duration": 52,
    "start_time": "2021-08-14T01:51:43.729Z"
   },
   {
    "duration": 13,
    "start_time": "2021-08-14T01:51:43.784Z"
   },
   {
    "duration": 5,
    "start_time": "2021-08-14T01:51:43.800Z"
   },
   {
    "duration": 10,
    "start_time": "2021-08-14T01:51:43.807Z"
   },
   {
    "duration": 5,
    "start_time": "2021-08-14T01:51:43.819Z"
   },
   {
    "duration": 6,
    "start_time": "2021-08-14T01:51:43.862Z"
   },
   {
    "duration": 13,
    "start_time": "2021-08-14T01:51:43.870Z"
   },
   {
    "duration": 7,
    "start_time": "2021-08-14T01:51:43.885Z"
   },
   {
    "duration": 17,
    "start_time": "2021-08-14T01:51:43.896Z"
   },
   {
    "duration": 7,
    "start_time": "2021-08-14T01:51:43.915Z"
   },
   {
    "duration": 4229,
    "start_time": "2021-08-14T01:51:43.962Z"
   },
   {
    "duration": 27,
    "start_time": "2021-08-14T01:51:48.194Z"
   },
   {
    "duration": 15,
    "start_time": "2021-08-14T01:51:48.224Z"
   },
   {
    "duration": 13,
    "start_time": "2021-08-14T01:51:48.263Z"
   },
   {
    "duration": 11,
    "start_time": "2021-08-14T01:51:48.280Z"
   },
   {
    "duration": 33,
    "start_time": "2021-08-14T01:51:48.294Z"
   },
   {
    "duration": 16,
    "start_time": "2021-08-14T01:51:48.363Z"
   },
   {
    "duration": 37,
    "start_time": "2021-08-14T01:51:48.382Z"
   },
   {
    "duration": 19,
    "start_time": "2021-08-14T08:32:23.971Z"
   },
   {
    "duration": 15,
    "start_time": "2021-08-14T08:33:31.936Z"
   },
   {
    "duration": 23,
    "start_time": "2021-08-14T08:33:42.630Z"
   },
   {
    "duration": 6,
    "start_time": "2021-08-14T08:52:03.383Z"
   },
   {
    "duration": 17,
    "start_time": "2021-08-14T08:52:06.407Z"
   },
   {
    "duration": 5,
    "start_time": "2021-08-14T08:52:12.076Z"
   },
   {
    "duration": 17,
    "start_time": "2021-08-14T08:52:14.382Z"
   },
   {
    "duration": 22,
    "start_time": "2021-08-14T08:58:58.285Z"
   },
   {
    "duration": 7,
    "start_time": "2021-08-14T09:01:48.502Z"
   },
   {
    "duration": 90,
    "start_time": "2021-08-14T09:04:47.751Z"
   },
   {
    "duration": 350,
    "start_time": "2021-08-14T09:04:53.252Z"
   },
   {
    "duration": 10,
    "start_time": "2021-08-14T09:04:58.736Z"
   },
   {
    "duration": 309,
    "start_time": "2021-08-14T09:05:34.502Z"
   },
   {
    "duration": 7206,
    "start_time": "2021-08-14T09:05:40.974Z"
   },
   {
    "duration": 7625,
    "start_time": "2021-08-14T09:06:08.998Z"
   },
   {
    "duration": 11,
    "start_time": "2021-08-14T09:06:30.868Z"
   },
   {
    "duration": 274,
    "start_time": "2021-08-14T09:06:50.458Z"
   },
   {
    "duration": 35,
    "start_time": "2021-08-14T09:07:29.273Z"
   },
   {
    "duration": 8,
    "start_time": "2021-08-14T09:07:45.265Z"
   },
   {
    "duration": 7,
    "start_time": "2021-08-14T09:11:41.399Z"
   },
   {
    "duration": 104,
    "start_time": "2021-08-14T09:18:48.183Z"
   },
   {
    "duration": 92,
    "start_time": "2021-08-14T09:19:06.927Z"
   },
   {
    "duration": 6699,
    "start_time": "2021-08-14T09:19:16.630Z"
   },
   {
    "duration": 6,
    "start_time": "2021-08-14T09:19:56.972Z"
   },
   {
    "duration": 16,
    "start_time": "2021-08-14T09:20:03.362Z"
   },
   {
    "duration": 16,
    "start_time": "2021-08-14T09:20:34.875Z"
   },
   {
    "duration": 258,
    "start_time": "2021-08-14T09:21:02.266Z"
   },
   {
    "duration": 304,
    "start_time": "2021-08-14T09:21:23.777Z"
   },
   {
    "duration": 304,
    "start_time": "2021-08-14T09:21:29.976Z"
   },
   {
    "duration": 11,
    "start_time": "2021-08-14T09:21:45.864Z"
   },
   {
    "duration": 12,
    "start_time": "2021-08-14T09:22:34.526Z"
   },
   {
    "duration": 13,
    "start_time": "2021-08-14T09:31:55.219Z"
   },
   {
    "duration": 10,
    "start_time": "2021-08-14T09:32:13.872Z"
   },
   {
    "duration": 12,
    "start_time": "2021-08-14T09:34:31.556Z"
   },
   {
    "duration": 10,
    "start_time": "2021-08-14T09:34:43.914Z"
   },
   {
    "duration": 10,
    "start_time": "2021-08-14T09:34:48.577Z"
   },
   {
    "duration": 13,
    "start_time": "2021-08-14T09:35:01.354Z"
   },
   {
    "duration": 15,
    "start_time": "2021-08-14T09:36:13.433Z"
   },
   {
    "duration": 18,
    "start_time": "2021-08-14T09:37:47.996Z"
   },
   {
    "duration": 15,
    "start_time": "2021-08-14T09:38:58.617Z"
   },
   {
    "duration": 13,
    "start_time": "2021-08-14T09:52:46.450Z"
   },
   {
    "duration": 37,
    "start_time": "2021-08-14T09:53:13.963Z"
   },
   {
    "duration": 19,
    "start_time": "2021-08-14T09:53:59.718Z"
   },
   {
    "duration": 11,
    "start_time": "2021-08-14T09:54:18.046Z"
   },
   {
    "duration": 10,
    "start_time": "2021-08-14T09:54:21.197Z"
   },
   {
    "duration": 278,
    "start_time": "2021-08-14T09:54:34.493Z"
   },
   {
    "duration": 12,
    "start_time": "2021-08-14T09:54:47.211Z"
   },
   {
    "duration": 757,
    "start_time": "2021-08-14T09:55:25.042Z"
   },
   {
    "duration": 86,
    "start_time": "2021-08-14T09:55:25.802Z"
   },
   {
    "duration": 15,
    "start_time": "2021-08-14T09:55:25.894Z"
   },
   {
    "duration": 21,
    "start_time": "2021-08-14T09:55:25.912Z"
   },
   {
    "duration": 32,
    "start_time": "2021-08-14T09:55:25.935Z"
   },
   {
    "duration": 36,
    "start_time": "2021-08-14T09:55:25.969Z"
   },
   {
    "duration": 10,
    "start_time": "2021-08-14T09:55:26.008Z"
   },
   {
    "duration": 41,
    "start_time": "2021-08-14T09:55:26.021Z"
   },
   {
    "duration": 6,
    "start_time": "2021-08-14T09:55:26.065Z"
   },
   {
    "duration": 27,
    "start_time": "2021-08-14T09:55:26.074Z"
   },
   {
    "duration": 5,
    "start_time": "2021-08-14T09:55:26.103Z"
   },
   {
    "duration": 22,
    "start_time": "2021-08-14T09:55:26.110Z"
   },
   {
    "duration": 46,
    "start_time": "2021-08-14T09:55:26.134Z"
   },
   {
    "duration": 25,
    "start_time": "2021-08-14T09:55:26.182Z"
   },
   {
    "duration": 31,
    "start_time": "2021-08-14T09:55:26.209Z"
   },
   {
    "duration": 13,
    "start_time": "2021-08-14T09:55:26.263Z"
   },
   {
    "duration": 7,
    "start_time": "2021-08-14T09:55:26.278Z"
   },
   {
    "duration": 10,
    "start_time": "2021-08-14T09:55:26.287Z"
   },
   {
    "duration": 5,
    "start_time": "2021-08-14T09:55:26.299Z"
   },
   {
    "duration": 10,
    "start_time": "2021-08-14T09:55:26.306Z"
   },
   {
    "duration": 46,
    "start_time": "2021-08-14T09:55:26.318Z"
   },
   {
    "duration": 6,
    "start_time": "2021-08-14T09:55:26.369Z"
   },
   {
    "duration": 32,
    "start_time": "2021-08-14T09:55:26.378Z"
   },
   {
    "duration": 6,
    "start_time": "2021-08-14T09:55:26.412Z"
   },
   {
    "duration": 42,
    "start_time": "2021-08-14T09:55:26.420Z"
   },
   {
    "duration": 7,
    "start_time": "2021-08-14T09:55:26.464Z"
   },
   {
    "duration": 7,
    "start_time": "2021-08-14T09:55:26.473Z"
   },
   {
    "duration": 12,
    "start_time": "2021-08-14T09:55:26.483Z"
   },
   {
    "duration": 11,
    "start_time": "2021-08-14T09:55:26.498Z"
   },
   {
    "duration": 57,
    "start_time": "2021-08-14T09:55:26.512Z"
   },
   {
    "duration": 3,
    "start_time": "2021-08-14T09:55:26.573Z"
   },
   {
    "duration": 5486,
    "start_time": "2021-08-14T09:55:26.579Z"
   },
   {
    "duration": 20,
    "start_time": "2021-08-14T09:55:32.068Z"
   },
   {
    "duration": 16,
    "start_time": "2021-08-14T09:55:32.091Z"
   },
   {
    "duration": 31,
    "start_time": "2021-08-14T09:55:32.109Z"
   },
   {
    "duration": 36,
    "start_time": "2021-08-14T09:55:32.142Z"
   },
   {
    "duration": 10,
    "start_time": "2021-08-14T09:55:32.180Z"
   },
   {
    "duration": 72,
    "start_time": "2021-08-14T09:55:32.192Z"
   },
   {
    "duration": 16,
    "start_time": "2021-08-14T09:55:39.136Z"
   },
   {
    "duration": 11,
    "start_time": "2021-08-14T09:55:42.137Z"
   },
   {
    "duration": 7,
    "start_time": "2021-08-14T09:55:45.728Z"
   },
   {
    "duration": 11,
    "start_time": "2021-08-14T09:59:53.990Z"
   },
   {
    "duration": 10,
    "start_time": "2021-08-14T10:00:06.046Z"
   },
   {
    "duration": 9,
    "start_time": "2021-08-14T10:01:34.404Z"
   },
   {
    "duration": 12,
    "start_time": "2021-08-14T10:01:55.139Z"
   },
   {
    "duration": 10,
    "start_time": "2021-08-14T10:02:00.298Z"
   },
   {
    "duration": 12,
    "start_time": "2021-08-14T10:02:20.824Z"
   },
   {
    "duration": 24,
    "start_time": "2021-08-14T10:02:34.760Z"
   },
   {
    "duration": 14,
    "start_time": "2021-08-14T10:02:37.529Z"
   },
   {
    "duration": 12,
    "start_time": "2021-08-14T10:02:45.624Z"
   },
   {
    "duration": 7,
    "start_time": "2021-08-14T10:02:53.807Z"
   },
   {
    "duration": 16,
    "start_time": "2021-08-14T10:03:00.520Z"
   },
   {
    "duration": 4,
    "start_time": "2021-08-14T10:15:39.387Z"
   },
   {
    "duration": 670,
    "start_time": "2021-08-14T10:16:45.343Z"
   },
   {
    "duration": 444,
    "start_time": "2021-08-14T10:27:20.993Z"
   },
   {
    "duration": 1525,
    "start_time": "2021-08-14T10:27:30.086Z"
   },
   {
    "duration": 1401,
    "start_time": "2021-08-14T10:28:01.190Z"
   },
   {
    "duration": 1565,
    "start_time": "2021-08-14T10:28:12.708Z"
   },
   {
    "duration": 11,
    "start_time": "2021-08-14T10:28:55.893Z"
   },
   {
    "duration": 10,
    "start_time": "2021-08-14T10:29:27.418Z"
   },
   {
    "duration": 18,
    "start_time": "2021-08-14T10:29:38.689Z"
   },
   {
    "duration": 7,
    "start_time": "2021-08-14T10:32:01.236Z"
   },
   {
    "duration": 30,
    "start_time": "2021-08-14T10:38:56.308Z"
   },
   {
    "duration": 249,
    "start_time": "2021-08-14T10:39:16.763Z"
   },
   {
    "duration": 8,
    "start_time": "2021-08-14T10:39:21.862Z"
   },
   {
    "duration": 7,
    "start_time": "2021-08-14T10:42:26.500Z"
   },
   {
    "duration": 102,
    "start_time": "2021-08-14T10:48:22.375Z"
   },
   {
    "duration": 22,
    "start_time": "2021-08-14T10:54:04.834Z"
   },
   {
    "duration": 6,
    "start_time": "2021-08-14T10:59:56.908Z"
   },
   {
    "duration": 7,
    "start_time": "2021-08-14T11:01:47.360Z"
   },
   {
    "duration": 26,
    "start_time": "2021-08-14T11:03:04.807Z"
   },
   {
    "duration": 7,
    "start_time": "2021-08-14T11:04:03.850Z"
   },
   {
    "duration": 108,
    "start_time": "2021-08-14T11:07:06.195Z"
   },
   {
    "duration": 7,
    "start_time": "2021-08-14T11:10:59.555Z"
   },
   {
    "duration": 3,
    "start_time": "2021-08-14T11:11:29.089Z"
   },
   {
    "duration": 6,
    "start_time": "2021-08-14T11:11:41.457Z"
   },
   {
    "duration": 7,
    "start_time": "2021-08-14T11:13:05.902Z"
   },
   {
    "duration": 10,
    "start_time": "2021-08-14T11:14:01.501Z"
   },
   {
    "duration": 980,
    "start_time": "2021-08-14T12:01:38.771Z"
   },
   {
    "duration": 94,
    "start_time": "2021-08-14T12:01:39.754Z"
   },
   {
    "duration": 21,
    "start_time": "2021-08-14T12:01:39.854Z"
   },
   {
    "duration": 21,
    "start_time": "2021-08-14T12:01:39.878Z"
   },
   {
    "duration": 6,
    "start_time": "2021-08-14T12:01:39.901Z"
   },
   {
    "duration": 56,
    "start_time": "2021-08-14T12:01:39.909Z"
   },
   {
    "duration": 9,
    "start_time": "2021-08-14T12:01:39.969Z"
   },
   {
    "duration": 35,
    "start_time": "2021-08-14T12:01:39.981Z"
   },
   {
    "duration": 5,
    "start_time": "2021-08-14T12:01:40.018Z"
   },
   {
    "duration": 33,
    "start_time": "2021-08-14T12:01:40.025Z"
   },
   {
    "duration": 5,
    "start_time": "2021-08-14T12:01:40.062Z"
   },
   {
    "duration": 26,
    "start_time": "2021-08-14T12:01:40.070Z"
   },
   {
    "duration": 22,
    "start_time": "2021-08-14T12:01:40.099Z"
   },
   {
    "duration": 52,
    "start_time": "2021-08-14T12:01:40.124Z"
   },
   {
    "duration": 22,
    "start_time": "2021-08-14T12:01:40.178Z"
   },
   {
    "duration": 13,
    "start_time": "2021-08-14T12:01:40.203Z"
   },
   {
    "duration": 6,
    "start_time": "2021-08-14T12:01:40.218Z"
   },
   {
    "duration": 40,
    "start_time": "2021-08-14T12:01:40.227Z"
   },
   {
    "duration": 11,
    "start_time": "2021-08-14T12:01:40.269Z"
   },
   {
    "duration": 12,
    "start_time": "2021-08-14T12:01:40.282Z"
   },
   {
    "duration": 12,
    "start_time": "2021-08-14T12:01:40.297Z"
   },
   {
    "duration": 7,
    "start_time": "2021-08-14T12:01:40.314Z"
   },
   {
    "duration": 40,
    "start_time": "2021-08-14T12:01:40.324Z"
   },
   {
    "duration": 7,
    "start_time": "2021-08-14T12:01:40.367Z"
   },
   {
    "duration": 18,
    "start_time": "2021-08-14T12:01:40.376Z"
   },
   {
    "duration": 20,
    "start_time": "2021-08-14T12:01:40.396Z"
   },
   {
    "duration": 1508,
    "start_time": "2021-08-14T12:01:40.418Z"
   },
   {
    "duration": 7,
    "start_time": "2021-08-14T12:01:41.928Z"
   },
   {
    "duration": 26,
    "start_time": "2021-08-14T12:01:41.937Z"
   },
   {
    "duration": 22,
    "start_time": "2021-08-14T12:01:41.978Z"
   },
   {
    "duration": 22,
    "start_time": "2021-08-14T12:01:42.003Z"
   },
   {
    "duration": 11,
    "start_time": "2021-08-14T12:01:42.027Z"
   },
   {
    "duration": 33,
    "start_time": "2021-08-14T12:01:42.040Z"
   },
   {
    "duration": 15,
    "start_time": "2021-08-14T12:01:42.075Z"
   },
   {
    "duration": 7,
    "start_time": "2021-08-14T12:01:42.092Z"
   },
   {
    "duration": 4405,
    "start_time": "2021-08-14T12:01:42.101Z"
   },
   {
    "duration": 19,
    "start_time": "2021-08-14T12:01:46.508Z"
   },
   {
    "duration": 33,
    "start_time": "2021-08-14T12:01:46.530Z"
   },
   {
    "duration": 26,
    "start_time": "2021-08-14T12:01:46.566Z"
   },
   {
    "duration": 18,
    "start_time": "2021-08-14T12:01:46.594Z"
   },
   {
    "duration": 29,
    "start_time": "2021-08-14T12:01:46.614Z"
   },
   {
    "duration": 33,
    "start_time": "2021-08-14T12:01:46.661Z"
   },
   {
    "duration": 3279,
    "start_time": "2021-08-14T12:10:31.008Z"
   },
   {
    "duration": 334,
    "start_time": "2021-08-14T14:16:34.486Z"
   },
   {
    "duration": 229,
    "start_time": "2021-08-14T14:17:32.331Z"
   },
   {
    "duration": 354,
    "start_time": "2021-08-14T14:17:43.128Z"
   },
   {
    "duration": 419,
    "start_time": "2021-08-14T14:23:11.221Z"
   },
   {
    "duration": 7726,
    "start_time": "2021-08-14T14:25:09.038Z"
   },
   {
    "duration": 8,
    "start_time": "2021-08-14T14:40:15.261Z"
   },
   {
    "duration": 9,
    "start_time": "2021-08-14T14:42:57.261Z"
   },
   {
    "duration": 21,
    "start_time": "2021-08-14T15:07:55.764Z"
   },
   {
    "duration": 17,
    "start_time": "2021-08-14T15:08:30.962Z"
   },
   {
    "duration": 7,
    "start_time": "2021-08-14T15:08:46.794Z"
   },
   {
    "duration": 15,
    "start_time": "2021-08-14T15:08:50.458Z"
   },
   {
    "duration": 7,
    "start_time": "2021-08-14T15:08:57.074Z"
   },
   {
    "duration": 7,
    "start_time": "2021-08-14T15:09:08.529Z"
   },
   {
    "duration": 6,
    "start_time": "2021-08-14T15:09:13.361Z"
   },
   {
    "duration": 9,
    "start_time": "2021-08-14T15:09:50.609Z"
   },
   {
    "duration": 873,
    "start_time": "2021-08-14T15:10:17.287Z"
   },
   {
    "duration": 1570,
    "start_time": "2021-08-14T15:10:18.163Z"
   },
   {
    "duration": 23,
    "start_time": "2021-08-14T15:10:19.739Z"
   },
   {
    "duration": 21,
    "start_time": "2021-08-14T15:10:19.764Z"
   },
   {
    "duration": 7,
    "start_time": "2021-08-14T15:10:19.787Z"
   },
   {
    "duration": 21,
    "start_time": "2021-08-14T15:10:19.797Z"
   },
   {
    "duration": 48,
    "start_time": "2021-08-14T15:10:19.821Z"
   },
   {
    "duration": 16,
    "start_time": "2021-08-14T15:10:19.872Z"
   },
   {
    "duration": 4,
    "start_time": "2021-08-14T15:10:19.890Z"
   },
   {
    "duration": 18,
    "start_time": "2021-08-14T15:10:19.896Z"
   },
   {
    "duration": 45,
    "start_time": "2021-08-14T15:10:19.917Z"
   },
   {
    "duration": 15,
    "start_time": "2021-08-14T15:10:19.964Z"
   },
   {
    "duration": 20,
    "start_time": "2021-08-14T15:10:19.981Z"
   },
   {
    "duration": 25,
    "start_time": "2021-08-14T15:10:20.003Z"
   },
   {
    "duration": 23,
    "start_time": "2021-08-14T15:10:20.062Z"
   },
   {
    "duration": 12,
    "start_time": "2021-08-14T15:10:20.087Z"
   },
   {
    "duration": 8,
    "start_time": "2021-08-14T15:10:20.101Z"
   },
   {
    "duration": 15,
    "start_time": "2021-08-14T15:10:20.111Z"
   },
   {
    "duration": 6,
    "start_time": "2021-08-14T15:10:20.163Z"
   },
   {
    "duration": 15,
    "start_time": "2021-08-14T15:10:20.172Z"
   },
   {
    "duration": 17,
    "start_time": "2021-08-14T15:10:20.190Z"
   },
   {
    "duration": 7,
    "start_time": "2021-08-14T15:10:20.212Z"
   },
   {
    "duration": 9,
    "start_time": "2021-08-14T15:10:20.222Z"
   },
   {
    "duration": 34,
    "start_time": "2021-08-14T15:10:20.233Z"
   },
   {
    "duration": 12,
    "start_time": "2021-08-14T15:10:20.269Z"
   },
   {
    "duration": 21,
    "start_time": "2021-08-14T15:10:20.283Z"
   },
   {
    "duration": 1536,
    "start_time": "2021-08-14T15:10:20.307Z"
   },
   {
    "duration": 7,
    "start_time": "2021-08-14T15:10:21.845Z"
   },
   {
    "duration": 17,
    "start_time": "2021-08-14T15:10:21.854Z"
   },
   {
    "duration": 21,
    "start_time": "2021-08-14T15:10:21.873Z"
   },
   {
    "duration": 6,
    "start_time": "2021-08-14T15:10:21.896Z"
   },
   {
    "duration": 9,
    "start_time": "2021-08-14T15:10:21.904Z"
   },
   {
    "duration": 64,
    "start_time": "2021-08-14T15:10:21.915Z"
   },
   {
    "duration": 9,
    "start_time": "2021-08-14T15:10:21.983Z"
   },
   {
    "duration": 6,
    "start_time": "2021-08-14T15:10:21.995Z"
   },
   {
    "duration": 16,
    "start_time": "2021-08-14T15:10:22.003Z"
   },
   {
    "duration": 44,
    "start_time": "2021-08-14T15:10:22.021Z"
   },
   {
    "duration": 4376,
    "start_time": "2021-08-14T15:10:22.068Z"
   },
   {
    "duration": 7913,
    "start_time": "2021-08-14T15:10:26.448Z"
   },
   {
    "duration": 18,
    "start_time": "2021-08-14T15:10:34.364Z"
   },
   {
    "duration": 15,
    "start_time": "2021-08-14T15:10:34.384Z"
   },
   {
    "duration": 38,
    "start_time": "2021-08-14T15:10:34.401Z"
   },
   {
    "duration": 36,
    "start_time": "2021-08-14T15:10:34.441Z"
   },
   {
    "duration": 17,
    "start_time": "2021-08-14T15:10:34.480Z"
   },
   {
    "duration": 31,
    "start_time": "2021-08-14T15:10:34.499Z"
   },
   {
    "duration": 12,
    "start_time": "2021-08-14T15:14:13.382Z"
   },
   {
    "duration": 18,
    "start_time": "2021-08-14T15:14:15.884Z"
   },
   {
    "duration": 9,
    "start_time": "2021-08-14T15:14:22.238Z"
   },
   {
    "duration": 28,
    "start_time": "2021-08-14T15:15:09.300Z"
   },
   {
    "duration": 9,
    "start_time": "2021-08-14T15:19:30.632Z"
   },
   {
    "duration": 13,
    "start_time": "2021-08-14T15:20:18.008Z"
   },
   {
    "duration": 11,
    "start_time": "2021-08-14T15:23:37.561Z"
   },
   {
    "duration": 18,
    "start_time": "2021-08-14T15:24:50.189Z"
   },
   {
    "duration": 414,
    "start_time": "2021-08-14T15:32:24.165Z"
   },
   {
    "duration": 10,
    "start_time": "2021-08-14T15:33:05.450Z"
   },
   {
    "duration": 16,
    "start_time": "2021-08-14T15:34:06.696Z"
   },
   {
    "duration": 18,
    "start_time": "2021-08-14T15:35:27.876Z"
   },
   {
    "duration": 20,
    "start_time": "2021-08-14T15:36:08.347Z"
   },
   {
    "duration": 22,
    "start_time": "2021-08-14T15:36:52.384Z"
   },
   {
    "duration": 21,
    "start_time": "2021-08-14T15:40:56.792Z"
   },
   {
    "duration": 19,
    "start_time": "2021-08-14T15:41:37.630Z"
   },
   {
    "duration": 22,
    "start_time": "2021-08-14T15:42:39.556Z"
   },
   {
    "duration": 10,
    "start_time": "2021-08-14T15:44:40.871Z"
   },
   {
    "duration": 273,
    "start_time": "2021-08-14T15:45:07.621Z"
   },
   {
    "duration": 9,
    "start_time": "2021-08-14T15:45:17.157Z"
   },
   {
    "duration": 12,
    "start_time": "2021-08-14T15:45:43.012Z"
   },
   {
    "duration": 29,
    "start_time": "2021-08-14T15:46:51.064Z"
   },
   {
    "duration": 13,
    "start_time": "2021-08-14T15:48:28.073Z"
   },
   {
    "duration": 268,
    "start_time": "2021-08-14T15:48:39.254Z"
   },
   {
    "duration": 9,
    "start_time": "2021-08-14T15:49:11.860Z"
   },
   {
    "duration": 11,
    "start_time": "2021-08-14T15:49:21.720Z"
   },
   {
    "duration": 829,
    "start_time": "2021-08-14T15:51:37.344Z"
   },
   {
    "duration": 89,
    "start_time": "2021-08-14T15:51:38.175Z"
   },
   {
    "duration": 15,
    "start_time": "2021-08-14T15:51:38.267Z"
   },
   {
    "duration": 21,
    "start_time": "2021-08-14T15:51:38.284Z"
   },
   {
    "duration": 5,
    "start_time": "2021-08-14T15:51:38.308Z"
   },
   {
    "duration": 55,
    "start_time": "2021-08-14T15:51:38.315Z"
   },
   {
    "duration": 9,
    "start_time": "2021-08-14T15:51:38.372Z"
   },
   {
    "duration": 18,
    "start_time": "2021-08-14T15:51:38.385Z"
   },
   {
    "duration": 5,
    "start_time": "2021-08-14T15:51:38.406Z"
   },
   {
    "duration": 60,
    "start_time": "2021-08-14T15:51:38.413Z"
   },
   {
    "duration": 6,
    "start_time": "2021-08-14T15:51:38.475Z"
   },
   {
    "duration": 19,
    "start_time": "2021-08-14T15:51:38.484Z"
   },
   {
    "duration": 21,
    "start_time": "2021-08-14T15:51:38.506Z"
   },
   {
    "duration": 28,
    "start_time": "2021-08-14T15:51:38.563Z"
   },
   {
    "duration": 23,
    "start_time": "2021-08-14T15:51:38.593Z"
   },
   {
    "duration": 45,
    "start_time": "2021-08-14T15:51:38.618Z"
   },
   {
    "duration": 6,
    "start_time": "2021-08-14T15:51:38.665Z"
   },
   {
    "duration": 10,
    "start_time": "2021-08-14T15:51:38.673Z"
   },
   {
    "duration": 5,
    "start_time": "2021-08-14T15:51:38.685Z"
   },
   {
    "duration": 6,
    "start_time": "2021-08-14T15:51:38.692Z"
   },
   {
    "duration": 11,
    "start_time": "2021-08-14T15:51:38.700Z"
   },
   {
    "duration": 52,
    "start_time": "2021-08-14T15:51:38.713Z"
   },
   {
    "duration": 8,
    "start_time": "2021-08-14T15:51:38.771Z"
   },
   {
    "duration": 7,
    "start_time": "2021-08-14T15:51:38.783Z"
   },
   {
    "duration": 14,
    "start_time": "2021-08-14T15:51:38.793Z"
   },
   {
    "duration": 52,
    "start_time": "2021-08-14T15:51:38.810Z"
   },
   {
    "duration": 1572,
    "start_time": "2021-08-14T15:51:38.864Z"
   },
   {
    "duration": 7,
    "start_time": "2021-08-14T15:51:40.438Z"
   },
   {
    "duration": 19,
    "start_time": "2021-08-14T15:51:40.447Z"
   },
   {
    "duration": 26,
    "start_time": "2021-08-14T15:51:40.468Z"
   },
   {
    "duration": 15,
    "start_time": "2021-08-14T15:51:40.496Z"
   },
   {
    "duration": 13,
    "start_time": "2021-08-14T15:51:40.513Z"
   },
   {
    "duration": 49,
    "start_time": "2021-08-14T15:51:40.528Z"
   },
   {
    "duration": 8,
    "start_time": "2021-08-14T15:51:40.580Z"
   },
   {
    "duration": 15,
    "start_time": "2021-08-14T15:51:40.591Z"
   },
   {
    "duration": 14,
    "start_time": "2021-08-14T15:51:40.608Z"
   },
   {
    "duration": 42,
    "start_time": "2021-08-14T15:51:40.625Z"
   },
   {
    "duration": 17,
    "start_time": "2021-08-14T15:51:40.671Z"
   },
   {
    "duration": 11,
    "start_time": "2021-08-14T15:51:40.691Z"
   },
   {
    "duration": 108,
    "start_time": "2021-08-14T15:51:40.705Z"
   },
   {
    "duration": -410,
    "start_time": "2021-08-14T15:51:41.225Z"
   },
   {
    "duration": -411,
    "start_time": "2021-08-14T15:51:41.228Z"
   },
   {
    "duration": -415,
    "start_time": "2021-08-14T15:51:41.233Z"
   },
   {
    "duration": -423,
    "start_time": "2021-08-14T15:51:41.245Z"
   },
   {
    "duration": -426,
    "start_time": "2021-08-14T15:51:41.249Z"
   },
   {
    "duration": -432,
    "start_time": "2021-08-14T15:51:41.256Z"
   },
   {
    "duration": -434,
    "start_time": "2021-08-14T15:51:41.259Z"
   },
   {
    "duration": -436,
    "start_time": "2021-08-14T15:51:41.262Z"
   },
   {
    "duration": -439,
    "start_time": "2021-08-14T15:51:41.266Z"
   },
   {
    "duration": -443,
    "start_time": "2021-08-14T15:51:41.272Z"
   },
   {
    "duration": -448,
    "start_time": "2021-08-14T15:51:41.278Z"
   },
   {
    "duration": -451,
    "start_time": "2021-08-14T15:51:41.282Z"
   },
   {
    "duration": 16,
    "start_time": "2021-08-14T15:52:01.336Z"
   },
   {
    "duration": 309,
    "start_time": "2021-08-14T15:52:14.869Z"
   },
   {
    "duration": 10,
    "start_time": "2021-08-14T15:52:23.829Z"
   },
   {
    "duration": 87,
    "start_time": "2021-08-14T15:52:29.661Z"
   },
   {
    "duration": 7,
    "start_time": "2021-08-14T15:52:33.127Z"
   },
   {
    "duration": 886,
    "start_time": "2021-08-14T15:52:43.128Z"
   },
   {
    "duration": 90,
    "start_time": "2021-08-14T15:52:44.017Z"
   },
   {
    "duration": 15,
    "start_time": "2021-08-14T15:52:44.113Z"
   },
   {
    "duration": 40,
    "start_time": "2021-08-14T15:52:44.131Z"
   },
   {
    "duration": 6,
    "start_time": "2021-08-14T15:52:44.174Z"
   },
   {
    "duration": 20,
    "start_time": "2021-08-14T15:52:44.183Z"
   },
   {
    "duration": 8,
    "start_time": "2021-08-14T15:52:44.207Z"
   },
   {
    "duration": 55,
    "start_time": "2021-08-14T15:52:44.218Z"
   },
   {
    "duration": 5,
    "start_time": "2021-08-14T15:52:44.275Z"
   },
   {
    "duration": 19,
    "start_time": "2021-08-14T15:52:44.283Z"
   },
   {
    "duration": 5,
    "start_time": "2021-08-14T15:52:44.304Z"
   },
   {
    "duration": 54,
    "start_time": "2021-08-14T15:52:44.311Z"
   },
   {
    "duration": 22,
    "start_time": "2021-08-14T15:52:44.367Z"
   },
   {
    "duration": 23,
    "start_time": "2021-08-14T15:52:44.391Z"
   },
   {
    "duration": 50,
    "start_time": "2021-08-14T15:52:44.416Z"
   },
   {
    "duration": 12,
    "start_time": "2021-08-14T15:52:44.469Z"
   },
   {
    "duration": 7,
    "start_time": "2021-08-14T15:52:44.483Z"
   },
   {
    "duration": 10,
    "start_time": "2021-08-14T15:52:44.492Z"
   },
   {
    "duration": 5,
    "start_time": "2021-08-14T15:52:44.505Z"
   },
   {
    "duration": 51,
    "start_time": "2021-08-14T15:52:44.513Z"
   },
   {
    "duration": 10,
    "start_time": "2021-08-14T15:52:44.566Z"
   },
   {
    "duration": 11,
    "start_time": "2021-08-14T15:52:44.584Z"
   },
   {
    "duration": 8,
    "start_time": "2021-08-14T15:52:44.599Z"
   },
   {
    "duration": 14,
    "start_time": "2021-08-14T15:52:44.609Z"
   },
   {
    "duration": 49,
    "start_time": "2021-08-14T15:52:44.626Z"
   },
   {
    "duration": 16,
    "start_time": "2021-08-14T15:52:44.678Z"
   },
   {
    "duration": 1484,
    "start_time": "2021-08-14T15:52:44.696Z"
   },
   {
    "duration": 7,
    "start_time": "2021-08-14T15:52:46.183Z"
   },
   {
    "duration": 14,
    "start_time": "2021-08-14T15:52:46.193Z"
   },
   {
    "duration": 23,
    "start_time": "2021-08-14T15:52:46.210Z"
   },
   {
    "duration": 29,
    "start_time": "2021-08-14T15:52:46.236Z"
   },
   {
    "duration": 12,
    "start_time": "2021-08-14T15:52:46.268Z"
   },
   {
    "duration": 37,
    "start_time": "2021-08-14T15:52:46.283Z"
   },
   {
    "duration": 40,
    "start_time": "2021-08-14T15:52:46.324Z"
   },
   {
    "duration": 10,
    "start_time": "2021-08-14T15:52:46.368Z"
   },
   {
    "duration": 8,
    "start_time": "2021-08-14T15:52:46.381Z"
   },
   {
    "duration": 11,
    "start_time": "2021-08-14T15:52:46.392Z"
   },
   {
    "duration": 14,
    "start_time": "2021-08-14T15:52:46.405Z"
   },
   {
    "duration": 7,
    "start_time": "2021-08-14T15:52:46.462Z"
   },
   {
    "duration": 71,
    "start_time": "2021-08-14T15:52:46.472Z"
   },
   {
    "duration": -425,
    "start_time": "2021-08-14T15:52:46.971Z"
   },
   {
    "duration": -427,
    "start_time": "2021-08-14T15:52:46.976Z"
   },
   {
    "duration": -431,
    "start_time": "2021-08-14T15:52:46.982Z"
   },
   {
    "duration": -435,
    "start_time": "2021-08-14T15:52:46.987Z"
   },
   {
    "duration": -437,
    "start_time": "2021-08-14T15:52:46.991Z"
   },
   {
    "duration": -440,
    "start_time": "2021-08-14T15:52:46.996Z"
   },
   {
    "duration": -443,
    "start_time": "2021-08-14T15:52:47.002Z"
   },
   {
    "duration": -445,
    "start_time": "2021-08-14T15:52:47.005Z"
   },
   {
    "duration": -448,
    "start_time": "2021-08-14T15:52:47.010Z"
   },
   {
    "duration": -451,
    "start_time": "2021-08-14T15:52:47.014Z"
   },
   {
    "duration": -475,
    "start_time": "2021-08-14T15:52:47.040Z"
   },
   {
    "duration": -477,
    "start_time": "2021-08-14T15:52:47.043Z"
   },
   {
    "duration": -481,
    "start_time": "2021-08-14T15:52:47.048Z"
   },
   {
    "duration": 14,
    "start_time": "2021-08-14T15:52:59.956Z"
   },
   {
    "duration": 22,
    "start_time": "2021-08-14T15:53:03.732Z"
   },
   {
    "duration": 34,
    "start_time": "2021-08-14T15:53:07.108Z"
   },
   {
    "duration": 15,
    "start_time": "2021-08-14T15:53:09.517Z"
   },
   {
    "duration": 13,
    "start_time": "2021-08-14T15:53:33.413Z"
   },
   {
    "duration": 756,
    "start_time": "2021-08-14T15:53:41.120Z"
   },
   {
    "duration": 94,
    "start_time": "2021-08-14T15:53:41.879Z"
   },
   {
    "duration": 15,
    "start_time": "2021-08-14T15:53:41.979Z"
   },
   {
    "duration": 24,
    "start_time": "2021-08-14T15:53:41.997Z"
   },
   {
    "duration": 5,
    "start_time": "2021-08-14T15:53:42.023Z"
   },
   {
    "duration": 22,
    "start_time": "2021-08-14T15:53:42.063Z"
   },
   {
    "duration": 16,
    "start_time": "2021-08-14T15:53:42.089Z"
   },
   {
    "duration": 21,
    "start_time": "2021-08-14T15:53:42.108Z"
   },
   {
    "duration": 31,
    "start_time": "2021-08-14T15:53:42.131Z"
   },
   {
    "duration": 38,
    "start_time": "2021-08-14T15:53:42.165Z"
   },
   {
    "duration": 5,
    "start_time": "2021-08-14T15:53:42.206Z"
   },
   {
    "duration": 27,
    "start_time": "2021-08-14T15:53:42.213Z"
   },
   {
    "duration": 30,
    "start_time": "2021-08-14T15:53:42.243Z"
   },
   {
    "duration": 25,
    "start_time": "2021-08-14T15:53:42.276Z"
   },
   {
    "duration": 21,
    "start_time": "2021-08-14T15:53:42.304Z"
   },
   {
    "duration": 46,
    "start_time": "2021-08-14T15:53:42.327Z"
   },
   {
    "duration": 17,
    "start_time": "2021-08-14T15:53:42.376Z"
   },
   {
    "duration": 18,
    "start_time": "2021-08-14T15:53:42.396Z"
   },
   {
    "duration": 12,
    "start_time": "2021-08-14T15:53:42.417Z"
   },
   {
    "duration": 31,
    "start_time": "2021-08-14T15:53:42.431Z"
   },
   {
    "duration": 8,
    "start_time": "2021-08-14T15:53:42.465Z"
   },
   {
    "duration": 12,
    "start_time": "2021-08-14T15:53:42.478Z"
   },
   {
    "duration": 10,
    "start_time": "2021-08-14T15:53:42.499Z"
   },
   {
    "duration": 16,
    "start_time": "2021-08-14T15:53:42.511Z"
   },
   {
    "duration": 38,
    "start_time": "2021-08-14T15:53:42.530Z"
   },
   {
    "duration": 15,
    "start_time": "2021-08-14T15:53:42.570Z"
   },
   {
    "duration": 1447,
    "start_time": "2021-08-14T15:53:42.587Z"
   },
   {
    "duration": 7,
    "start_time": "2021-08-14T15:53:44.036Z"
   },
   {
    "duration": 39,
    "start_time": "2021-08-14T15:53:44.045Z"
   },
   {
    "duration": 24,
    "start_time": "2021-08-14T15:53:44.087Z"
   },
   {
    "duration": 14,
    "start_time": "2021-08-14T15:53:44.114Z"
   },
   {
    "duration": 12,
    "start_time": "2021-08-14T15:53:44.131Z"
   },
   {
    "duration": 33,
    "start_time": "2021-08-14T15:53:44.145Z"
   },
   {
    "duration": 6,
    "start_time": "2021-08-14T15:53:44.181Z"
   },
   {
    "duration": 11,
    "start_time": "2021-08-14T15:53:44.190Z"
   },
   {
    "duration": 20,
    "start_time": "2021-08-14T15:53:44.203Z"
   },
   {
    "duration": 12,
    "start_time": "2021-08-14T15:53:44.225Z"
   },
   {
    "duration": 28,
    "start_time": "2021-08-14T15:53:44.239Z"
   },
   {
    "duration": 19,
    "start_time": "2021-08-14T15:53:44.270Z"
   },
   {
    "duration": 18,
    "start_time": "2021-08-14T15:53:44.292Z"
   },
   {
    "duration": 15,
    "start_time": "2021-08-14T15:53:44.313Z"
   },
   {
    "duration": 55,
    "start_time": "2021-08-14T15:53:44.331Z"
   },
   {
    "duration": 46,
    "start_time": "2021-08-14T15:53:44.389Z"
   },
   {
    "duration": 5116,
    "start_time": "2021-08-14T15:53:44.439Z"
   },
   {
    "duration": 7284,
    "start_time": "2021-08-14T15:53:49.558Z"
   },
   {
    "duration": 27,
    "start_time": "2021-08-14T15:53:56.844Z"
   },
   {
    "duration": 20,
    "start_time": "2021-08-14T15:53:56.874Z"
   },
   {
    "duration": 29,
    "start_time": "2021-08-14T15:53:56.897Z"
   },
   {
    "duration": 47,
    "start_time": "2021-08-14T15:53:56.929Z"
   },
   {
    "duration": 20,
    "start_time": "2021-08-14T15:53:56.978Z"
   },
   {
    "duration": 43,
    "start_time": "2021-08-14T15:53:57.000Z"
   },
   {
    "duration": 12,
    "start_time": "2021-08-14T15:54:27.318Z"
   },
   {
    "duration": 20,
    "start_time": "2021-08-14T15:54:32.765Z"
   },
   {
    "duration": 50,
    "start_time": "2021-08-14T15:54:34.613Z"
   },
   {
    "duration": 15,
    "start_time": "2021-08-14T15:54:39.580Z"
   },
   {
    "duration": 10,
    "start_time": "2021-08-14T15:57:50.206Z"
   },
   {
    "duration": 5,
    "start_time": "2021-08-14T18:11:19.612Z"
   },
   {
    "duration": 10,
    "start_time": "2021-08-14T18:11:27.820Z"
   },
   {
    "duration": 370,
    "start_time": "2021-08-14T18:17:21.218Z"
   },
   {
    "duration": 728,
    "start_time": "2021-08-14T18:17:26.378Z"
   },
   {
    "duration": 88,
    "start_time": "2021-08-14T18:17:29.450Z"
   },
   {
    "duration": 19,
    "start_time": "2021-08-14T18:17:34.313Z"
   },
   {
    "duration": 21,
    "start_time": "2021-08-14T18:17:46.298Z"
   },
   {
    "duration": 20,
    "start_time": "2021-08-14T18:21:54.496Z"
   },
   {
    "duration": 5,
    "start_time": "2021-08-14T18:21:57.576Z"
   },
   {
    "duration": 23,
    "start_time": "2021-08-14T18:22:00.367Z"
   },
   {
    "duration": 10,
    "start_time": "2021-08-14T18:22:05.245Z"
   },
   {
    "duration": 17,
    "start_time": "2021-08-14T18:22:07.334Z"
   },
   {
    "duration": 5,
    "start_time": "2021-08-14T18:22:14.086Z"
   },
   {
    "duration": 21,
    "start_time": "2021-08-14T18:22:16.366Z"
   },
   {
    "duration": 6,
    "start_time": "2021-08-14T18:22:22.077Z"
   },
   {
    "duration": 20,
    "start_time": "2021-08-14T18:22:24.332Z"
   },
   {
    "duration": 6,
    "start_time": "2021-08-14T18:22:46.093Z"
   },
   {
    "duration": 8,
    "start_time": "2021-08-14T18:22:47.875Z"
   },
   {
    "duration": 5,
    "start_time": "2021-08-14T18:22:50.620Z"
   },
   {
    "duration": 5,
    "start_time": "2021-08-14T18:22:52.428Z"
   },
   {
    "duration": 7,
    "start_time": "2021-08-14T18:22:54.494Z"
   },
   {
    "duration": 9,
    "start_time": "2021-08-14T18:23:01.828Z"
   },
   {
    "duration": 7,
    "start_time": "2021-08-14T18:23:05.563Z"
   },
   {
    "duration": 7,
    "start_time": "2021-08-14T18:23:08.059Z"
   },
   {
    "duration": 13,
    "start_time": "2021-08-14T18:23:10.811Z"
   },
   {
    "duration": 15,
    "start_time": "2021-08-14T18:23:18.979Z"
   },
   {
    "duration": 17,
    "start_time": "2021-08-14T18:26:33.475Z"
   },
   {
    "duration": 310,
    "start_time": "2021-08-14T18:26:36.517Z"
   },
   {
    "duration": 26,
    "start_time": "2021-08-14T18:27:00.858Z"
   },
   {
    "duration": 7,
    "start_time": "2021-08-14T18:27:04.674Z"
   },
   {
    "duration": 7,
    "start_time": "2021-08-14T18:27:26.457Z"
   },
   {
    "duration": 22,
    "start_time": "2021-08-14T18:27:30.858Z"
   },
   {
    "duration": 7,
    "start_time": "2021-08-14T18:27:38.816Z"
   },
   {
    "duration": 6,
    "start_time": "2021-08-14T18:27:46.377Z"
   },
   {
    "duration": 24,
    "start_time": "2021-08-14T18:27:53.379Z"
   },
   {
    "duration": 7,
    "start_time": "2021-08-14T18:27:57.335Z"
   },
   {
    "duration": 6,
    "start_time": "2021-08-14T18:27:59.855Z"
   },
   {
    "duration": 7,
    "start_time": "2021-08-14T18:28:02.464Z"
   },
   {
    "duration": 9,
    "start_time": "2021-08-14T18:28:14.631Z"
   },
   {
    "duration": 9,
    "start_time": "2021-08-14T18:28:48.478Z"
   },
   {
    "duration": 7,
    "start_time": "2021-08-14T18:28:53.070Z"
   },
   {
    "duration": 10,
    "start_time": "2021-08-14T18:29:17.189Z"
   },
   {
    "duration": 12,
    "start_time": "2021-08-14T18:29:29.468Z"
   },
   {
    "duration": 13,
    "start_time": "2021-08-14T18:30:07.388Z"
   },
   {
    "duration": 30,
    "start_time": "2021-08-14T18:31:44.240Z"
   },
   {
    "duration": 47,
    "start_time": "2021-08-14T18:31:46.456Z"
   },
   {
    "duration": 14,
    "start_time": "2021-08-14T18:31:54.448Z"
   },
   {
    "duration": 13,
    "start_time": "2021-08-14T18:32:05.575Z"
   },
   {
    "duration": 7119,
    "start_time": "2021-08-14T18:34:11.986Z"
   },
   {
    "duration": 1850,
    "start_time": "2021-08-14T18:34:39.594Z"
   },
   {
    "duration": 6,
    "start_time": "2021-08-14T18:35:36.296Z"
   },
   {
    "duration": 15,
    "start_time": "2021-08-14T18:35:45.549Z"
   },
   {
    "duration": 17,
    "start_time": "2021-08-14T18:37:16.682Z"
   },
   {
    "duration": 17,
    "start_time": "2021-08-14T18:37:24.572Z"
   },
   {
    "duration": 17,
    "start_time": "2021-08-14T18:37:56.489Z"
   },
   {
    "duration": 16,
    "start_time": "2021-08-14T20:40:02.091Z"
   },
   {
    "duration": 14,
    "start_time": "2021-08-14T20:40:12.719Z"
   },
   {
    "duration": 16,
    "start_time": "2021-08-14T20:40:39.403Z"
   },
   {
    "duration": 17,
    "start_time": "2021-08-14T20:40:48.497Z"
   },
   {
    "duration": 86,
    "start_time": "2021-08-14T20:44:02.472Z"
   },
   {
    "duration": 13,
    "start_time": "2021-08-14T20:45:33.173Z"
   },
   {
    "duration": 11,
    "start_time": "2021-08-14T20:46:39.403Z"
   },
   {
    "duration": 12,
    "start_time": "2021-08-14T20:46:44.666Z"
   },
   {
    "duration": 22,
    "start_time": "2021-08-14T20:46:52.883Z"
   },
   {
    "duration": 34,
    "start_time": "2021-08-14T20:46:55.516Z"
   },
   {
    "duration": 13,
    "start_time": "2021-08-14T20:46:57.994Z"
   },
   {
    "duration": 745,
    "start_time": "2021-08-14T20:47:08.117Z"
   },
   {
    "duration": 91,
    "start_time": "2021-08-14T20:47:08.864Z"
   },
   {
    "duration": 18,
    "start_time": "2021-08-14T20:47:08.958Z"
   },
   {
    "duration": 21,
    "start_time": "2021-08-14T20:47:08.979Z"
   },
   {
    "duration": 9,
    "start_time": "2021-08-14T20:47:09.002Z"
   },
   {
    "duration": 70,
    "start_time": "2021-08-14T20:47:09.014Z"
   },
   {
    "duration": 12,
    "start_time": "2021-08-14T20:47:09.087Z"
   },
   {
    "duration": 25,
    "start_time": "2021-08-14T20:47:09.105Z"
   },
   {
    "duration": 31,
    "start_time": "2021-08-14T20:47:09.133Z"
   },
   {
    "duration": 23,
    "start_time": "2021-08-14T20:47:09.168Z"
   },
   {
    "duration": 5,
    "start_time": "2021-08-14T20:47:09.195Z"
   },
   {
    "duration": 21,
    "start_time": "2021-08-14T20:47:09.203Z"
   },
   {
    "duration": 32,
    "start_time": "2021-08-14T20:47:09.263Z"
   },
   {
    "duration": 34,
    "start_time": "2021-08-14T20:47:09.298Z"
   },
   {
    "duration": 51,
    "start_time": "2021-08-14T20:47:09.335Z"
   },
   {
    "duration": 18,
    "start_time": "2021-08-14T20:47:09.389Z"
   },
   {
    "duration": 9,
    "start_time": "2021-08-14T20:47:09.410Z"
   },
   {
    "duration": 43,
    "start_time": "2021-08-14T20:47:09.422Z"
   },
   {
    "duration": 6,
    "start_time": "2021-08-14T20:47:09.468Z"
   },
   {
    "duration": 7,
    "start_time": "2021-08-14T20:47:09.477Z"
   },
   {
    "duration": 10,
    "start_time": "2021-08-14T20:47:09.487Z"
   },
   {
    "duration": 8,
    "start_time": "2021-08-14T20:47:09.500Z"
   },
   {
    "duration": 50,
    "start_time": "2021-08-14T20:47:09.516Z"
   },
   {
    "duration": 9,
    "start_time": "2021-08-14T20:47:09.571Z"
   },
   {
    "duration": 17,
    "start_time": "2021-08-14T20:47:09.583Z"
   },
   {
    "duration": 60,
    "start_time": "2021-08-14T20:47:09.603Z"
   },
   {
    "duration": 32,
    "start_time": "2021-08-14T20:47:09.667Z"
   },
   {
    "duration": 7,
    "start_time": "2021-08-14T20:47:09.701Z"
   },
   {
    "duration": 8,
    "start_time": "2021-08-14T20:47:09.711Z"
   },
   {
    "duration": 57,
    "start_time": "2021-08-14T20:47:09.722Z"
   },
   {
    "duration": 5,
    "start_time": "2021-08-14T20:47:09.782Z"
   },
   {
    "duration": 10,
    "start_time": "2021-08-14T20:47:09.790Z"
   },
   {
    "duration": 25,
    "start_time": "2021-08-14T20:47:09.803Z"
   },
   {
    "duration": 35,
    "start_time": "2021-08-14T20:47:09.830Z"
   },
   {
    "duration": 6,
    "start_time": "2021-08-14T20:47:09.867Z"
   },
   {
    "duration": 9,
    "start_time": "2021-08-14T20:47:09.877Z"
   },
   {
    "duration": 15,
    "start_time": "2021-08-14T20:47:09.889Z"
   },
   {
    "duration": 55,
    "start_time": "2021-08-14T20:47:09.907Z"
   },
   {
    "duration": 8,
    "start_time": "2021-08-14T20:47:09.964Z"
   },
   {
    "duration": 11,
    "start_time": "2021-08-14T20:47:09.974Z"
   },
   {
    "duration": 13,
    "start_time": "2021-08-14T20:47:09.988Z"
   },
   {
    "duration": 67,
    "start_time": "2021-08-14T20:47:10.004Z"
   },
   {
    "duration": 33,
    "start_time": "2021-08-14T20:47:10.074Z"
   },
   {
    "duration": 9,
    "start_time": "2021-08-14T20:47:10.109Z"
   },
   {
    "duration": 11,
    "start_time": "2021-08-14T20:47:10.121Z"
   },
   {
    "duration": 10,
    "start_time": "2021-08-14T20:47:10.163Z"
   },
   {
    "duration": 25,
    "start_time": "2021-08-14T20:47:10.176Z"
   },
   {
    "duration": 5538,
    "start_time": "2021-08-14T20:47:10.204Z"
   },
   {
    "duration": 9055,
    "start_time": "2021-08-14T20:47:15.745Z"
   },
   {
    "duration": 18,
    "start_time": "2021-08-14T20:47:24.802Z"
   },
   {
    "duration": 17,
    "start_time": "2021-08-14T20:47:24.822Z"
   },
   {
    "duration": 52,
    "start_time": "2021-08-14T20:47:24.841Z"
   },
   {
    "duration": 17,
    "start_time": "2021-08-14T20:47:24.896Z"
   },
   {
    "duration": 13,
    "start_time": "2021-08-14T20:47:24.915Z"
   },
   {
    "duration": 54,
    "start_time": "2021-08-14T20:47:24.930Z"
   },
   {
    "duration": 12,
    "start_time": "2021-08-14T20:48:19.138Z"
   },
   {
    "duration": 16,
    "start_time": "2021-08-14T20:48:51.770Z"
   },
   {
    "duration": 20,
    "start_time": "2021-08-14T20:51:18.201Z"
   },
   {
    "duration": 39,
    "start_time": "2021-08-14T20:52:13.039Z"
   },
   {
    "duration": 11,
    "start_time": "2021-08-14T20:52:55.397Z"
   },
   {
    "duration": 117,
    "start_time": "2021-08-14T20:54:18.645Z"
   },
   {
    "duration": 2352,
    "start_time": "2021-08-14T20:58:50.297Z"
   },
   {
    "duration": 1809,
    "start_time": "2021-08-14T20:59:47.253Z"
   },
   {
    "duration": 2082,
    "start_time": "2021-08-14T21:00:07.760Z"
   },
   {
    "duration": 2340,
    "start_time": "2021-08-14T21:00:29.948Z"
   },
   {
    "duration": 20,
    "start_time": "2021-08-14T21:00:55.179Z"
   },
   {
    "duration": 772,
    "start_time": "2021-08-14T21:01:14.221Z"
   },
   {
    "duration": 91,
    "start_time": "2021-08-14T21:01:14.995Z"
   },
   {
    "duration": 14,
    "start_time": "2021-08-14T21:01:15.089Z"
   },
   {
    "duration": 21,
    "start_time": "2021-08-14T21:01:15.106Z"
   },
   {
    "duration": 34,
    "start_time": "2021-08-14T21:01:15.129Z"
   },
   {
    "duration": 20,
    "start_time": "2021-08-14T21:01:15.166Z"
   },
   {
    "duration": 13,
    "start_time": "2021-08-14T21:01:15.188Z"
   },
   {
    "duration": 16,
    "start_time": "2021-08-14T21:01:15.205Z"
   },
   {
    "duration": 39,
    "start_time": "2021-08-14T21:01:15.224Z"
   },
   {
    "duration": 23,
    "start_time": "2021-08-14T21:01:15.266Z"
   },
   {
    "duration": 6,
    "start_time": "2021-08-14T21:01:15.292Z"
   },
   {
    "duration": 26,
    "start_time": "2021-08-14T21:01:15.301Z"
   },
   {
    "duration": 37,
    "start_time": "2021-08-14T21:01:15.329Z"
   },
   {
    "duration": 10,
    "start_time": "2021-08-14T21:01:15.368Z"
   },
   {
    "duration": 8,
    "start_time": "2021-08-14T21:01:15.381Z"
   },
   {
    "duration": 13,
    "start_time": "2021-08-14T21:01:15.392Z"
   },
   {
    "duration": 12,
    "start_time": "2021-08-14T21:01:15.408Z"
   },
   {
    "duration": 40,
    "start_time": "2021-08-14T21:01:15.422Z"
   },
   {
    "duration": 7,
    "start_time": "2021-08-14T21:01:15.464Z"
   },
   {
    "duration": 11,
    "start_time": "2021-08-14T21:01:15.473Z"
   },
   {
    "duration": 15,
    "start_time": "2021-08-14T21:01:15.486Z"
   },
   {
    "duration": 18,
    "start_time": "2021-08-14T21:01:15.503Z"
   },
   {
    "duration": 27,
    "start_time": "2021-08-14T21:01:15.563Z"
   },
   {
    "duration": 6,
    "start_time": "2021-08-14T21:01:15.593Z"
   },
   {
    "duration": 10,
    "start_time": "2021-08-14T21:01:15.602Z"
   },
   {
    "duration": 49,
    "start_time": "2021-08-14T21:01:15.614Z"
   },
   {
    "duration": 6,
    "start_time": "2021-08-14T21:01:15.666Z"
   },
   {
    "duration": 18,
    "start_time": "2021-08-14T21:01:15.674Z"
   },
   {
    "duration": 27,
    "start_time": "2021-08-14T21:01:15.694Z"
   },
   {
    "duration": 6,
    "start_time": "2021-08-14T21:01:15.723Z"
   },
   {
    "duration": 6,
    "start_time": "2021-08-14T21:01:15.763Z"
   },
   {
    "duration": 11,
    "start_time": "2021-08-14T21:01:15.772Z"
   },
   {
    "duration": 12,
    "start_time": "2021-08-14T21:01:15.785Z"
   },
   {
    "duration": 15,
    "start_time": "2021-08-14T21:01:15.800Z"
   },
   {
    "duration": 7,
    "start_time": "2021-08-14T21:01:15.818Z"
   },
   {
    "duration": 11,
    "start_time": "2021-08-14T21:01:15.863Z"
   },
   {
    "duration": 13,
    "start_time": "2021-08-14T21:01:15.876Z"
   },
   {
    "duration": 19,
    "start_time": "2021-08-14T21:01:15.892Z"
   },
   {
    "duration": 66,
    "start_time": "2021-08-14T21:01:15.914Z"
   },
   {
    "duration": 9,
    "start_time": "2021-08-14T21:01:15.982Z"
   },
   {
    "duration": 8,
    "start_time": "2021-08-14T21:01:15.994Z"
   },
   {
    "duration": 10,
    "start_time": "2021-08-14T21:01:16.004Z"
   },
   {
    "duration": 51,
    "start_time": "2021-08-14T21:01:16.017Z"
   },
   {
    "duration": 19,
    "start_time": "2021-08-14T21:01:16.071Z"
   },
   {
    "duration": 30,
    "start_time": "2021-08-14T21:01:16.093Z"
   },
   {
    "duration": 8,
    "start_time": "2021-08-14T21:01:16.126Z"
   },
   {
    "duration": 24,
    "start_time": "2021-08-14T21:01:16.163Z"
   },
   {
    "duration": 27,
    "start_time": "2021-08-14T21:01:16.190Z"
   },
   {
    "duration": 60,
    "start_time": "2021-08-14T21:01:16.219Z"
   },
   {
    "duration": 13,
    "start_time": "2021-08-14T21:01:16.282Z"
   },
   {
    "duration": 4350,
    "start_time": "2021-08-14T21:01:16.297Z"
   },
   {
    "duration": 7414,
    "start_time": "2021-08-14T21:01:20.649Z"
   },
   {
    "duration": 18,
    "start_time": "2021-08-14T21:01:28.066Z"
   },
   {
    "duration": 20,
    "start_time": "2021-08-14T21:01:28.087Z"
   },
   {
    "duration": 53,
    "start_time": "2021-08-14T21:01:28.111Z"
   },
   {
    "duration": 28,
    "start_time": "2021-08-14T21:01:28.167Z"
   },
   {
    "duration": 14,
    "start_time": "2021-08-14T21:01:28.197Z"
   },
   {
    "duration": 64,
    "start_time": "2021-08-14T21:01:28.214Z"
   },
   {
    "duration": 2000,
    "start_time": "2021-08-14T21:03:47.489Z"
   },
   {
    "duration": 758,
    "start_time": "2021-08-14T21:05:57.585Z"
   },
   {
    "duration": 89,
    "start_time": "2021-08-14T21:05:58.346Z"
   },
   {
    "duration": 24,
    "start_time": "2021-08-14T21:05:58.438Z"
   },
   {
    "duration": 21,
    "start_time": "2021-08-14T21:05:58.464Z"
   },
   {
    "duration": 6,
    "start_time": "2021-08-14T21:05:58.487Z"
   },
   {
    "duration": 24,
    "start_time": "2021-08-14T21:05:58.495Z"
   },
   {
    "duration": 46,
    "start_time": "2021-08-14T21:05:58.521Z"
   },
   {
    "duration": 17,
    "start_time": "2021-08-14T21:05:58.571Z"
   },
   {
    "duration": 5,
    "start_time": "2021-08-14T21:05:58.591Z"
   },
   {
    "duration": 18,
    "start_time": "2021-08-14T21:05:58.598Z"
   },
   {
    "duration": 5,
    "start_time": "2021-08-14T21:05:58.618Z"
   },
   {
    "duration": 15,
    "start_time": "2021-08-14T21:05:58.662Z"
   },
   {
    "duration": 6,
    "start_time": "2021-08-14T21:05:58.679Z"
   },
   {
    "duration": 11,
    "start_time": "2021-08-14T21:05:58.687Z"
   },
   {
    "duration": 6,
    "start_time": "2021-08-14T21:05:58.701Z"
   },
   {
    "duration": 7,
    "start_time": "2021-08-14T21:05:58.709Z"
   },
   {
    "duration": 49,
    "start_time": "2021-08-14T21:05:58.719Z"
   },
   {
    "duration": 11,
    "start_time": "2021-08-14T21:05:58.770Z"
   },
   {
    "duration": 6,
    "start_time": "2021-08-14T21:05:58.783Z"
   },
   {
    "duration": 10,
    "start_time": "2021-08-14T21:05:58.791Z"
   },
   {
    "duration": 16,
    "start_time": "2021-08-14T21:05:58.803Z"
   },
   {
    "duration": 16,
    "start_time": "2021-08-14T21:05:58.862Z"
   },
   {
    "duration": 27,
    "start_time": "2021-08-14T21:05:58.884Z"
   },
   {
    "duration": 6,
    "start_time": "2021-08-14T21:05:58.914Z"
   },
   {
    "duration": 40,
    "start_time": "2021-08-14T21:05:58.923Z"
   },
   {
    "duration": 21,
    "start_time": "2021-08-14T21:05:58.966Z"
   },
   {
    "duration": 8,
    "start_time": "2021-08-14T21:05:58.990Z"
   },
   {
    "duration": 10,
    "start_time": "2021-08-14T21:05:59.001Z"
   },
   {
    "duration": 77,
    "start_time": "2021-08-14T21:05:59.014Z"
   },
   {
    "duration": 7,
    "start_time": "2021-08-14T21:05:59.095Z"
   },
   {
    "duration": 9,
    "start_time": "2021-08-14T21:05:59.105Z"
   },
   {
    "duration": 45,
    "start_time": "2021-08-14T21:05:59.117Z"
   },
   {
    "duration": 14,
    "start_time": "2021-08-14T21:05:59.165Z"
   },
   {
    "duration": 24,
    "start_time": "2021-08-14T21:05:59.182Z"
   },
   {
    "duration": 22,
    "start_time": "2021-08-14T21:05:59.209Z"
   },
   {
    "duration": 15,
    "start_time": "2021-08-14T21:05:59.234Z"
   },
   {
    "duration": 20,
    "start_time": "2021-08-14T21:05:59.252Z"
   },
   {
    "duration": 19,
    "start_time": "2021-08-14T21:05:59.275Z"
   },
   {
    "duration": 32,
    "start_time": "2021-08-14T21:05:59.297Z"
   },
   {
    "duration": 36,
    "start_time": "2021-08-14T21:05:59.331Z"
   },
   {
    "duration": 20,
    "start_time": "2021-08-14T21:05:59.370Z"
   },
   {
    "duration": 23,
    "start_time": "2021-08-14T21:05:59.392Z"
   },
   {
    "duration": 14,
    "start_time": "2021-08-14T21:05:59.418Z"
   },
   {
    "duration": 41,
    "start_time": "2021-08-14T21:05:59.435Z"
   },
   {
    "duration": 31,
    "start_time": "2021-08-14T21:05:59.478Z"
   },
   {
    "duration": 9,
    "start_time": "2021-08-14T21:05:59.511Z"
   },
   {
    "duration": 58,
    "start_time": "2021-08-14T21:05:59.522Z"
   },
   {
    "duration": 29,
    "start_time": "2021-08-14T21:05:59.583Z"
   },
   {
    "duration": 26,
    "start_time": "2021-08-14T21:05:59.614Z"
   },
   {
    "duration": 14,
    "start_time": "2021-08-14T21:05:59.662Z"
   },
   {
    "duration": 4241,
    "start_time": "2021-08-14T21:05:59.679Z"
   },
   {
    "duration": 7547,
    "start_time": "2021-08-14T21:06:03.923Z"
   },
   {
    "duration": 19,
    "start_time": "2021-08-14T21:06:11.472Z"
   },
   {
    "duration": 16,
    "start_time": "2021-08-14T21:06:11.494Z"
   },
   {
    "duration": 23,
    "start_time": "2021-08-14T21:06:11.513Z"
   },
   {
    "duration": 29,
    "start_time": "2021-08-14T21:06:11.563Z"
   },
   {
    "duration": 20,
    "start_time": "2021-08-14T21:06:11.595Z"
   },
   {
    "duration": 69,
    "start_time": "2021-08-14T21:06:11.618Z"
   },
   {
    "duration": 39,
    "start_time": "2021-08-14T21:24:06.557Z"
   },
   {
    "duration": 13,
    "start_time": "2021-08-14T21:26:23.936Z"
   },
   {
    "duration": 16,
    "start_time": "2021-08-14T21:27:13.375Z"
   },
   {
    "duration": 906,
    "start_time": "2021-08-14T21:27:35.659Z"
   },
   {
    "duration": 89,
    "start_time": "2021-08-14T21:27:36.568Z"
   },
   {
    "duration": 21,
    "start_time": "2021-08-14T21:27:36.660Z"
   },
   {
    "duration": 21,
    "start_time": "2021-08-14T21:27:36.684Z"
   },
   {
    "duration": 55,
    "start_time": "2021-08-14T21:27:36.707Z"
   },
   {
    "duration": 9,
    "start_time": "2021-08-14T21:27:36.765Z"
   },
   {
    "duration": 19,
    "start_time": "2021-08-14T21:27:36.776Z"
   },
   {
    "duration": 5,
    "start_time": "2021-08-14T21:27:36.798Z"
   },
   {
    "duration": 17,
    "start_time": "2021-08-14T21:27:36.806Z"
   },
   {
    "duration": 40,
    "start_time": "2021-08-14T21:27:36.825Z"
   },
   {
    "duration": 34,
    "start_time": "2021-08-14T21:27:36.869Z"
   },
   {
    "duration": 5,
    "start_time": "2021-08-14T21:27:36.906Z"
   },
   {
    "duration": 14,
    "start_time": "2021-08-14T21:27:36.914Z"
   },
   {
    "duration": 5,
    "start_time": "2021-08-14T21:27:36.931Z"
   },
   {
    "duration": 6,
    "start_time": "2021-08-14T21:27:36.964Z"
   },
   {
    "duration": 14,
    "start_time": "2021-08-14T21:27:36.973Z"
   },
   {
    "duration": 13,
    "start_time": "2021-08-14T21:27:36.989Z"
   },
   {
    "duration": 10,
    "start_time": "2021-08-14T21:27:37.004Z"
   },
   {
    "duration": 48,
    "start_time": "2021-08-14T21:27:37.017Z"
   },
   {
    "duration": 20,
    "start_time": "2021-08-14T21:27:37.067Z"
   },
   {
    "duration": 23,
    "start_time": "2021-08-14T21:27:37.090Z"
   },
   {
    "duration": 61,
    "start_time": "2021-08-14T21:27:37.117Z"
   },
   {
    "duration": 8,
    "start_time": "2021-08-14T21:27:37.187Z"
   },
   {
    "duration": 25,
    "start_time": "2021-08-14T21:27:37.200Z"
   },
   {
    "duration": 49,
    "start_time": "2021-08-14T21:27:37.228Z"
   },
   {
    "duration": 7,
    "start_time": "2021-08-14T21:27:37.280Z"
   },
   {
    "duration": 13,
    "start_time": "2021-08-14T21:27:37.290Z"
   },
   {
    "duration": 59,
    "start_time": "2021-08-14T21:27:37.305Z"
   },
   {
    "duration": 6,
    "start_time": "2021-08-14T21:27:37.366Z"
   },
   {
    "duration": 20,
    "start_time": "2021-08-14T21:27:37.377Z"
   },
   {
    "duration": 11,
    "start_time": "2021-08-14T21:27:37.400Z"
   },
   {
    "duration": 17,
    "start_time": "2021-08-14T21:27:37.414Z"
   },
   {
    "duration": 34,
    "start_time": "2021-08-14T21:27:37.433Z"
   },
   {
    "duration": 20,
    "start_time": "2021-08-14T21:27:37.470Z"
   },
   {
    "duration": 14,
    "start_time": "2021-08-14T21:27:37.492Z"
   },
   {
    "duration": 12,
    "start_time": "2021-08-14T21:27:37.509Z"
   },
   {
    "duration": 56,
    "start_time": "2021-08-14T21:27:37.523Z"
   },
   {
    "duration": 33,
    "start_time": "2021-08-14T21:27:37.581Z"
   },
   {
    "duration": 11,
    "start_time": "2021-08-14T21:27:37.617Z"
   },
   {
    "duration": 37,
    "start_time": "2021-08-14T21:27:37.631Z"
   },
   {
    "duration": 14,
    "start_time": "2021-08-14T21:27:37.672Z"
   },
   {
    "duration": 12,
    "start_time": "2021-08-14T21:27:37.689Z"
   },
   {
    "duration": 21,
    "start_time": "2021-08-14T21:27:37.703Z"
   },
   {
    "duration": 36,
    "start_time": "2021-08-14T21:27:37.764Z"
   },
   {
    "duration": 9,
    "start_time": "2021-08-14T21:27:37.802Z"
   },
   {
    "duration": 51,
    "start_time": "2021-08-14T21:27:37.814Z"
   },
   {
    "duration": 27,
    "start_time": "2021-08-14T21:27:37.868Z"
   },
   {
    "duration": 22,
    "start_time": "2021-08-14T21:27:37.897Z"
   },
   {
    "duration": 43,
    "start_time": "2021-08-14T21:27:37.921Z"
   },
   {
    "duration": 4610,
    "start_time": "2021-08-14T21:27:37.967Z"
   },
   {
    "duration": 7872,
    "start_time": "2021-08-14T21:27:42.581Z"
   },
   {
    "duration": 25,
    "start_time": "2021-08-14T21:27:50.460Z"
   },
   {
    "duration": 10,
    "start_time": "2021-08-14T21:27:50.488Z"
   },
   {
    "duration": 27,
    "start_time": "2021-08-14T21:27:50.500Z"
   },
   {
    "duration": 22,
    "start_time": "2021-08-14T21:27:50.562Z"
   },
   {
    "duration": 19,
    "start_time": "2021-08-14T21:27:50.587Z"
   },
   {
    "duration": 61,
    "start_time": "2021-08-14T21:27:50.610Z"
   },
   {
    "duration": 6933,
    "start_time": "2021-08-14T22:41:22.998Z"
   },
   {
    "duration": 37,
    "start_time": "2021-08-14T22:42:43.602Z"
   },
   {
    "duration": 21,
    "start_time": "2021-08-15T08:48:29.048Z"
   },
   {
    "duration": 19,
    "start_time": "2021-08-15T08:48:44.853Z"
   },
   {
    "duration": 12,
    "start_time": "2021-08-15T08:53:18.443Z"
   },
   {
    "duration": 87,
    "start_time": "2021-08-15T11:09:05.928Z"
   },
   {
    "duration": 1452,
    "start_time": "2021-08-15T11:09:10.984Z"
   },
   {
    "duration": 27,
    "start_time": "2021-08-15T11:10:28.725Z"
   },
   {
    "duration": 25,
    "start_time": "2021-08-15T11:11:56.370Z"
   },
   {
    "duration": 55,
    "start_time": "2021-08-15T11:12:02.530Z"
   },
   {
    "duration": 58,
    "start_time": "2021-08-15T11:14:00.959Z"
   },
   {
    "duration": 57,
    "start_time": "2021-08-15T11:14:45.188Z"
   },
   {
    "duration": 24,
    "start_time": "2021-08-15T11:15:09.131Z"
   },
   {
    "duration": 26,
    "start_time": "2021-08-15T11:15:14.187Z"
   },
   {
    "duration": 57,
    "start_time": "2021-08-15T11:18:39.906Z"
   },
   {
    "duration": 8537,
    "start_time": "2021-08-15T11:19:43.248Z"
   },
   {
    "duration": 7308,
    "start_time": "2021-08-15T11:20:36.144Z"
   },
   {
    "duration": 28,
    "start_time": "2021-08-15T11:27:53.333Z"
   },
   {
    "duration": 110,
    "start_time": "2021-08-15T13:08:32.749Z"
   },
   {
    "duration": 9,
    "start_time": "2021-08-15T13:11:01.180Z"
   },
   {
    "duration": 11,
    "start_time": "2021-08-15T13:17:30.990Z"
   },
   {
    "duration": 13,
    "start_time": "2021-08-15T13:18:13.965Z"
   },
   {
    "duration": 8,
    "start_time": "2021-08-15T13:19:13.554Z"
   },
   {
    "duration": 8,
    "start_time": "2021-08-15T13:20:01.810Z"
   },
   {
    "duration": 13,
    "start_time": "2021-08-15T13:20:49.457Z"
   },
   {
    "duration": 12,
    "start_time": "2021-08-15T13:21:03.285Z"
   },
   {
    "duration": 738,
    "start_time": "2021-08-15T13:21:15.078Z"
   },
   {
    "duration": 89,
    "start_time": "2021-08-15T13:21:15.819Z"
   },
   {
    "duration": 15,
    "start_time": "2021-08-15T13:21:15.911Z"
   },
   {
    "duration": 37,
    "start_time": "2021-08-15T13:21:15.929Z"
   },
   {
    "duration": 21,
    "start_time": "2021-08-15T13:21:15.968Z"
   },
   {
    "duration": 8,
    "start_time": "2021-08-15T13:21:15.992Z"
   },
   {
    "duration": 24,
    "start_time": "2021-08-15T13:21:16.003Z"
   },
   {
    "duration": 34,
    "start_time": "2021-08-15T13:21:16.030Z"
   },
   {
    "duration": 30,
    "start_time": "2021-08-15T13:21:16.068Z"
   },
   {
    "duration": 5,
    "start_time": "2021-08-15T13:21:16.101Z"
   },
   {
    "duration": 27,
    "start_time": "2021-08-15T13:21:16.108Z"
   },
   {
    "duration": 5,
    "start_time": "2021-08-15T13:21:16.138Z"
   },
   {
    "duration": 22,
    "start_time": "2021-08-15T13:21:16.145Z"
   },
   {
    "duration": 24,
    "start_time": "2021-08-15T13:21:16.169Z"
   },
   {
    "duration": 18,
    "start_time": "2021-08-15T13:21:16.196Z"
   },
   {
    "duration": 17,
    "start_time": "2021-08-15T13:21:16.216Z"
   },
   {
    "duration": 10,
    "start_time": "2021-08-15T13:21:16.235Z"
   },
   {
    "duration": 14,
    "start_time": "2021-08-15T13:21:16.248Z"
   },
   {
    "duration": 19,
    "start_time": "2021-08-15T13:21:16.265Z"
   },
   {
    "duration": 29,
    "start_time": "2021-08-15T13:21:16.287Z"
   },
   {
    "duration": 36,
    "start_time": "2021-08-15T13:21:16.319Z"
   },
   {
    "duration": 36,
    "start_time": "2021-08-15T13:21:16.358Z"
   },
   {
    "duration": 7,
    "start_time": "2021-08-15T13:21:16.396Z"
   },
   {
    "duration": 19,
    "start_time": "2021-08-15T13:21:16.405Z"
   },
   {
    "duration": 40,
    "start_time": "2021-08-15T13:21:16.426Z"
   },
   {
    "duration": 7,
    "start_time": "2021-08-15T13:21:16.469Z"
   },
   {
    "duration": 7,
    "start_time": "2021-08-15T13:21:16.482Z"
   },
   {
    "duration": 71,
    "start_time": "2021-08-15T13:21:16.493Z"
   },
   {
    "duration": 6,
    "start_time": "2021-08-15T13:21:16.566Z"
   },
   {
    "duration": 14,
    "start_time": "2021-08-15T13:21:16.574Z"
   },
   {
    "duration": 16,
    "start_time": "2021-08-15T13:21:16.590Z"
   },
   {
    "duration": 11,
    "start_time": "2021-08-15T13:21:16.608Z"
   },
   {
    "duration": 45,
    "start_time": "2021-08-15T13:21:16.621Z"
   },
   {
    "duration": 21,
    "start_time": "2021-08-15T13:21:16.668Z"
   },
   {
    "duration": 17,
    "start_time": "2021-08-15T13:21:16.691Z"
   },
   {
    "duration": 11,
    "start_time": "2021-08-15T13:21:16.711Z"
   },
   {
    "duration": 38,
    "start_time": "2021-08-15T13:21:16.725Z"
   },
   {
    "duration": 36,
    "start_time": "2021-08-15T13:21:16.765Z"
   },
   {
    "duration": 9,
    "start_time": "2021-08-15T13:21:16.803Z"
   },
   {
    "duration": 15,
    "start_time": "2021-08-15T13:21:16.815Z"
   },
   {
    "duration": 37,
    "start_time": "2021-08-15T13:21:16.832Z"
   },
   {
    "duration": 11,
    "start_time": "2021-08-15T13:21:16.872Z"
   },
   {
    "duration": 26,
    "start_time": "2021-08-15T13:21:16.886Z"
   },
   {
    "duration": 13,
    "start_time": "2021-08-15T13:21:16.914Z"
   },
   {
    "duration": 41,
    "start_time": "2021-08-15T13:21:16.929Z"
   },
   {
    "duration": 23,
    "start_time": "2021-08-15T13:21:16.972Z"
   },
   {
    "duration": 39,
    "start_time": "2021-08-15T13:21:16.997Z"
   },
   {
    "duration": 25,
    "start_time": "2021-08-15T13:21:17.038Z"
   },
   {
    "duration": 25,
    "start_time": "2021-08-15T13:21:17.065Z"
   },
   {
    "duration": 29,
    "start_time": "2021-08-15T13:21:17.092Z"
   },
   {
    "duration": 61,
    "start_time": "2021-08-15T13:21:17.123Z"
   },
   {
    "duration": 14,
    "start_time": "2021-08-15T13:21:17.186Z"
   },
   {
    "duration": 8719,
    "start_time": "2021-08-15T13:21:17.202Z"
   },
   {
    "duration": 19,
    "start_time": "2021-08-15T13:21:25.924Z"
   },
   {
    "duration": 11,
    "start_time": "2021-08-15T13:21:25.961Z"
   },
   {
    "duration": 30,
    "start_time": "2021-08-15T13:21:25.975Z"
   },
   {
    "duration": 20,
    "start_time": "2021-08-15T13:21:26.007Z"
   },
   {
    "duration": 12,
    "start_time": "2021-08-15T13:21:26.062Z"
   },
   {
    "duration": 22,
    "start_time": "2021-08-15T13:21:26.078Z"
   },
   {
    "duration": 12,
    "start_time": "2021-08-15T13:21:26.103Z"
   },
   {
    "duration": 68,
    "start_time": "2021-08-15T13:21:26.118Z"
   },
   {
    "duration": 44,
    "start_time": "2021-08-15T13:21:26.189Z"
   },
   {
    "duration": 9,
    "start_time": "2021-08-15T13:23:13.700Z"
   },
   {
    "duration": 10,
    "start_time": "2021-08-15T13:23:35.501Z"
   },
   {
    "duration": 12,
    "start_time": "2021-08-15T13:23:45.546Z"
   },
   {
    "duration": 930,
    "start_time": "2021-08-15T13:24:11.196Z"
   },
   {
    "duration": 123,
    "start_time": "2021-08-15T13:24:14.626Z"
   },
   {
    "duration": 23,
    "start_time": "2021-08-15T13:24:19.618Z"
   },
   {
    "duration": 22,
    "start_time": "2021-08-15T13:24:23.657Z"
   },
   {
    "duration": 21,
    "start_time": "2021-08-15T13:24:27.704Z"
   },
   {
    "duration": 9,
    "start_time": "2021-08-15T13:24:30.713Z"
   },
   {
    "duration": 17,
    "start_time": "2021-08-15T13:24:33.401Z"
   },
   {
    "duration": 5,
    "start_time": "2021-08-15T13:24:36.744Z"
   },
   {
    "duration": 16,
    "start_time": "2021-08-15T13:24:38.616Z"
   },
   {
    "duration": 5,
    "start_time": "2021-08-15T13:24:41.354Z"
   },
   {
    "duration": 15,
    "start_time": "2021-08-15T13:24:42.968Z"
   },
   {
    "duration": 6,
    "start_time": "2021-08-15T13:24:45.818Z"
   },
   {
    "duration": 9,
    "start_time": "2021-08-15T13:24:49.473Z"
   },
   {
    "duration": 6,
    "start_time": "2021-08-15T13:24:52.368Z"
   },
   {
    "duration": 5,
    "start_time": "2021-08-15T13:24:54.751Z"
   },
   {
    "duration": 8,
    "start_time": "2021-08-15T13:24:56.752Z"
   },
   {
    "duration": 6,
    "start_time": "2021-08-15T13:24:59.304Z"
   },
   {
    "duration": 6,
    "start_time": "2021-08-15T13:25:02.233Z"
   },
   {
    "duration": 7,
    "start_time": "2021-08-15T13:25:04.929Z"
   },
   {
    "duration": 12,
    "start_time": "2021-08-15T13:25:07.863Z"
   },
   {
    "duration": 15,
    "start_time": "2021-08-15T13:25:11.416Z"
   },
   {
    "duration": 12,
    "start_time": "2021-08-15T13:26:27.388Z"
   },
   {
    "duration": 23,
    "start_time": "2021-08-15T13:26:33.372Z"
   },
   {
    "duration": 40,
    "start_time": "2021-08-15T13:26:36.037Z"
   },
   {
    "duration": 7,
    "start_time": "2021-08-15T13:26:37.587Z"
   },
   {
    "duration": 7,
    "start_time": "2021-08-15T13:26:40.171Z"
   },
   {
    "duration": 21,
    "start_time": "2021-08-15T13:26:42.165Z"
   },
   {
    "duration": 6,
    "start_time": "2021-08-15T13:26:44.547Z"
   },
   {
    "duration": 7,
    "start_time": "2021-08-15T13:26:46.939Z"
   },
   {
    "duration": 25,
    "start_time": "2021-08-15T13:26:49.368Z"
   },
   {
    "duration": 7,
    "start_time": "2021-08-15T13:26:51.675Z"
   },
   {
    "duration": 7,
    "start_time": "2021-08-15T13:26:54.251Z"
   },
   {
    "duration": 7,
    "start_time": "2021-08-15T13:26:56.427Z"
   },
   {
    "duration": 10,
    "start_time": "2021-08-15T13:26:58.564Z"
   },
   {
    "duration": 10,
    "start_time": "2021-08-15T13:27:00.531Z"
   },
   {
    "duration": 7,
    "start_time": "2021-08-15T13:27:02.642Z"
   },
   {
    "duration": 14,
    "start_time": "2021-08-15T13:27:06.850Z"
   },
   {
    "duration": 16,
    "start_time": "2021-08-15T13:27:10.395Z"
   },
   {
    "duration": 20,
    "start_time": "2021-08-15T13:27:16.218Z"
   },
   {
    "duration": 33,
    "start_time": "2021-08-15T13:27:19.642Z"
   },
   {
    "duration": 11,
    "start_time": "2021-08-15T13:27:22.857Z"
   },
   {
    "duration": 10,
    "start_time": "2021-08-15T13:27:27.147Z"
   },
   {
    "duration": 11,
    "start_time": "2021-08-15T13:27:37.706Z"
   },
   {
    "duration": 9,
    "start_time": "2021-08-15T13:28:02.745Z"
   },
   {
    "duration": 10,
    "start_time": "2021-08-15T13:29:12.653Z"
   },
   {
    "duration": 17,
    "start_time": "2021-08-15T13:29:52.060Z"
   },
   {
    "duration": 11,
    "start_time": "2021-08-15T13:29:57.325Z"
   },
   {
    "duration": 13,
    "start_time": "2021-08-15T13:31:38.426Z"
   },
   {
    "duration": 20,
    "start_time": "2021-08-15T13:31:42.920Z"
   },
   {
    "duration": 33,
    "start_time": "2021-08-15T13:31:45.575Z"
   },
   {
    "duration": 10,
    "start_time": "2021-08-15T13:31:47.686Z"
   },
   {
    "duration": 27,
    "start_time": "2021-08-15T13:32:50.134Z"
   },
   {
    "duration": 30,
    "start_time": "2021-08-15T13:32:55.004Z"
   },
   {
    "duration": 25,
    "start_time": "2021-08-15T13:33:28.651Z"
   },
   {
    "duration": 15,
    "start_time": "2021-08-15T13:33:30.659Z"
   },
   {
    "duration": 9436,
    "start_time": "2021-08-15T13:34:06.490Z"
   },
   {
    "duration": 19,
    "start_time": "2021-08-15T13:35:20.000Z"
   },
   {
    "duration": 12,
    "start_time": "2021-08-15T13:35:25.208Z"
   },
   {
    "duration": 6,
    "start_time": "2021-08-15T16:12:04.971Z"
   },
   {
    "duration": 6,
    "start_time": "2021-08-15T16:12:10.731Z"
   },
   {
    "duration": 375,
    "start_time": "2021-08-15T16:12:22.541Z"
   },
   {
    "duration": 6,
    "start_time": "2021-08-15T16:12:49.294Z"
   },
   {
    "duration": 8,
    "start_time": "2021-08-15T16:12:53.770Z"
   },
   {
    "duration": 8,
    "start_time": "2021-08-15T16:13:25.640Z"
   },
   {
    "duration": 110,
    "start_time": "2021-08-15T16:18:05.813Z"
   },
   {
    "duration": 272,
    "start_time": "2021-08-15T16:18:12.604Z"
   },
   {
    "duration": 232,
    "start_time": "2021-08-15T16:18:34.830Z"
   },
   {
    "duration": 6521,
    "start_time": "2021-08-15T16:19:58.346Z"
   },
   {
    "duration": 12,
    "start_time": "2021-08-15T16:20:11.992Z"
   },
   {
    "duration": 7548,
    "start_time": "2021-08-15T16:22:53.321Z"
   },
   {
    "duration": 26,
    "start_time": "2021-08-15T16:23:17.483Z"
   },
   {
    "duration": 12,
    "start_time": "2021-08-15T16:23:19.777Z"
   },
   {
    "duration": 448,
    "start_time": "2021-08-15T16:26:58.945Z"
   },
   {
    "duration": 18,
    "start_time": "2021-08-15T16:27:21.960Z"
   },
   {
    "duration": 11,
    "start_time": "2021-08-15T16:27:24.295Z"
   },
   {
    "duration": 17,
    "start_time": "2021-08-15T16:27:27.151Z"
   },
   {
    "duration": 22,
    "start_time": "2021-08-15T16:27:30.270Z"
   },
   {
    "duration": 24,
    "start_time": "2021-08-15T16:27:34.112Z"
   },
   {
    "duration": 11,
    "start_time": "2021-08-15T16:27:37.029Z"
   },
   {
    "duration": 7,
    "start_time": "2021-08-15T16:27:43.479Z"
   },
   {
    "duration": 137,
    "start_time": "2021-08-15T16:27:47.615Z"
   },
   {
    "duration": 11,
    "start_time": "2021-08-15T16:27:49.926Z"
   },
   {
    "duration": 34,
    "start_time": "2021-08-15T16:27:59.350Z"
   },
   {
    "duration": 740,
    "start_time": "2021-08-15T16:32:16.102Z"
   },
   {
    "duration": 87,
    "start_time": "2021-08-15T16:32:16.845Z"
   },
   {
    "duration": 15,
    "start_time": "2021-08-15T16:32:16.935Z"
   },
   {
    "duration": 20,
    "start_time": "2021-08-15T16:32:16.962Z"
   },
   {
    "duration": 26,
    "start_time": "2021-08-15T16:32:16.985Z"
   },
   {
    "duration": 9,
    "start_time": "2021-08-15T16:32:17.013Z"
   },
   {
    "duration": 50,
    "start_time": "2021-08-15T16:32:17.025Z"
   },
   {
    "duration": 5,
    "start_time": "2021-08-15T16:32:17.079Z"
   },
   {
    "duration": 16,
    "start_time": "2021-08-15T16:32:17.087Z"
   },
   {
    "duration": 5,
    "start_time": "2021-08-15T16:32:17.105Z"
   },
   {
    "duration": 61,
    "start_time": "2021-08-15T16:32:17.113Z"
   },
   {
    "duration": 7,
    "start_time": "2021-08-15T16:32:17.177Z"
   },
   {
    "duration": 9,
    "start_time": "2021-08-15T16:32:17.187Z"
   },
   {
    "duration": 9,
    "start_time": "2021-08-15T16:32:17.198Z"
   },
   {
    "duration": 9,
    "start_time": "2021-08-15T16:32:17.209Z"
   },
   {
    "duration": 43,
    "start_time": "2021-08-15T16:32:17.221Z"
   },
   {
    "duration": 11,
    "start_time": "2021-08-15T16:32:17.267Z"
   },
   {
    "duration": 13,
    "start_time": "2021-08-15T16:32:17.281Z"
   },
   {
    "duration": 9,
    "start_time": "2021-08-15T16:32:17.297Z"
   },
   {
    "duration": 13,
    "start_time": "2021-08-15T16:32:17.309Z"
   },
   {
    "duration": 49,
    "start_time": "2021-08-15T16:32:17.325Z"
   },
   {
    "duration": 28,
    "start_time": "2021-08-15T16:32:17.377Z"
   },
   {
    "duration": 7,
    "start_time": "2021-08-15T16:32:17.411Z"
   },
   {
    "duration": 43,
    "start_time": "2021-08-15T16:32:17.422Z"
   },
   {
    "duration": 23,
    "start_time": "2021-08-15T16:32:17.467Z"
   },
   {
    "duration": 7,
    "start_time": "2021-08-15T16:32:17.492Z"
   },
   {
    "duration": 9,
    "start_time": "2021-08-15T16:32:17.502Z"
   },
   {
    "duration": 64,
    "start_time": "2021-08-15T16:32:17.513Z"
   },
   {
    "duration": 6,
    "start_time": "2021-08-15T16:32:17.579Z"
   },
   {
    "duration": 8,
    "start_time": "2021-08-15T16:32:17.588Z"
   },
   {
    "duration": 12,
    "start_time": "2021-08-15T16:32:17.598Z"
   },
   {
    "duration": 12,
    "start_time": "2021-08-15T16:32:17.613Z"
   },
   {
    "duration": 40,
    "start_time": "2021-08-15T16:32:17.627Z"
   },
   {
    "duration": 7,
    "start_time": "2021-08-15T16:32:17.670Z"
   },
   {
    "duration": 13,
    "start_time": "2021-08-15T16:32:17.679Z"
   },
   {
    "duration": 12,
    "start_time": "2021-08-15T16:32:17.694Z"
   },
   {
    "duration": 61,
    "start_time": "2021-08-15T16:32:17.709Z"
   },
   {
    "duration": 31,
    "start_time": "2021-08-15T16:32:17.773Z"
   },
   {
    "duration": 10,
    "start_time": "2021-08-15T16:32:17.806Z"
   },
   {
    "duration": 10,
    "start_time": "2021-08-15T16:32:17.819Z"
   },
   {
    "duration": 12,
    "start_time": "2021-08-15T16:32:17.861Z"
   },
   {
    "duration": 18,
    "start_time": "2021-08-15T16:32:17.875Z"
   },
   {
    "duration": 16,
    "start_time": "2021-08-15T16:32:17.896Z"
   },
   {
    "duration": 12,
    "start_time": "2021-08-15T16:32:17.915Z"
   },
   {
    "duration": 43,
    "start_time": "2021-08-15T16:32:17.929Z"
   },
   {
    "duration": 37,
    "start_time": "2021-08-15T16:32:17.974Z"
   },
   {
    "duration": 31,
    "start_time": "2021-08-15T16:32:18.013Z"
   },
   {
    "duration": 24,
    "start_time": "2021-08-15T16:32:18.047Z"
   },
   {
    "duration": 26,
    "start_time": "2021-08-15T16:32:18.074Z"
   },
   {
    "duration": 66,
    "start_time": "2021-08-15T16:32:18.103Z"
   },
   {
    "duration": 26,
    "start_time": "2021-08-15T16:32:18.171Z"
   },
   {
    "duration": 16,
    "start_time": "2021-08-15T16:32:18.200Z"
   },
   {
    "duration": 8155,
    "start_time": "2021-08-15T16:32:18.219Z"
   },
   {
    "duration": 18,
    "start_time": "2021-08-15T16:32:26.377Z"
   },
   {
    "duration": 11,
    "start_time": "2021-08-15T16:32:26.398Z"
   },
   {
    "duration": 60,
    "start_time": "2021-08-15T16:32:26.411Z"
   },
   {
    "duration": 18,
    "start_time": "2021-08-15T16:32:26.473Z"
   },
   {
    "duration": 13,
    "start_time": "2021-08-15T16:32:26.493Z"
   },
   {
    "duration": 57,
    "start_time": "2021-08-15T16:32:26.509Z"
   },
   {
    "duration": 12,
    "start_time": "2021-08-15T16:32:26.570Z"
   },
   {
    "duration": 9,
    "start_time": "2021-08-15T16:32:26.585Z"
   },
   {
    "duration": 179,
    "start_time": "2021-08-15T16:32:26.597Z"
   },
   {
    "duration": 13,
    "start_time": "2021-08-15T16:32:26.779Z"
   },
   {
    "duration": 28,
    "start_time": "2021-08-15T16:32:26.796Z"
   },
   {
    "duration": 42,
    "start_time": "2021-08-15T16:32:26.827Z"
   },
   {
    "duration": 40,
    "start_time": "2021-08-15T16:32:26.872Z"
   },
   {
    "duration": 52,
    "start_time": "2021-08-15T16:32:26.915Z"
   },
   {
    "duration": 23,
    "start_time": "2021-08-15T16:32:45.120Z"
   },
   {
    "duration": 24,
    "start_time": "2021-08-15T16:32:47.496Z"
   },
   {
    "duration": 25,
    "start_time": "2021-08-15T16:34:22.413Z"
   },
   {
    "duration": 22,
    "start_time": "2021-08-15T16:35:04.562Z"
   },
   {
    "duration": 22,
    "start_time": "2021-08-15T16:35:17.042Z"
   },
   {
    "duration": 20,
    "start_time": "2021-08-15T16:41:44.907Z"
   },
   {
    "duration": 23,
    "start_time": "2021-08-15T16:44:57.667Z"
   },
   {
    "duration": 76,
    "start_time": "2021-08-15T16:47:20.629Z"
   },
   {
    "duration": 10,
    "start_time": "2021-08-15T16:49:15.842Z"
   },
   {
    "duration": 12,
    "start_time": "2021-08-15T16:50:18.758Z"
   },
   {
    "duration": 105,
    "start_time": "2021-08-15T16:52:44.228Z"
   },
   {
    "duration": 21,
    "start_time": "2021-08-15T16:53:17.074Z"
   },
   {
    "duration": 74,
    "start_time": "2021-08-15T16:54:05.759Z"
   },
   {
    "duration": 77,
    "start_time": "2021-08-15T16:54:22.031Z"
   },
   {
    "duration": 89,
    "start_time": "2021-08-15T17:04:59.428Z"
   },
   {
    "duration": 733,
    "start_time": "2021-08-15T17:17:22.786Z"
   },
   {
    "duration": 97,
    "start_time": "2021-08-15T17:17:23.522Z"
   },
   {
    "duration": 15,
    "start_time": "2021-08-15T17:17:23.623Z"
   },
   {
    "duration": 39,
    "start_time": "2021-08-15T17:17:23.641Z"
   },
   {
    "duration": 21,
    "start_time": "2021-08-15T17:17:23.682Z"
   },
   {
    "duration": 8,
    "start_time": "2021-08-15T17:17:23.706Z"
   },
   {
    "duration": 57,
    "start_time": "2021-08-15T17:17:23.716Z"
   },
   {
    "duration": 5,
    "start_time": "2021-08-15T17:17:23.777Z"
   },
   {
    "duration": 31,
    "start_time": "2021-08-15T17:17:23.784Z"
   },
   {
    "duration": 5,
    "start_time": "2021-08-15T17:17:23.817Z"
   },
   {
    "duration": 41,
    "start_time": "2021-08-15T17:17:23.824Z"
   },
   {
    "duration": 6,
    "start_time": "2021-08-15T17:17:23.867Z"
   },
   {
    "duration": 14,
    "start_time": "2021-08-15T17:17:23.876Z"
   },
   {
    "duration": 4,
    "start_time": "2021-08-15T17:17:23.892Z"
   },
   {
    "duration": 5,
    "start_time": "2021-08-15T17:17:23.899Z"
   },
   {
    "duration": 9,
    "start_time": "2021-08-15T17:17:23.907Z"
   },
   {
    "duration": 9,
    "start_time": "2021-08-15T17:17:23.962Z"
   },
   {
    "duration": 8,
    "start_time": "2021-08-15T17:17:23.974Z"
   },
   {
    "duration": 8,
    "start_time": "2021-08-15T17:17:23.985Z"
   },
   {
    "duration": 17,
    "start_time": "2021-08-15T17:17:23.996Z"
   },
   {
    "duration": 15,
    "start_time": "2021-08-15T17:17:24.063Z"
   },
   {
    "duration": 29,
    "start_time": "2021-08-15T17:17:24.081Z"
   },
   {
    "duration": 7,
    "start_time": "2021-08-15T17:17:24.118Z"
   },
   {
    "duration": 8,
    "start_time": "2021-08-15T17:17:24.165Z"
   },
   {
    "duration": 25,
    "start_time": "2021-08-15T17:17:24.176Z"
   },
   {
    "duration": 8,
    "start_time": "2021-08-15T17:17:24.204Z"
   },
   {
    "duration": 10,
    "start_time": "2021-08-15T17:17:24.215Z"
   },
   {
    "duration": 31,
    "start_time": "2021-08-15T17:17:24.263Z"
   },
   {
    "duration": 8,
    "start_time": "2021-08-15T17:17:24.297Z"
   },
   {
    "duration": 7,
    "start_time": "2021-08-15T17:17:24.309Z"
   },
   {
    "duration": 9,
    "start_time": "2021-08-15T17:17:24.363Z"
   },
   {
    "duration": 10,
    "start_time": "2021-08-15T17:17:24.375Z"
   },
   {
    "duration": 11,
    "start_time": "2021-08-15T17:17:24.388Z"
   },
   {
    "duration": 8,
    "start_time": "2021-08-15T17:17:24.402Z"
   },
   {
    "duration": 52,
    "start_time": "2021-08-15T17:17:24.413Z"
   },
   {
    "duration": 12,
    "start_time": "2021-08-15T17:17:24.467Z"
   },
   {
    "duration": 20,
    "start_time": "2021-08-15T17:17:24.481Z"
   },
   {
    "duration": 64,
    "start_time": "2021-08-15T17:17:24.503Z"
   },
   {
    "duration": 10,
    "start_time": "2021-08-15T17:17:24.569Z"
   },
   {
    "duration": 9,
    "start_time": "2021-08-15T17:17:24.582Z"
   },
   {
    "duration": 10,
    "start_time": "2021-08-15T17:17:24.593Z"
   },
   {
    "duration": 13,
    "start_time": "2021-08-15T17:17:24.606Z"
   },
   {
    "duration": 21,
    "start_time": "2021-08-15T17:17:24.663Z"
   },
   {
    "duration": 16,
    "start_time": "2021-08-15T17:17:24.687Z"
   },
   {
    "duration": 15,
    "start_time": "2021-08-15T17:17:24.706Z"
   },
   {
    "duration": 58,
    "start_time": "2021-08-15T17:17:24.724Z"
   },
   {
    "duration": 44,
    "start_time": "2021-08-15T17:17:24.785Z"
   },
   {
    "duration": 31,
    "start_time": "2021-08-15T17:17:24.832Z"
   },
   {
    "duration": 25,
    "start_time": "2021-08-15T17:17:24.866Z"
   },
   {
    "duration": 28,
    "start_time": "2021-08-15T17:17:24.893Z"
   },
   {
    "duration": 57,
    "start_time": "2021-08-15T17:17:24.923Z"
   },
   {
    "duration": 14,
    "start_time": "2021-08-15T17:17:24.982Z"
   },
   {
    "duration": 8162,
    "start_time": "2021-08-15T17:17:24.999Z"
   },
   {
    "duration": 19,
    "start_time": "2021-08-15T17:17:33.164Z"
   },
   {
    "duration": 15,
    "start_time": "2021-08-15T17:17:33.187Z"
   },
   {
    "duration": 23,
    "start_time": "2021-08-15T17:17:33.205Z"
   },
   {
    "duration": 19,
    "start_time": "2021-08-15T17:17:33.263Z"
   },
   {
    "duration": 11,
    "start_time": "2021-08-15T17:17:33.285Z"
   },
   {
    "duration": 22,
    "start_time": "2021-08-15T17:17:33.299Z"
   },
   {
    "duration": 47,
    "start_time": "2021-08-15T17:17:33.324Z"
   },
   {
    "duration": 8,
    "start_time": "2021-08-15T17:17:33.375Z"
   },
   {
    "duration": 253,
    "start_time": "2021-08-15T17:17:33.387Z"
   },
   {
    "duration": 20,
    "start_time": "2021-08-15T17:17:33.643Z"
   },
   {
    "duration": 41,
    "start_time": "2021-08-15T17:17:33.666Z"
   },
   {
    "duration": 15,
    "start_time": "2021-08-15T17:17:33.710Z"
   },
   {
    "duration": 45,
    "start_time": "2021-08-15T17:17:33.728Z"
   },
   {
    "duration": 15,
    "start_time": "2021-08-15T17:17:33.776Z"
   },
   {
    "duration": 34,
    "start_time": "2021-08-15T17:17:33.798Z"
   },
   {
    "duration": 47,
    "start_time": "2021-08-15T17:17:33.835Z"
   },
   {
    "duration": 24,
    "start_time": "2021-08-15T17:17:33.885Z"
   },
   {
    "duration": 60,
    "start_time": "2021-08-15T17:17:33.912Z"
   },
   {
    "duration": 25,
    "start_time": "2021-08-15T17:17:33.976Z"
   },
   {
    "duration": 23,
    "start_time": "2021-08-15T17:17:34.004Z"
   },
   {
    "duration": 6,
    "start_time": "2021-08-15T17:19:30.929Z"
   },
   {
    "duration": 739,
    "start_time": "2021-08-15T17:19:43.993Z"
   },
   {
    "duration": 85,
    "start_time": "2021-08-15T17:19:44.735Z"
   },
   {
    "duration": 14,
    "start_time": "2021-08-15T17:19:44.823Z"
   },
   {
    "duration": 38,
    "start_time": "2021-08-15T17:19:44.839Z"
   },
   {
    "duration": 21,
    "start_time": "2021-08-15T17:19:44.880Z"
   },
   {
    "duration": 9,
    "start_time": "2021-08-15T17:19:44.903Z"
   },
   {
    "duration": 48,
    "start_time": "2021-08-15T17:19:44.914Z"
   },
   {
    "duration": 5,
    "start_time": "2021-08-15T17:19:44.965Z"
   },
   {
    "duration": 18,
    "start_time": "2021-08-15T17:19:44.973Z"
   },
   {
    "duration": 4,
    "start_time": "2021-08-15T17:19:44.994Z"
   },
   {
    "duration": 31,
    "start_time": "2021-08-15T17:19:45.001Z"
   },
   {
    "duration": 32,
    "start_time": "2021-08-15T17:19:45.034Z"
   },
   {
    "duration": 21,
    "start_time": "2021-08-15T17:19:45.068Z"
   },
   {
    "duration": 16,
    "start_time": "2021-08-15T17:19:45.092Z"
   },
   {
    "duration": 29,
    "start_time": "2021-08-15T17:19:45.111Z"
   },
   {
    "duration": 20,
    "start_time": "2021-08-15T17:19:45.142Z"
   },
   {
    "duration": 7,
    "start_time": "2021-08-15T17:19:45.164Z"
   },
   {
    "duration": 6,
    "start_time": "2021-08-15T17:19:45.174Z"
   },
   {
    "duration": 10,
    "start_time": "2021-08-15T17:19:45.183Z"
   },
   {
    "duration": 15,
    "start_time": "2021-08-15T17:19:45.196Z"
   },
   {
    "duration": 58,
    "start_time": "2021-08-15T17:19:45.213Z"
   },
   {
    "duration": 26,
    "start_time": "2021-08-15T17:19:45.274Z"
   },
   {
    "duration": 14,
    "start_time": "2021-08-15T17:19:45.306Z"
   },
   {
    "duration": 41,
    "start_time": "2021-08-15T17:19:45.324Z"
   },
   {
    "duration": 22,
    "start_time": "2021-08-15T17:19:45.368Z"
   },
   {
    "duration": 13,
    "start_time": "2021-08-15T17:19:45.393Z"
   },
   {
    "duration": 7,
    "start_time": "2021-08-15T17:19:45.409Z"
   },
   {
    "duration": 57,
    "start_time": "2021-08-15T17:19:45.419Z"
   },
   {
    "duration": 6,
    "start_time": "2021-08-15T17:19:45.478Z"
   },
   {
    "duration": 9,
    "start_time": "2021-08-15T17:19:45.486Z"
   },
   {
    "duration": 8,
    "start_time": "2021-08-15T17:19:45.498Z"
   },
   {
    "duration": 9,
    "start_time": "2021-08-15T17:19:45.509Z"
   },
   {
    "duration": 56,
    "start_time": "2021-08-15T17:19:45.521Z"
   },
   {
    "duration": 10,
    "start_time": "2021-08-15T17:19:45.580Z"
   },
   {
    "duration": 11,
    "start_time": "2021-08-15T17:19:45.593Z"
   },
   {
    "duration": 11,
    "start_time": "2021-08-15T17:19:45.607Z"
   },
   {
    "duration": 48,
    "start_time": "2021-08-15T17:19:45.621Z"
   },
   {
    "duration": 31,
    "start_time": "2021-08-15T17:19:45.672Z"
   },
   {
    "duration": 10,
    "start_time": "2021-08-15T17:19:45.706Z"
   },
   {
    "duration": 44,
    "start_time": "2021-08-15T17:19:45.718Z"
   },
   {
    "duration": 12,
    "start_time": "2021-08-15T17:19:45.764Z"
   },
   {
    "duration": 10,
    "start_time": "2021-08-15T17:19:45.779Z"
   },
   {
    "duration": 17,
    "start_time": "2021-08-15T17:19:45.791Z"
   },
   {
    "duration": 10,
    "start_time": "2021-08-15T17:19:45.810Z"
   },
   {
    "duration": 12,
    "start_time": "2021-08-15T17:19:45.863Z"
   },
   {
    "duration": 18,
    "start_time": "2021-08-15T17:19:45.878Z"
   },
   {
    "duration": 30,
    "start_time": "2021-08-15T17:19:45.898Z"
   },
   {
    "duration": 37,
    "start_time": "2021-08-15T17:19:45.931Z"
   },
   {
    "duration": 23,
    "start_time": "2021-08-15T17:19:45.971Z"
   },
   {
    "duration": 26,
    "start_time": "2021-08-15T17:19:45.997Z"
   },
   {
    "duration": 55,
    "start_time": "2021-08-15T17:19:46.025Z"
   },
   {
    "duration": 13,
    "start_time": "2021-08-15T17:19:46.083Z"
   },
   {
    "duration": 8215,
    "start_time": "2021-08-15T17:19:46.099Z"
   },
   {
    "duration": 18,
    "start_time": "2021-08-15T17:19:54.317Z"
   },
   {
    "duration": 28,
    "start_time": "2021-08-15T17:19:54.338Z"
   },
   {
    "duration": 29,
    "start_time": "2021-08-15T17:19:54.369Z"
   },
   {
    "duration": 20,
    "start_time": "2021-08-15T17:19:54.400Z"
   },
   {
    "duration": 42,
    "start_time": "2021-08-15T17:19:54.422Z"
   },
   {
    "duration": 21,
    "start_time": "2021-08-15T17:19:54.467Z"
   },
   {
    "duration": 9,
    "start_time": "2021-08-15T17:19:54.491Z"
   },
   {
    "duration": 11,
    "start_time": "2021-08-15T17:19:54.503Z"
   },
   {
    "duration": 171,
    "start_time": "2021-08-15T17:19:54.516Z"
   },
   {
    "duration": 11,
    "start_time": "2021-08-15T17:19:54.689Z"
   },
   {
    "duration": 30,
    "start_time": "2021-08-15T17:19:54.702Z"
   },
   {
    "duration": 33,
    "start_time": "2021-08-15T17:19:54.735Z"
   },
   {
    "duration": 13,
    "start_time": "2021-08-15T17:19:54.771Z"
   },
   {
    "duration": 40,
    "start_time": "2021-08-15T17:19:54.787Z"
   },
   {
    "duration": 57,
    "start_time": "2021-08-15T17:19:54.834Z"
   },
   {
    "duration": 22,
    "start_time": "2021-08-15T17:19:54.894Z"
   },
   {
    "duration": 46,
    "start_time": "2021-08-15T17:19:54.919Z"
   },
   {
    "duration": 21,
    "start_time": "2021-08-15T17:19:54.968Z"
   },
   {
    "duration": 21,
    "start_time": "2021-08-15T17:19:54.991Z"
   },
   {
    "duration": 52,
    "start_time": "2021-08-15T17:19:55.015Z"
   },
   {
    "duration": 739,
    "start_time": "2021-08-15T17:21:47.802Z"
   },
   {
    "duration": 94,
    "start_time": "2021-08-15T17:21:48.543Z"
   },
   {
    "duration": 24,
    "start_time": "2021-08-15T17:21:48.640Z"
   },
   {
    "duration": 20,
    "start_time": "2021-08-15T17:21:48.666Z"
   },
   {
    "duration": 21,
    "start_time": "2021-08-15T17:21:48.689Z"
   },
   {
    "duration": 19,
    "start_time": "2021-08-15T17:21:48.712Z"
   },
   {
    "duration": 43,
    "start_time": "2021-08-15T17:21:48.733Z"
   },
   {
    "duration": 6,
    "start_time": "2021-08-15T17:21:48.779Z"
   },
   {
    "duration": 20,
    "start_time": "2021-08-15T17:21:48.788Z"
   },
   {
    "duration": 4,
    "start_time": "2021-08-15T17:21:48.811Z"
   },
   {
    "duration": 59,
    "start_time": "2021-08-15T17:21:48.817Z"
   },
   {
    "duration": 7,
    "start_time": "2021-08-15T17:21:48.879Z"
   },
   {
    "duration": 11,
    "start_time": "2021-08-15T17:21:48.889Z"
   },
   {
    "duration": 8,
    "start_time": "2021-08-15T17:21:48.903Z"
   },
   {
    "duration": 9,
    "start_time": "2021-08-15T17:21:48.914Z"
   },
   {
    "duration": 42,
    "start_time": "2021-08-15T17:21:48.926Z"
   },
   {
    "duration": 8,
    "start_time": "2021-08-15T17:21:48.971Z"
   },
   {
    "duration": 6,
    "start_time": "2021-08-15T17:21:48.981Z"
   },
   {
    "duration": 9,
    "start_time": "2021-08-15T17:21:48.990Z"
   },
   {
    "duration": 62,
    "start_time": "2021-08-15T17:21:49.002Z"
   },
   {
    "duration": 17,
    "start_time": "2021-08-15T17:21:49.066Z"
   },
   {
    "duration": 30,
    "start_time": "2021-08-15T17:21:49.086Z"
   },
   {
    "duration": 7,
    "start_time": "2021-08-15T17:21:49.124Z"
   },
   {
    "duration": 30,
    "start_time": "2021-08-15T17:21:49.135Z"
   },
   {
    "duration": 22,
    "start_time": "2021-08-15T17:21:49.167Z"
   },
   {
    "duration": 6,
    "start_time": "2021-08-15T17:21:49.192Z"
   },
   {
    "duration": 8,
    "start_time": "2021-08-15T17:21:49.201Z"
   },
   {
    "duration": 71,
    "start_time": "2021-08-15T17:21:49.212Z"
   },
   {
    "duration": 6,
    "start_time": "2021-08-15T17:21:49.285Z"
   },
   {
    "duration": 7,
    "start_time": "2021-08-15T17:21:49.294Z"
   },
   {
    "duration": 7,
    "start_time": "2021-08-15T17:21:49.304Z"
   },
   {
    "duration": 49,
    "start_time": "2021-08-15T17:21:49.314Z"
   },
   {
    "duration": 11,
    "start_time": "2021-08-15T17:21:49.367Z"
   },
   {
    "duration": 10,
    "start_time": "2021-08-15T17:21:49.381Z"
   },
   {
    "duration": 12,
    "start_time": "2021-08-15T17:21:49.394Z"
   },
   {
    "duration": 62,
    "start_time": "2021-08-15T17:21:49.409Z"
   },
   {
    "duration": 21,
    "start_time": "2021-08-15T17:21:49.474Z"
   },
   {
    "duration": 69,
    "start_time": "2021-08-15T17:21:49.498Z"
   },
   {
    "duration": 12,
    "start_time": "2021-08-15T17:21:49.570Z"
   },
   {
    "duration": 17,
    "start_time": "2021-08-15T17:21:49.585Z"
   },
   {
    "duration": 24,
    "start_time": "2021-08-15T17:21:49.605Z"
   },
   {
    "duration": 32,
    "start_time": "2021-08-15T17:21:49.632Z"
   },
   {
    "duration": 26,
    "start_time": "2021-08-15T17:21:49.666Z"
   },
   {
    "duration": 10,
    "start_time": "2021-08-15T17:21:49.695Z"
   },
   {
    "duration": 12,
    "start_time": "2021-08-15T17:21:49.708Z"
   },
   {
    "duration": 44,
    "start_time": "2021-08-15T17:21:49.723Z"
   },
   {
    "duration": 32,
    "start_time": "2021-08-15T17:21:49.770Z"
   },
   {
    "duration": 8,
    "start_time": "2021-08-15T17:21:49.805Z"
   },
   {
    "duration": 57,
    "start_time": "2021-08-15T17:21:49.816Z"
   },
   {
    "duration": 31,
    "start_time": "2021-08-15T17:21:49.876Z"
   },
   {
    "duration": 23,
    "start_time": "2021-08-15T17:21:49.909Z"
   },
   {
    "duration": 38,
    "start_time": "2021-08-15T17:21:49.935Z"
   },
   {
    "duration": 8191,
    "start_time": "2021-08-15T17:21:49.976Z"
   },
   {
    "duration": 26,
    "start_time": "2021-08-15T17:21:58.171Z"
   },
   {
    "duration": 14,
    "start_time": "2021-08-15T17:21:58.199Z"
   },
   {
    "duration": 56,
    "start_time": "2021-08-15T17:21:58.216Z"
   },
   {
    "duration": 23,
    "start_time": "2021-08-15T17:21:58.275Z"
   },
   {
    "duration": 16,
    "start_time": "2021-08-15T17:21:58.300Z"
   },
   {
    "duration": 44,
    "start_time": "2021-08-15T17:21:58.319Z"
   },
   {
    "duration": 10,
    "start_time": "2021-08-15T17:21:58.366Z"
   },
   {
    "duration": 9,
    "start_time": "2021-08-15T17:21:58.378Z"
   },
   {
    "duration": 159,
    "start_time": "2021-08-15T17:21:58.389Z"
   },
   {
    "duration": 20,
    "start_time": "2021-08-15T17:21:58.550Z"
   },
   {
    "duration": 26,
    "start_time": "2021-08-15T17:21:58.572Z"
   },
   {
    "duration": 13,
    "start_time": "2021-08-15T17:21:58.600Z"
   },
   {
    "duration": 13,
    "start_time": "2021-08-15T17:21:58.615Z"
   },
   {
    "duration": 10,
    "start_time": "2021-08-15T17:21:58.663Z"
   },
   {
    "duration": 35,
    "start_time": "2021-08-15T17:21:58.680Z"
   },
   {
    "duration": 50,
    "start_time": "2021-08-15T17:21:58.718Z"
   },
   {
    "duration": 21,
    "start_time": "2021-08-15T17:21:58.770Z"
   },
   {
    "duration": 21,
    "start_time": "2021-08-15T17:21:58.793Z"
   },
   {
    "duration": 55,
    "start_time": "2021-08-15T17:21:58.816Z"
   },
   {
    "duration": 18,
    "start_time": "2021-08-15T17:21:58.873Z"
   },
   {
    "duration": 7,
    "start_time": "2021-08-15T17:30:56.209Z"
   },
   {
    "duration": 16,
    "start_time": "2021-08-15T17:38:12.014Z"
   },
   {
    "duration": 25,
    "start_time": "2021-08-15T17:39:51.900Z"
   },
   {
    "duration": 816,
    "start_time": "2021-08-15T19:13:49.917Z"
   },
   {
    "duration": 89,
    "start_time": "2021-08-15T19:13:50.736Z"
   },
   {
    "duration": 15,
    "start_time": "2021-08-15T19:13:50.828Z"
   },
   {
    "duration": 19,
    "start_time": "2021-08-15T19:13:50.846Z"
   },
   {
    "duration": 52,
    "start_time": "2021-08-15T19:13:50.868Z"
   },
   {
    "duration": 8,
    "start_time": "2021-08-15T19:13:50.922Z"
   },
   {
    "duration": 16,
    "start_time": "2021-08-15T19:13:50.933Z"
   },
   {
    "duration": 5,
    "start_time": "2021-08-15T19:13:50.953Z"
   },
   {
    "duration": 49,
    "start_time": "2021-08-15T19:13:50.961Z"
   },
   {
    "duration": 6,
    "start_time": "2021-08-15T19:13:51.012Z"
   },
   {
    "duration": 24,
    "start_time": "2021-08-15T19:13:51.020Z"
   },
   {
    "duration": 8,
    "start_time": "2021-08-15T19:13:51.047Z"
   },
   {
    "duration": 49,
    "start_time": "2021-08-15T19:13:51.058Z"
   },
   {
    "duration": 7,
    "start_time": "2021-08-15T19:13:51.110Z"
   },
   {
    "duration": 13,
    "start_time": "2021-08-15T19:13:51.120Z"
   },
   {
    "duration": 12,
    "start_time": "2021-08-15T19:13:51.136Z"
   },
   {
    "duration": 12,
    "start_time": "2021-08-15T19:13:51.150Z"
   },
   {
    "duration": 8,
    "start_time": "2021-08-15T19:13:51.201Z"
   },
   {
    "duration": 10,
    "start_time": "2021-08-15T19:13:51.213Z"
   },
   {
    "duration": 14,
    "start_time": "2021-08-15T19:13:51.226Z"
   },
   {
    "duration": 59,
    "start_time": "2021-08-15T19:13:51.243Z"
   },
   {
    "duration": 27,
    "start_time": "2021-08-15T19:13:51.305Z"
   },
   {
    "duration": 21,
    "start_time": "2021-08-15T19:13:51.339Z"
   },
   {
    "duration": 25,
    "start_time": "2021-08-15T19:13:51.364Z"
   },
   {
    "duration": 32,
    "start_time": "2021-08-15T19:13:51.391Z"
   },
   {
    "duration": 12,
    "start_time": "2021-08-15T19:13:51.426Z"
   },
   {
    "duration": 16,
    "start_time": "2021-08-15T19:13:51.441Z"
   },
   {
    "duration": 51,
    "start_time": "2021-08-15T19:13:51.460Z"
   },
   {
    "duration": 6,
    "start_time": "2021-08-15T19:13:51.514Z"
   },
   {
    "duration": 10,
    "start_time": "2021-08-15T19:13:51.522Z"
   },
   {
    "duration": 15,
    "start_time": "2021-08-15T19:13:51.535Z"
   },
   {
    "duration": 12,
    "start_time": "2021-08-15T19:13:51.553Z"
   },
   {
    "duration": 39,
    "start_time": "2021-08-15T19:13:51.568Z"
   },
   {
    "duration": 8,
    "start_time": "2021-08-15T19:13:51.610Z"
   },
   {
    "duration": 24,
    "start_time": "2021-08-15T19:13:51.620Z"
   },
   {
    "duration": 13,
    "start_time": "2021-08-15T19:13:51.647Z"
   },
   {
    "duration": 51,
    "start_time": "2021-08-15T19:13:51.662Z"
   },
   {
    "duration": 48,
    "start_time": "2021-08-15T19:13:51.716Z"
   },
   {
    "duration": 10,
    "start_time": "2021-08-15T19:13:51.766Z"
   },
   {
    "duration": 26,
    "start_time": "2021-08-15T19:13:51.779Z"
   },
   {
    "duration": 12,
    "start_time": "2021-08-15T19:13:51.807Z"
   },
   {
    "duration": 14,
    "start_time": "2021-08-15T19:13:51.822Z"
   },
   {
    "duration": 39,
    "start_time": "2021-08-15T19:13:51.839Z"
   },
   {
    "duration": 28,
    "start_time": "2021-08-15T19:13:51.881Z"
   },
   {
    "duration": 15,
    "start_time": "2021-08-15T19:13:51.912Z"
   },
   {
    "duration": 22,
    "start_time": "2021-08-15T19:13:51.930Z"
   },
   {
    "duration": 76,
    "start_time": "2021-08-15T19:13:51.954Z"
   },
   {
    "duration": 13,
    "start_time": "2021-08-15T19:13:52.032Z"
   },
   {
    "duration": 64,
    "start_time": "2021-08-15T19:13:52.048Z"
   },
   {
    "duration": 33,
    "start_time": "2021-08-15T19:13:52.115Z"
   },
   {
    "duration": 51,
    "start_time": "2021-08-15T19:13:52.151Z"
   },
   {
    "duration": 18,
    "start_time": "2021-08-15T19:13:52.205Z"
   },
   {
    "duration": 9802,
    "start_time": "2021-08-15T19:13:52.226Z"
   },
   {
    "duration": 20,
    "start_time": "2021-08-15T19:14:02.031Z"
   },
   {
    "duration": 47,
    "start_time": "2021-08-15T19:14:02.053Z"
   },
   {
    "duration": 25,
    "start_time": "2021-08-15T19:14:02.103Z"
   },
   {
    "duration": 25,
    "start_time": "2021-08-15T19:14:02.130Z"
   },
   {
    "duration": 48,
    "start_time": "2021-08-15T19:14:02.158Z"
   },
   {
    "duration": 31,
    "start_time": "2021-08-15T19:14:02.209Z"
   },
   {
    "duration": 19,
    "start_time": "2021-08-15T19:14:02.243Z"
   },
   {
    "duration": 34,
    "start_time": "2021-08-15T19:14:02.265Z"
   },
   {
    "duration": 156,
    "start_time": "2021-08-15T19:14:02.302Z"
   },
   {
    "duration": 12,
    "start_time": "2021-08-15T19:14:02.461Z"
   },
   {
    "duration": 63,
    "start_time": "2021-08-15T19:14:02.477Z"
   },
   {
    "duration": 16,
    "start_time": "2021-08-15T19:14:02.543Z"
   },
   {
    "duration": 46,
    "start_time": "2021-08-15T19:14:02.562Z"
   },
   {
    "duration": 19,
    "start_time": "2021-08-15T19:14:02.612Z"
   },
   {
    "duration": 58,
    "start_time": "2021-08-15T19:14:02.642Z"
   },
   {
    "duration": 30,
    "start_time": "2021-08-15T19:14:02.704Z"
   },
   {
    "duration": 25,
    "start_time": "2021-08-15T19:14:02.737Z"
   },
   {
    "duration": 67,
    "start_time": "2021-08-15T19:14:02.765Z"
   },
   {
    "duration": 23,
    "start_time": "2021-08-15T19:14:02.835Z"
   },
   {
    "duration": 57,
    "start_time": "2021-08-15T19:14:02.861Z"
   },
   {
    "duration": 15,
    "start_time": "2021-08-15T19:19:42.424Z"
   },
   {
    "duration": 399,
    "start_time": "2021-08-17T15:24:01.633Z"
   },
   {
    "duration": 1071,
    "start_time": "2021-08-17T15:24:13.289Z"
   },
   {
    "duration": 126,
    "start_time": "2021-08-17T15:24:14.363Z"
   },
   {
    "duration": 23,
    "start_time": "2021-08-17T15:24:14.493Z"
   },
   {
    "duration": 51,
    "start_time": "2021-08-17T15:24:14.520Z"
   },
   {
    "duration": 31,
    "start_time": "2021-08-17T15:24:14.574Z"
   },
   {
    "duration": 13,
    "start_time": "2021-08-17T15:24:14.607Z"
   },
   {
    "duration": 57,
    "start_time": "2021-08-17T15:24:14.623Z"
   },
   {
    "duration": 6,
    "start_time": "2021-08-17T15:24:14.685Z"
   },
   {
    "duration": 29,
    "start_time": "2021-08-17T15:24:14.696Z"
   },
   {
    "duration": 35,
    "start_time": "2021-08-17T15:24:14.728Z"
   },
   {
    "duration": 24,
    "start_time": "2021-08-17T15:24:14.767Z"
   },
   {
    "duration": 8,
    "start_time": "2021-08-17T15:24:14.794Z"
   },
   {
    "duration": 14,
    "start_time": "2021-08-17T15:24:14.805Z"
   },
   {
    "duration": 44,
    "start_time": "2021-08-17T15:24:14.823Z"
   },
   {
    "duration": 10,
    "start_time": "2021-08-17T15:24:14.871Z"
   },
   {
    "duration": 16,
    "start_time": "2021-08-17T15:24:14.883Z"
   },
   {
    "duration": 9,
    "start_time": "2021-08-17T15:24:14.902Z"
   },
   {
    "duration": 19,
    "start_time": "2021-08-17T15:24:14.914Z"
   },
   {
    "duration": 8,
    "start_time": "2021-08-17T15:24:14.965Z"
   },
   {
    "duration": 18,
    "start_time": "2021-08-17T15:24:14.976Z"
   },
   {
    "duration": 35,
    "start_time": "2021-08-17T15:24:14.997Z"
   },
   {
    "duration": 48,
    "start_time": "2021-08-17T15:24:15.036Z"
   },
   {
    "duration": 7,
    "start_time": "2021-08-17T15:24:15.090Z"
   },
   {
    "duration": 10,
    "start_time": "2021-08-17T15:24:15.101Z"
   },
   {
    "duration": 60,
    "start_time": "2021-08-17T15:24:15.113Z"
   },
   {
    "duration": 6,
    "start_time": "2021-08-17T15:24:15.175Z"
   },
   {
    "duration": 10,
    "start_time": "2021-08-17T15:24:15.183Z"
   },
   {
    "duration": 27,
    "start_time": "2021-08-17T15:24:15.195Z"
   },
   {
    "duration": 6,
    "start_time": "2021-08-17T15:24:15.262Z"
   },
   {
    "duration": 9,
    "start_time": "2021-08-17T15:24:15.270Z"
   },
   {
    "duration": 8,
    "start_time": "2021-08-17T15:24:15.282Z"
   },
   {
    "duration": 18,
    "start_time": "2021-08-17T15:24:15.293Z"
   },
   {
    "duration": 53,
    "start_time": "2021-08-17T15:24:15.314Z"
   },
   {
    "duration": 7,
    "start_time": "2021-08-17T15:24:15.370Z"
   },
   {
    "duration": 13,
    "start_time": "2021-08-17T15:24:15.380Z"
   },
   {
    "duration": 14,
    "start_time": "2021-08-17T15:24:15.396Z"
   },
   {
    "duration": 62,
    "start_time": "2021-08-17T15:24:15.413Z"
   },
   {
    "duration": 35,
    "start_time": "2021-08-17T15:24:15.477Z"
   },
   {
    "duration": 13,
    "start_time": "2021-08-17T15:24:15.514Z"
   },
   {
    "duration": 42,
    "start_time": "2021-08-17T15:24:15.530Z"
   },
   {
    "duration": 11,
    "start_time": "2021-08-17T15:24:15.575Z"
   },
   {
    "duration": 9,
    "start_time": "2021-08-17T15:24:15.589Z"
   },
   {
    "duration": 22,
    "start_time": "2021-08-17T15:24:15.600Z"
   },
   {
    "duration": 50,
    "start_time": "2021-08-17T15:24:15.624Z"
   },
   {
    "duration": 18,
    "start_time": "2021-08-17T15:24:15.677Z"
   },
   {
    "duration": 21,
    "start_time": "2021-08-17T15:24:15.698Z"
   },
   {
    "duration": 60,
    "start_time": "2021-08-17T15:24:15.721Z"
   },
   {
    "duration": 10,
    "start_time": "2021-08-17T15:24:15.784Z"
   },
   {
    "duration": 31,
    "start_time": "2021-08-17T15:24:15.797Z"
   },
   {
    "duration": 52,
    "start_time": "2021-08-17T15:24:15.830Z"
   },
   {
    "duration": 25,
    "start_time": "2021-08-17T15:24:15.884Z"
   },
   {
    "duration": 16,
    "start_time": "2021-08-17T15:24:15.911Z"
   },
   {
    "duration": 148997,
    "start_time": "2021-08-17T15:24:15.930Z"
   },
   {
    "duration": 179,
    "start_time": "2021-08-17T15:26:44.752Z"
   },
   {
    "duration": 175,
    "start_time": "2021-08-17T15:26:44.757Z"
   },
   {
    "duration": 172,
    "start_time": "2021-08-17T15:26:44.761Z"
   },
   {
    "duration": 168,
    "start_time": "2021-08-17T15:26:44.766Z"
   },
   {
    "duration": 165,
    "start_time": "2021-08-17T15:26:44.771Z"
   },
   {
    "duration": 162,
    "start_time": "2021-08-17T15:26:44.776Z"
   },
   {
    "duration": 152,
    "start_time": "2021-08-17T15:26:44.788Z"
   },
   {
    "duration": 150,
    "start_time": "2021-08-17T15:26:44.793Z"
   },
   {
    "duration": 148,
    "start_time": "2021-08-17T15:26:44.797Z"
   },
   {
    "duration": 143,
    "start_time": "2021-08-17T15:26:44.804Z"
   },
   {
    "duration": 141,
    "start_time": "2021-08-17T15:26:44.808Z"
   },
   {
    "duration": 138,
    "start_time": "2021-08-17T15:26:44.813Z"
   },
   {
    "duration": 138,
    "start_time": "2021-08-17T15:26:44.818Z"
   },
   {
    "duration": 134,
    "start_time": "2021-08-17T15:26:44.824Z"
   },
   {
    "duration": 131,
    "start_time": "2021-08-17T15:26:44.829Z"
   },
   {
    "duration": 128,
    "start_time": "2021-08-17T15:26:44.833Z"
   },
   {
    "duration": 126,
    "start_time": "2021-08-17T15:26:44.837Z"
   },
   {
    "duration": 123,
    "start_time": "2021-08-17T15:26:44.842Z"
   },
   {
    "duration": 121,
    "start_time": "2021-08-17T15:26:44.846Z"
   },
   {
    "duration": 116,
    "start_time": "2021-08-17T15:26:44.853Z"
   },
   {
    "duration": 106,
    "start_time": "2021-08-17T15:26:44.865Z"
   },
   {
    "duration": 4,
    "start_time": "2021-08-17T15:27:07.172Z"
   },
   {
    "duration": 818,
    "start_time": "2021-08-17T15:27:12.571Z"
   },
   {
    "duration": 125,
    "start_time": "2021-08-17T15:27:13.392Z"
   },
   {
    "duration": 44,
    "start_time": "2021-08-17T15:27:13.526Z"
   },
   {
    "duration": 24,
    "start_time": "2021-08-17T15:27:13.573Z"
   },
   {
    "duration": 38,
    "start_time": "2021-08-17T15:27:13.600Z"
   },
   {
    "duration": 32,
    "start_time": "2021-08-17T15:27:13.642Z"
   },
   {
    "duration": 25,
    "start_time": "2021-08-17T15:27:13.677Z"
   },
   {
    "duration": 19,
    "start_time": "2021-08-17T15:27:13.705Z"
   },
   {
    "duration": 47,
    "start_time": "2021-08-17T15:27:13.727Z"
   },
   {
    "duration": 5,
    "start_time": "2021-08-17T15:27:13.776Z"
   },
   {
    "duration": 28,
    "start_time": "2021-08-17T15:27:13.784Z"
   },
   {
    "duration": 6,
    "start_time": "2021-08-17T15:27:13.814Z"
   },
   {
    "duration": 41,
    "start_time": "2021-08-17T15:27:13.823Z"
   },
   {
    "duration": 6,
    "start_time": "2021-08-17T15:27:13.866Z"
   },
   {
    "duration": 10,
    "start_time": "2021-08-17T15:27:13.874Z"
   },
   {
    "duration": 11,
    "start_time": "2021-08-17T15:27:13.886Z"
   },
   {
    "duration": 7,
    "start_time": "2021-08-17T15:27:13.900Z"
   },
   {
    "duration": 54,
    "start_time": "2021-08-17T15:27:13.910Z"
   },
   {
    "duration": 10,
    "start_time": "2021-08-17T15:27:13.966Z"
   },
   {
    "duration": 14,
    "start_time": "2021-08-17T15:27:13.979Z"
   },
   {
    "duration": 25,
    "start_time": "2021-08-17T15:27:13.995Z"
   },
   {
    "duration": 29,
    "start_time": "2021-08-17T15:27:14.065Z"
   },
   {
    "duration": 10,
    "start_time": "2021-08-17T15:27:14.099Z"
   },
   {
    "duration": 12,
    "start_time": "2021-08-17T15:27:14.111Z"
   },
   {
    "duration": 58,
    "start_time": "2021-08-17T15:27:14.126Z"
   },
   {
    "duration": 7,
    "start_time": "2021-08-17T15:27:14.187Z"
   },
   {
    "duration": 13,
    "start_time": "2021-08-17T15:27:14.196Z"
   },
   {
    "duration": 60,
    "start_time": "2021-08-17T15:27:14.212Z"
   },
   {
    "duration": 8,
    "start_time": "2021-08-17T15:27:14.275Z"
   },
   {
    "duration": 8,
    "start_time": "2021-08-17T15:27:14.287Z"
   },
   {
    "duration": 15,
    "start_time": "2021-08-17T15:27:14.298Z"
   },
   {
    "duration": 56,
    "start_time": "2021-08-17T15:27:14.317Z"
   },
   {
    "duration": 17,
    "start_time": "2021-08-17T15:27:14.375Z"
   },
   {
    "duration": 22,
    "start_time": "2021-08-17T15:27:14.395Z"
   },
   {
    "duration": 32,
    "start_time": "2021-08-17T15:27:14.420Z"
   },
   {
    "duration": 13,
    "start_time": "2021-08-17T15:27:14.456Z"
   },
   {
    "duration": 28,
    "start_time": "2021-08-17T15:27:14.471Z"
   },
   {
    "duration": 57,
    "start_time": "2021-08-17T15:27:14.502Z"
   },
   {
    "duration": 13,
    "start_time": "2021-08-17T15:27:14.562Z"
   },
   {
    "duration": 23,
    "start_time": "2021-08-17T15:27:14.578Z"
   },
   {
    "duration": 15,
    "start_time": "2021-08-17T15:27:14.604Z"
   },
   {
    "duration": 47,
    "start_time": "2021-08-17T15:27:14.623Z"
   },
   {
    "duration": 32,
    "start_time": "2021-08-17T15:27:14.674Z"
   },
   {
    "duration": 15,
    "start_time": "2021-08-17T15:27:14.709Z"
   },
   {
    "duration": 39,
    "start_time": "2021-08-17T15:27:14.727Z"
   },
   {
    "duration": 23,
    "start_time": "2021-08-17T15:27:14.769Z"
   },
   {
    "duration": 68,
    "start_time": "2021-08-17T15:27:14.794Z"
   },
   {
    "duration": 13,
    "start_time": "2021-08-17T15:27:14.865Z"
   },
   {
    "duration": 39,
    "start_time": "2021-08-17T15:27:14.881Z"
   },
   {
    "duration": 70,
    "start_time": "2021-08-17T15:27:14.925Z"
   },
   {
    "duration": 26,
    "start_time": "2021-08-17T15:27:14.999Z"
   },
   {
    "duration": 36,
    "start_time": "2021-08-17T15:27:15.028Z"
   },
   {
    "duration": 9610,
    "start_time": "2021-08-17T15:27:15.066Z"
   },
   {
    "duration": 21,
    "start_time": "2021-08-17T15:27:24.680Z"
   },
   {
    "duration": 13,
    "start_time": "2021-08-17T15:27:24.704Z"
   },
   {
    "duration": 60,
    "start_time": "2021-08-17T15:27:24.720Z"
   },
   {
    "duration": 20,
    "start_time": "2021-08-17T15:27:24.783Z"
   },
   {
    "duration": 16,
    "start_time": "2021-08-17T15:27:24.806Z"
   },
   {
    "duration": 49,
    "start_time": "2021-08-17T15:27:24.824Z"
   },
   {
    "duration": 12,
    "start_time": "2021-08-17T15:27:24.875Z"
   },
   {
    "duration": 9,
    "start_time": "2021-08-17T15:27:24.889Z"
   },
   {
    "duration": 180,
    "start_time": "2021-08-17T15:27:24.900Z"
   },
   {
    "duration": 11,
    "start_time": "2021-08-17T15:27:25.083Z"
   },
   {
    "duration": 36,
    "start_time": "2021-08-17T15:27:25.097Z"
   },
   {
    "duration": 14,
    "start_time": "2021-08-17T15:27:25.163Z"
   },
   {
    "duration": 12,
    "start_time": "2021-08-17T15:27:25.180Z"
   },
   {
    "duration": 14,
    "start_time": "2021-08-17T15:27:25.199Z"
   },
   {
    "duration": 74,
    "start_time": "2021-08-17T15:27:25.216Z"
   },
   {
    "duration": 13,
    "start_time": "2021-08-17T15:27:25.292Z"
   },
   {
    "duration": 55,
    "start_time": "2021-08-17T15:27:25.308Z"
   },
   {
    "duration": 22,
    "start_time": "2021-08-17T15:27:25.365Z"
   },
   {
    "duration": 32,
    "start_time": "2021-08-17T15:27:25.389Z"
   },
   {
    "duration": 50,
    "start_time": "2021-08-17T15:27:25.424Z"
   },
   {
    "duration": 21,
    "start_time": "2021-08-17T15:27:25.477Z"
   },
   {
    "duration": 521,
    "start_time": "2021-08-17T21:20:20.233Z"
   },
   {
    "duration": 933,
    "start_time": "2021-08-17T21:20:35.844Z"
   },
   {
    "duration": 92,
    "start_time": "2021-08-17T21:20:36.780Z"
   },
   {
    "duration": 15,
    "start_time": "2021-08-17T21:20:36.874Z"
   },
   {
    "duration": 20,
    "start_time": "2021-08-17T21:20:36.892Z"
   },
   {
    "duration": 46,
    "start_time": "2021-08-17T21:20:36.915Z"
   },
   {
    "duration": 9,
    "start_time": "2021-08-17T21:20:36.964Z"
   },
   {
    "duration": 18,
    "start_time": "2021-08-17T21:20:36.976Z"
   },
   {
    "duration": 5,
    "start_time": "2021-08-17T21:20:36.998Z"
   },
   {
    "duration": 59,
    "start_time": "2021-08-17T21:20:37.006Z"
   },
   {
    "duration": 5,
    "start_time": "2021-08-17T21:20:37.067Z"
   },
   {
    "duration": 25,
    "start_time": "2021-08-17T21:20:37.075Z"
   },
   {
    "duration": 7,
    "start_time": "2021-08-17T21:20:37.103Z"
   },
   {
    "duration": 44,
    "start_time": "2021-08-17T21:20:37.114Z"
   },
   {
    "duration": 6,
    "start_time": "2021-08-17T21:20:37.161Z"
   },
   {
    "duration": 8,
    "start_time": "2021-08-17T21:20:37.170Z"
   },
   {
    "duration": 12,
    "start_time": "2021-08-17T21:20:37.182Z"
   },
   {
    "duration": 11,
    "start_time": "2021-08-17T21:20:37.197Z"
   },
   {
    "duration": 48,
    "start_time": "2021-08-17T21:20:37.212Z"
   },
   {
    "duration": 10,
    "start_time": "2021-08-17T21:20:37.263Z"
   },
   {
    "duration": 17,
    "start_time": "2021-08-17T21:20:37.276Z"
   },
   {
    "duration": 24,
    "start_time": "2021-08-17T21:20:37.296Z"
   },
   {
    "duration": 26,
    "start_time": "2021-08-17T21:20:37.357Z"
   },
   {
    "duration": 7,
    "start_time": "2021-08-17T21:20:37.388Z"
   },
   {
    "duration": 10,
    "start_time": "2021-08-17T21:20:37.398Z"
   },
   {
    "duration": 56,
    "start_time": "2021-08-17T21:20:37.410Z"
   },
   {
    "duration": 14,
    "start_time": "2021-08-17T21:20:37.468Z"
   },
   {
    "duration": 10,
    "start_time": "2021-08-17T21:20:37.485Z"
   },
   {
    "duration": 25,
    "start_time": "2021-08-17T21:20:37.497Z"
   },
   {
    "duration": 6,
    "start_time": "2021-08-17T21:20:37.525Z"
   },
   {
    "duration": 6,
    "start_time": "2021-08-17T21:20:37.556Z"
   },
   {
    "duration": 8,
    "start_time": "2021-08-17T21:20:37.564Z"
   },
   {
    "duration": 10,
    "start_time": "2021-08-17T21:20:37.574Z"
   },
   {
    "duration": 16,
    "start_time": "2021-08-17T21:20:37.586Z"
   },
   {
    "duration": 7,
    "start_time": "2021-08-17T21:20:37.605Z"
   },
   {
    "duration": 50,
    "start_time": "2021-08-17T21:20:37.615Z"
   },
   {
    "duration": 14,
    "start_time": "2021-08-17T21:20:37.668Z"
   },
   {
    "duration": 22,
    "start_time": "2021-08-17T21:20:37.684Z"
   },
   {
    "duration": 74,
    "start_time": "2021-08-17T21:20:37.709Z"
   },
   {
    "duration": 12,
    "start_time": "2021-08-17T21:20:37.786Z"
   },
   {
    "duration": 12,
    "start_time": "2021-08-17T21:20:37.800Z"
   },
   {
    "duration": 51,
    "start_time": "2021-08-17T21:20:37.814Z"
   },
   {
    "duration": 11,
    "start_time": "2021-08-17T21:20:37.868Z"
   },
   {
    "duration": 21,
    "start_time": "2021-08-17T21:20:37.882Z"
   },
   {
    "duration": 14,
    "start_time": "2021-08-17T21:20:37.905Z"
   },
   {
    "duration": 15,
    "start_time": "2021-08-17T21:20:37.957Z"
   },
   {
    "duration": 20,
    "start_time": "2021-08-17T21:20:37.975Z"
   },
   {
    "duration": 74,
    "start_time": "2021-08-17T21:20:37.998Z"
   },
   {
    "duration": 8,
    "start_time": "2021-08-17T21:20:38.075Z"
   },
   {
    "duration": 24,
    "start_time": "2021-08-17T21:20:38.085Z"
   },
   {
    "duration": 54,
    "start_time": "2021-08-17T21:20:38.112Z"
   },
   {
    "duration": 21,
    "start_time": "2021-08-17T21:20:38.169Z"
   },
   {
    "duration": 13,
    "start_time": "2021-08-17T21:20:38.192Z"
   },
   {
    "duration": 7725,
    "start_time": "2021-08-17T21:20:38.208Z"
   },
   {
    "duration": 34,
    "start_time": "2021-08-17T21:20:45.935Z"
   },
   {
    "duration": 19,
    "start_time": "2021-08-17T21:20:45.971Z"
   },
   {
    "duration": 30,
    "start_time": "2021-08-17T21:20:45.992Z"
   },
   {
    "duration": 32,
    "start_time": "2021-08-17T21:20:46.025Z"
   },
   {
    "duration": 15,
    "start_time": "2021-08-17T21:20:46.059Z"
   },
   {
    "duration": 35,
    "start_time": "2021-08-17T21:20:46.076Z"
   },
   {
    "duration": 20,
    "start_time": "2021-08-17T21:20:46.113Z"
   },
   {
    "duration": 21,
    "start_time": "2021-08-17T21:20:46.136Z"
   },
   {
    "duration": 147,
    "start_time": "2021-08-17T21:20:46.159Z"
   },
   {
    "duration": 9,
    "start_time": "2021-08-17T21:20:46.309Z"
   },
   {
    "duration": 47,
    "start_time": "2021-08-17T21:20:46.321Z"
   },
   {
    "duration": 11,
    "start_time": "2021-08-17T21:20:46.370Z"
   },
   {
    "duration": 17,
    "start_time": "2021-08-17T21:20:46.384Z"
   },
   {
    "duration": 13,
    "start_time": "2021-08-17T21:20:46.403Z"
   },
   {
    "duration": 56,
    "start_time": "2021-08-17T21:20:46.424Z"
   },
   {
    "duration": 12,
    "start_time": "2021-08-17T21:20:46.482Z"
   },
   {
    "duration": 26,
    "start_time": "2021-08-17T21:20:46.496Z"
   },
   {
    "duration": 41,
    "start_time": "2021-08-17T21:20:46.525Z"
   },
   {
    "duration": 760,
    "start_time": "2021-08-17T21:20:46.568Z"
   },
   {
    "duration": -669,
    "start_time": "2021-08-17T21:20:48.000Z"
   },
   {
    "duration": -672,
    "start_time": "2021-08-17T21:20:48.005Z"
   },
   {
    "duration": -674,
    "start_time": "2021-08-17T21:20:48.009Z"
   },
   {
    "duration": 44,
    "start_time": "2021-08-17T21:21:12.309Z"
   },
   {
    "duration": 388,
    "start_time": "2021-08-17T21:23:04.761Z"
   },
   {
    "duration": 20,
    "start_time": "2021-08-17T21:23:18.656Z"
   },
   {
    "duration": 54,
    "start_time": "2021-08-17T21:25:59.725Z"
   },
   {
    "duration": 25,
    "start_time": "2021-08-17T21:27:52.360Z"
   },
   {
    "duration": 24,
    "start_time": "2021-08-17T21:27:56.222Z"
   },
   {
    "duration": 29,
    "start_time": "2021-08-17T21:28:02.405Z"
   },
   {
    "duration": 21,
    "start_time": "2021-08-17T21:52:38.712Z"
   },
   {
    "duration": 122,
    "start_time": "2021-08-17T21:54:08.084Z"
   },
   {
    "duration": 25,
    "start_time": "2021-08-17T21:54:16.381Z"
   },
   {
    "duration": 20,
    "start_time": "2021-08-17T21:54:33.772Z"
   },
   {
    "duration": 16,
    "start_time": "2021-08-17T21:55:46.593Z"
   },
   {
    "duration": 22,
    "start_time": "2021-08-17T21:55:51.624Z"
   },
   {
    "duration": 20,
    "start_time": "2021-08-17T21:56:02.627Z"
   },
   {
    "duration": 824,
    "start_time": "2021-08-18T11:02:26.023Z"
   },
   {
    "duration": 93,
    "start_time": "2021-08-18T11:02:26.850Z"
   },
   {
    "duration": 32,
    "start_time": "2021-08-18T11:02:26.948Z"
   },
   {
    "duration": 21,
    "start_time": "2021-08-18T11:02:26.983Z"
   },
   {
    "duration": 24,
    "start_time": "2021-08-18T11:02:27.007Z"
   },
   {
    "duration": 10,
    "start_time": "2021-08-18T11:02:27.066Z"
   },
   {
    "duration": 20,
    "start_time": "2021-08-18T11:02:27.079Z"
   },
   {
    "duration": 6,
    "start_time": "2021-08-18T11:02:27.104Z"
   },
   {
    "duration": 55,
    "start_time": "2021-08-18T11:02:27.113Z"
   },
   {
    "duration": 6,
    "start_time": "2021-08-18T11:02:27.171Z"
   },
   {
    "duration": 25,
    "start_time": "2021-08-18T11:02:27.180Z"
   },
   {
    "duration": 7,
    "start_time": "2021-08-18T11:02:27.208Z"
   },
   {
    "duration": 10,
    "start_time": "2021-08-18T11:02:27.218Z"
   },
   {
    "duration": 38,
    "start_time": "2021-08-18T11:02:27.230Z"
   },
   {
    "duration": 7,
    "start_time": "2021-08-18T11:02:27.272Z"
   },
   {
    "duration": 11,
    "start_time": "2021-08-18T11:02:27.282Z"
   },
   {
    "duration": 7,
    "start_time": "2021-08-18T11:02:27.296Z"
   },
   {
    "duration": 62,
    "start_time": "2021-08-18T11:02:27.307Z"
   },
   {
    "duration": 8,
    "start_time": "2021-08-18T11:02:27.372Z"
   },
   {
    "duration": 11,
    "start_time": "2021-08-18T11:02:27.383Z"
   },
   {
    "duration": 23,
    "start_time": "2021-08-18T11:02:27.397Z"
   },
   {
    "duration": 60,
    "start_time": "2021-08-18T11:02:27.423Z"
   },
   {
    "duration": 8,
    "start_time": "2021-08-18T11:02:27.491Z"
   },
   {
    "duration": 8,
    "start_time": "2021-08-18T11:02:27.504Z"
   },
   {
    "duration": 60,
    "start_time": "2021-08-18T11:02:27.515Z"
   },
   {
    "duration": 6,
    "start_time": "2021-08-18T11:02:27.578Z"
   },
   {
    "duration": 10,
    "start_time": "2021-08-18T11:02:27.586Z"
   },
   {
    "duration": 30,
    "start_time": "2021-08-18T11:02:27.599Z"
   },
   {
    "duration": 7,
    "start_time": "2021-08-18T11:02:27.668Z"
   },
   {
    "duration": 9,
    "start_time": "2021-08-18T11:02:27.678Z"
   },
   {
    "duration": 8,
    "start_time": "2021-08-18T11:02:27.689Z"
   },
   {
    "duration": 11,
    "start_time": "2021-08-18T11:02:27.700Z"
   },
   {
    "duration": 56,
    "start_time": "2021-08-18T11:02:27.714Z"
   },
   {
    "duration": 7,
    "start_time": "2021-08-18T11:02:27.773Z"
   },
   {
    "duration": 14,
    "start_time": "2021-08-18T11:02:27.783Z"
   },
   {
    "duration": 13,
    "start_time": "2021-08-18T11:02:27.800Z"
   },
   {
    "duration": 68,
    "start_time": "2021-08-18T11:02:27.816Z"
   },
   {
    "duration": 38,
    "start_time": "2021-08-18T11:02:27.887Z"
   },
   {
    "duration": 10,
    "start_time": "2021-08-18T11:02:27.927Z"
   },
   {
    "duration": 30,
    "start_time": "2021-08-18T11:02:27.939Z"
   },
   {
    "duration": 11,
    "start_time": "2021-08-18T11:02:27.972Z"
   },
   {
    "duration": 13,
    "start_time": "2021-08-18T11:02:27.986Z"
   },
   {
    "duration": 19,
    "start_time": "2021-08-18T11:02:28.002Z"
   },
   {
    "duration": 55,
    "start_time": "2021-08-18T11:02:28.023Z"
   },
   {
    "duration": 14,
    "start_time": "2021-08-18T11:02:28.081Z"
   },
   {
    "duration": 24,
    "start_time": "2021-08-18T11:02:28.098Z"
   },
   {
    "duration": 65,
    "start_time": "2021-08-18T11:02:28.124Z"
   },
   {
    "duration": 9,
    "start_time": "2021-08-18T11:02:28.191Z"
   },
   {
    "duration": 29,
    "start_time": "2021-08-18T11:02:28.203Z"
   },
   {
    "duration": 58,
    "start_time": "2021-08-18T11:02:28.234Z"
   },
   {
    "duration": 29,
    "start_time": "2021-08-18T11:02:28.295Z"
   },
   {
    "duration": 48,
    "start_time": "2021-08-18T11:02:28.326Z"
   },
   {
    "duration": 9172,
    "start_time": "2021-08-18T11:02:28.377Z"
   },
   {
    "duration": 29,
    "start_time": "2021-08-18T11:02:37.552Z"
   },
   {
    "duration": 12,
    "start_time": "2021-08-18T11:02:37.584Z"
   },
   {
    "duration": 26,
    "start_time": "2021-08-18T11:02:37.600Z"
   },
   {
    "duration": 49,
    "start_time": "2021-08-18T11:02:37.629Z"
   },
   {
    "duration": 11,
    "start_time": "2021-08-18T11:02:37.681Z"
   },
   {
    "duration": 26,
    "start_time": "2021-08-18T11:02:37.695Z"
   },
   {
    "duration": 50,
    "start_time": "2021-08-18T11:02:37.723Z"
   },
   {
    "duration": 14,
    "start_time": "2021-08-18T11:02:37.776Z"
   },
   {
    "duration": 169,
    "start_time": "2021-08-18T11:02:37.793Z"
   },
   {
    "duration": 11,
    "start_time": "2021-08-18T11:02:37.968Z"
   },
   {
    "duration": 36,
    "start_time": "2021-08-18T11:02:37.982Z"
   },
   {
    "duration": 12,
    "start_time": "2021-08-18T11:02:38.020Z"
   },
   {
    "duration": 37,
    "start_time": "2021-08-18T11:02:38.034Z"
   },
   {
    "duration": 27,
    "start_time": "2021-08-18T11:02:38.074Z"
   },
   {
    "duration": 56,
    "start_time": "2021-08-18T11:02:38.111Z"
   },
   {
    "duration": 16,
    "start_time": "2021-08-18T11:02:38.170Z"
   },
   {
    "duration": 27,
    "start_time": "2021-08-18T11:02:38.189Z"
   },
   {
    "duration": 58,
    "start_time": "2021-08-18T11:02:38.218Z"
   },
   {
    "duration": 26,
    "start_time": "2021-08-18T11:02:38.278Z"
   },
   {
    "duration": 24,
    "start_time": "2021-08-18T11:02:38.307Z"
   },
   {
    "duration": 53,
    "start_time": "2021-08-18T11:02:38.334Z"
   },
   {
    "duration": 22,
    "start_time": "2021-08-18T11:02:38.390Z"
   },
   {
    "duration": 462,
    "start_time": "2021-08-18T11:05:10.172Z"
   },
   {
    "duration": 31,
    "start_time": "2021-08-18T11:05:19.818Z"
   },
   {
    "duration": 44,
    "start_time": "2021-08-18T11:09:17.859Z"
   },
   {
    "duration": 31,
    "start_time": "2021-08-18T11:10:34.056Z"
   },
   {
    "duration": 355,
    "start_time": "2021-08-18T15:11:41.678Z"
   },
   {
    "duration": 696,
    "start_time": "2021-08-18T15:11:50.117Z"
   },
   {
    "duration": 89,
    "start_time": "2021-08-18T15:11:52.095Z"
   },
   {
    "duration": 22,
    "start_time": "2021-08-18T15:11:56.423Z"
   },
   {
    "duration": 19,
    "start_time": "2021-08-18T15:12:18.511Z"
   },
   {
    "duration": 44,
    "start_time": "2021-08-18T15:15:24.654Z"
   },
   {
    "duration": 6,
    "start_time": "2021-08-18T15:15:41.021Z"
   },
   {
    "duration": 34,
    "start_time": "2021-08-18T15:15:44.874Z"
   },
   {
    "duration": 20,
    "start_time": "2021-08-18T15:16:04.127Z"
   },
   {
    "duration": 20,
    "start_time": "2021-08-18T15:16:08.427Z"
   },
   {
    "duration": 20,
    "start_time": "2021-08-18T15:16:18.668Z"
   },
   {
    "duration": 224,
    "start_time": "2021-08-18T19:27:48.087Z"
   },
   {
    "duration": 625,
    "start_time": "2021-08-18T19:28:03.407Z"
   },
   {
    "duration": 77,
    "start_time": "2021-08-18T19:28:04.034Z"
   },
   {
    "duration": 11,
    "start_time": "2021-08-18T19:28:04.113Z"
   },
   {
    "duration": 22,
    "start_time": "2021-08-18T19:28:04.126Z"
   },
   {
    "duration": 11,
    "start_time": "2021-08-18T19:28:04.150Z"
   },
   {
    "duration": 16,
    "start_time": "2021-08-18T19:28:04.193Z"
   },
   {
    "duration": 6,
    "start_time": "2021-08-18T19:28:04.211Z"
   },
   {
    "duration": 11,
    "start_time": "2021-08-18T19:28:04.220Z"
   },
   {
    "duration": 3,
    "start_time": "2021-08-18T19:28:04.233Z"
   },
   {
    "duration": 24,
    "start_time": "2021-08-18T19:28:04.238Z"
   },
   {
    "duration": 28,
    "start_time": "2021-08-18T19:28:04.264Z"
   },
   {
    "duration": 16,
    "start_time": "2021-08-18T19:28:04.295Z"
   },
   {
    "duration": 5,
    "start_time": "2021-08-18T19:28:04.312Z"
   },
   {
    "duration": 9,
    "start_time": "2021-08-18T19:28:04.318Z"
   },
   {
    "duration": 4,
    "start_time": "2021-08-18T19:28:04.328Z"
   },
   {
    "duration": 6,
    "start_time": "2021-08-18T19:28:04.334Z"
   },
   {
    "duration": 8,
    "start_time": "2021-08-18T19:28:04.342Z"
   },
   {
    "duration": 5,
    "start_time": "2021-08-18T19:28:04.351Z"
   },
   {
    "duration": 17,
    "start_time": "2021-08-18T19:28:04.385Z"
   },
   {
    "duration": 11,
    "start_time": "2021-08-18T19:28:04.403Z"
   },
   {
    "duration": 11,
    "start_time": "2021-08-18T19:28:04.415Z"
   },
   {
    "duration": 11,
    "start_time": "2021-08-18T19:28:04.427Z"
   },
   {
    "duration": 17,
    "start_time": "2021-08-18T19:28:04.441Z"
   },
   {
    "duration": 24,
    "start_time": "2021-08-18T19:28:04.461Z"
   },
   {
    "duration": 11,
    "start_time": "2021-08-18T19:28:04.488Z"
   },
   {
    "duration": 18,
    "start_time": "2021-08-18T19:28:04.501Z"
   },
   {
    "duration": 5,
    "start_time": "2021-08-18T19:28:04.521Z"
   },
   {
    "duration": 8,
    "start_time": "2021-08-18T19:28:04.528Z"
   },
   {
    "duration": 18,
    "start_time": "2021-08-18T19:28:04.538Z"
   },
   {
    "duration": 8,
    "start_time": "2021-08-18T19:28:04.587Z"
   },
   {
    "duration": 5,
    "start_time": "2021-08-18T19:28:04.599Z"
   },
   {
    "duration": 10,
    "start_time": "2021-08-18T19:28:04.605Z"
   },
   {
    "duration": 10,
    "start_time": "2021-08-18T19:28:04.616Z"
   },
   {
    "duration": 9,
    "start_time": "2021-08-18T19:28:04.628Z"
   },
   {
    "duration": 4,
    "start_time": "2021-08-18T19:28:04.639Z"
   },
   {
    "duration": 8,
    "start_time": "2021-08-18T19:28:04.645Z"
   },
   {
    "duration": 9,
    "start_time": "2021-08-18T19:28:04.694Z"
   },
   {
    "duration": 14,
    "start_time": "2021-08-18T19:28:04.705Z"
   },
   {
    "duration": 20,
    "start_time": "2021-08-18T19:28:04.720Z"
   },
   {
    "duration": 6,
    "start_time": "2021-08-18T19:28:04.742Z"
   },
   {
    "duration": 6,
    "start_time": "2021-08-18T19:28:04.750Z"
   },
   {
    "duration": 41,
    "start_time": "2021-08-18T19:28:04.758Z"
   },
   {
    "duration": 9,
    "start_time": "2021-08-18T19:28:04.801Z"
   },
   {
    "duration": 13,
    "start_time": "2021-08-18T19:28:04.812Z"
   },
   {
    "duration": 8,
    "start_time": "2021-08-18T19:28:04.826Z"
   },
   {
    "duration": 8,
    "start_time": "2021-08-18T19:28:04.836Z"
   },
   {
    "duration": 14,
    "start_time": "2021-08-18T19:28:04.845Z"
   },
   {
    "duration": 26,
    "start_time": "2021-08-18T19:28:04.884Z"
   },
   {
    "duration": 6,
    "start_time": "2021-08-18T19:28:04.912Z"
   },
   {
    "duration": 17,
    "start_time": "2021-08-18T19:28:04.920Z"
   },
   {
    "duration": 21,
    "start_time": "2021-08-18T19:28:04.939Z"
   },
   {
    "duration": 24,
    "start_time": "2021-08-18T19:28:04.984Z"
   },
   {
    "duration": 11,
    "start_time": "2021-08-18T19:28:05.010Z"
   },
   {
    "duration": 5572,
    "start_time": "2021-08-18T19:28:05.023Z"
   },
   {
    "duration": 14,
    "start_time": "2021-08-18T19:28:10.597Z"
   },
   {
    "duration": 10,
    "start_time": "2021-08-18T19:28:10.613Z"
   },
   {
    "duration": 33,
    "start_time": "2021-08-18T19:28:10.625Z"
   },
   {
    "duration": 12,
    "start_time": "2021-08-18T19:28:10.659Z"
   },
   {
    "duration": 28,
    "start_time": "2021-08-18T19:28:10.673Z"
   },
   {
    "duration": 33,
    "start_time": "2021-08-18T19:28:10.703Z"
   },
   {
    "duration": 26,
    "start_time": "2021-08-18T19:28:10.738Z"
   },
   {
    "duration": 14,
    "start_time": "2021-08-18T19:28:10.766Z"
   },
   {
    "duration": 114,
    "start_time": "2021-08-18T19:28:10.781Z"
   },
   {
    "duration": 8,
    "start_time": "2021-08-18T19:28:10.898Z"
   },
   {
    "duration": 41,
    "start_time": "2021-08-18T19:28:10.908Z"
   },
   {
    "duration": 9,
    "start_time": "2021-08-18T19:28:10.950Z"
   },
   {
    "duration": 18,
    "start_time": "2021-08-18T19:28:10.961Z"
   },
   {
    "duration": 19,
    "start_time": "2021-08-18T19:28:10.984Z"
   },
   {
    "duration": 43,
    "start_time": "2021-08-18T19:28:11.005Z"
   },
   {
    "duration": 13,
    "start_time": "2021-08-18T19:28:11.049Z"
   },
   {
    "duration": 47,
    "start_time": "2021-08-18T19:28:11.064Z"
   },
   {
    "duration": 33,
    "start_time": "2021-08-18T19:28:11.113Z"
   },
   {
    "duration": 15,
    "start_time": "2021-08-18T19:28:11.148Z"
   },
   {
    "duration": 36,
    "start_time": "2021-08-18T19:28:11.165Z"
   },
   {
    "duration": 17,
    "start_time": "2021-08-18T19:28:11.203Z"
   },
   {
    "duration": 18,
    "start_time": "2021-08-18T19:28:11.222Z"
   },
   {
    "duration": 20,
    "start_time": "2021-08-18T19:28:11.242Z"
   },
   {
    "duration": 393,
    "start_time": "2021-08-18T19:28:36.155Z"
   },
   {
    "duration": 9,
    "start_time": "2021-08-18T19:28:44.796Z"
   },
   {
    "duration": 12,
    "start_time": "2021-08-18T19:28:57.787Z"
   },
   {
    "duration": 8,
    "start_time": "2021-08-18T19:35:32.172Z"
   },
   {
    "duration": 568,
    "start_time": "2021-08-18T19:35:38.811Z"
   },
   {
    "duration": 68,
    "start_time": "2021-08-18T19:35:39.381Z"
   },
   {
    "duration": 11,
    "start_time": "2021-08-18T19:35:39.451Z"
   },
   {
    "duration": 41,
    "start_time": "2021-08-18T19:35:39.465Z"
   },
   {
    "duration": 12,
    "start_time": "2021-08-18T19:35:39.508Z"
   },
   {
    "duration": 14,
    "start_time": "2021-08-18T19:35:39.521Z"
   },
   {
    "duration": 6,
    "start_time": "2021-08-18T19:35:39.536Z"
   },
   {
    "duration": 49,
    "start_time": "2021-08-18T19:35:39.544Z"
   },
   {
    "duration": 4,
    "start_time": "2021-08-18T19:35:39.596Z"
   },
   {
    "duration": 16,
    "start_time": "2021-08-18T19:35:39.602Z"
   },
   {
    "duration": 3,
    "start_time": "2021-08-18T19:35:39.619Z"
   },
   {
    "duration": 16,
    "start_time": "2021-08-18T19:35:39.624Z"
   },
   {
    "duration": 4,
    "start_time": "2021-08-18T19:35:39.641Z"
   },
   {
    "duration": 7,
    "start_time": "2021-08-18T19:35:39.646Z"
   },
   {
    "duration": 4,
    "start_time": "2021-08-18T19:35:39.654Z"
   },
   {
    "duration": 39,
    "start_time": "2021-08-18T19:35:39.659Z"
   },
   {
    "duration": 8,
    "start_time": "2021-08-18T19:35:39.700Z"
   },
   {
    "duration": 5,
    "start_time": "2021-08-18T19:35:39.709Z"
   },
   {
    "duration": 5,
    "start_time": "2021-08-18T19:35:39.716Z"
   },
   {
    "duration": 6,
    "start_time": "2021-08-18T19:35:39.723Z"
   },
   {
    "duration": 8,
    "start_time": "2021-08-18T19:35:39.731Z"
   },
   {
    "duration": 10,
    "start_time": "2021-08-18T19:35:39.741Z"
   },
   {
    "duration": 52,
    "start_time": "2021-08-18T19:35:39.755Z"
   },
   {
    "duration": 5,
    "start_time": "2021-08-18T19:35:39.810Z"
   },
   {
    "duration": 6,
    "start_time": "2021-08-18T19:35:39.817Z"
   },
   {
    "duration": 16,
    "start_time": "2021-08-18T19:35:39.825Z"
   },
   {
    "duration": 5,
    "start_time": "2021-08-18T19:35:39.843Z"
   },
   {
    "duration": 47,
    "start_time": "2021-08-18T19:35:39.850Z"
   },
   {
    "duration": 18,
    "start_time": "2021-08-18T19:35:39.899Z"
   },
   {
    "duration": 5,
    "start_time": "2021-08-18T19:35:39.918Z"
   },
   {
    "duration": 5,
    "start_time": "2021-08-18T19:35:39.924Z"
   },
   {
    "duration": 5,
    "start_time": "2021-08-18T19:35:39.930Z"
   },
   {
    "duration": 6,
    "start_time": "2021-08-18T19:35:39.937Z"
   },
   {
    "duration": 10,
    "start_time": "2021-08-18T19:35:39.945Z"
   },
   {
    "duration": 13,
    "start_time": "2021-08-18T19:35:39.985Z"
   },
   {
    "duration": 9,
    "start_time": "2021-08-18T19:35:40.000Z"
   },
   {
    "duration": 12,
    "start_time": "2021-08-18T19:35:40.011Z"
   },
   {
    "duration": 15,
    "start_time": "2021-08-18T19:35:40.025Z"
   },
   {
    "duration": 49,
    "start_time": "2021-08-18T19:35:40.042Z"
   },
   {
    "duration": 10,
    "start_time": "2021-08-18T19:35:40.093Z"
   },
   {
    "duration": 7,
    "start_time": "2021-08-18T19:35:40.105Z"
   },
   {
    "duration": 7,
    "start_time": "2021-08-18T19:35:40.114Z"
   },
   {
    "duration": 7,
    "start_time": "2021-08-18T19:35:40.122Z"
   },
   {
    "duration": 8,
    "start_time": "2021-08-18T19:35:40.131Z"
   },
   {
    "duration": 7,
    "start_time": "2021-08-18T19:35:40.141Z"
   },
   {
    "duration": 16,
    "start_time": "2021-08-18T19:35:40.184Z"
   },
   {
    "duration": 17,
    "start_time": "2021-08-18T19:35:40.202Z"
   },
   {
    "duration": 24,
    "start_time": "2021-08-18T19:35:40.221Z"
   },
   {
    "duration": 6,
    "start_time": "2021-08-18T19:35:40.247Z"
   },
   {
    "duration": 38,
    "start_time": "2021-08-18T19:35:40.254Z"
   },
   {
    "duration": 23,
    "start_time": "2021-08-18T19:35:40.297Z"
   },
   {
    "duration": 16,
    "start_time": "2021-08-18T19:35:40.322Z"
   },
   {
    "duration": 11,
    "start_time": "2021-08-18T19:35:40.340Z"
   },
   {
    "duration": 5520,
    "start_time": "2021-08-18T19:35:40.352Z"
   },
   {
    "duration": 27,
    "start_time": "2021-08-18T19:35:45.874Z"
   },
   {
    "duration": 8,
    "start_time": "2021-08-18T19:35:45.902Z"
   },
   {
    "duration": 29,
    "start_time": "2021-08-18T19:35:45.911Z"
   },
   {
    "duration": 12,
    "start_time": "2021-08-18T19:35:45.942Z"
   },
   {
    "duration": 23,
    "start_time": "2021-08-18T19:35:45.956Z"
   },
   {
    "duration": 34,
    "start_time": "2021-08-18T19:35:45.980Z"
   },
   {
    "duration": 12,
    "start_time": "2021-08-18T19:35:46.015Z"
   },
   {
    "duration": 17,
    "start_time": "2021-08-18T19:35:46.029Z"
   },
   {
    "duration": 112,
    "start_time": "2021-08-18T19:35:46.047Z"
   },
   {
    "duration": 7,
    "start_time": "2021-08-18T19:35:46.160Z"
   },
   {
    "duration": 35,
    "start_time": "2021-08-18T19:35:46.169Z"
   },
   {
    "duration": 7,
    "start_time": "2021-08-18T19:35:46.206Z"
   },
   {
    "duration": 24,
    "start_time": "2021-08-18T19:35:46.214Z"
   },
   {
    "duration": 18,
    "start_time": "2021-08-18T19:35:46.243Z"
   },
   {
    "duration": 46,
    "start_time": "2021-08-18T19:35:46.262Z"
   },
   {
    "duration": 9,
    "start_time": "2021-08-18T19:35:46.310Z"
   },
   {
    "duration": 18,
    "start_time": "2021-08-18T19:35:46.320Z"
   },
   {
    "duration": 27,
    "start_time": "2021-08-18T19:35:46.340Z"
   },
   {
    "duration": 35,
    "start_time": "2021-08-18T19:35:46.368Z"
   },
   {
    "duration": 22,
    "start_time": "2021-08-18T19:35:46.405Z"
   },
   {
    "duration": 20,
    "start_time": "2021-08-18T19:35:46.429Z"
   },
   {
    "duration": 26,
    "start_time": "2021-08-18T19:35:46.451Z"
   },
   {
    "duration": 21,
    "start_time": "2021-08-18T19:35:46.479Z"
   },
   {
    "duration": 600,
    "start_time": "2021-08-18T19:39:57.548Z"
   },
   {
    "duration": 51,
    "start_time": "2021-08-18T19:50:05.148Z"
   },
   {
    "duration": 14,
    "start_time": "2021-08-18T19:50:13.873Z"
   },
   {
    "duration": 674,
    "start_time": "2021-08-18T19:50:22.064Z"
   },
   {
    "duration": 21,
    "start_time": "2021-08-18T19:50:22.740Z"
   },
   {
    "duration": 12,
    "start_time": "2021-08-18T19:50:22.763Z"
   },
   {
    "duration": 23,
    "start_time": "2021-08-18T19:50:22.784Z"
   },
   {
    "duration": 14,
    "start_time": "2021-08-18T19:50:22.809Z"
   },
   {
    "duration": 14,
    "start_time": "2021-08-18T19:50:22.824Z"
   },
   {
    "duration": 7,
    "start_time": "2021-08-18T19:50:22.839Z"
   },
   {
    "duration": 47,
    "start_time": "2021-08-18T19:50:22.848Z"
   },
   {
    "duration": 3,
    "start_time": "2021-08-18T19:50:22.897Z"
   },
   {
    "duration": 14,
    "start_time": "2021-08-18T19:50:22.902Z"
   },
   {
    "duration": 3,
    "start_time": "2021-08-18T19:50:22.918Z"
   },
   {
    "duration": 16,
    "start_time": "2021-08-18T19:50:22.923Z"
   },
   {
    "duration": 4,
    "start_time": "2021-08-18T19:50:22.941Z"
   },
   {
    "duration": 8,
    "start_time": "2021-08-18T19:50:22.947Z"
   },
   {
    "duration": 4,
    "start_time": "2021-08-18T19:50:22.985Z"
   },
   {
    "duration": 6,
    "start_time": "2021-08-18T19:50:22.991Z"
   },
   {
    "duration": 7,
    "start_time": "2021-08-18T19:50:22.999Z"
   },
   {
    "duration": 9,
    "start_time": "2021-08-18T19:50:23.007Z"
   },
   {
    "duration": 5,
    "start_time": "2021-08-18T19:50:23.018Z"
   },
   {
    "duration": 7,
    "start_time": "2021-08-18T19:50:23.024Z"
   },
   {
    "duration": 8,
    "start_time": "2021-08-18T19:50:23.033Z"
   },
   {
    "duration": 48,
    "start_time": "2021-08-18T19:50:23.043Z"
   },
   {
    "duration": 19,
    "start_time": "2021-08-18T19:50:23.096Z"
   },
   {
    "duration": 5,
    "start_time": "2021-08-18T19:50:23.118Z"
   },
   {
    "duration": 6,
    "start_time": "2021-08-18T19:50:23.125Z"
   },
   {
    "duration": 19,
    "start_time": "2021-08-18T19:50:23.133Z"
   },
   {
    "duration": 34,
    "start_time": "2021-08-18T19:50:23.154Z"
   },
   {
    "duration": 6,
    "start_time": "2021-08-18T19:50:23.190Z"
   },
   {
    "duration": 18,
    "start_time": "2021-08-18T19:50:23.198Z"
   },
   {
    "duration": 4,
    "start_time": "2021-08-18T19:50:23.218Z"
   },
   {
    "duration": 5,
    "start_time": "2021-08-18T19:50:23.224Z"
   },
   {
    "duration": 8,
    "start_time": "2021-08-18T19:50:23.231Z"
   },
   {
    "duration": 45,
    "start_time": "2021-08-18T19:50:23.241Z"
   },
   {
    "duration": 9,
    "start_time": "2021-08-18T19:50:23.288Z"
   },
   {
    "duration": 6,
    "start_time": "2021-08-18T19:50:23.298Z"
   },
   {
    "duration": 8,
    "start_time": "2021-08-18T19:50:23.305Z"
   },
   {
    "duration": 9,
    "start_time": "2021-08-18T19:50:23.315Z"
   },
   {
    "duration": 15,
    "start_time": "2021-08-18T19:50:23.326Z"
   },
   {
    "duration": 60,
    "start_time": "2021-08-18T19:50:23.343Z"
   },
   {
    "duration": 7,
    "start_time": "2021-08-18T19:50:23.405Z"
   },
   {
    "duration": 13,
    "start_time": "2021-08-18T19:50:23.413Z"
   },
   {
    "duration": 19,
    "start_time": "2021-08-18T19:50:23.427Z"
   },
   {
    "duration": 9,
    "start_time": "2021-08-18T19:50:23.448Z"
   },
   {
    "duration": 34,
    "start_time": "2021-08-18T19:50:23.459Z"
   },
   {
    "duration": 17,
    "start_time": "2021-08-18T19:50:23.495Z"
   },
   {
    "duration": 13,
    "start_time": "2021-08-18T19:50:23.514Z"
   },
   {
    "duration": 26,
    "start_time": "2021-08-18T19:50:23.529Z"
   },
   {
    "duration": 22,
    "start_time": "2021-08-18T19:50:23.557Z"
   },
   {
    "duration": 7,
    "start_time": "2021-08-18T19:50:23.585Z"
   },
   {
    "duration": 18,
    "start_time": "2021-08-18T19:50:23.594Z"
   },
   {
    "duration": 22,
    "start_time": "2021-08-18T19:50:23.614Z"
   },
   {
    "duration": 16,
    "start_time": "2021-08-18T19:50:23.638Z"
   },
   {
    "duration": 36,
    "start_time": "2021-08-18T19:50:23.656Z"
   },
   {
    "duration": 369,
    "start_time": "2021-08-18T19:50:23.694Z"
   },
   {
    "duration": -321,
    "start_time": "2021-08-18T19:50:24.387Z"
   },
   {
    "duration": -326,
    "start_time": "2021-08-18T19:50:24.393Z"
   },
   {
    "duration": -331,
    "start_time": "2021-08-18T19:50:24.398Z"
   },
   {
    "duration": -335,
    "start_time": "2021-08-18T19:50:24.403Z"
   },
   {
    "duration": -339,
    "start_time": "2021-08-18T19:50:24.408Z"
   },
   {
    "duration": -344,
    "start_time": "2021-08-18T19:50:24.414Z"
   },
   {
    "duration": -347,
    "start_time": "2021-08-18T19:50:24.418Z"
   },
   {
    "duration": -352,
    "start_time": "2021-08-18T19:50:24.424Z"
   },
   {
    "duration": -355,
    "start_time": "2021-08-18T19:50:24.428Z"
   },
   {
    "duration": -360,
    "start_time": "2021-08-18T19:50:24.434Z"
   },
   {
    "duration": -363,
    "start_time": "2021-08-18T19:50:24.438Z"
   },
   {
    "duration": -368,
    "start_time": "2021-08-18T19:50:24.444Z"
   },
   {
    "duration": -372,
    "start_time": "2021-08-18T19:50:24.449Z"
   },
   {
    "duration": -376,
    "start_time": "2021-08-18T19:50:24.454Z"
   },
   {
    "duration": -379,
    "start_time": "2021-08-18T19:50:24.458Z"
   },
   {
    "duration": -383,
    "start_time": "2021-08-18T19:50:24.463Z"
   },
   {
    "duration": -387,
    "start_time": "2021-08-18T19:50:24.468Z"
   },
   {
    "duration": -398,
    "start_time": "2021-08-18T19:50:24.480Z"
   },
   {
    "duration": -402,
    "start_time": "2021-08-18T19:50:24.485Z"
   },
   {
    "duration": -405,
    "start_time": "2021-08-18T19:50:24.490Z"
   },
   {
    "duration": -409,
    "start_time": "2021-08-18T19:50:24.495Z"
   },
   {
    "duration": -414,
    "start_time": "2021-08-18T19:50:24.500Z"
   },
   {
    "duration": -417,
    "start_time": "2021-08-18T19:50:24.505Z"
   },
   {
    "duration": 624,
    "start_time": "2021-08-18T19:51:32.576Z"
   },
   {
    "duration": 29,
    "start_time": "2021-08-18T19:51:39.238Z"
   },
   {
    "duration": 653,
    "start_time": "2021-08-18T20:34:17.857Z"
   },
   {
    "duration": 19,
    "start_time": "2021-08-18T20:34:18.512Z"
   },
   {
    "duration": 10,
    "start_time": "2021-08-18T20:34:18.533Z"
   },
   {
    "duration": 40,
    "start_time": "2021-08-18T20:34:18.545Z"
   },
   {
    "duration": 13,
    "start_time": "2021-08-18T20:34:18.586Z"
   },
   {
    "duration": 12,
    "start_time": "2021-08-18T20:34:18.601Z"
   },
   {
    "duration": 6,
    "start_time": "2021-08-18T20:34:18.616Z"
   },
   {
    "duration": 12,
    "start_time": "2021-08-18T20:34:18.623Z"
   },
   {
    "duration": 3,
    "start_time": "2021-08-18T20:34:18.637Z"
   },
   {
    "duration": 47,
    "start_time": "2021-08-18T20:34:18.642Z"
   },
   {
    "duration": 3,
    "start_time": "2021-08-18T20:34:18.691Z"
   },
   {
    "duration": 15,
    "start_time": "2021-08-18T20:34:18.696Z"
   },
   {
    "duration": 4,
    "start_time": "2021-08-18T20:34:18.712Z"
   },
   {
    "duration": 6,
    "start_time": "2021-08-18T20:34:18.718Z"
   },
   {
    "duration": 4,
    "start_time": "2021-08-18T20:34:18.726Z"
   },
   {
    "duration": 5,
    "start_time": "2021-08-18T20:34:18.731Z"
   },
   {
    "duration": 8,
    "start_time": "2021-08-18T20:34:18.737Z"
   },
   {
    "duration": 5,
    "start_time": "2021-08-18T20:34:18.746Z"
   },
   {
    "duration": 36,
    "start_time": "2021-08-18T20:34:18.752Z"
   },
   {
    "duration": 7,
    "start_time": "2021-08-18T20:34:18.789Z"
   },
   {
    "duration": 9,
    "start_time": "2021-08-18T20:34:18.798Z"
   },
   {
    "duration": 11,
    "start_time": "2021-08-18T20:34:18.811Z"
   },
   {
    "duration": 17,
    "start_time": "2021-08-18T20:34:18.824Z"
   },
   {
    "duration": 5,
    "start_time": "2021-08-18T20:34:18.842Z"
   },
   {
    "duration": 4,
    "start_time": "2021-08-18T20:34:18.885Z"
   },
   {
    "duration": 18,
    "start_time": "2021-08-18T20:34:18.891Z"
   },
   {
    "duration": 4,
    "start_time": "2021-08-18T20:34:18.911Z"
   },
   {
    "duration": 10,
    "start_time": "2021-08-18T20:34:18.916Z"
   },
   {
    "duration": 21,
    "start_time": "2021-08-18T20:34:18.928Z"
   },
   {
    "duration": 7,
    "start_time": "2021-08-18T20:34:18.951Z"
   },
   {
    "duration": 28,
    "start_time": "2021-08-18T20:34:18.960Z"
   },
   {
    "duration": 5,
    "start_time": "2021-08-18T20:34:18.990Z"
   },
   {
    "duration": 7,
    "start_time": "2021-08-18T20:34:18.997Z"
   },
   {
    "duration": 9,
    "start_time": "2021-08-18T20:34:19.005Z"
   },
   {
    "duration": 4,
    "start_time": "2021-08-18T20:34:19.015Z"
   },
   {
    "duration": 7,
    "start_time": "2021-08-18T20:34:19.021Z"
   },
   {
    "duration": 7,
    "start_time": "2021-08-18T20:34:19.030Z"
   },
   {
    "duration": 50,
    "start_time": "2021-08-18T20:34:19.039Z"
   },
   {
    "duration": 22,
    "start_time": "2021-08-18T20:34:19.090Z"
   },
   {
    "duration": 7,
    "start_time": "2021-08-18T20:34:19.113Z"
   },
   {
    "duration": 6,
    "start_time": "2021-08-18T20:34:19.121Z"
   },
   {
    "duration": 6,
    "start_time": "2021-08-18T20:34:19.129Z"
   },
   {
    "duration": 6,
    "start_time": "2021-08-18T20:34:19.137Z"
   },
   {
    "duration": 46,
    "start_time": "2021-08-18T20:34:19.145Z"
   },
   {
    "duration": 8,
    "start_time": "2021-08-18T20:34:19.192Z"
   },
   {
    "duration": 8,
    "start_time": "2021-08-18T20:34:19.202Z"
   },
   {
    "duration": 14,
    "start_time": "2021-08-18T20:34:19.211Z"
   },
   {
    "duration": 21,
    "start_time": "2021-08-18T20:34:19.227Z"
   },
   {
    "duration": 35,
    "start_time": "2021-08-18T20:34:19.250Z"
   },
   {
    "duration": 17,
    "start_time": "2021-08-18T20:34:19.287Z"
   },
   {
    "duration": 20,
    "start_time": "2021-08-18T20:34:19.306Z"
   },
   {
    "duration": 15,
    "start_time": "2021-08-18T20:34:19.327Z"
   },
   {
    "duration": 10,
    "start_time": "2021-08-18T20:34:19.344Z"
   },
   {
    "duration": 415,
    "start_time": "2021-08-18T20:34:19.355Z"
   },
   {
    "duration": -436,
    "start_time": "2021-08-18T20:34:20.209Z"
   },
   {
    "duration": -442,
    "start_time": "2021-08-18T20:34:20.215Z"
   },
   {
    "duration": -446,
    "start_time": "2021-08-18T20:34:20.220Z"
   },
   {
    "duration": -450,
    "start_time": "2021-08-18T20:34:20.225Z"
   },
   {
    "duration": -453,
    "start_time": "2021-08-18T20:34:20.229Z"
   },
   {
    "duration": -456,
    "start_time": "2021-08-18T20:34:20.233Z"
   },
   {
    "duration": -461,
    "start_time": "2021-08-18T20:34:20.239Z"
   },
   {
    "duration": -464,
    "start_time": "2021-08-18T20:34:20.243Z"
   },
   {
    "duration": -468,
    "start_time": "2021-08-18T20:34:20.247Z"
   },
   {
    "duration": -473,
    "start_time": "2021-08-18T20:34:20.253Z"
   },
   {
    "duration": -477,
    "start_time": "2021-08-18T20:34:20.258Z"
   },
   {
    "duration": -480,
    "start_time": "2021-08-18T20:34:20.262Z"
   },
   {
    "duration": -485,
    "start_time": "2021-08-18T20:34:20.268Z"
   },
   {
    "duration": -490,
    "start_time": "2021-08-18T20:34:20.273Z"
   },
   {
    "duration": -494,
    "start_time": "2021-08-18T20:34:20.278Z"
   },
   {
    "duration": -497,
    "start_time": "2021-08-18T20:34:20.282Z"
   },
   {
    "duration": -572,
    "start_time": "2021-08-18T20:34:20.358Z"
   },
   {
    "duration": -575,
    "start_time": "2021-08-18T20:34:20.362Z"
   },
   {
    "duration": -579,
    "start_time": "2021-08-18T20:34:20.367Z"
   },
   {
    "duration": -583,
    "start_time": "2021-08-18T20:34:20.371Z"
   },
   {
    "duration": -587,
    "start_time": "2021-08-18T20:34:20.376Z"
   },
   {
    "duration": -591,
    "start_time": "2021-08-18T20:34:20.381Z"
   },
   {
    "duration": -595,
    "start_time": "2021-08-18T20:34:20.386Z"
   },
   {
    "duration": 792,
    "start_time": "2021-08-30T14:36:35.443Z"
   },
   {
    "duration": 28,
    "start_time": "2021-08-30T14:36:36.238Z"
   },
   {
    "duration": 24,
    "start_time": "2021-08-30T14:36:36.269Z"
   },
   {
    "duration": 23,
    "start_time": "2021-08-30T14:36:36.296Z"
   },
   {
    "duration": 15,
    "start_time": "2021-08-30T14:36:36.321Z"
   },
   {
    "duration": 54,
    "start_time": "2021-08-30T14:36:36.339Z"
   },
   {
    "duration": 6,
    "start_time": "2021-08-30T14:36:36.395Z"
   },
   {
    "duration": 16,
    "start_time": "2021-08-30T14:36:36.403Z"
   },
   {
    "duration": 4,
    "start_time": "2021-08-30T14:36:36.421Z"
   },
   {
    "duration": 19,
    "start_time": "2021-08-30T14:36:36.427Z"
   },
   {
    "duration": 4,
    "start_time": "2021-08-30T14:36:36.448Z"
   },
   {
    "duration": 30,
    "start_time": "2021-08-30T14:36:36.454Z"
   },
   {
    "duration": 6,
    "start_time": "2021-08-30T14:36:36.485Z"
   },
   {
    "duration": 7,
    "start_time": "2021-08-30T14:36:36.493Z"
   },
   {
    "duration": 8,
    "start_time": "2021-08-30T14:36:36.501Z"
   },
   {
    "duration": 4,
    "start_time": "2021-08-30T14:36:36.514Z"
   },
   {
    "duration": 7,
    "start_time": "2021-08-30T14:36:36.520Z"
   },
   {
    "duration": 7,
    "start_time": "2021-08-30T14:36:36.529Z"
   },
   {
    "duration": 46,
    "start_time": "2021-08-30T14:36:36.538Z"
   },
   {
    "duration": 8,
    "start_time": "2021-08-30T14:36:36.586Z"
   },
   {
    "duration": 11,
    "start_time": "2021-08-30T14:36:36.600Z"
   },
   {
    "duration": 15,
    "start_time": "2021-08-30T14:36:36.613Z"
   },
   {
    "duration": 25,
    "start_time": "2021-08-30T14:36:36.630Z"
   },
   {
    "duration": 25,
    "start_time": "2021-08-30T14:36:36.657Z"
   },
   {
    "duration": 10,
    "start_time": "2021-08-30T14:36:36.684Z"
   },
   {
    "duration": 19,
    "start_time": "2021-08-30T14:36:36.696Z"
   },
   {
    "duration": 4,
    "start_time": "2021-08-30T14:36:36.720Z"
   },
   {
    "duration": 7,
    "start_time": "2021-08-30T14:36:36.726Z"
   },
   {
    "duration": 55,
    "start_time": "2021-08-30T14:36:36.734Z"
   },
   {
    "duration": 6,
    "start_time": "2021-08-30T14:36:36.791Z"
   },
   {
    "duration": 15,
    "start_time": "2021-08-30T14:36:36.798Z"
   },
   {
    "duration": 11,
    "start_time": "2021-08-30T14:36:36.815Z"
   },
   {
    "duration": 13,
    "start_time": "2021-08-30T14:36:36.828Z"
   },
   {
    "duration": 13,
    "start_time": "2021-08-30T14:36:36.842Z"
   },
   {
    "duration": 24,
    "start_time": "2021-08-30T14:36:36.857Z"
   },
   {
    "duration": 9,
    "start_time": "2021-08-30T14:36:36.883Z"
   },
   {
    "duration": 9,
    "start_time": "2021-08-30T14:36:36.894Z"
   },
   {
    "duration": 16,
    "start_time": "2021-08-30T14:36:36.905Z"
   },
   {
    "duration": 67,
    "start_time": "2021-08-30T14:36:36.922Z"
   },
   {
    "duration": 8,
    "start_time": "2021-08-30T14:36:36.994Z"
   },
   {
    "duration": 9,
    "start_time": "2021-08-30T14:36:37.003Z"
   },
   {
    "duration": 10,
    "start_time": "2021-08-30T14:36:37.014Z"
   },
   {
    "duration": 9,
    "start_time": "2021-08-30T14:36:37.026Z"
   },
   {
    "duration": 14,
    "start_time": "2021-08-30T14:36:37.038Z"
   },
   {
    "duration": 14,
    "start_time": "2021-08-30T14:36:37.080Z"
   },
   {
    "duration": 15,
    "start_time": "2021-08-30T14:36:37.097Z"
   },
   {
    "duration": 18,
    "start_time": "2021-08-30T14:36:37.114Z"
   },
   {
    "duration": 24,
    "start_time": "2021-08-30T14:36:37.133Z"
   },
   {
    "duration": 24,
    "start_time": "2021-08-30T14:36:37.159Z"
   },
   {
    "duration": 22,
    "start_time": "2021-08-30T14:36:37.186Z"
   },
   {
    "duration": 21,
    "start_time": "2021-08-30T14:36:37.210Z"
   },
   {
    "duration": 49,
    "start_time": "2021-08-30T14:36:37.232Z"
   },
   {
    "duration": 15,
    "start_time": "2021-08-30T14:36:37.283Z"
   },
   {
    "duration": 691,
    "start_time": "2021-08-30T14:36:37.300Z"
   },
   {
    "duration": -3978,
    "start_time": "2021-08-30T14:36:41.971Z"
   },
   {
    "duration": -3981,
    "start_time": "2021-08-30T14:36:41.976Z"
   },
   {
    "duration": -3986,
    "start_time": "2021-08-30T14:36:41.982Z"
   },
   {
    "duration": -3991,
    "start_time": "2021-08-30T14:36:41.988Z"
   },
   {
    "duration": -3995,
    "start_time": "2021-08-30T14:36:41.993Z"
   },
   {
    "duration": -3999,
    "start_time": "2021-08-30T14:36:41.998Z"
   },
   {
    "duration": -4004,
    "start_time": "2021-08-30T14:36:42.004Z"
   },
   {
    "duration": -4008,
    "start_time": "2021-08-30T14:36:42.009Z"
   },
   {
    "duration": -4012,
    "start_time": "2021-08-30T14:36:42.014Z"
   },
   {
    "duration": -4036,
    "start_time": "2021-08-30T14:36:42.039Z"
   },
   {
    "duration": -4042,
    "start_time": "2021-08-30T14:36:42.048Z"
   },
   {
    "duration": -4048,
    "start_time": "2021-08-30T14:36:42.055Z"
   },
   {
    "duration": -4051,
    "start_time": "2021-08-30T14:36:42.060Z"
   },
   {
    "duration": -4056,
    "start_time": "2021-08-30T14:36:42.066Z"
   },
   {
    "duration": -4061,
    "start_time": "2021-08-30T14:36:42.072Z"
   },
   {
    "duration": -4064,
    "start_time": "2021-08-30T14:36:42.078Z"
   },
   {
    "duration": -4068,
    "start_time": "2021-08-30T14:36:42.084Z"
   },
   {
    "duration": -4073,
    "start_time": "2021-08-30T14:36:42.090Z"
   },
   {
    "duration": -4078,
    "start_time": "2021-08-30T14:36:42.096Z"
   },
   {
    "duration": -4082,
    "start_time": "2021-08-30T14:36:42.102Z"
   },
   {
    "duration": -4085,
    "start_time": "2021-08-30T14:36:42.107Z"
   },
   {
    "duration": -4090,
    "start_time": "2021-08-30T14:36:42.113Z"
   },
   {
    "duration": -4093,
    "start_time": "2021-08-30T14:36:42.118Z"
   },
   {
    "duration": 558,
    "start_time": "2021-08-30T14:36:50.678Z"
   },
   {
    "duration": 715,
    "start_time": "2021-08-30T14:50:39.861Z"
   },
   {
    "duration": 18,
    "start_time": "2021-08-30T14:50:40.578Z"
   },
   {
    "duration": 11,
    "start_time": "2021-08-30T14:50:40.598Z"
   },
   {
    "duration": 20,
    "start_time": "2021-08-30T14:50:40.612Z"
   },
   {
    "duration": 14,
    "start_time": "2021-08-30T14:50:40.634Z"
   },
   {
    "duration": 40,
    "start_time": "2021-08-30T14:50:40.649Z"
   },
   {
    "duration": 6,
    "start_time": "2021-08-30T14:50:40.691Z"
   },
   {
    "duration": 13,
    "start_time": "2021-08-30T14:50:40.700Z"
   },
   {
    "duration": 4,
    "start_time": "2021-08-30T14:50:40.715Z"
   },
   {
    "duration": 15,
    "start_time": "2021-08-30T14:50:40.721Z"
   },
   {
    "duration": 41,
    "start_time": "2021-08-30T14:50:40.737Z"
   },
   {
    "duration": 18,
    "start_time": "2021-08-30T14:50:40.780Z"
   },
   {
    "duration": 4,
    "start_time": "2021-08-30T14:50:40.800Z"
   },
   {
    "duration": 8,
    "start_time": "2021-08-30T14:50:40.806Z"
   },
   {
    "duration": 5,
    "start_time": "2021-08-30T14:50:40.816Z"
   },
   {
    "duration": 5,
    "start_time": "2021-08-30T14:50:40.822Z"
   },
   {
    "duration": 7,
    "start_time": "2021-08-30T14:50:40.828Z"
   },
   {
    "duration": 40,
    "start_time": "2021-08-30T14:50:40.836Z"
   },
   {
    "duration": 5,
    "start_time": "2021-08-30T14:50:40.879Z"
   },
   {
    "duration": 6,
    "start_time": "2021-08-30T14:50:40.886Z"
   },
   {
    "duration": 10,
    "start_time": "2021-08-30T14:50:40.894Z"
   },
   {
    "duration": 13,
    "start_time": "2021-08-30T14:50:40.905Z"
   },
   {
    "duration": 63,
    "start_time": "2021-08-30T14:50:40.924Z"
   },
   {
    "duration": 5,
    "start_time": "2021-08-30T14:50:40.990Z"
   },
   {
    "duration": 10,
    "start_time": "2021-08-30T14:50:40.996Z"
   },
   {
    "duration": 16,
    "start_time": "2021-08-30T14:50:41.007Z"
   },
   {
    "duration": 5,
    "start_time": "2021-08-30T14:50:41.025Z"
   },
   {
    "duration": 10,
    "start_time": "2021-08-30T14:50:41.032Z"
   },
   {
    "duration": 40,
    "start_time": "2021-08-30T14:50:41.044Z"
   },
   {
    "duration": 4,
    "start_time": "2021-08-30T14:50:41.085Z"
   },
   {
    "duration": 7,
    "start_time": "2021-08-30T14:50:41.091Z"
   },
   {
    "duration": 7,
    "start_time": "2021-08-30T14:50:41.100Z"
   },
   {
    "duration": 8,
    "start_time": "2021-08-30T14:50:41.108Z"
   },
   {
    "duration": 7,
    "start_time": "2021-08-30T14:50:41.118Z"
   },
   {
    "duration": 7,
    "start_time": "2021-08-30T14:50:41.126Z"
   },
   {
    "duration": 44,
    "start_time": "2021-08-30T14:50:41.134Z"
   },
   {
    "duration": 11,
    "start_time": "2021-08-30T14:50:41.180Z"
   },
   {
    "duration": 16,
    "start_time": "2021-08-30T14:50:41.193Z"
   },
   {
    "duration": 23,
    "start_time": "2021-08-30T14:50:41.211Z"
   },
   {
    "duration": 7,
    "start_time": "2021-08-30T14:50:41.236Z"
   },
   {
    "duration": 8,
    "start_time": "2021-08-30T14:50:41.277Z"
   },
   {
    "duration": 8,
    "start_time": "2021-08-30T14:50:41.287Z"
   },
   {
    "duration": 8,
    "start_time": "2021-08-30T14:50:41.297Z"
   },
   {
    "duration": 13,
    "start_time": "2021-08-30T14:50:41.307Z"
   },
   {
    "duration": 9,
    "start_time": "2021-08-30T14:50:41.321Z"
   },
   {
    "duration": 49,
    "start_time": "2021-08-30T14:50:41.332Z"
   },
   {
    "duration": 15,
    "start_time": "2021-08-30T14:50:41.384Z"
   },
   {
    "duration": 23,
    "start_time": "2021-08-30T14:50:41.401Z"
   },
   {
    "duration": 8,
    "start_time": "2021-08-30T14:50:41.425Z"
   },
   {
    "duration": 55,
    "start_time": "2021-08-30T14:50:41.435Z"
   },
   {
    "duration": 22,
    "start_time": "2021-08-30T14:50:41.492Z"
   },
   {
    "duration": 16,
    "start_time": "2021-08-30T14:50:41.515Z"
   },
   {
    "duration": 9,
    "start_time": "2021-08-30T14:50:41.533Z"
   },
   {
    "duration": 5434,
    "start_time": "2021-08-30T14:50:41.544Z"
   },
   {
    "duration": 13,
    "start_time": "2021-08-30T14:50:46.980Z"
   },
   {
    "duration": 15,
    "start_time": "2021-08-30T14:50:46.995Z"
   },
   {
    "duration": 17,
    "start_time": "2021-08-30T14:50:47.012Z"
   },
   {
    "duration": 13,
    "start_time": "2021-08-30T14:50:47.030Z"
   },
   {
    "duration": 34,
    "start_time": "2021-08-30T14:50:47.045Z"
   },
   {
    "duration": 13,
    "start_time": "2021-08-30T14:50:47.081Z"
   },
   {
    "duration": 10,
    "start_time": "2021-08-30T14:50:47.096Z"
   },
   {
    "duration": 6,
    "start_time": "2021-08-30T14:50:47.107Z"
   },
   {
    "duration": 124,
    "start_time": "2021-08-30T14:50:47.114Z"
   },
   {
    "duration": 8,
    "start_time": "2021-08-30T14:50:47.240Z"
   },
   {
    "duration": 31,
    "start_time": "2021-08-30T14:50:47.250Z"
   },
   {
    "duration": 21,
    "start_time": "2021-08-30T14:50:47.283Z"
   },
   {
    "duration": 8,
    "start_time": "2021-08-30T14:50:47.306Z"
   },
   {
    "duration": 11,
    "start_time": "2021-08-30T14:50:47.318Z"
   },
   {
    "duration": 29,
    "start_time": "2021-08-30T14:50:47.331Z"
   },
   {
    "duration": 22,
    "start_time": "2021-08-30T14:50:47.362Z"
   },
   {
    "duration": 14,
    "start_time": "2021-08-30T14:50:47.386Z"
   },
   {
    "duration": 19,
    "start_time": "2021-08-30T14:50:47.402Z"
   },
   {
    "duration": 15,
    "start_time": "2021-08-30T14:50:47.422Z"
   },
   {
    "duration": 43,
    "start_time": "2021-08-30T14:50:47.439Z"
   },
   {
    "duration": 17,
    "start_time": "2021-08-30T14:50:47.484Z"
   },
   {
    "duration": 15,
    "start_time": "2021-08-30T14:50:47.503Z"
   },
   {
    "duration": 13,
    "start_time": "2021-08-30T14:50:47.520Z"
   },
   {
    "duration": 461,
    "start_time": "2021-09-26T01:43:44.011Z"
   },
   {
    "duration": 858,
    "start_time": "2021-09-26T01:43:49.895Z"
   },
   {
    "duration": 31,
    "start_time": "2021-09-26T01:43:52.957Z"
   },
   {
    "duration": 1983,
    "start_time": "2021-09-26T01:43:55.692Z"
   },
   {
    "duration": 901,
    "start_time": "2021-09-26T01:51:00.023Z"
   },
   {
    "duration": 28,
    "start_time": "2021-09-26T01:51:00.927Z"
   },
   {
    "duration": 22,
    "start_time": "2021-09-26T01:51:00.962Z"
   },
   {
    "duration": 57,
    "start_time": "2021-09-26T01:51:00.987Z"
   },
   {
    "duration": 18,
    "start_time": "2021-09-26T01:51:01.047Z"
   },
   {
    "duration": 21,
    "start_time": "2021-09-26T01:51:01.068Z"
   },
   {
    "duration": 9,
    "start_time": "2021-09-26T01:51:01.119Z"
   },
   {
    "duration": 25,
    "start_time": "2021-09-26T01:51:01.131Z"
   },
   {
    "duration": 8,
    "start_time": "2021-09-26T01:51:01.158Z"
   },
   {
    "duration": 32,
    "start_time": "2021-09-26T01:51:01.168Z"
   },
   {
    "duration": 6,
    "start_time": "2021-09-26T01:51:01.215Z"
   },
   {
    "duration": 26,
    "start_time": "2021-09-26T01:51:01.223Z"
   },
   {
    "duration": 6,
    "start_time": "2021-09-26T01:51:01.252Z"
   },
   {
    "duration": 16,
    "start_time": "2021-09-26T01:51:01.260Z"
   },
   {
    "duration": 47,
    "start_time": "2021-09-26T01:51:01.279Z"
   },
   {
    "duration": 14,
    "start_time": "2021-09-26T01:51:01.329Z"
   },
   {
    "duration": 19,
    "start_time": "2021-09-26T01:51:01.345Z"
   },
   {
    "duration": 22,
    "start_time": "2021-09-26T01:51:01.366Z"
   },
   {
    "duration": 26,
    "start_time": "2021-09-26T01:51:01.391Z"
   },
   {
    "duration": 27,
    "start_time": "2021-09-26T01:51:01.420Z"
   },
   {
    "duration": 24,
    "start_time": "2021-09-26T01:51:01.450Z"
   },
   {
    "duration": 34,
    "start_time": "2021-09-26T01:51:01.480Z"
   },
   {
    "duration": 29,
    "start_time": "2021-09-26T01:51:01.518Z"
   },
   {
    "duration": 24,
    "start_time": "2021-09-26T01:51:01.549Z"
   },
   {
    "duration": 30,
    "start_time": "2021-09-26T01:51:01.576Z"
   },
   {
    "duration": 35,
    "start_time": "2021-09-26T01:51:01.609Z"
   },
   {
    "duration": 11,
    "start_time": "2021-09-26T01:51:01.648Z"
   },
   {
    "duration": 42,
    "start_time": "2021-09-26T01:51:01.661Z"
   },
   {
    "duration": 31,
    "start_time": "2021-09-26T01:51:01.706Z"
   },
   {
    "duration": 7,
    "start_time": "2021-09-26T01:51:01.740Z"
   },
   {
    "duration": 27,
    "start_time": "2021-09-26T01:51:01.750Z"
   },
   {
    "duration": 13,
    "start_time": "2021-09-26T01:51:01.779Z"
   },
   {
    "duration": 23,
    "start_time": "2021-09-26T01:51:01.795Z"
   },
   {
    "duration": 16,
    "start_time": "2021-09-26T01:51:01.820Z"
   },
   {
    "duration": 9,
    "start_time": "2021-09-26T01:51:01.839Z"
   },
   {
    "duration": 20,
    "start_time": "2021-09-26T01:51:01.850Z"
   },
   {
    "duration": 32,
    "start_time": "2021-09-26T01:51:01.872Z"
   },
   {
    "duration": 32,
    "start_time": "2021-09-26T01:51:01.907Z"
   },
   {
    "duration": 44,
    "start_time": "2021-09-26T01:51:01.942Z"
   },
   {
    "duration": 9,
    "start_time": "2021-09-26T01:51:01.989Z"
   },
   {
    "duration": 12,
    "start_time": "2021-09-26T01:51:02.000Z"
   },
   {
    "duration": 13,
    "start_time": "2021-09-26T01:51:02.016Z"
   },
   {
    "duration": 48,
    "start_time": "2021-09-26T01:51:02.031Z"
   },
   {
    "duration": 34,
    "start_time": "2021-09-26T01:51:02.081Z"
   },
   {
    "duration": 10,
    "start_time": "2021-09-26T01:51:02.117Z"
   },
   {
    "duration": 34,
    "start_time": "2021-09-26T01:51:02.129Z"
   },
   {
    "duration": 29,
    "start_time": "2021-09-26T01:51:02.166Z"
   },
   {
    "duration": 30,
    "start_time": "2021-09-26T01:51:02.197Z"
   },
   {
    "duration": 11,
    "start_time": "2021-09-26T01:51:02.229Z"
   },
   {
    "duration": 44,
    "start_time": "2021-09-26T01:51:02.242Z"
   },
   {
    "duration": 30,
    "start_time": "2021-09-26T01:51:02.289Z"
   },
   {
    "duration": 22,
    "start_time": "2021-09-26T01:51:02.322Z"
   },
   {
    "duration": 41,
    "start_time": "2021-09-26T01:51:02.346Z"
   },
   {
    "duration": 7665,
    "start_time": "2021-09-26T01:51:02.390Z"
   },
   {
    "duration": 19,
    "start_time": "2021-09-26T01:51:10.058Z"
   },
   {
    "duration": 44,
    "start_time": "2021-09-26T01:51:10.080Z"
   },
   {
    "duration": 49,
    "start_time": "2021-09-26T01:51:10.126Z"
   },
   {
    "duration": 41,
    "start_time": "2021-09-26T01:51:10.179Z"
   },
   {
    "duration": 20,
    "start_time": "2021-09-26T01:51:10.223Z"
   },
   {
    "duration": 44,
    "start_time": "2021-09-26T01:51:10.245Z"
   },
   {
    "duration": 26,
    "start_time": "2021-09-26T01:51:10.291Z"
   },
   {
    "duration": 35,
    "start_time": "2021-09-26T01:51:10.319Z"
   },
   {
    "duration": 265,
    "start_time": "2021-09-26T01:51:10.356Z"
   },
   {
    "duration": 10,
    "start_time": "2021-09-26T01:51:10.623Z"
   },
   {
    "duration": 47,
    "start_time": "2021-09-26T01:51:10.635Z"
   },
   {
    "duration": 26,
    "start_time": "2021-09-26T01:51:10.685Z"
   },
   {
    "duration": 24,
    "start_time": "2021-09-26T01:51:10.719Z"
   },
   {
    "duration": 23,
    "start_time": "2021-09-26T01:51:10.745Z"
   },
   {
    "duration": 39,
    "start_time": "2021-09-26T01:51:10.771Z"
   },
   {
    "duration": 13,
    "start_time": "2021-09-26T01:51:10.812Z"
   },
   {
    "duration": 22,
    "start_time": "2021-09-26T01:51:10.827Z"
   },
   {
    "duration": 30,
    "start_time": "2021-09-26T01:51:10.851Z"
   },
   {
    "duration": 46,
    "start_time": "2021-09-26T01:51:10.883Z"
   },
   {
    "duration": 21,
    "start_time": "2021-09-26T01:51:10.931Z"
   },
   {
    "duration": 20,
    "start_time": "2021-09-26T01:51:10.954Z"
   },
   {
    "duration": 53,
    "start_time": "2021-09-26T01:51:10.977Z"
   },
   {
    "duration": 20,
    "start_time": "2021-09-26T01:51:11.032Z"
   }
  ],
  "kernelspec": {
   "display_name": "anaconda-2022.05-py39",
   "language": "python",
   "name": "conda-env-anaconda-2022.05-py39-py"
  },
  "language_info": {
   "codemirror_mode": {
    "name": "ipython",
    "version": 3
   },
   "file_extension": ".py",
   "mimetype": "text/x-python",
   "name": "python",
   "nbconvert_exporter": "python",
   "pygments_lexer": "ipython3",
   "version": "3.9.12"
  },
  "toc": {
   "base_numbering": 1,
   "nav_menu": {},
   "number_sections": true,
   "sideBar": true,
   "skip_h1_title": true,
   "title_cell": "Table of Contents",
   "title_sidebar": "Contents",
   "toc_cell": false,
   "toc_position": {
    "height": "calc(100% - 180px)",
    "left": "10px",
    "top": "150px",
    "width": "366.391px"
   },
   "toc_section_display": true,
   "toc_window_display": true
  }
 },
 "nbformat": 4,
 "nbformat_minor": 4
}
